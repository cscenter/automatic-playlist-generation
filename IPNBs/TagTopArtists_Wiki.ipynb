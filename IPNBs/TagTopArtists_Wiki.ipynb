{
 "cells": [
  {
   "cell_type": "markdown",
   "metadata": {},
   "source": [
    "## Сравнение вывода last.fm по тегам и списков"
   ]
  },
  {
   "cell_type": "code",
   "execution_count": 1,
   "metadata": {
    "collapsed": true
   },
   "outputs": [],
   "source": [
    "import pylast\n",
    "\n",
    "LAST_FM_USER = \"\"\n",
    "LAST_FM_PASSWORD = \"\"\n",
    "LAST_FM_API_KEY = \"\"\n",
    "LAST_FM_API_SECRET = \"\"\n",
    "\n",
    "username = LAST_FM_USER\n",
    "password_hash = pylast.md5(LAST_FM_PASSWORD)\n",
    "network = pylast.LastFMNetwork(api_key=LAST_FM_API_KEY, api_secret=LAST_FM_API_SECRET, username=username, password_hash=password_hash)\n"
   ]
  },
  {
   "cell_type": "code",
   "execution_count": 4,
   "metadata": {
    "collapsed": false
   },
   "outputs": [
    {
     "name": "stdout",
     "output_type": "stream",
     "text": [
      "['Queen', 'Neil Young', 'ZZ Top', 'Electric Light Orchestra', 'Journey', 'George Harrison', 'Steely Dan', 'Blue Öyster Cult', 'The Band', 'Boston', 'The Byrds', 'Joe Cocker', 'Tom Petty', 'America', 'Styx', 'Buffalo Springfield', 'Crosby, Stills & Nash', 'Paul McCartney & Wings', 'Don McLean', 'Ten Years After', 'Traveling Wilburys', 'Golden Earring', 'Three Dog Night', 'Ringo Starr', 'Bachman-Turner Overdrive', 'Badfinger', 'Blind Faith', 'Mountain', 'Norman Greenbaum', 'Billy Squier', 'Pete Townshend', 'Scott McKenzie', 'Page & Plant', 'George Thorogood', 'James Gang', 'Smith', 'Orleans', 'Thunderclap Newman', 'Edgar Winter', 'Pacific Gas & Electric', 'Sweetfire', 'Steve Miller', 'Stillwater', 'Sugarloaf', 'Keith Moon', 'Tommy James', 'Electric Light Orchestra Part II', 'Los Gatos', 'Dennis DeYoung', 'The Beatless']\n"
     ]
    }
   ],
   "source": [
    "# топ 50 исполнителей по тегу classic rock\n",
    "\n",
    "tags = network.get_tag(\"classic rock\")\n",
    "tag_classic_rock = [a[0].get_name() for a in tags.get_top_artists()]\n",
    "print(tag_classic_rock)"
   ]
  },
  {
   "cell_type": "raw",
   "metadata": {},
   "source": [
    "Что не нравится -- 'The Beatless' с ошибкой. Нет Rolling Stones, Guns n' Roses."
   ]
  },
  {
   "cell_type": "code",
   "execution_count": 6,
   "metadata": {
    "collapsed": false
   },
   "outputs": [
    {
     "name": "stdout",
     "output_type": "stream",
     "text": [
      "['Bohemian Rhapsody - Queen', \"Sweet Child o' Mine - Guns N' Roses\", 'Stairway to Heaven - Led Zeppelin', \"Welcome to the Jungle - Guns N' Roses\", 'Paranoid - Black Sabbath', 'Paint It Black - The Rolling Stones', 'Hotel California - Eagles', 'Losing My Religion - R.E.M.', \"Paradise City - Guns N' Roses\", 'Wish You Were Here - Pink Floyd', 'Break on Through (to the Other Side) - The Doors', 'Back in Black - AC/DC', \"Don't Stop Me Now - Queen\", 'Hurt - Johnny Cash', 'We Will Rock You - Queen', 'Come Together - The Beatles', \"Don't Stop Believin' - Journey\", 'Another One Bites the Dust - Queen', 'With or Without You - U2', 'Let It Be - The Beatles', 'Sweet Home Alabama - Lynyrd Skynyrd', 'Beautiful Day - U2', 'Light My Fire - The Doors', 'Sultans of Swing - Dire Straits', 'The Sound of Silence - Simon & Garfunkel', 'Yesterday - The Beatles', 'People Are Strange - The Doors', 'Sympathy for the Devil - The Rolling Stones', \"November Rain - Guns N' Roses\", 'Like a Rolling Stone - Bob Dylan', 'Help! - The Beatles', 'Highway to Hell - AC/DC', 'Dream On - Aerosmith', 'Money - Pink Floyd', 'Gimme Shelter - The Rolling Stones', \"(I Can't Get No) Satisfaction - The Rolling Stones\", 'Smoke on the Water - Deep Purple', 'Every Breath You Take - The Police', 'Ace of Spades - Motörhead', 'Iron Man - Black Sabbath', 'Immigrant Song - Led Zeppelin', 'Purple Haze - Jimi Hendrix', 'Fortunate Son - Creedence Clearwater Revival', 'Here Comes the Sun - The Beatles', 'London Calling - The Clash', 'Sunshine of Your Love - Cream', 'All You Need Is Love - The Beatles', 'Hey Jude - The Beatles', 'All Along the Watchtower - Jimi Hendrix', 'Comfortably Numb - Pink Floyd']\n"
     ]
    }
   ],
   "source": [
    "# топ 50 треков по тегу classic rock\n",
    "track_classic_rock = ['{} - {}'.format(a[0].get_name(), a[0].get_artist()) for a in tags.get_top_tracks()]\n",
    "\n",
    "print(track_classic_rock)"
   ]
  },
  {
   "cell_type": "code",
   "execution_count": 12,
   "metadata": {
    "collapsed": false
   },
   "outputs": [
    {
     "name": "stdout",
     "output_type": "stream",
     "text": [
      "['Queen', \"Guns N' Roses\", 'Led Zeppelin', \"Guns N' Roses\", 'Black Sabbath', 'The Rolling Stones', 'Eagles', 'R.E.M.', \"Guns N' Roses\", 'Pink Floyd', 'The Doors', 'AC/DC', 'Queen', 'Johnny Cash', 'Queen', 'The Beatles', 'Journey', 'Queen', 'U2', 'The Beatles', 'Lynyrd Skynyrd', 'U2', 'The Doors', 'Dire Straits', 'Simon & Garfunkel', 'The Beatles', 'The Doors', 'The Rolling Stones', \"Guns N' Roses\", 'Bob Dylan', 'The Beatles', 'AC/DC', 'Aerosmith', 'Pink Floyd', 'The Rolling Stones', 'The Rolling Stones', 'Deep Purple', 'The Police', 'Motörhead', 'Black Sabbath', 'Led Zeppelin', 'Jimi Hendrix', 'Creedence Clearwater Revival', 'The Beatles', 'The Clash', 'Cream', 'The Beatles', 'The Beatles', 'Jimi Hendrix', 'Pink Floyd']\n"
     ]
    }
   ],
   "source": [
    "# топ 50 треков по тегу classic rock, только исполнители\n",
    "artist_classic_rock = ['{}'.format(a[0].get_artist()) for a in tags.get_top_tracks()]\n",
    "\n",
    "print(artist_classic_rock)"
   ]
  },
  {
   "cell_type": "code",
   "execution_count": 7,
   "metadata": {
    "collapsed": true
   },
   "outputs": [],
   "source": [
    "with open('wiki_cr.txt', 'r') as f:\n",
    "    wiki_list = f.read().replace('\\n', '')"
   ]
  },
  {
   "cell_type": "code",
   "execution_count": 17,
   "metadata": {
    "collapsed": false
   },
   "outputs": [
    {
     "name": "stdout",
     "output_type": "stream",
     "text": [
      "No match for Johnny Cash\n",
      "No match for Motörhead\n",
      "Matching: 48 from 50\n"
     ]
    }
   ],
   "source": [
    "cnt = 0\n",
    "\n",
    "for artist in artist_classic_rock:\n",
    "    if (wiki_list.find(artist) != -1):\n",
    "        cnt += 1\n",
    "    else:\n",
    "        print(\"No match for\", artist)\n",
    "    \n",
    "print(\"Matching:\", cnt, \"from 50\")"
   ]
  },
  {
   "cell_type": "raw",
   "metadata": {},
   "source": [
    "Сравнение с tagtopartists:"
   ]
  },
  {
   "cell_type": "code",
   "execution_count": 18,
   "metadata": {
    "collapsed": false
   },
   "outputs": [
    {
     "name": "stdout",
     "output_type": "stream",
     "text": [
      "No match for Scott McKenzie\n",
      "No match for Page & Plant\n",
      "No match for Pacific Gas & Electric\n",
      "No match for Sweetfire\n",
      "No match for Stillwater\n",
      "No match for Keith Moon\n",
      "No match for Tommy James\n",
      "No match for Electric Light Orchestra Part II\n",
      "No match for Los Gatos\n",
      "No match for Dennis DeYoung\n",
      "No match for The Beatless\n",
      "Matching: 39 from 50\n"
     ]
    }
   ],
   "source": [
    "cnt = 0\n",
    "\n",
    "for artist in tag_classic_rock:\n",
    "    if (wiki_list.find(artist) != -1):\n",
    "        cnt += 1\n",
    "    else:\n",
    "        print(\"No match for\", artist)\n",
    "    \n",
    "print(\"Matching:\", cnt, \"from 50\")"
   ]
  },
  {
   "cell_type": "code",
   "execution_count": null,
   "metadata": {
    "collapsed": true
   },
   "outputs": [],
   "source": [
    "Топ-треки по тегу:"
   ]
  },
  {
   "cell_type": "code",
   "execution_count": 19,
   "metadata": {
    "collapsed": false
   },
   "outputs": [
    {
     "name": "stdout",
     "output_type": "stream",
     "text": [
      "No match for Sweet Child o' Mine\n",
      "No match for Losing My Religion\n",
      "No match for Break on Through (to the Other Side)\n",
      "No match for With or Without You\n",
      "No match for Beautiful Day\n",
      "No match for The Sound of Silence\n",
      "No match for November Rain\n",
      "No match for Ace of Spades\n",
      "Matching: 42 from 50\n"
     ]
    }
   ],
   "source": [
    "# топ 50 треков по тегу classic rock\n",
    "tracks= [a[0].get_name() for a in tags.get_top_tracks()]\n",
    "\n",
    "cnt = 0\n",
    "\n",
    "for track in tracks:\n",
    "    if (wiki_list.find(track) != -1):\n",
    "        cnt += 1\n",
    "    else:\n",
    "        print(\"No match for\", track)\n",
    "    \n",
    "print(\"Matching:\", cnt, \"from 50\")"
   ]
  }
 ],
 "metadata": {
  "kernelspec": {
   "display_name": "Python 3",
   "language": "python",
   "name": "python3"
  },
  "language_info": {
   "codemirror_mode": {
    "name": "ipython",
    "version": 3
   },
   "file_extension": ".py",
   "mimetype": "text/x-python",
   "name": "python",
   "nbconvert_exporter": "python",
   "pygments_lexer": "ipython3",
   "version": "3.4.3"
  }
 },
 "nbformat": 4,
 "nbformat_minor": 0
}
