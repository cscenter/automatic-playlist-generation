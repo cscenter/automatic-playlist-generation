{
 "cells": [
  {
   "cell_type": "markdown",
   "metadata": {},
   "source": [
    "# Категории тегов композиций из 72 тысяч плейлистов с deezer.com"
   ]
  },
  {
   "cell_type": "raw",
   "metadata": {},
   "source": [
    "По сравнению с исполнителями в топе тегов не засветились страны. Зато появились эпитеты и личные пристрастия."
   ]
  },
  {
   "cell_type": "raw",
   "metadata": {
    "collapsed": true
   },
   "source": [
    "Список тегов по убыванию популярности:"
   ]
  },
  {
   "cell_type": "code",
   "execution_count": 2,
   "metadata": {
    "collapsed": true
   },
   "outputs": [],
   "source": [
    "import json\n",
    "import operator\n",
    "\n",
    "\n",
    "path_in = \"72K_track_tags.json\"\n",
    "\n",
    "data_full = json.load(open(path_in))\n",
    "\n",
    "\n",
    "\n",
    "data = {}\n",
    "\n",
    "for artist in data_full:\n",
    "    tracks = data_full[artist]\n",
    "    for track in tracks:\n",
    "        title = list(track.keys())[0]\n",
    "        if (track[title] != {}):\n",
    "            name = artist + \"-\" + title\n",
    "            data[name] = track[title]  \n",
    "\n",
    "\n",
    "\n",
    "total_count = {}\n",
    "\n",
    "\n",
    "for key in data:                   \n",
    "    tmp_dict = data[key]\n",
    "    for tag in tmp_dict:\n",
    "        if tag in total_count:\n",
    "            total_count[tag] += 1\n",
    "\n",
    "        else:\n",
    "            total_count[tag] = 1\n",
    "\n"
   ]
  },
  {
   "cell_type": "code",
   "execution_count": 3,
   "metadata": {
    "collapsed": true
   },
   "outputs": [],
   "source": [
    "sort_tags = sorted(total_count.items(), key=operator.itemgetter(1), reverse=True)"
   ]
  },
  {
   "cell_type": "code",
   "execution_count": 4,
   "metadata": {
    "collapsed": true
   },
   "outputs": [],
   "source": [
    "tags = [tag[0] for tag in sort_tags]         # просто теги"
   ]
  },
  {
   "cell_type": "code",
   "execution_count": 5,
   "metadata": {
    "collapsed": true
   },
   "outputs": [],
   "source": [
    "tag_cnt = [tag[1] for tag in sort_tags]      # подсчёт использований"
   ]
  },
  {
   "cell_type": "raw",
   "metadata": {},
   "source": [
    "Топ-100 тегов:"
   ]
  },
  {
   "cell_type": "code",
   "execution_count": 6,
   "metadata": {
    "collapsed": false
   },
   "outputs": [
    {
     "name": "stdout",
     "output_type": "stream",
     "text": [
      "['rock', 'pop', 'alternative', 'favorites', 'indie', 'Love', 'female vocalists', 'alternative rock', 'male vocalists', '00s', 'beautiful', 'electronic', 'american', 'Awesome', 'singer-songwriter', 'seen live', 'dance', 'classic rock', 'chillout', 'Mellow', 'chill', '90s', 'british', '80s', 'soul', 'indie rock', 'hard rock', 'cool', 'jazz', 'Favorite', 'Favourites', 'metal', 'folk', 'male vocalist', 'guitar', 'acoustic', 'female vocalist', 'easy listening', 'sexy', 'electronica', 'Soundtrack', 'pop rock', 'Hip-Hop', 'french', 'instrumental', 'favourite', 'party', 'oldies', 'catchy', 'sad', 'favorite songs', '70s', 'blues', 'classic', 'punk', '6 of 10 stars', 'loved', 'rnb', 'amazing', 'melancholy', 'fun', 'happy', 'funk', 'piano', 'ambient', 'epic', 'love at first listen', 'Ballad', '8 of 10 stars', 'experimental', 'relax', 'indie pop', 'fip', 'heavy metal', 'hip hop', 'female', 'cover', 'soft rock', 'rap', 'melancholic', '2000s', 'romantic', 'Progressive rock', 'relaxing', 'heard on Pandora', 'electro', 'good', 'summer', 'upbeat', 'downtempo', 'lounge', 'Love it', 'punk rock', 'USA', 'Favourite Songs', 'best', 'love songs', '60s', 'smooth', 'great']\n"
     ]
    }
   ],
   "source": [
    "print(tags[:100])"
   ]
  },
  {
   "cell_type": "markdown",
   "metadata": {},
   "source": [
    "## Эпоха"
   ]
  },
  {
   "cell_type": "raw",
   "metadata": {},
   "source": [
    "Среди топ-тегов популярны следующие теги, отражающие эпоху:\n",
    "\n",
    "'60s', '70s', '80s', '90s', '00s'\n",
    "\n",
    "Поиск по тегам одной из следующих подстрок с выводом количества использований тега и в отсортированном по этому количеству виде: "
   ]
  },
  {
   "cell_type": "code",
   "execution_count": 7,
   "metadata": {
    "collapsed": true
   },
   "outputs": [],
   "source": [
    "epoch_sub = ['0s', \"0's\"]"
   ]
  },
  {
   "cell_type": "code",
   "execution_count": 8,
   "metadata": {
    "collapsed": true
   },
   "outputs": [],
   "source": [
    "epoch_tags = []\n",
    "\n",
    "l_t = len(tags)\n",
    "\n",
    "for i in range(l_t):\n",
    "    tag = sort_tags[i][0]   \n",
    "    if ((tag.find(epoch_sub[0]) != -1) or (tag.find(epoch_sub[1]) != -1)):\n",
    "        epoch_tags.append(sort_tags[i])"
   ]
  },
  {
   "cell_type": "code",
   "execution_count": 9,
   "metadata": {
    "collapsed": false
   },
   "outputs": [
    {
     "name": "stdout",
     "output_type": "stream",
     "text": [
      "[('00s', 21073), ('90s', 16509), ('80s', 14798), ('70s', 9885), ('2000s', 7470), ('60s', 6207), ('10s', 3262), ('1990s', 2523), (\"80's\", 2489), ('1980s', 1945), ('2010s', 1617), ('50s', 1616), ('1970s', 1512), ('90s Rock', 1369), (\"70's\", 1324), (\"60's\", 1315), ('best songs of the 00s', 1313), ('80s Pop', 1240), ('1960s', 1154), (\"90's\", 1126), ('80s rock', 1071), ('gdchills90s', 635), ('Best Songs of the 90s', 600), ('best songs of the 80s', 585), ('90s hard rock', 575), ('80s hard rock', 565), ('90s pop', 555), ('80s metal', 485), ('70s rock', 482), (\"1970's\", 468), ('I want back to the 80s', 438), (\"50's\", 436), ('80s Heavy Metal', 425), ('70s hard rock', 400), ('2000s rock', 370), ('90s Rnb', 367), ('90s heavy metal', 362), ('1950s', 354), ('90s metal', 346), ('40s', 344), (\"00's\", 343), ('90s alternative', 331), ('best songs of the 70s', 318), ('360shift', 297), ('70s pop', 296), (\"1960's\", 288), ('60s pop', 287), ('80s soul', 257), ('80s alternative', 242), (\"2000's\", 233), ('60s british rock', 227), ('My 80s', 224), ('60s British', 221), ('010s', 220), ('british 60s', 215), ('70s British Rock', 215), ('90s dance', 209), ('30s', 204), ('70s heavy metal', 202), ('Sentimental Favorites From The 2000s', 197), ('60s rock', 196), ('best songs of the 60s', 193), ('70s British Hard Rock', 191), (\"1980's\", 182), ('60s british hard rock', 181), ('billboard hits to check out - the 70s', 176), ('00s Party Girl Soundtrack', 176), ('90s collections', 173), ('i want back to the 70s', 171), ('80s Pop-Rock', 169), (\"80's rock\", 168), ('60s hard rock', 163), ('80s pop and rock', 160), ('gdchills80s', 159), ('00s rock', 158), ('10s collections', 157), ('the good of the 80s', 157), ('My 90s', 155), ('JTMlate60s', 154), ('80s y 90s', 153), ('i want back to the 60s', 152), ('00s pop', 152), ('Decade80s', 152), ('pitchfork Top 500 Tracks of the 2000s', 151), ('90s hip-hop', 151), ('before the 70s', 148), ('Sentimental Favorites From The 1990s', 146), ('00s collections', 141), ('60s British Invasion', 140), ('50s Rock n Roll', 137), ('80s favorites', 132), ('2000s metal', 130), ('Groupes classic rock 70s', 129), ('we love the 80s', 128), ('jtm 70s', 124), ('70s progressive rock', 122), ('70s soul', 121), ('80s hair metal', 121), ('gdchills60s', 114), ('80s influenced', 112), ('70s classic rock', 110), (\"80's pop\", 110), ('the best eclectic tag ever - period - jan-06 top-30s', 109), ('90s soul', 108), ('I love the 90s', 105), ('20s', 104), ('best of 80s', 104), ('80s british rock', 104), ('1940s', 100), ('80s Music', 100), ('Sentimental Favorites From The 1980s', 99), ('i want back to the 90s', 99), ('90s country', 96), ('90s Hip Hop', 96), ('early 60s', 94), ('golden 80s', 94), ('80s british heavy metal', 93), ('00s alternative', 91), ('1930s', 90), ('the best eclectic tag ever - period - dec-05 top-30s', 89), ('80s british hard rock', 88), ('Alternative In The 1990s', 88), (\"'00s\", 87), ('80s groove', 86), ('70s 80s 90s', 86), ('70s punk', 85), ('i want back to the 2000s', 83), ('40s-50s', 82), ('2010s party girl soundtrack', 81), ('00s country', 81), ('70s disco', 80), ('Sentimental Favorites From The 1970s', 78), ('2010s rock', 78), ('60s Gold', 77), ('1900s', 77), ('Mellow 70s', 75), ('acclaimed music top 200 of 2000s', 75), ('70s metal', 73), ('80 - 90s', 73), ('70s college faves', 71), ('my 2000s', 71), ('essential 90s', 70), ('70s british heavy metal', 70), ('90s craze', 69), ('favourite 00s', 68), ('best songs of the 50s', 67), ('1960s: hippie', 67), ('gb1 90s', 65), ('genres: rock and roll 50s - 60s', 63), ('90s rap', 61)]\n"
     ]
    }
   ],
   "source": [
    "print(epoch_tags[:150])"
   ]
  },
  {
   "cell_type": "raw",
   "metadata": {},
   "source": [
    "Примерно как у исполнителей. Можно не обрабатывать отдельно аналогичные теги, а всё вместе обрабатывать следующим образом:\n",
    "\n",
    "x0s или x0's переводится в 20x0 декаду в случае x = 0, x = 1 и в 19x0 декаду в остальных случаях."
   ]
  },
  {
   "cell_type": "raw",
   "metadata": {},
   "source": [
    "Даст ли что-то S в конце декады вместо s:"
   ]
  },
  {
   "cell_type": "code",
   "execution_count": 10,
   "metadata": {
    "collapsed": true
   },
   "outputs": [],
   "source": [
    "epoch_sub2 = ['0S', \"0'S\"]"
   ]
  },
  {
   "cell_type": "code",
   "execution_count": 11,
   "metadata": {
    "collapsed": true
   },
   "outputs": [],
   "source": [
    "epoch_tags2 = []\n",
    "\n",
    "for i in range(l_t):\n",
    "    tag = sort_tags[i][0]    \n",
    "    if ((tag.find(epoch_sub2[0]) != -1) or (tag.find(epoch_sub2[1]) != -1)):\n",
    "        epoch_tags2.append(sort_tags[i])"
   ]
  },
  {
   "cell_type": "code",
   "execution_count": 12,
   "metadata": {
    "collapsed": false
   },
   "outputs": [
    {
     "name": "stdout",
     "output_type": "stream",
     "text": [
      "[('OrbitalChillTrip-Hop90SDanceTranceRockBritishHouseIndieTechnoExperimentalUkAmbientIdmAlternativeElectroElectronicChilloutBreakbeat', 11), ('1970S GLAM ROCK', 6), ('90SBritpopScotland80SElectroAcid HouseTrip-HopIndie RockPsychedelicBritishC-86UkRockExperimentalAlternative RockMadchesterIndieHousePrimal ScreamDanceScottishIndie PopAlternativeElectronic', 5), ('90STrip HopTranceElectroChilloutTrip-HopIndie RockClubTechnoDowntempoBritishFaithlessUkRockProgressive HouseHip-HopAlternative RockDanceHouseFemale VocalistsPopIndieRapAmbientAlternativeElectronic', 4), ('GOOD 00S', 3), ('70Scoot', 3), ('BEST 70S', 2), ('80S romantic', 2), ('90SElectroTechnoElectronicTranceBritishPsychedelicInstrumentalDanceIdmChilloutUkAmbientDrum And BassAlternativeTrip-HopDowntempoIndustrialExperimental', 2), ('moroder   disco   70S', 1), ('60SBOBBYVINTON', 1), ('90STrip HopLoungeElectroChilloutTrip-HopJazzDowntempoChillTriphopFemale VocalistBritishUkRockAcid JazzDanceHouseFemale VocalistsPopIndieFemaleAlternativeMolokoElectronic', 1), ('ROCK DURO 70S', 1), ('Cap10SCE', 1), ('good 30STOM', 1), ('Male VocalistsSwingVocal JazzFrank SinatraLoungeSinatraBig BandCrooner80SChristmasClassicsOldiesJazz VocalJazzRat PackCroonersSoulVocalStandardsAmericanSinger-SongwriterRockAlternativeMale50SClassic Rock60SClassicIndiePopEasy ListeningMale VocalistBlues', 1), ('70S UNION GAP', 1), ('BIG BANDS OF THE 40S AND 50S', 1), ('New Single 30STM', 1), ('fmale vocalist 80S', 1), ('90S TRASH', 1), ('ALWAYS ELV0S', 1), ('90Surf', 1)]\n"
     ]
    }
   ],
   "source": [
    "print(epoch_tags2)"
   ]
  },
  {
   "cell_type": "raw",
   "metadata": {
    "collapsed": true
   },
   "source": [
    "Ох."
   ]
  },
  {
   "cell_type": "markdown",
   "metadata": {},
   "source": [
    "## Пол вокалиста "
   ]
  },
  {
   "cell_type": "raw",
   "metadata": {},
   "source": [
    "Теги, содержащие подстроку гендерной принадлежности 'male':"
   ]
  },
  {
   "cell_type": "code",
   "execution_count": 13,
   "metadata": {
    "collapsed": true
   },
   "outputs": [],
   "source": [
    "gender_tags = []\n",
    "\n",
    "for i in range(l_t):  \n",
    "    tag = sort_tags[i][0]      \n",
    "    if (((tag.find('male') != -1)) or ((tag.find('Male') != -1))):\n",
    "        gender_tags.append(sort_tags[i])"
   ]
  },
  {
   "cell_type": "code",
   "execution_count": 14,
   "metadata": {
    "collapsed": false
   },
   "outputs": [
    {
     "name": "stdout",
     "output_type": "stream",
     "text": [
      "[('female vocalists', 23431), ('male vocalists', 21429), ('male vocalist', 11977), ('female vocalist', 11614), ('female', 7915), ('female vocals', 5477), ('male vocals', 3239), ('female vocal', 3153), ('male', 2494), ('Female Voices', 1641), ('male vocal', 1333), ('female artists', 1184), ('female singers', 798), ('Female fronted metal', 791), ('Female Artist', 676), ('femalevocalistsgdchill', 555), ('female singer', 456), ('female voice', 451), ('a dynamic male vocalist', 362), ('female singer-songwriter', 338), ('female fronted', 316), ('malesinger', 313), ('fave female singers', 309), ('vocals male', 244), ('male country', 241), ('french female', 200), ('female jazz vocalist', 196), ('magic male voice', 184), ('Female Names', 182), ('Fave Male Singers', 173), ('male singer songwriter', 172), ('sexy female vocals', 170), ('Female jazz vocalists', 170), ('femalesinger', 168), ('females', 168), ('vocals female', 167), ('male-vocalist', 161), ('Male Singers', 159), ('magic female voice', 155), ('Female country', 143), ('female rock', 143), ('male voice', 141), ('jazzysfemalejazz', 127), ('female singer songwriter', 122), ('jazzysrnbsoulmale', 121), ('jazzy female vocal', 115), ('female singer-songwriters', 112), ('Female-fronted Metal', 110), ('female jazz', 102), ('rnb female', 100), ('male singer', 97), ('international female', 95), ('female pop', 95), ('male fronted', 93), ('rnbsoulmale', 91), ('Male voices', 90), ('a distinctive male lead vocal', 88), ('an emotional male lead vocal performance', 88), ('female vocal trance', 84), ('female fronted rock', 80), ('female-vocalist', 78), ('female metal', 75), ('jazz female vocalists', 73), ('male pop rock ocam', 73), ('male singer-songwriters', 68), ('female-vocalists', 66), ('superior male groups', 65), ('female power', 61), ('ulalume-female-vocalists', 61), ('female lady', 60), ('Female Jazz Blues', 59), ('female pop rock ocam', 59), ('male lead singers with sexy voices', 59), ('female faves', 58), ('Female Group', 58), ('sx-female', 58), ('lady female', 58), ('female woman lady', 57), ('gotanygoodmusic female vocalists', 55), ('most female singers', 55), ('Superior Female Groups', 54), ('Female Vocal Gothic Metal', 54), ('male and female vocals', 53), ('female souls', 52), ('female dance vocals', 51), ('a gravelly male vocalist', 49), ('female vocal group', 48), ('female vocal jazz', 48), ('1052 female vocalist', 47), ('male vocalists in radio TV and film', 47), ('smell of female', 47), ('damn good female vocalists', 46), ('female songwriter', 46), ('mind-blowing female vocals', 45), ('Jazz female vocals', 44), ('male artists', 43), ('Male Artist', 43), ('a breathy male lead vocalist', 42), ('Country ballad male', 41), ('malevoice', 40)]\n"
     ]
    }
   ],
   "source": [
    "print(gender_tags[:100])"
   ]
  },
  {
   "cell_type": "raw",
   "metadata": {},
   "source": [
    "Примерно как у исполнителей. Понравился тег femalevocalistsgdchill -- главное, что он ловится таким образом."
   ]
  },
  {
   "cell_type": "markdown",
   "metadata": {},
   "source": [
    "##Страна "
   ]
  },
  {
   "cell_type": "raw",
   "metadata": {},
   "source": [
    "Нужно смотреть на попарную встречаемость. Попарная встречаемость для 'american' и 'USA':"
   ]
  },
  {
   "cell_type": "code",
   "execution_count": 15,
   "metadata": {
    "collapsed": true
   },
   "outputs": [],
   "source": [
    "from collections import Counter\n",
    "\n",
    "big_tag = []\n",
    "\n",
    "for key in data:\n",
    "    tmp_dict = data[key]\n",
    "    tmp_list = [tag for tag in tmp_dict.keys()]\n",
    "    if (len(tmp_list) > 0):\n",
    "        big_tag.append(tmp_list)\n",
    "\n",
    "\n",
    "def cooc(tag, n_out):\n",
    "    tags = []\n",
    "    l = len(big_tag)\n",
    "\n",
    "    for i in range(l):\n",
    "        if tag in big_tag[i]:\n",
    "            tags.extend(big_tag[i])\n",
    "    print(Counter(tags).most_common(n_out))\n",
    "\n",
    "    return"
   ]
  },
  {
   "cell_type": "code",
   "execution_count": 16,
   "metadata": {
    "collapsed": false
   },
   "outputs": [
    {
     "name": "stdout",
     "output_type": "stream",
     "text": [
      "[('american', 19472), ('rock', 13641), ('pop', 10827), ('alternative', 9803), ('favorites', 9785), ('Love', 7958), ('alternative rock', 7433), ('Awesome', 7053), ('00s', 6980), ('male vocalists', 6930), ('indie', 6690), ('seen live', 6046), ('beautiful', 5979), ('singer-songwriter', 5459), ('Mellow', 5305), ('90s', 5155), ('chill', 5123), ('classic rock', 5075), ('Favorite', 5047), ('female vocalists', 4902), ('USA', 4866), ('hard rock', 4814), ('Favourites', 4632), ('male vocalist', 4606), ('indie rock', 4586), ('cool', 4511), ('favorite songs', 4385), ('dance', 4329), ('soul', 4238), ('chillout', 4073), ('guitar', 4065), ('catchy', 3976), ('pop rock', 3975), ('classic', 3693), ('sexy', 3686), ('female vocalist', 3582), ('amazing', 3509), ('fun', 3441), ('acoustic', 3429), ('metal', 3421), ('80s', 3379), ('sad', 3356), ('folk', 3341), ('favourite', 3335), ('rnb', 3265), ('loved', 3250), ('punk', 3238), ('easy listening', 3219), ('party', 3198), ('2000s', 3194), ('oldies', 3186), ('electronic', 3027), ('love at first listen', 2984), ('blues', 2982), ('happy', 2926), ('Hip-Hop', 2816), ('epic', 2811), ('melancholy', 2800), ('Soundtrack', 2775), ('6 of 10 stars', 2711), ('upbeat', 2692), ('Ballad', 2678), ('funk', 2635), ('soft rock', 2563), ('8 of 10 stars', 2561), ('female', 2524), ('jazz', 2517), ('summer', 2465), ('Love it', 2403), ('good', 2402), ('70s', 2376), ('punk rock', 2330), ('emo', 2319), ('piano', 2276), ('heard on Pandora', 2263), ('love songs', 2255), ('Favourite Songs', 2211), ('r&b', 2206), ('relax', 2201), ('indie pop', 2190), ('memories', 2178), ('romantic', 2177), ('hip hop', 2175), ('melancholic', 2130), ('heavy metal', 2118), ('great', 2110), ('experimental', 2080), ('smooth', 2053), ('relaxing', 2052), ('60s', 1995), ('rap', 1972), ('slow', 1957), ('FUCKING AWESOME', 1957), ('funky', 1954), ('Progressive rock', 1906), ('best', 1899), ('Grunge', 1898), ('Energetic', 1828), ('10 of 10 stars', 1775), ('female vocals', 1775), ('sweet', 1774), ('great lyrics', 1768), ('Driving', 1726), ('fav', 1720), ('nice', 1706), ('soft', 1676), ('great song', 1650), ('folk rock', 1645), ('country', 1629), ('rock n roll', 1625), ('7 of 10 stars', 1621), ('lovely', 1569), ('cover', 1550), ('psychedelic', 1532), ('feel good', 1529), ('California', 1527), ('nostalgia', 1522), ('live', 1518), ('alt rock', 1503), ('rhythm and blues', 1500), ('instrumental', 1491), ('vocal', 1470), ('alternative metal', 1461), ('blues rock', 1434), ('<3', 1429), ('urban', 1429), ('electronica', 1426), ('americana', 1420), ('emotional', 1420), ('top 40', 1406), ('male vocals', 1399), ('dark', 1392), ('english', 1388), ('perfect', 1382), ('Like', 1378), ('hardcore', 1354), ('Good Stuff', 1303), ('fip', 1302), ('new york', 1283), ('love song', 1275), ('groovy', 1273), ('Alternative  Punk', 1234), ('guilty pleasure', 1229), ('calm', 1225), ('RB', 1203), ('Dreamy', 1203), ('all the best', 1189), ('melodic', 1184), ('atmospheric', 1181), ('ambient', 1180)]\n"
     ]
    }
   ],
   "source": [
    "cooc('american', 150)"
   ]
  },
  {
   "cell_type": "code",
   "execution_count": 17,
   "metadata": {
    "collapsed": false
   },
   "outputs": [
    {
     "name": "stdout",
     "output_type": "stream",
     "text": [
      "[('USA', 6427), ('rock', 4919), ('american', 4866), ('pop', 3888), ('favorites', 3751), ('alternative', 3443), ('Love', 2954), ('Awesome', 2652), ('alternative rock', 2612), ('indie', 2536), ('male vocalists', 2512), ('00s', 2475), ('seen live', 2345), ('beautiful', 2270), ('classic rock', 2094), ('singer-songwriter', 2051), ('Mellow', 2020), ('chill', 1971), ('Favorite', 1965), ('Favourites', 1851), ('cool', 1845), ('90s', 1790), ('favorite songs', 1788), ('indie rock', 1763), ('guitar', 1691), ('male vocalist', 1688), ('hard rock', 1658), ('female vocalists', 1625), ('chillout', 1585), ('pop rock', 1585), ('catchy', 1575), ('dance', 1570), ('classic', 1493), ('soul', 1493), ('fun', 1432), ('80s', 1427), ('sexy', 1373), ('punk', 1356), ('oldies', 1341), ('party', 1337), ('acoustic', 1326), ('easy listening', 1325), ('favourite', 1323), ('amazing', 1321), ('2000s', 1316), ('female vocalist', 1306), ('loved', 1305), ('sad', 1272), ('folk', 1245), ('happy', 1239), ('metal', 1178), ('70s', 1173), ('blues', 1169), ('electronic', 1161), ('upbeat', 1143), ('soft rock', 1118), ('melancholy', 1056), ('summer', 1051), ('love at first listen', 1045), ('epic', 1037), ('8 of 10 stars', 1014), ('rnb', 1001), ('Ballad', 989), ('6 of 10 stars', 980), ('good', 978), ('Soundtrack', 967), ('female', 966), ('punk rock', 944), ('jazz', 933), ('memories', 919), ('Love it', 917), ('funk', 915), ('piano', 896), ('heard on Pandora', 882), ('Favourite Songs', 881), ('indie pop', 878), ('great', 869), ('romantic', 861), ('love songs', 851), ('relax', 850), ('emo', 843), ('relaxing', 841), ('60s', 832), ('melancholic', 803), ('best', 792), ('Hip-Hop', 759), ('funky', 758), ('smooth', 752), ('Energetic', 744), ('slow', 731), ('Progressive rock', 728), ('nice', 716), ('sweet', 706), ('female vocals', 698), ('experimental', 695), ('rock n roll', 692), ('heavy metal', 680), ('folk rock', 680), ('americain', 669), ('FUCKING AWESOME', 668), ('Driving', 662), ('great lyrics', 659), ('Grunge', 658), ('nostalgia', 656), ('great song', 649), ('psychedelic', 647), ('live', 639), ('soft', 634), ('fav', 633), ('California', 626), ('7 of 10 stars', 624), ('r&b', 616), ('feel good', 615), ('top 40', 610), ('lovely', 608), ('10 of 10 stars', 602), ('electronica', 596), ('country', 584), ('blues rock', 577), ('Alternative  Punk', 575), ('english', 574), ('new york', 573), ('alt rock', 569), ('americana', 568), ('cover', 565), ('instrumental', 555), ('vocal', 555), ('rhythm and blues', 553), ('hip hop', 552), ('Like', 551), ('laptop', 548), ('emotional', 532), ('Rock and Roll', 523), ('rap', 519), ('all the best', 518), ('calm', 514), ('male vocals', 512), ('perfect', 506), ('love song', 502), ('fip', 499), ('groovy', 496), ('ambient', 490), ('new wave', 486), ('guilty pleasure', 479), ('RB', 476), ('Good Stuff', 475), ('<3', 472), ('Dreamy', 472), ('Guilty Pleasures', 470), ('dark', 469)]\n"
     ]
    }
   ],
   "source": [
    "cooc('USA', 150)"
   ]
  },
  {
   "cell_type": "raw",
   "metadata": {},
   "source": [
    "Для исполнителей было много штатов и некоторые города -- здесь это пропало. По сути остаётся только american и USA."
   ]
  },
  {
   "cell_type": "raw",
   "metadata": {},
   "source": [
    "Какие теги содержат 'americ' или 'Americ':"
   ]
  },
  {
   "cell_type": "code",
   "execution_count": 18,
   "metadata": {
    "collapsed": true
   },
   "outputs": [],
   "source": [
    "americ_tags = []\n",
    "\n",
    "for i in range(l_t):  \n",
    "    tag = sort_tags[i][0]      \n",
    "    if (((tag.find('americ') != -1)) or ((tag.find('Americ') != -1))):\n",
    "        americ_tags.append(sort_tags[i])"
   ]
  },
  {
   "cell_type": "code",
   "execution_count": 19,
   "metadata": {
    "collapsed": false
   },
   "outputs": [
    {
     "name": "stdout",
     "output_type": "stream",
     "text": [
      "[('american', 19472), ('americana', 2547), ('american artist', 1215), ('americain', 687), ('american i like', 661), ('america', 635), ('american rock', 427), ('New Weird America', 282), ('american metal', 279), ('American film score composers', 247), ('American Punk', 243), ('american trad rock', 151), ('American Idol', 150), ('american country', 143), ('mother american night', 128), ('us-american', 107), ('american underground', 96), ('comfy americana', 86), ('cosmic country and psychedelic americana', 71), ('cosmic American music', 66), ('latinoamerica', 66), ('new wave of american heavy metal', 65), ('american hip-hop', 60), ('latin america', 55), ('The All-American Rejects', 55), ('American Head Charge', 49), ('american pie', 49), ('native american', 48), ('sudamerica', 48), ('southamerica', 46), ('done on american idol', 45), ('american brilliance', 44), ('american music', 43), ('american folk', 42), ('great american songbook', 35), ('New Wave Of American Metal', 35), ('American Beauty', 35), ('Pure American Metal', 33), ('american roots', 32), ('the old good american music', 31), ('us american', 31), ('Americana-folk-siso vrouwen', 31), ('all american rejects', 30), ('gothic americana', 28), ('jangly american guitar pop', 28), ('The All American Rejects', 25), ('american classical', 22), ('american indie', 22), ('american pop', 21), ('british american', 21), ('chomskyan hardcore in the dark shattered underbelly of the american dream', 19), ('american alternative', 19), ('kickass american country', 18), ('american artists', 18), ('american dream', 17), ('Latinoamericana', 17), ('united states of america', 17), ('german cars vs american homes', 17), ('AmericanRock', 16), ('All-American Rejects', 16), ('caos coleccion rock latinoamericano', 16), ('latin american', 16), ('Old Weird America', 16), ('American Patriotic', 15), ('South American', 15), ('american hip hop', 15), ('Americas Truth Detector', 15), ('american punk rock', 15), ('american life', 14), ('american girl', 14), ('American Band', 14), ('american gothic', 14), ('south american rock', 14), ('American Thrash Metal', 14), ('american alternative rock', 13), ('oxford american', 13), ('the new america', 13), ('american recordings', 13), ('sudamerican rockers', 12), ('American Idiot', 12), ('american songbook', 12), ('cash american', 12), ('great latin american music', 12), ('rock latinoamericano', 12), ('american dreams', 11), ('The Bright Lights Of America', 11), ('American Dad', 11), ('american psycho', 10), ('american psychedelia', 10), ('american-garage', 10), ('American Songs', 10), ('olspur american garage', 10), ('Kickass American Rock n Roll', 10), ('america latina', 10), ('new americana', 10), ('american primitive', 10), ('americas', 9), ('american-garage-rock', 9), ('wet hot american summer', 9), ('South America', 9)]\n"
     ]
    }
   ],
   "source": [
    "print(americ_tags[:100])"
   ]
  },
  {
   "cell_type": "raw",
   "metadata": {},
   "source": [
    "Несколько первых можно относить туда же."
   ]
  },
  {
   "cell_type": "code",
   "execution_count": null,
   "metadata": {
    "collapsed": true
   },
   "outputs": [],
   "source": []
  },
  {
   "cell_type": "raw",
   "metadata": {},
   "source": [
    "Встречаемость для UK:"
   ]
  },
  {
   "cell_type": "code",
   "execution_count": 20,
   "metadata": {
    "collapsed": false
   },
   "outputs": [
    {
     "name": "stdout",
     "output_type": "stream",
     "text": [
      "[('UK', 6059), ('british', 5459), ('rock', 4669), ('alternative', 4115), ('pop', 4110), ('indie', 3384), ('favorites', 3356), ('Love', 2858), ('alternative rock', 2775), ('Awesome', 2595), ('britpop', 2560), ('seen live', 2556), ('00s', 2529), ('male vocalists', 2520), ('beautiful', 2496), ('electronic', 2462), ('indie rock', 2339), ('Favourites', 2188), ('chillout', 2125), ('dance', 2084), ('Mellow', 1977), ('chill', 1969), ('Favorite', 1897), ('cool', 1849), ('electronica', 1816), ('classic rock', 1729), ('90s', 1681), ('favourite', 1676), ('english', 1562), ('singer-songwriter', 1534), ('male vocalist', 1515), ('80s', 1499), ('sexy', 1465), ('england', 1463), ('catchy', 1439), ('favorite songs', 1425), ('indie pop', 1420), ('pop rock', 1417), ('loved', 1405), ('female vocalists', 1364), ('party', 1351), ('melancholy', 1323), ('amazing', 1323), ('sad', 1252), ('happy', 1248), ('guitar', 1211), ('classic', 1209), ('love at first listen', 1180), ('new wave', 1164), ('melancholic', 1148), ('easy listening', 1135), ('ambient', 1130), ('fun', 1128), ('acoustic', 1090), ('epic', 1088), ('Favourite Songs', 1083), ('experimental', 1078), ('electro', 1075), ('relax', 1035), ('upbeat', 1022), ('psychedelic', 993), ('Love it', 985), ('female vocalist', 953), ('punk', 945), ('soul', 944), ('downtempo', 936), ('post-punk', 925), ('hard rock', 925), ('soft rock', 921), ('Progressive rock', 913), ('relaxing', 903), ('good', 897), ('2000s', 896), ('Soundtrack', 886), ('oldies', 876), ('70s', 874), ('atmospheric', 868), ('trip-hop', 858), ('british i like', 857), ('8 of 10 stars', 856), ('dark', 835), ('brit pop', 834), ('brit rock', 834), ('nice', 828), ('6 of 10 stars', 826), ('Alternative  Punk', 824), ('piano', 788), ('summer', 787), ('Ballad', 778), ('memories', 778), ('heard on Pandora', 774), ('great', 772), ('lovely', 766), ('Dreamy', 761), ('lounge', 750), ('female', 746), ('jazz', 736), ('sweet', 733), ('Energetic', 720), ('romantic', 707), ('FUCKING AWESOME', 679), ('metal', 672), ('great lyrics', 666), ('fav', 653), ('folk', 651), ('slow', 646), ('techno', 638), ('best', 638), ('synthpop', 634), ('instrumental', 633), ('funky', 625), ('Driving', 619), ('soft', 615), ('brilliant', 605), ('blues', 599), ('vugube62', 595), ('all the best', 590), ('10 of 10 stars', 587), ('funk', 579), ('calm', 579), ('perfect', 571), ('emotional', 569), ('love songs', 568), ('smooth', 563), ('electropop', 562), ('emo', 561), ('Britrock', 551), ('london', 549), ('female vocals', 546), ('House', 536), ('feel good', 532), ('british rock', 529), ('genius', 529), ('synth pop', 527), ('Retro', 526), ('art rock', 518), ('trip hop', 507), ('Masterpiece', 503), ('Progressive', 502), (\"80's\", 501), ('live', 499), ('nostalgia', 499), ('Uplifting', 494), ('punk rock', 490), ('Pop-Rock', 479), ('Hip-Hop', 477), ('Good Stuff', 475), ('Disco', 475), ('7 of 10 stars', 473), ('melodic', 473)]\n"
     ]
    }
   ],
   "source": [
    "cooc('UK', 150)"
   ]
  },
  {
   "cell_type": "raw",
   "metadata": {},
   "source": [
    "Опять же меньше популярных вариантов по сравнению с тегами исполнителей. \n",
    "Какие теги появятся, если искать с корнями 'brit', 'engl':"
   ]
  },
  {
   "cell_type": "code",
   "execution_count": 21,
   "metadata": {
    "collapsed": true
   },
   "outputs": [],
   "source": [
    "brit_tags = []\n",
    "\n",
    "for i in range(l_t):  \n",
    "    tag = sort_tags[i][0]      \n",
    "    if (((tag.find('brit') != -1)) or ((tag.find('engl') != -1))   \n",
    "        or ((tag.find('Engl') != -1)) or ((tag.find('Brit') != -1))):\n",
    "        brit_tags.append(sort_tags[i])"
   ]
  },
  {
   "cell_type": "code",
   "execution_count": 22,
   "metadata": {
    "collapsed": false
   },
   "outputs": [
    {
     "name": "stdout",
     "output_type": "stream",
     "text": [
      "[('british', 15470), ('britpop', 5896), ('english', 5573), ('england', 2130), ('british i like', 1635), ('british rock', 1463), ('brit pop', 1423), ('english lyrics', 1279), ('brit rock', 1243), ('Britrock', 811), ('Brit', 724), ('british invasion', 674), ('british hard rock', 548), ('British Metal', 519), ('british artist', 516), ('classic British rock', 504), ('Classic British Hard Rock', 484), ('britannique', 483), ('The British are coming', 441), ('British Blues', 424), ('Britney Spears', 334), ('New Wave of British Heavy Metal', 320), ('british heavy metal', 307), ('classic british heavy metal', 290), ('Brit-pop', 265), ('british blues rock', 258), ('60s british rock', 227), ('60s British', 221), ('british 60s', 215), ('70s British Rock', 215), ('Classic British Metal', 211), ('Great Britain', 208), ('British Psychedelia', 201), ('british indie', 193), ('70s British Hard Rock', 191), ('britain', 187), ('60s british hard rock', 181), ('British Punk', 179), ('britt', 165), ('Englishness', 158), ('english vocals', 145), ('60s British Invasion', 140), ('Brit Pop Rock', 129), ('dear old dismal england', 121), ('british pop', 118), ('Brit indie', 115), ('britney', 112), ('British Psychedelic Rock', 106), ('80s british rock', 104), ('80s british heavy metal', 93), ('80s british hard rock', 88), ('language:english', 87), ('british power', 86), ('british folk', 84), ('british progressive rock', 80), ('Brits', 77), ('English pop', 75), ('ifpopdidntmeanbritneyspears', 73), ('englisch', 73), ('70s british heavy metal', 70), ('indie brit pop rock', 70), ('post-Britpop', 69), ('non english', 68), ('brit hop', 64), ('RockBrit', 62), ('best of british', 60), ('brititsh', 55), ('from: england', 49), ('non-native english', 47), ('very british', 47), ('70s Englisch', 40), ('british soul', 39), ('90s british hard rock', 38), ('British Music', 38), ('british mod', 38), ('90s british rock', 38), ('english rock', 36), ('british trad rock', 35), ('British groups', 35), ('glorious british accent', 34), ('brit-rock', 33), ('iTunes Celebrity Playlist', 33), ('British New Wave', 32), ('in english', 31), ('gb1 Britpop', 31), ('brittany', 30), ('britpop bopping', 30), ('british rap', 30), ('Britpop indie', 30), ('New British Invasion', 30), ('british folk-rock', 29), ('Brit Pop Has Saved My Life', 29), ('British Christian music', 28), ('english folk', 28), ('tilos british', 26), ('british accent', 25), ('70s british progressive rock', 25), ('britsh', 25), ('britpop indie alternative', 25), ('English language', 24)]\n"
     ]
    }
   ],
   "source": [
    "print(brit_tags[:100])"
   ]
  },
  {
   "cell_type": "raw",
   "metadata": {},
   "source": [
    "Всё то же -- отделять Бритни, britpop под вопросом.\n",
    "\n",
    "Тег 'english' не является однозначно отсылом к UK -- нужно либо игнорировать его, либо для каждого использования проверять, есть ли в тегах america или canada или ещё чего."
   ]
  },
  {
   "cell_type": "raw",
   "metadata": {},
   "source": [
    "Французы, как иначе. Если смотреть на встречаемость с тегами 'french', 'france', получатся такие теги, однозначно указывающие на страну:"
   ]
  },
  {
   "cell_type": "code",
   "execution_count": 23,
   "metadata": {
    "collapsed": false
   },
   "outputs": [
    {
     "name": "stdout",
     "output_type": "stream",
     "text": [
      "[('french', 10855), ('chanson francaise', 3064), ('francais', 2992), ('pop', 2961), ('france', 2366), ('chanson', 2164), ('female vocalists', 2069), ('rock', 2007), ('electronic', 1559), ('alternative', 1436), ('french pop', 1222), ('beautiful', 1200), ('singer-songwriter', 1184), ('Chanson Française', 1173), ('indie', 1161), ('chillout', 1051), ('dance', 1009), ('francophone', 994), ('Love', 956), ('favorites', 930), ('electronica', 929), ('00s', 925), ('world', 923), ('electro', 921), ('fip', 915), ('cool', 828), ('male vocalists', 789), ('chill', 758), ('jazz', 744), ('folk', 741), ('female vocalist', 710), ('nouvelle scene francaise', 708), ('Mellow', 686), ('sexy', 675), ('rock francais', 642), ('instrumental', 626), ('easy listening', 615), ('lounge', 615), ('ambient', 612), ('Hip-Hop', 589), ('female', 584), ('90s', 574), ('party', 570), ('House', 549), ('downtempo', 546), ('herz', 541), ('acoustic', 540), ('Français', 531), ('relax', 527), ('Awesome', 527), ('alternative rock', 524), ('Favorite', 512), ('seen live', 498), ('rap', 491), ('fr', 483), ('French rock', 471), ('oldies', 459), ('piano', 459), ('80s', 457), ('Soundtrack', 451), ('romantic', 450), ('indie rock', 437), ('indie pop', 427), ('reggae', 427), ('hip hop', 416), ('sad', 413), ('happy', 396), ('male vocalist', 395), ('Favourites', 390), ('trip-hop', 388), ('melancholy', 386), ('experimental', 383), ('melancholic', 380), ('fun', 379), ('techno', 374), ('Ballad', 367), ('electropop', 363), ('relaxing', 359), ('favourite', 353), ('loved', 352), ('french touch', 347), ('cover', 341), ('best', 339), ('vocal', 338), ('synthpop', 337), ('nice', 336), ('6 of 10 stars', 334), ('Dreamy', 331), ('2000s', 317), ('10s', 313), ('female vocals', 308), ('de todo mio favoritos', 307), ('guitar', 307), ('catchy', 307), ('60s', 305), ('love at first listen', 304), ('summer', 304), ('slow', 304), ('rock français', 288), ('lovely', 287), ('soul', 286), ('soft', 279), ('sweet', 273), ('french house', 269), ('atmospheric', 267), ('8 of 10 stars', 265), ('francia mia favoritos', 263), ('french voices', 256), ('pop rock', 256), ('smooth', 254), ('latin', 253), ('funk', 250), ('World Music', 249), ('club', 238), ('Disco', 237), ('10 of 10 stars', 236), ('funky', 236), ('live', 233), ('chill out', 231), ('good', 230), ('epic', 230), ('blues', 229), ('calm', 227), ('upbeat', 225), ('new wave', 223), ('chanson populaire francaise', 222), ('amazing', 216), ('paris', 215), ('Frenchm', 215), ('metal', 214), ('jazzy', 211), ('fav', 209), ('Progressive', 208), ('electro house', 207), ('super', 204), ('french rap', 203), ('Love it', 201), ('Canadian', 200), ('ska', 197), ('great', 194), ('2giveme5', 191), ('trip hop', 190), ('other', 190), ('classic', 190), ('female vocal', 189), ('memories', 189), ('personal favourites', 188), ('70s', 187), ('french female', 186), ('indietronica', 183), ('Electroclash', 182), ('mes chansons', 182), ('recos', 181), ('ethereal', 181), ('punk', 180), ('francaise', 179), ('favorite songs', 179), ('Retro', 179), ('5', 177), ('metro downtempo', 176), ('sensual', 176), ('rap francais', 175), ('french songs', 175), ('Pop-Rock', 174), ('Sentimental', 171), ('französisch', 170), ('rnb', 169), ('pligaa', 169), ('chanson francophone', 168), ('French Music', 166), ('My Favs', 165), ('Energetic', 165), ('Fusion', 165), ('groovy', 163), ('trance', 163), ('test', 161), ('Classical', 161), ('psychedelic', 160), ('Favourite Songs', 160), ('dub', 160), ('dream pop', 158), ('synth pop', 157), ('nostalgie', 156), ('sex', 156), ('franchuta', 155), ('4', 154), ('folk rock', 153), ('eclectonia', 153), ('synth', 152), ('dark', 151), ('2005', 150), ('zicbouge', 149), ('quebecois', 148), ('Variete francaise', 147), ('femmes', 146), ('top', 144), ('nu jazz', 144), ('ye-ye', 144), ('belgian', 144), ('7 of 10 stars', 143)]\n"
     ]
    }
   ],
   "source": [
    "cooc('french', 200)"
   ]
  },
  {
   "cell_type": "raw",
   "metadata": {},
   "source": [
    "Канада тоже появилась и тоже надо следить за ней."
   ]
  },
  {
   "cell_type": "raw",
   "metadata": {},
   "source": [
    "Что встречается вместе с frenc и fran:"
   ]
  },
  {
   "cell_type": "code",
   "execution_count": 24,
   "metadata": {
    "collapsed": true
   },
   "outputs": [],
   "source": [
    "fren_tags = []\n",
    "\n",
    "for i in range(l_t):  \n",
    "    tag = sort_tags[i][0]      \n",
    "    if (((tag.find('frenc') != -1)) or ((tag.find('Frenc') != -1))   \n",
    "        or ((tag.find('fran') != -1)) or ((tag.find('Fran') != -1))):\n",
    "        fren_tags.append(sort_tags[i])"
   ]
  },
  {
   "cell_type": "code",
   "execution_count": 25,
   "metadata": {
    "collapsed": false
   },
   "outputs": [
    {
     "name": "stdout",
     "output_type": "stream",
     "text": [
      "[('french', 10855), ('chanson francaise', 4212), ('francais', 3470), ('france', 2802), ('Chanson Française', 1604), ('french pop', 1467), ('francophone', 1194), ('san francisco', 982), ('nouvelle scene francaise', 957), ('rock francais', 790), ('Français', 686), ('French rock', 567), ('french touch', 442), ('rock français', 391), ('french house', 382), ('french rap', 379), ('rap francais', 335), ('french voices', 315), ('chanson populaire francaise', 306), ('francia mia favoritos', 302), ('Frenchm', 288), ('französisch', 224), ('franchuta', 219), ('french songs', 203), ('chanson francophone', 201), ('french female', 200), ('French Music', 198), ('francaise', 193), ('Variete francaise', 185), ('frank sinatra', 180), ('zicfrench', 180), ('french hip-hop', 176), ('French hip hop', 168), ('french lyrics', 154), ('french electro', 152), ('franz ferdinand', 148), ('franco', 144), ('frans', 124), ('Aretha Franklin', 123), ('frenchy', 120), ('nouvelle chanson francaise', 111), ('so french', 107), ('en francais', 105), ('ulalume-french', 101), ('To France', 98), ('michael franti radio', 88), ('frances', 81), ('chanson france', 81), ('french folk', 80), ('Fransk', 79), ('scene francaise', 78), ('frenchcore', 76), ('musica francesa', 74), ('french metal', 72), ('Franglais', 70), ('TrypToFrance', 70), ('frankgardy 28', 68), ('french chanson', 67), ('ailenrocfrancophone', 65), ('Musique Francaise', 65), ('italian-french-spanish', 63), ('franzis allerliebste lieblingslieder', 60), ('Frank', 59), ('french reggae', 58), ('french artist', 58), ('hip-hop francais', 58), ('More Gay Than a San Fransisco Man in a Hawaiian Shirt Sniffing Some Liquid Gold and Watching Sex in the City', 56), ('french hiphop', 55), ('french gooddies', 55), ('ost frankgardy', 54), ('c french', 54), ('french rock scene', 54), ('ani difranco', 53), ('francesa', 53), ('french sidewalk', 53), ('favourite songs in french', 52), ('hip hop francais', 52), ('Franz', 52), ('french indie', 50), ('frantic', 49), ('french 60s', 49), ('franzoesisch', 49), ('metal francais', 48), ('Frank Zappa', 48), ('french song', 48), ('Chansons francais', 48), ('francaisgdchill', 44), ('francia', 44), ('french artists', 44), ('frankreich', 43), ('Le Meilleur Du Rock Francais', 43), ('Machst du heute Partey Peppi-Ich mach heute Partey Franky', 42), ('Frenchtastic', 41), ('Francoise Hardy', 40), ('Nouvelle scène française', 40), ('french favs', 39), ('frenchie', 39), ('French jazz', 37), ('french female vocal', 36), ('EthnicFrench', 33)]\n"
     ]
    }
   ],
   "source": [
    "print(fren_tags[:100])"
   ]
  },
  {
   "cell_type": "raw",
   "metadata": {},
   "source": [
    "san francisco мимо, остальное всё в порядке."
   ]
  },
  {
   "cell_type": "raw",
   "metadata": {},
   "source": [
    "Германия. С тегом german встречаются такие:"
   ]
  },
  {
   "cell_type": "code",
   "execution_count": 26,
   "metadata": {
    "collapsed": false
   },
   "outputs": [
    {
     "name": "stdout",
     "output_type": "stream",
     "text": [
      "[('german', 3226), ('rock', 1504), ('deutsch', 1401), ('pop', 1192), ('electronic', 970), ('alternative', 830), ('seen live', 768), ('germany', 722), ('metal', 682), ('favorites', 654), ('dance', 639), ('female vocalists', 633), ('Love', 600), ('electronica', 589), ('00s', 563), ('male vocalists', 543), ('Awesome', 538), ('Deutschrock', 533), ('party', 528), ('6 of 10 stars', 515), ('beautiful', 486), ('chillout', 486), ('hard rock', 478), ('alternative rock', 460), ('80s', 459), ('heavy metal', 455), ('indie', 455), ('electro', 425), ('chill', 388), ('cool', 377), ('favourite', 377), ('90s', 375), ('Favourites', 364), ('techno', 349), ('instrumental', 343), ('industrial', 337), ('classic rock', 334), ('ambient', 330), ('epic', 328), ('best', 320), ('pop rock', 312), ('male vocalist', 308), ('punk', 306), ('Berlin', 291), ('Gothic', 291), ('8 of 10 stars', 288), ('Favorite', 284), ('hip hop', 274), ('House', 271), ('experimental', 264), ('christian alexander tietgen', 260), ('Soundtrack', 259), ('deutschland', 257), ('Hip-Hop', 254), ('punk rock', 254), ('trance', 244), ('german rock', 242), ('10 of 10 stars', 240), ('Mellow', 237), ('sad', 237), ('loved', 237), ('sexy', 236), ('synthpop', 236), ('7 of 10 stars', 235), ('70s', 234), ('Ballad', 233), ('German metal', 233), ('singer-songwriter', 227), ('easy listening', 227), ('fun', 227), ('soul', 226), ('melancholic', 225), ('catchy', 222), ('4 of 10 stars', 221), ('german lyrics', 220), ('indie rock', 219), ('gute laune', 219), ('Power metal', 218), ('female vocalist', 218), ('classic', 217), ('guitar', 212), ('atmospheric', 209), ('happy', 206), ('relax', 204), ('folk', 195), ('new wave', 194), ('2000s', 194), ('reggae', 194), ('oldies', 193), ('rap', 192), ('industrial metal', 191), ('female', 189), ('german artist', 188), ('electropop', 187), ('melancholy', 186), ('nice', 185), ('deutschsprachig', 180), ('melodic metal', 180), ('melodic', 180), ('summer', 180), ('FUCKING AWESOME', 178), ('cover', 178), ('Gothic Rock', 177), ('emo', 177), ('Favourite Songs', 176), ('relaxing', 175), ('english', 175), ('Schlager', 173), ('romantic', 173), ('live', 173), ('great', 172), ('Gothic Metal', 172), ('Progressive rock', 171), ('amazing', 169), ('krautrock', 168), ('memories', 166), ('minimal', 166), ('dark', 165), ('synth pop', 164), ('favorite songs', 164), ('Disco', 163), ('downtempo', 160), ('acoustic', 159), ('lounge', 159), ('good', 158), ('love at first listen', 154), ('heard on Pandora', 153), ('dancehall', 150), ('Energetic', 149), ('psychedelic', 148), ('club', 144), ('Love it', 144), ('Progressive', 142), ('neue deutsche härte', 141), ('industrial rock', 138), ('speed metal', 135), ('indie pop', 134), ('German Pop', 133), ('slow', 133), ('male vocals', 127), ('symphonic metal', 126), ('Das beste', 125), ('upbeat', 125), ('german hiphop', 125), ('female vocals', 125), ('eurodance', 124), ('heavy', 124), ('Deutschpop', 123), ('funk', 122), ('Dreamy', 122)]\n"
     ]
    }
   ],
   "source": [
    "cooc('german', 150)"
   ]
  },
  {
   "cell_type": "raw",
   "metadata": {},
   "source": [
    "Корень с german, deutsch, schlager, плюс разделять с austrian. С этими корнями (без шлягера):"
   ]
  },
  {
   "cell_type": "code",
   "execution_count": 27,
   "metadata": {
    "collapsed": true
   },
   "outputs": [],
   "source": [
    "german_tags = []\n",
    "\n",
    "for i in range(l_t):  \n",
    "    tag = sort_tags[i][0]      \n",
    "    if (((tag.find('german') != -1)) or ((tag.find('German') != -1))   \n",
    "        or ((tag.find('deutsch') != -1)) or ((tag.find('Deutsch') != -1))):\n",
    "        german_tags.append(sort_tags[i])"
   ]
  },
  {
   "cell_type": "code",
   "execution_count": 28,
   "metadata": {
    "collapsed": false
   },
   "outputs": [
    {
     "name": "stdout",
     "output_type": "stream",
     "text": [
      "[('german', 3226), ('deutsch', 1612), ('germany', 916), ('Deutschrock', 566), ('deutschland', 274), ('German metal', 267), ('german rock', 251), ('german lyrics', 227), ('german artist', 212), ('deutschsprachig', 186), ('Deutsche Schlager', 184), ('neue deutsche härte', 151), ('German Pop', 150), ('german hiphop', 138), ('Deutschpop', 135), ('Neue Deutsche Haerte', 125), ('deutsch rock', 123), ('die wahren perlen deutschsprachiger popmusik', 120), ('deutsch pop', 116), ('perlen deutschsprachiger popmusik', 110), ('blues rock radio germany deutschland', 108), ('blues rock radio deutschland', 108), ('Deutschrap', 105), ('german artists', 103), ('blues rock radio germany', 102), ('Neue Deutsche Welle', 93), ('German hip hop', 92), ('german rap', 83), ('german reggae', 80), ('german music', 79), ('German Number 1', 73), ('deutschpunk', 67), ('Deutsche Oldies', 60), ('German Bands', 58), ('german hip-hop', 57), ('german number one', 55), ('fatgermanlovesthis', 49), ('mygerman', 48), ('from germany', 48), ('from: germany', 46), ('deutscher schlager', 44), ('German Metalcore', 42), ('german heavy metal', 41), ('deutsche texte', 40), ('Deutsche Musik', 38), ('Deutscher Hip Hop', 37), ('German Indie', 35), ('Made In Germany', 35), ('German Blues Lovers', 35), ('deutsch hart geil', 34), ('ich scheiss auf deutsche texte', 34), ('Deutsche Welle', 32), ('german vocals', 30), ('Deutsch-Pop', 29), ('Solo Deutsch', 29), ('scheissaufdeutschetexte', 28), ('deutscher hiphop', 26), ('Deutsch Rap', 26), ('classic-german-songs', 26), ('german dancehall', 24), ('german industrial', 23), ('deutschd', 22), ('Deutscher Rock', 22), ('German rock playlist', 21), ('Neue Deutsche Harte', 21), ('Kollektion deutscher Titel', 20), ('german singer-songwriter', 20), ('German language', 18), ('Deutsch Vokal', 18), ('german cars vs american homes', 17), ('mygermanrap', 16), ('german band', 15), ('great german pop and rock', 15), ('Deutsch Punk', 15), ('Deutsch Party', 15), ('deutscher pop', 15), ('Deutsch-Rock', 14), ('Castingshows-Germany', 14), ('german power metal', 14), ('krankdeutschrock:-9', 14), ('Deutsche', 14), ('german punk rock', 14), ('german death metal', 14), ('deutschland deine lieder kw', 14), ('70s and 75 Deutsch', 13), ('Deutsche Lieder', 13), ('deutschgut', 13), ('German Punk', 13), ('gb1 deutsch pop', 13), ('pure-german', 13), ('deutschlandradio', 12), ('german hard rock', 12), ('german folk rock', 12), ('Musik aus Deutschland', 12), ('aus Deutschland', 12), ('Dancehall   german', 11), ('german Electropop', 11), ('germans best', 11), ('weiblich deutsch', 11), ('german funk', 11)]\n"
     ]
    }
   ],
   "source": [
    "print(german_tags[:100])"
   ]
  },
  {
   "cell_type": "raw",
   "metadata": {},
   "source": [
    "Достаточно однозначно определяется."
   ]
  },
  {
   "cell_type": "raw",
   "metadata": {},
   "source": [
    "Бразилия. С тегом 'brazil' встречаются:"
   ]
  },
  {
   "cell_type": "code",
   "execution_count": 29,
   "metadata": {
    "collapsed": false
   },
   "outputs": [
    {
     "name": "stdout",
     "output_type": "stream",
     "text": [
      "[('brazil', 583), ('brazilian', 412), ('brasil', 396), ('Bossa Nova', 273), ('mpb', 247), ('latin', 228), ('female vocalists', 204), ('jazz', 199), ('samba', 188), ('pop', 179), ('rock', 160), ('favorites', 153), ('chillout', 153), ('chill', 146), ('world', 131), ('lounge', 129), ('dance', 122), ('alternative', 117), ('Love', 116), ('brazilian music', 112), ('electronic', 111), ('Mellow', 110), ('cool', 110), ('easy listening', 105), ('female vocalist', 103), ('beautiful', 102), ('sexy', 99), ('brasileira', 96), ('latin jazz', 88), ('relax', 86), ('electronica', 84), ('fip', 83), ('Bossanova', 82), ('00s', 80), ('downtempo', 80), ('female', 78), ('O meu brasil', 77), ('party', 76), ('bossa', 75), ('singer-songwriter', 74), ('90s', 74), ('best', 72), ('tantotempotaste', 72), ('male vocalists', 71), ('acoustic', 71), ('indie', 71), ('guitar', 71), ('Favorite', 71), ('ambient', 70), ('smooth', 69), ('Awesome', 69), ('instrumental', 67), ('happy', 66), ('summer', 66), ('relaxing', 61), ('experimental', 61), ('metal', 61), ('Sommer', 58), ('favourite', 58), ('70s', 57), ('alternative rock', 57), ('World Music', 56), ('seen live', 56), ('funk', 53), ('female vocals', 52), ('Smooth Jazz', 52), ('portuguese', 51), ('electro', 51), ('tropicalia', 50), ('romantic', 50), ('jazzy', 49), ('80s', 49), ('fun', 48), ('60s', 48), ('great', 48), ('thrash metal', 48), ('heard on Pandora', 47), ('cover', 47), ('funky', 47), ('male vocalist', 47), ('soul', 46), ('heavy metal', 44), ('6 of 10 stars', 44), ('on an island above', 43), ('vocal', 43), ('brasileiro', 43), ('vocal jazz', 42), ('rock nacional', 42), ('pop rock', 42), ('groove', 42), ('oldies', 42), ('Soundtrack', 40), ('favorite songs', 40), ('catchy', 40), ('brazilian rock', 40), ('folk', 39), ('trip-hop', 39), ('acid jazz', 39), ('death metal', 38), ('rj', 38), ('classic rock', 38), ('latino', 38), ('indie rock', 37), ('loved', 37), ('lovely', 37), ('sweet', 37), ('love at first listen', 37), ('Favourites', 37), ('Fusion', 36), ('Dreamy', 36), ('2000s', 36), ('nice', 35), ('thrash', 35), ('classic', 35), ('chico buarque', 34), ('bossa vocal', 34), ('sensual', 34), ('k00l br4z1l14n', 34), ('Love it', 34), ('musica brasileira', 33), ('hardcore', 33), ('groove metal', 33), ('soft', 33), ('Bresil', 33), ('chill out', 33), ('Nacional', 32), ('rio de janeiro', 32), ('Tribal Metal', 31), ('epic', 31), ('jazz vocal', 31), ('7 of 10 stars', 31), ('nu jazz', 31), ('live', 31), ('covers', 30), ('piano', 30), ('8 of 10 stars', 30), ('electropop', 30), ('Disco', 30), ('reggae', 30), ('i am a party girl here is my soundtrack', 29), ('metalcore', 29), ('good', 28), ('ZapLovedTracks', 28), ('rock brasileiro', 28), ('Nu Metal', 28), ('max cavalera', 28), ('Brasilian', 28), ('As melhores do Brasil', 27), ('psychedelic', 27), ('perfect', 27)]\n"
     ]
    }
   ],
   "source": [
    "cooc('brazil', 150)"
   ]
  },
  {
   "cell_type": "raw",
   "metadata": {},
   "source": [
    "Совсем непопулярно оказалось."
   ]
  },
  {
   "cell_type": "markdown",
   "metadata": {},
   "source": [
    "##Возможно, страну стоит смотреть только по тегам исполнителя, у композиций она встречается реже. Что логично."
   ]
  }
 ],
 "metadata": {
  "kernelspec": {
   "display_name": "Python 3",
   "language": "python",
   "name": "python3"
  },
  "language_info": {
   "codemirror_mode": {
    "name": "ipython",
    "version": 3
   },
   "file_extension": ".py",
   "mimetype": "text/x-python",
   "name": "python",
   "nbconvert_exporter": "python",
   "pygments_lexer": "ipython3",
   "version": "3.4.3"
  }
 },
 "nbformat": 4,
 "nbformat_minor": 0
}
