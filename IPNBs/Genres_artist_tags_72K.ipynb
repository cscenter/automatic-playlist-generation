{
 "cells": [
  {
   "cell_type": "markdown",
   "metadata": {},
   "source": [
    "# Жанры в тегах исполнителей из 72 тысяч плейлистов с deezer.com"
   ]
  },
  {
   "cell_type": "markdown",
   "metadata": {},
   "source": [
    "Используется список с Википедии -- https://en.wikipedia.org/wiki/List_of_popular_music_genres"
   ]
  },
  {
   "cell_type": "raw",
   "metadata": {},
   "source": [
    "Два варианта хранения информации: суммарное по количеству исполнителей число использований тега (без учёта использования у конкретного пользователя) и список списков тега без числа использований для попарной встречаемости:"
   ]
  },
  {
   "cell_type": "code",
   "execution_count": 1,
   "metadata": {
    "collapsed": true
   },
   "outputs": [],
   "source": [
    "import json\n",
    "import operator\n",
    "from collections import Counter\n",
    "\n",
    "\n",
    "path_in = \"72K_artist_tags.json\"\n",
    "\n",
    "data = json.load(open(path_in))\n",
    "\n",
    "total_count = {}\n",
    "\n",
    "\n",
    "for key in data:                   \n",
    "    tmp_dict = data[key]\n",
    "    for tag in tmp_dict:\n",
    "        if tag in total_count:\n",
    "            total_count[tag] += 1\n",
    "\n",
    "        else:\n",
    "            total_count[tag] = 1\n",
    "            \n",
    "            \n",
    "            \n",
    "sort_tags = sorted(total_count.items(), key=operator.itemgetter(1), reverse=True)\n",
    "tags = [tag[0] for tag in sort_tags]  \n",
    "tag_cnt = [tag[1] for tag in sort_tags]\n",
    "\n",
    "\n",
    "big_tag = []\n",
    "\n",
    "for key in data:\n",
    "    tmp_dict = data[key]\n",
    "    tmp_list = [tag for tag in tmp_dict.keys()]\n",
    "    if (len(tmp_list) > 0):\n",
    "        big_tag.append(tmp_list)\n",
    "\n",
    "\n",
    "def cooc(tag, n_out):\n",
    "    tags = []\n",
    "    l = len(big_tag)\n",
    "\n",
    "    for i in range(l):\n",
    "        if tag in big_tag[i]:\n",
    "            tags.extend(big_tag[i])\n",
    "    print(Counter(tags).most_common(n_out))\n",
    "\n",
    "    return"
   ]
  },
  {
   "cell_type": "raw",
   "metadata": {},
   "source": [
    "Из списка Википедии оставлены следующие большие категории (убрана этническая экзотика):\n",
    "\n",
    "Blues\n",
    "Country\n",
    "Easy listening\n",
    "Electronic\n",
    "Folk\n",
    "Hip hop\n",
    "Jazz\n",
    "Latin\n",
    "Pop\n",
    "R&B and soul\n",
    "Rock\n",
    "\n",
    "Подробнее по каждой."
   ]
  },
  {
   "cell_type": "markdown",
   "metadata": {},
   "source": [
    "## Blues "
   ]
  },
  {
   "cell_type": "raw",
   "metadata": {},
   "source": [
    "С чем встречается тег blues:"
   ]
  },
  {
   "cell_type": "code",
   "execution_count": 3,
   "metadata": {
    "collapsed": false
   },
   "outputs": [
    {
     "name": "stdout",
     "output_type": "stream",
     "text": [
      "[('blues', 2517), ('seen live', 1615), ('rock', 1614), ('american', 1316), ('jazz', 1207), ('pop', 1206), ('singer-songwriter', 1169), ('male vocalists', 1128), ('All', 1085), ('soul', 1059), ('alternative', 996), ('USA', 966), ('folk', 933), ('classic rock', 895), ('indie', 870), ('70s', 724), ('funk', 718), ('blues rock', 717), ('guitar', 706), ('80s', 699), ('60s', 689), ('00s', 680), ('acoustic', 679), ('female vocalists', 678), ('oldies', 674), ('90s', 624), ('rhythm and blues', 571), ('alternative rock', 547), ('rnb', 515), ('country', 501), ('spotify', 492), ('hard rock', 490), ('indie rock', 464), ('chillout', 462), ('female vocalist', 438), ('electronic', 432), ('folk rock', 410), ('instrumental', 400), ('americana', 388), ('experimental', 387), ('psychedelic', 371), ('Rock and Roll', 365), ('british', 364), ('favorites', 355), ('r&b', 355), ('easy listening', 347), ('vocal', 346), ('Progressive rock', 344), ('female', 339), ('male vocalist', 331), ('pop rock', 321), ('Mellow', 314), ('Fusion', 309), ('rock n roll', 304), ('Soundtrack', 303), ('piano', 294), ('funky', 289), ('dance', 287), ('metal', 284), ('UK', 282), ('indie pop', 282), ('Love', 280), ('Hip-Hop', 274), ('50s', 273), ('punk', 271), ('swing', 270), ('groove', 266), ('chill', 264), ('world', 260), ('soft rock', 258), ('Myjukebox', 257), ('Alt-country', 256), ('Psychedelic Rock', 243), ('lounge', 241), ('blues-rock', 232), ('english', 229), ('new wave', 227), ('Smooth Jazz', 224), ('electronica', 222), ('classic', 208), ('sexy', 206), ('beautiful', 205), ('vocal jazz', 204), ('Female Voices', 203), ('latin', 201), ('reggae', 201), ('10s', 200), ('Garage Rock', 198), ('guitar virtuoso', 197), ('Awesome', 196), ('smooth', 194), ('California', 193), ('cool', 192), ('ambient', 191), ('rockabilly', 190), ('rap', 183), ('folk-rock', 182), ('jazz fusion', 182), ('male', 179), ('Southern Rock', 178), ('acid jazz', 172), ('lesser known yet streamable artists', 169), ('punk rock', 169), ('downtempo', 166), ('Need to Rate', 166), ('hip hop', 164), ('trip-hop', 164), ('heavy metal', 163), ('jazz vocal', 160), ('female vocals', 159), ('Progressive', 156), ('Lo-Fi', 155), ('Favorite', 154), ('Disco', 151), ('country rock', 151), ('post-punk', 149), ('saxophone', 146), ('indie folk', 144), ('new york', 143), ('french', 143), ('World Music', 142), ('check out', 140), ('england', 140), ('singer-songwriters', 140), ('Pop-Rock', 140), ('Neo-Soul', 139), ('britpop', 139), (\"70's\", 137), ('emo', 135), ('Avant-Garde', 135), ('songwriter', 133), ('motown', 132), ('legend', 132), ('gospel', 131), ('groovy', 127), ('bluesrock', 125), ('Classic Blues', 124), ('fun', 124), ('40s', 124), ('contemporary jazz', 124), ('singer songwriter', 123), ('bass', 121), ('radioparadise', 119), ('jazzy', 118), ('genius', 117), (\"60's\", 117), ('electro', 117), ('romantic', 116), ('House', 115), ('United States', 115), ('urban', 112), ('bluegrass', 112), ('Canadian', 111), ('radio paradise', 111), ('electric blues', 109), ('jazz-funk', 109), ('Retro', 108), ('garage', 107), ('female vocal', 106), ('adult contemporary', 106), ('allboutguitar', 106), ('Stoner Rock', 106), ('melancholy', 106), ('bebop', 106), ('texas', 105), ('jazz funk', 101), ('female artists', 101), ('jazz piano', 101), ('Classical', 101), ('Jazz Rock', 101), ('Favorite Artists', 100), ('Jam', 99), ('underrated', 99), ('amazing', 99), ('post-rock', 99), ('Grunge', 96), ('political', 95), ('guitar blues', 95), ('power pop', 94), ('art rock', 93), ('roots', 93), ('good', 92), ('New Orleans', 91), ('techno', 91), ('los angeles', 90), ('nu jazz', 90), (\"Rock 'n' Roll\", 89), ('Dead', 88), ('hardcore', 88), ('france', 86), ('harmonica', 86), ('london', 86), ('Contemporary Blues', 86), ('northern soul', 85), (\"80's\", 85), ('diva', 84), ('r and b', 84), (\"rock'n'roll\", 83), ('roots rock', 83), ('country blues', 83)]\n"
     ]
    }
   ],
   "source": [
    "cooc('blues', 200)"
   ]
  },
  {
   "cell_type": "raw",
   "metadata": {},
   "source": [
    "Со всеми популярными тегами. В списке Википедии в категории все поджанры содержат в названии слово blues, какие из них могут встречаться среди этих тегов:"
   ]
  },
  {
   "cell_type": "code",
   "execution_count": 5,
   "metadata": {
    "collapsed": false
   },
   "outputs": [],
   "source": [
    "l_t = len(tags)\n",
    "\n",
    "blues_tags = []\n",
    "\n",
    "for i in range(l_t):  \n",
    "    tag = sort_tags[i][0]      \n",
    "    if (((tag.find('blues') != -1)) or ((tag.find('Blues') != -1))):\n",
    "        blues_tags.append(sort_tags[i])"
   ]
  },
  {
   "cell_type": "code",
   "execution_count": 7,
   "metadata": {
    "collapsed": false
   },
   "outputs": [
    {
     "name": "stdout",
     "output_type": "stream",
     "text": [
      "[('blues', 2517), ('rhythm and blues', 1228), ('blues rock', 903), ('blues-rock', 256), ('bluesrock', 131), ('Classic Blues', 125), ('rhythm & blues', 113), ('electric blues', 110), ('guitar blues', 96), ('country blues', 91), ('Contemporary Blues', 86), ('delta blues', 83), ('Chicago Blues', 80), ('acoustic blues', 78), ('rhythum and blues tag', 68), ('jump blues', 68), ('Modern Blues', 66), ('blues guitar', 59), ('BRC Blues Band Karlsruhe', 59), ('BRC Blues Band', 57), ('blues guitarist', 52), ('harmonica blues', 51), ('allbout Guitar Lessons - Blues Workshops Karlsruhe', 46), ('Folk Blues', 45), ('British Blues', 45), ('jazz blues', 44), ('punk blues', 43), ('blues n soul', 42), ('wwwlautfmbluesclub', 42), ('piano blues', 41), ('Blues Stay Away Music', 40), ('desert blues', 37), ('gramusels bluesrock', 37), ('rhythm-blues', 37), (\"rhythm'n'blues\", 36), ('lautfm bluesclub', 35), ('Blues und Rockclub Karlsruhe', 34), ('Old Blues', 34), ('modern electric blues', 33), ('Texas Blues', 32), ('bluesclubka', 31), ('Blues Rock Club Radio Karlsruhe', 28), ('rythm and blues', 28), ('BRC Blues Band - Juke And The Blue Joint', 28), ('garage blues', 27), ('Rhythm n blues', 26), ('traditional blues', 26), ('new orleans rhythm and blues', 25), ('bluesy', 24), ('Rhythm and Blues and Hip-Hop', 23), ('allboutGuitar Lessons - Blues Workshops', 22), ('BluesRockRadioKarlsruhe', 21), ('Bluesclub Karlsruhe', 21), ('blues punk', 20), ('New Orleans Blues', 19), ('blues harp', 19), ('German Blues Lovers', 19), ('lautfmbluesclub', 18), ('slide guitar blues', 18), ('RockBluesRadioKarlsruhe', 18), ('BluesRockclub Radiostation', 17), ('blues guitarists', 17), ('soul blues', 17), ('Blues-Rockclub', 17), ('Blues Bar', 17), ('female blues vocalist', 15), ('piedmont blues', 15), ('breakingbluesnews', 15), ('Rock Blues', 15), ('jazz-blues', 14), ('soul-blues', 14), ('udoblues', 14), ('african blues', 14), ('psychedelic blues', 14), ('Blues Tag', 13), ('Rhytm and Blues', 13), ('british blues rock', 13), ('hard blues', 13), ('peteca blues', 12), ('blues singer', 12), ('Rythym and Blues', 12), ('trashy blues-rock-boogie', 12), ('Contemporary Rhythm and Blues', 12), ('blues rock artist', 11), ('heavy blues', 11), ('pre-war blues', 11), ('blues jazz', 11), ('blues rock radio deutschland', 11), ('rainy day bittersweet blues', 11), ('dirty blues', 11), ('mississippi blues', 11), ('kings of the blues', 11), ('American blues', 11), ('guitarblues', 11), ('Jazz and Blues', 11), ('funk and blues', 10), ('blues rock radio germany', 10), ('Regional Blues', 10), ('prewar blues', 10), ('New Blues', 10)]\n"
     ]
    }
   ],
   "source": [
    "print(blues_tags[:100])"
   ]
  },
  {
   "cell_type": "raw",
   "metadata": {},
   "source": [
    "Из часто встречающихя можно разделить blues, blues rock в различных вариантах написания и rhythm and blues, с которым вообще сложно -- R&B разных эпох очень разный, нужно это как-то отслеживать. Плюс добавить написания 'r and b', 'r&b' и прочее."
   ]
  },
  {
   "cell_type": "markdown",
   "metadata": {},
   "source": [
    "### Blues: искать вхождения 'blues' и 'Blues'; смотреть по эпохе какой R&B имеется в виду; возможно, отделить blues rock"
   ]
  },
  {
   "cell_type": "markdown",
   "metadata": {},
   "source": [
    "## Country "
   ]
  },
  {
   "cell_type": "raw",
   "metadata": {},
   "source": [
    "'Americana' это поджанр кантри, оказывается -- при отделении тегов, соответствующим странам, надо не терять его как тег жанра. В соответствующей статье отделены такие поджанры: Americana,  Bluegrass, Honky-tonk, Rockabilly, Western swing.\n",
    "Попарная встречаемость тега country:"
   ]
  },
  {
   "cell_type": "code",
   "execution_count": 10,
   "metadata": {
    "collapsed": false
   },
   "outputs": [
    {
     "name": "stdout",
     "output_type": "stream",
     "text": [
      "[('country', 1291), ('rock', 920), ('seen live', 891), ('singer-songwriter', 808), ('american', 805), ('folk', 803), ('pop', 797), ('male vocalists', 684), ('All', 672), ('USA', 626), ('alternative', 580), ('indie', 553), ('acoustic', 529), ('00s', 507), ('blues', 501), ('americana', 491), ('female vocalists', 471), ('classic rock', 439), ('Alt-country', 428), ('folk rock', 403), ('90s', 401), ('80s', 393), ('oldies', 372), ('indie rock', 340), ('alternative rock', 333), ('70s', 321), ('favorites', 321), ('guitar', 319), ('60s', 318), ('soul', 296), ('country rock', 278), ('female vocalist', 277), ('jazz', 275), ('female', 272), ('spotify', 271), ('pop rock', 225), ('Soundtrack', 221), ('indie pop', 218), ('Mellow', 218), ('soft rock', 212), ('easy listening', 201), ('bluegrass', 198), ('male vocalist', 197), ('chillout', 194), ('Love', 187), ('blues rock', 187), ('indie folk', 186), ('folk-rock', 183), ('hard rock', 181), ('male', 175), ('Favorite', 173), ('alternative country', 172), ('rockabilly', 170), ('electronic', 168), ('Female Voices', 166), ('classic country', 165), ('Rock and Roll', 163), ('alt country', 154), ('funk', 149), ('punk', 146), ('rock n roll', 143), ('California', 143), ('singer-songwriters', 140), ('Myjukebox', 139), ('vocal', 138), ('modern country', 136), ('dance', 136), ('beautiful', 134), ('chill', 134), ('Awesome', 134), ('10s', 134), ('Southern Rock', 133), ('Hip-Hop', 133), ('rnb', 129), ('50s', 129), ('experimental', 127), ('british', 126), ('female artists', 120), ('english', 116), ('female vocals', 116), ('classic', 115), ('psychedelic', 115), ('metal', 115), ('country pop', 112), ('emo', 111), ('contemporary country', 111), ('Progressive rock', 111), ('instrumental', 109), ('punk rock', 108), ('UK', 107), ('check out', 106), ('singer songwriter', 106), ('new wave', 106), ('male country', 104), ('texas', 104), ('rhythm and blues', 102), ('sexy', 102), ('Lo-Fi', 101), ('songwriter', 100), ('rap', 96), ('Pop-Rock', 96), ('Traditional Country', 95), ('fun', 93), ('world', 91), ('cool', 91), ('cowhat fav', 90), ('United States', 89), ('My Country', 87), ('lesser known yet streamable artists', 86), ('melancholy', 86), ('country-rock', 85), ('adult contemporary', 84), ('latin', 82), ('roots rock', 82), (\"70's\", 80), ('radioparadise', 80), ('female vocal', 79), ('gospel', 79), ('electronica', 78), ('Canadian', 78), ('Need to Rate', 77), ('ambient', 77), ('swing', 75), ('radio paradise', 75), ('Favourites', 72), ('hip hop', 71), ('romantic', 71), ('new york', 71), ('banjo', 71), ('Favorite Artists', 70), ('north america', 69), ('britpop', 68), ('christian', 68), ('piano', 66), ('legend', 65), ('Psychedelic Rock', 64), ('new country', 64), ('reggae', 63), ('post-punk', 62), ('roots', 62), ('2000s', 61), ('post-rock', 61), ('folk pop', 61), ('r&b', 60), ('Disco', 60), ('Grunge', 59), ('amazing', 59), ('los angeles', 59), ('Random', 58), ('Female country', 58)]\n"
     ]
    }
   ],
   "source": [
    "cooc('country', 150)"
   ]
  },
  {
   "cell_type": "raw",
   "metadata": {},
   "source": [
    "И снова самые популярные теги. Однако 'folk' поднялся по популярности. Из менее популярных и близких по смыслу тегов стоит отметить blues, americana, folk rock, oldies. 'Country' и 'country' в названии:"
   ]
  },
  {
   "cell_type": "code",
   "execution_count": 11,
   "metadata": {
    "collapsed": true
   },
   "outputs": [],
   "source": [
    "country_tags = []\n",
    "\n",
    "for i in range(l_t):  \n",
    "    tag = sort_tags[i][0]      \n",
    "    if (((tag.find('country') != -1)) or ((tag.find('Country') != -1))):\n",
    "        country_tags.append(sort_tags[i])"
   ]
  },
  {
   "cell_type": "code",
   "execution_count": 13,
   "metadata": {
    "collapsed": false
   },
   "outputs": [
    {
     "name": "stdout",
     "output_type": "stream",
     "text": [
      "[('country', 1291), ('Alt-country', 694), ('country rock', 328), ('alternative country', 200), ('alt country', 179), ('classic country', 169), ('modern country', 136), ('country pop', 114), ('contemporary country', 113), ('male country', 104), ('Traditional Country', 95), ('country blues', 91), ('country-rock', 90), ('My Country', 87), ('new country', 64), ('Female country', 58), ('new traditionalist country', 56), ('country folk', 52), ('Country: USA', 47), ('pop country', 42), ('Alternative Country-Rock', 41), ('outlaw country', 40), ('old country', 39), ('My Country Selection', 36), ('Country-Pop', 32), ('country women', 31), ('country music', 28), ('Real Country', 27), ('country divas', 27), ('texas country', 27), ('90s country', 26), ('progressive country', 23), ('folk-country', 20), ('good ole homely country folk playing banjo yodeling', 20), ('country soul', 19), ('Country and Western', 19), ('alternative-country', 18), ('80s country', 18), ('brazilian country', 18), ('country ladies', 17), ('country-folk', 17), ('Country Favorites', 16), ('neo-traditionalist country', 16), ('solo country acts', 14), ('Country or Something Like It', 13), ('country female', 13), ('cowboy country', 13), ('country gospel', 13), ('gothic country', 13), ('greatest country artists', 12), ('country group', 12), ('countrypolitan', 12), ('shike country', 11), ('favorite country', 10), ('70s country', 10), ('Country Bumpkin', 10), ('none of that Shania or fake shit just country', 10), ('akam1classic country', 9), ('alt-texas-red dirt country', 9), ('Old time country', 9), ('country band', 9), ('country gold', 9), ('death country', 9), ('country music television', 9), ('country etc', 9), ('country-soul', 8), ('New Traditional Country', 7), ('00s country', 7), ('country-western', 6), ('countryrock', 6), ('indie country', 6), ('sklarbro country', 6), ('country rap', 6), ('country: france', 6), ('outlaw-country', 6), ('dark country', 6), ('Basque Country', 6), ('folk country', 6), ('lions country', 6), ('mike country', 6), ('psychedelic country', 6), ('Best Country', 5), ('country roots', 5), ('country deutsch', 5), ('the great country music world', 5), ('country-blues', 5), ('country boogie', 5), ('Contemporay Country', 5), ('country funk', 5), ('Hot Country', 5), ('Country Music Artist', 5), ('history country', 5), ('altcountry', 5), ('country worship', 5), ('country: UK', 5), ('alt.country', 4), ('country legends', 4), ('alternative country rock', 4), ('country western', 4), ('a little bit country', 4)]\n"
     ]
    }
   ],
   "source": [
    "print(country_tags[:100])"
   ]
  },
  {
   "cell_type": "raw",
   "metadata": {},
   "source": [
    "Проблема со странами. Стоит выделить отдельно список поджанров, которые встречается, и не искать по вхождению 'country', например:\n",
    "'country'\n",
    "'Alt-country'\n",
    "'country rock'\n",
    "'alternative country'\n",
    "'alt country'\n",
    "'classic country'\n",
    "'modern country'\n",
    "'country pop'\n",
    "'contemporary country'\n",
    "и т.д. \n",
    "\n",
    "Возможно, стоит отнести отдельно рок и альтернативу.\n",
    "\n"
   ]
  },
  {
   "cell_type": "raw",
   "metadata": {},
   "source": [
    "Встречаемость других поджанров из Википедии:"
   ]
  },
  {
   "cell_type": "code",
   "execution_count": 14,
   "metadata": {
    "collapsed": false
   },
   "outputs": [
    {
     "name": "stdout",
     "output_type": "stream",
     "text": [
      "[('americana', 791), ('folk', 627), ('american', 622), ('seen live', 612), ('rock', 590), ('singer-songwriter', 574), ('country', 491), ('USA', 472), ('indie', 456), ('alternative', 452), ('male vocalists', 447), ('All', 418), ('acoustic', 417), ('Alt-country', 410), ('pop', 400), ('blues', 388), ('folk rock', 384), ('00s', 346), ('indie rock', 308), ('classic rock', 269), ('alternative rock', 249), ('guitar', 248), ('favorites', 247), ('90s', 241), ('female vocalists', 220), ('Mellow', 214), ('indie folk', 214), ('indie pop', 204), ('80s', 201), ('70s', 184), ('folk-rock', 184), ('oldies', 183), ('jazz', 180), ('60s', 179), ('soul', 168), ('alternative country', 167), ('country rock', 163), ('spotify', 157), ('alt country', 157), ('blues rock', 151), ('female vocalist', 145), ('bluegrass', 143), ('chillout', 138), ('experimental', 135), ('Lo-Fi', 132), ('female', 125), ('chill', 121), ('psychedelic', 118), ('Favorite', 114), ('California', 113), ('beautiful', 109), ('male vocalist', 109), ('electronic', 109), ('Love', 107), ('punk', 107), ('check out', 106), ('pop rock', 106), ('soft rock', 104), ('Soundtrack', 101), ('rockabilly', 100), ('Rock and Roll', 99), ('singer songwriter', 97), ('Awesome', 97), ('Southern Rock', 95), ('singer-songwriters', 94), ('hard rock', 90), ('ambient', 89), ('rock n roll', 89), ('melancholy', 89), ('easy listening', 88), ('10s', 85), ('Female Voices', 85), ('roots rock', 84), ('texas', 83), ('radioparadise', 79), ('funk', 79), ('classic country', 79), ('Progressive rock', 78), ('post-rock', 76), ('instrumental', 76), ('new wave', 76), ('cowhat fav', 75), ('songwriter', 74), ('male', 73), ('radio paradise', 71), ('New Weird America', 71), ('vocal', 70), ('new york', 70), ('post-punk', 69), ('power pop', 68), ('Myjukebox', 68), ('Favorite Artists', 67), ('female vocals', 67), ('classic', 67), ('Hip-Hop', 65), ('country-rock', 65), ('duyster', 65), ('50s', 64), ('Alternative Folk', 62), ('female artists', 62), ('contemporary folk', 62), ('Psychedelic Rock', 61), ('world', 61), ('cool', 61), ('banjo', 61), ('rhythm and blues', 60), ('emo', 59), ('dream pop', 59), ('lesser known yet streamable artists', 58), ('slowcore', 57), (\"70's\", 55), ('fun', 55), ('alt-folk', 54), ('electronica', 54), ('Garage Rock', 54), ('United States', 53), ('gospel', 53), ('piano', 53), ('freak folk', 52), ('punk rock', 52), ('rap', 51), ('roots', 51), ('melancholic', 51), ('Traditional Country', 50), ('country blues', 50), ('Canadian', 50), ('Great Lyricists', 49), ('genius', 49), ('Favourites', 49), ('Recommended', 48), ('los angeles', 47), ('blues-rock', 47), ('rnb', 46), ('2000s', 45), ('Random', 45), ('good', 44), ('shoegaze', 44), ('Pop-Rock', 44), ('british', 43), ('soft', 43), ('legend', 42), ('reggae', 42), ('north america', 42), ('political', 41), ('groove', 41), ('Dead', 40), ('daytrotter', 40), ('funky', 40), ('dance', 40), ('alternative pop', 40)]\n"
     ]
    }
   ],
   "source": [
    "cooc('americana', 150)"
   ]
  },
  {
   "cell_type": "raw",
   "metadata": {},
   "source": [
    "Из не очень популярных тегов близко folk, country и варианты USA."
   ]
  },
  {
   "cell_type": "code",
   "execution_count": 15,
   "metadata": {
    "collapsed": false
   },
   "outputs": [
    {
     "name": "stdout",
     "output_type": "stream",
     "text": [
      "[('bluegrass', 242), ('country', 198), ('seen live', 184), ('folk', 175), ('american', 168), ('rock', 145), ('americana', 143), ('singer-songwriter', 141), ('All', 136), ('male vocalists', 122), ('acoustic', 121), ('USA', 118), ('blues', 112), ('Alt-country', 100), ('alternative', 96), ('pop', 96), ('indie', 91), ('00s', 83), ('folk rock', 80), ('female vocalists', 77), ('guitar', 74), ('90s', 65), ('classic rock', 65), ('spotify', 62), ('banjo', 59), ('80s', 58), ('country rock', 56), ('favorites', 54), ('jazz', 49), ('indie rock', 48), ('70s', 45), ('alternative country', 44), ('alt country', 44), ('60s', 43), ('blues rock', 42), ('classic country', 42), ('female vocalist', 42), ('cowhat fav', 41), ('instrumental', 41), ('oldies', 40), ('alternative rock', 40), ('Traditional Country', 36), ('folk-rock', 36), ('indie folk', 36), ('Favorite', 36), ('modern country', 35), ('Mellow', 35), ('Female Voices', 35), ('female', 34), ('contemporary country', 34), ('Southern Rock', 32), ('funk', 31), ('Myjukebox', 29), ('country pop', 29), ('soul', 28), ('texas', 28), ('gospel', 28), ('My Country', 27), ('chill', 27), ('check out', 27), ('radioparadise', 27), ('male', 27), ('electronic', 27), ('Progressive rock', 27), ('radio paradise', 26), ('male vocalist', 26), ('hard rock', 26), ('fiddle', 25), ('roots', 25), ('male country', 25), ('experimental', 24), ('Jam', 24), ('10s', 24), ('progressive bluegrass', 24), ('Hip-Hop', 24), ('beautiful', 24), ('Soundtrack', 23), ('world', 23), ('Love', 23), ('punk', 23), ('Awesome', 23), ('chillout', 22), ('psychedelic', 21), ('singer-songwriters', 21), ('jam band', 21), ('newgrass', 21), ('rockabilly', 21), ('female vocals', 20), ('rap', 20), ('Fusion', 20), ('50s', 20), ('female artists', 20), ('easy listening', 19), ('hip hop', 19), ('np', 19), ('country blues', 19), ('fun', 19), ('mandolin', 18), ('new traditionalist country', 18), ('traditional', 18), ('California', 18), ('indie pop', 18), ('contemporary folk', 18), ('guitar virtuoso', 18), ('Dead', 17), ('country-rock', 17), ('lesser known yet streamable artists', 17), ('ambient', 17), ('Tennessee', 16), ('2000s', 16), ('Classical', 16), ('cool', 16), ('celtic', 16), ('post hitching post', 16), ('soft rock', 16), ('metal', 16), ('new country', 15), ('Female country', 15), ('vocal', 15), ('singer songwriter', 15), ('traditional bluegrass', 15), ('christian', 15), ('cowhat hero', 14), ('hillbilly', 14), ('Jam Bands', 14), ('Psychedelic Rock', 14), ('reggae', 14), ('irish', 14), ('north america', 14), ('songwriter', 14), ('pop rock', 14), ('british', 14), ('Recommended', 13), ('emo', 13), ('good music', 13), ('Contemporary Bluegrass', 13), ('Favourites', 13), ('Shady', 13), ('Virtuoso', 13), ('Need to Rate', 13), ('punk rock', 13), ('roots rock', 13), ('40s', 13), ('Rock and Roll', 12), ('Old-Timey', 12), ('music for dad', 12), ('Random', 12), ('latin', 12), ('classic', 12), ('Acoustic Rock', 12)]\n"
     ]
    }
   ],
   "source": [
    "cooc('bluegrass', 150)"
   ]
  },
  {
   "cell_type": "raw",
   "metadata": {},
   "source": [
    "Тег не очень популярен, но достаточно, чтобы увидеть связь с country и folk."
   ]
  },
  {
   "cell_type": "code",
   "execution_count": 22,
   "metadata": {
    "collapsed": false
   },
   "outputs": [
    {
     "name": "stdout",
     "output_type": "stream",
     "text": [
      "[('country', 12), ('All', 12), ('honky-tonk', 12), ('male vocalists', 10), ('rockabilly', 10), ('60s', 9), ('oldies', 9), ('american', 9), ('Honky Tonk', 9), ('singer-songwriter', 8), ('USA', 8), ('classic country', 8), ('americana', 7), ('the international rancho', 7), ('western swing', 7), ('70s', 7), ('50s', 7), ('texas', 6), ('Traditional Country', 6), ('80s', 6), ('nashville rash', 6), ('male country', 5), ('pop', 5), ('old country', 5), ('male vocalist', 5), ('free range caucasians', 4), ('hillbilly', 4), ('swing', 4), ('seen live', 4), ('Greatest Artists', 4), ('Alt-country', 4), ('rock', 4), ('Real Country', 4), ('Shady', 4), ('post hitching post', 4), ('country rock', 4), ('My Country', 4), ('outlaw country', 3), (\"Rock 'n' Roll\", 3), ('classic rock', 3), ('bluegrass', 3), ('dead rockstars', 3), ('rock n roll', 3), ('texan', 3), ('female vocalists', 3), ('lesser known yet streamable artists', 3), ('old', 3), ('cowhat fav', 3), ('Need to Rate', 3), ('good ole homely country folk playing banjo yodeling', 3)]\n"
     ]
    }
   ],
   "source": [
    "cooc('honky-tonk',50)"
   ]
  },
  {
   "cell_type": "raw",
   "metadata": {},
   "source": [
    "Как самостоятельный тег не нужен, поглощается country."
   ]
  },
  {
   "cell_type": "code",
   "execution_count": 24,
   "metadata": {
    "collapsed": false
   },
   "outputs": [
    {
     "name": "stdout",
     "output_type": "stream",
     "text": [
      "[('western swing', 39), ('country', 34), ('All', 34), ('american', 26), ('male vocalists', 26), ('americana', 22), ('rock', 22), ('USA', 20), ('rockabilly', 20), ('oldies', 19), ('classic country', 19), ('singer-songwriter', 18), ('blues', 18), ('folk', 17), ('60s', 16), ('pop', 16), ('50s', 14), ('seen live', 14), ('spotify', 14), ('classic rock', 12), ('boogie', 12), ('Traditional Country', 11), ('Rock and Roll', 11), ('swing', 11), ('bluegrass', 11), ('Honky Tonk', 11), ('male vocalist', 10), ('western', 10), ('Alt-country', 10), ('Shady', 10), ('post hitching post', 10), ('rock n roll', 9), ('texas', 9), ('Dead', 9), ('70s', 9), ('40s', 9), ('grady', 9), ('acoustic', 9), ('jazz', 9), ('80s', 9), ('misc', 8), ('old country', 8), ('guitar', 8), ('free range caucasians', 8), ('vocal', 8), ('male', 8), ('hillbilly boogie', 8), ('shake the shack fucker', 8), ('pre-post', 8), ('Greatest Artists', 7)]\n"
     ]
    }
   ],
   "source": [
    "cooc('western swing', 50)"
   ]
  },
  {
   "cell_type": "raw",
   "metadata": {},
   "source": [
    "Как самостоятельный тег не нужен, поглощается country."
   ]
  },
  {
   "cell_type": "code",
   "execution_count": 25,
   "metadata": {
    "collapsed": false
   },
   "outputs": [
    {
     "name": "stdout",
     "output_type": "stream",
     "text": [
      "[('rockabilly', 490), ('rock', 388), ('All', 300), ('seen live', 287), ('pop', 271), ('american', 266), ('male vocalists', 246), ('Rock and Roll', 242), ('oldies', 233), ('rock n roll', 216), ('classic rock', 215), ('USA', 195), ('blues', 190), ('alternative', 186), ('60s', 180), ('80s', 173), ('country', 170), ('indie', 166), ('singer-songwriter', 160), ('soul', 151), ('jazz', 140), ('punk', 139), ('spotify', 136), ('50s', 134), ('folk', 125), ('70s', 119), ('indie rock', 118), ('alternative rock', 116), ('punk rock', 115), ('90s', 112), ('00s', 108), (\"Rock 'n' Roll\", 103), ('female vocalists', 100), ('americana', 100), ('new wave', 97), (\"rock'n'roll\", 92), ('electronic', 91), ('Soundtrack', 90), ('rhythm and blues', 85), ('Alt-country', 85), ('hard rock', 85), ('psychobilly', 84), ('guitar', 84), ('swing', 80), ('metal', 80), ('acoustic', 78), ('male vocalist', 78), ('Garage Rock', 78), ('funk', 76), ('blues rock', 75)]\n"
     ]
    }
   ],
   "source": [
    "cooc('rockabilly', 50)"
   ]
  },
  {
   "cell_type": "raw",
   "metadata": {},
   "source": [
    "Тут интереснее. До Википедии я думала, что это поджанр рок-н-ролла и удивилась наличию в country. Похоже, многие пользователи last.fm аналогично ошибаются. Всё же Rock and Roll в двух вариантах написания ближе, чем country.\n",
    "\n",
    "Ну и folk:"
   ]
  },
  {
   "cell_type": "code",
   "execution_count": 26,
   "metadata": {
    "collapsed": false
   },
   "outputs": [
    {
     "name": "stdout",
     "output_type": "stream",
     "text": [
      "[('folk', 4452), ('seen live', 3207), ('rock', 2627), ('pop', 2502), ('singer-songwriter', 2477), ('indie', 2403), ('alternative', 2387), ('acoustic', 1915), ('All', 1790), ('male vocalists', 1753), ('00s', 1601), ('female vocalists', 1578), ('indie rock', 1441), ('american', 1427), ('indie pop', 1259), ('alternative rock', 1223), ('folk rock', 1188), ('chillout', 1157), ('electronic', 1121), ('USA', 1109), ('world', 1098), ('jazz', 1036), ('90s', 983), ('experimental', 975), ('female vocalist', 957), ('blues', 933), ('Mellow', 892), ('guitar', 871), ('favorites', 830), ('classic rock', 811), ('80s', 808), ('country', 803), ('spotify', 790), ('indie folk', 776), ('female', 759), ('soul', 728), ('ambient', 727), ('World Music', 724), ('pop rock', 710), ('british', 677), ('beautiful', 666), ('instrumental', 664), ('chill', 657), ('electronica', 632), ('americana', 627), ('psychedelic', 615), ('70s', 614), ('Love', 597), ('french', 574), ('Soundtrack', 573)]\n"
     ]
    }
   ],
   "source": [
    "cooc('folk', 50)"
   ]
  },
  {
   "cell_type": "raw",
   "metadata": {},
   "source": [
    "Country это часто folk, но folk совсем не только country."
   ]
  },
  {
   "cell_type": "markdown",
   "metadata": {},
   "source": [
    "### Country: выделить небольшой список поджанров, не искать по вхождению 'country/Country'; rockabilly не считать country, americana -- считать. Часто country идёт с тегом folk, но не наоборот. "
   ]
  },
  {
   "cell_type": "markdown",
   "metadata": {},
   "source": [
    "## Easy listening"
   ]
  },
  {
   "cell_type": "raw",
   "metadata": {},
   "source": [
    "Здесь не так много поджанров, можно рассмотреть попарную встречаемость для каждого: \n",
    "Background music\n",
    "Beautiful music\n",
    "Elevator music\n",
    "Furniture music\n",
    "Lounge music\n",
    "Middle of the road\n",
    "New-age music\n",
    "\n",
    "И хочется добавить relax."
   ]
  },
  {
   "cell_type": "code",
   "execution_count": 27,
   "metadata": {
    "collapsed": false
   },
   "outputs": [
    {
     "name": "stdout",
     "output_type": "stream",
     "text": [
      "[('easy listening', 1798), ('pop', 1217), ('seen live', 959), ('All', 891), ('jazz', 888), ('rock', 835), ('singer-songwriter', 741), ('chillout', 725), ('male vocalists', 718), ('female vocalists', 695), ('american', 673), ('alternative', 640), ('soul', 594), ('00s', 577), ('electronic', 555), ('lounge', 554), ('oldies', 548), ('indie', 540), ('folk', 528), ('90s', 507), ('instrumental', 506), ('USA', 502), ('acoustic', 495), ('80s', 495), ('70s', 473), ('60s', 465), ('ambient', 433), ('chill', 421), ('classic rock', 420), ('female vocalist', 418), ('Mellow', 412), ('funk', 409), ('dance', 397), ('female', 394), ('vocal', 387), ('favorites', 382), ('Soundtrack', 373), ('electronica', 354), ('Myjukebox', 347), ('blues', 347), ('Love', 336), ('pop rock', 335), ('spotify', 334), ('downtempo', 323), ('soft rock', 323), ('beautiful', 318), ('british', 312), ('piano', 303), ('male', 292), ('male vocalist', 280), ('world', 270), ('Smooth Jazz', 260), ('alternative rock', 259), ('guitar', 254), ('trip-hop', 254), ('rnb', 249), ('acid jazz', 247), ('UK', 247), ('sexy', 246), ('Female Voices', 241), ('indie pop', 241), ('relaxing', 239), ('romantic', 235), ('Classical', 235), ('50s', 231), ('swing', 230), ('english', 229), ('smooth', 225), ('indie rock', 224), ('experimental', 223), ('relax', 210), ('latin', 202), ('country', 201), ('classic', 199), ('Hip-Hop', 198), ('new age', 197), ('french', 195), ('House', 194), ('groove', 193), ('funky', 191), ('vocal jazz', 189), ('cool', 187), ('Disco', 186), ('electro', 183), ('adult contemporary', 181), ('rhythm and blues', 179), ('folk rock', 177), ('female vocals', 174), ('r&b', 167), ('Fusion', 167), ('nu jazz', 165), ('World Music', 162), ('composer', 160), ('jazz vocal', 149), ('Pop-Rock', 149), ('10s', 148), ('Favorite', 147), ('new wave', 145), ('female vocal', 144), ('psychedelic', 137), ('Bossa Nova', 135), ('jazzy', 133), ('Awesome', 133), ('singer-songwriters', 129), ('nu-jazz', 128), ('hip hop', 127), ('trip hop', 127), ('California', 126), ('female artists', 123), ('Ballad', 122), ('france', 115), ('soft', 114), ('punk', 113), ('Retro', 112), ('Big Band', 112), ('britpop', 112), ('Rock and Roll', 111), ('chill out', 111), ('england', 110), ('Progressive rock', 108), ('contemporary classical', 108), ('rap', 108), ('christmas', 107), ('emo', 106), ('lesser known yet streamable artists', 105), ('Need to Rate', 105), ('german', 104), ('rock n roll', 103), ('metal', 101), ('groovy', 101), ('reggae', 99), ('sweet', 98), ('italian', 96), ('melancholy', 96), ('golden oldies', 96), ('electropop', 95), ('synthpop', 94), ('40s', 93), ('Favorite Artists', 93), ('happy', 93), ('dub', 92), ('fun', 91), ('spanish', 91), ('hard rock', 91), ('composers', 91), ('amazing', 89), (\"70's\", 88), ('americana', 88), ('techno', 87), ('Soundtracks', 87)]\n"
     ]
    }
   ],
   "source": [
    "cooc('easy listening', 150)"
   ]
  },
  {
   "cell_type": "raw",
   "metadata": {},
   "source": [
    "Так себе по информативности. Разве что chillout достаточно высоко, но это скорее electronic, и lounge -- но и всё остальное тоже."
   ]
  },
  {
   "cell_type": "code",
   "execution_count": 31,
   "metadata": {
    "collapsed": false
   },
   "outputs": [
    {
     "name": "stdout",
     "output_type": "stream",
     "text": [
      "[('background music', 12), ('electronic', 9), ('pop', 7), ('chillout', 7), ('lounge', 6), ('electronica', 6), ('downtempo', 6), ('All', 5), ('jazz', 5), ('easy listening', 5), ('instrumental', 5), ('french', 4), ('seen live', 4), ('ambient', 4), ('new age', 4), ('nu-jazz', 3), ('chill', 3), ('happy', 3), ('indie', 3), ('female vocalists', 3), ('00s', 3), ('psychedelic', 3), ('soul', 3), ('acid jazz', 3), ('female vocalist', 3), ('male vocalists', 3), ('cool', 3), ('space age pop', 3), ('dance', 3), ('indie pop', 3), ('trip-hop', 3), ('World Music', 3), ('future jazz', 3), ('Mellow', 3), ('chilean', 2), ('composer', 2), ('world fusion', 2), ('groove', 2), ('peaceful', 2), ('relaxation', 2), ('english', 2), ('pop rock', 2), ('male', 2), ('sexy', 2), ('eclectic', 2), ('experimental', 2), ('electro', 2), ('Fusion', 2), ('rock', 2), ('garage', 2), ('nu jazz', 2), ('french pop', 2), ('melodic', 2), ('singer-songwriter', 2), ('spotify', 2), ('buddha bar', 2), ('synthpop', 2), ('post-punk', 2), ('relaxing', 2), ('lounge music', 2), ('alternative', 2), ('lesser known yet streamable artists', 2), ('cafe del mar', 2), ('easy', 2), ('france', 2), ('ethnic', 2), ('swing', 2), ('Background', 2), ('Hotel Costes', 2), ('Love', 2), ('chill out', 2), ('loungy', 2), ('music', 2), ('ambient chill', 2), ('House', 2), ('Myjukebox', 2), ('dream pop', 2), ('Chillout Bar', 2), ('Bossa Nova', 2), ('Soundtrack', 2), ('chill-out', 2), ('world', 2), ('Maybe', 1), ('indietronica', 1), ('tricatel', 1), ('covers', 1), ('Big Band', 1), ('not available on Last-fm radio yet', 1), ('lunge', 1), ('classic rock', 1), ('Osho', 1), ('Music for relaxation', 1), ('artpahn', 1), ('filmmusik', 1), ('Bert Kaempfert', 1), ('Pearl Fashion Music', 1), ('asian film music', 1), ('too easy listening', 1), ('a person who is still super into rushmore and wes in general', 1), ('buddamat', 1)]\n"
     ]
    }
   ],
   "source": [
    "cooc('background music', 100)"
   ]
  },
  {
   "cell_type": "raw",
   "metadata": {},
   "source": [
    "Очень редко встречается, зато всё достаточно близко. Хоть это и другой жанр, всё же 'chillout':"
   ]
  },
  {
   "cell_type": "code",
   "execution_count": 32,
   "metadata": {
    "collapsed": false
   },
   "outputs": [
    {
     "name": "stdout",
     "output_type": "stream",
     "text": [
      "[('chillout', 4168), ('seen live', 2792), ('electronic', 2672), ('pop', 2125), ('alternative', 2097), ('electronica', 2044), ('indie', 1886), ('rock', 1787), ('ambient', 1703), ('downtempo', 1638), ('All', 1606), ('jazz', 1578), ('female vocalists', 1497), ('chill', 1481), ('00s', 1420), ('dance', 1401), ('lounge', 1399), ('singer-songwriter', 1290), ('experimental', 1264), ('trip-hop', 1195), ('folk', 1157), ('american', 1132), ('instrumental', 1090), ('electro', 1088), ('soul', 1075), ('male vocalists', 1070), ('House', 1016), ('funk', 1009), ('90s', 980), ('indie pop', 947), ('acoustic', 946), ('Hip-Hop', 941), ('indie rock', 911), ('alternative rock', 832), ('british', 832), ('Mellow', 828), ('female vocalist', 812), ('world', 784), ('USA', 781), ('acid jazz', 739), ('easy listening', 725), ('UK', 710), ('spotify', 698), ('female', 687), ('techno', 678), ('beautiful', 673), ('hip hop', 671), ('nu jazz', 667), ('favorites', 666), ('groove', 639), ('sexy', 619), ('psychedelic', 606), ('Soundtrack', 603), ('rap', 576), ('idm', 573), ('80s', 552), ('Love', 544), ('Fusion', 505), ('World Music', 500), ('trance', 499), ('funky', 499), ('trip hop', 498), ('rnb', 494), ('dub', 475), ('electropop', 464), ('blues', 462), ('pop rock', 442), ('classic rock', 438), ('nu-jazz', 435), ('english', 430), ('french', 430), ('new age', 420), ('guitar', 418), ('new wave', 418), ('dream pop', 414), ('atmospheric', 413), ('piano', 412), ('Lo-Fi', 405), ('latin', 401), ('deep house', 401), ('relaxing', 393), ('relax', 392), ('minimal', 392), ('punk', 390), ('reggae', 381), ('synthpop', 380), ('vocal', 379), ('smooth', 378), ('club', 371), ('female vocals', 368), ('breakbeat', 358), ('cool', 355), ('post-rock', 353), ('Classical', 350), ('chill out', 347), ('Awesome', 344), ('indietronica', 339), ('Disco', 330), ('emo', 329), ('metal', 327), ('Progressive rock', 326), ('Female Voices', 325), ('jazzy', 312), ('german', 312), ('Favorite', 312), ('folk rock', 312), ('10s', 312), ('ethereal', 308), ('beats', 307), ('Drum and bass', 307), ('hiphop', 305), ('70s', 305), ('r&b', 303), ('Progressive', 298), ('Myjukebox', 297), ('Avant-Garde', 293), ('Neo-Soul', 291), ('check out', 287), ('england', 286), ('Smooth Jazz', 284), ('britpop', 282), ('world fusion', 276), ('indie folk', 273), ('melancholy', 272), ('france', 271), ('underground hip-hop', 267), ('electronic-lounge', 266), ('groovy', 262), ('melancholic', 258), ('Dreamy', 253), ('urban', 252), ('post-punk', 249), ('ethnic', 249), ('California', 248), ('synth pop', 248), ('Nu-Bluz Funky Grooves in the E-Lounge', 244), ('Progressive House', 242), ('male vocalist', 240), ('new york', 236), ('hard rock', 234), ('Bossa Nova', 232), ('oldies', 231), ('Chillosophy', 230), ('punk rock', 230), ('shoegaze', 228), ('dj', 227), ('rhythm and blues', 224), ('nu-bluz', 224), ('soft rock', 224), ('lesser known yet streamable artists', 224)]\n"
     ]
    }
   ],
   "source": [
    "cooc('chillout', 150)"
   ]
  },
  {
   "cell_type": "raw",
   "metadata": {},
   "source": [
    "Весьма популярный тег - -и как следствие, много всего. Хотя 'electronic', 'electronica', 'indie', 'ambient', 'downtempo', 'chill', 'lounge' близки. Кстати о lounge:"
   ]
  },
  {
   "cell_type": "code",
   "execution_count": 33,
   "metadata": {
    "collapsed": false
   },
   "outputs": [
    {
     "name": "stdout",
     "output_type": "stream",
     "text": [
      "[('lounge', 2016), ('chillout', 1399), ('electronic', 1258), ('jazz', 1127), ('downtempo', 1025), ('electronica', 1022), ('seen live', 1015), ('All', 950), ('pop', 836), ('ambient', 796), ('chill', 773), ('female vocalists', 730), ('dance', 714), ('alternative', 706), ('trip-hop', 689), ('funk', 662), ('acid jazz', 637), ('indie', 618), ('soul', 605), ('rock', 602), ('House', 600), ('instrumental', 581), ('easy listening', 554), ('nu jazz', 548), ('electro', 533), ('00s', 483), ('experimental', 468), ('groove', 439), ('spotify', 429), ('american', 427), ('world', 425), ('Hip-Hop', 404), ('singer-songwriter', 396), ('nu-jazz', 393), ('male vocalists', 383), ('90s', 377), ('funky', 376), ('Fusion', 363), ('trip hop', 355), ('sexy', 349), ('female vocalist', 335), ('latin', 331), ('USA', 305), ('british', 300), ('folk', 298), ('Mellow', 297), ('techno', 290), ('dub', 289), ('hip hop', 284), ('psychedelic', 280), ('chill out', 278), ('female', 278), ('deep house', 278), ('idm', 277), ('acoustic', 274), ('World Music', 271), ('60s', 270), ('vocal', 267), ('Smooth Jazz', 266), ('UK', 263), ('french', 262), ('Myjukebox', 261), ('jazzy', 256), ('Soundtrack', 251), ('80s', 249), ('70s', 248), ('blues', 241), ('breakbeat', 237), ('smooth', 235), ('Bossa Nova', 230), ('oldies', 229), ('indie pop', 226), ('rnb', 224), ('groovy', 220), ('rap', 214), ('trance', 213), ('Disco', 212), ('beautiful', 210), ('Chillosophy', 208), ('relax', 197), ('Love', 196), ('favorites', 191), ('alternative rock', 190), ('piano', 188), ('cool', 188), ('club', 187), ('Drum and bass', 184), ('indie rock', 182), ('world fusion', 181), ('swing', 180), ('relaxing', 171), ('beats', 170), ('france', 170), ('electropop', 169), ('vocal jazz', 167), ('guitar', 166), ('Female Voices', 165), ('reggae', 162), ('nujazz', 161), ('Neo-Soul', 156), ('Lo-Fi', 154), ('lesser known yet streamable artists', 154), ('new age', 153), ('jazz fusion', 153), ('new wave', 152), ('female vocals', 151), ('electronic-lounge', 151), ('minimal', 148), ('future jazz', 148), ('classic rock', 145), ('ethnic', 141), ('jazz funk', 134), ('synthpop', 132), ('downbeat', 131), ('german', 130), ('50s', 129), ('atmospheric', 128), ('jazz-funk', 126), ('Nu-Bluz Funky Grooves in the E-Lounge', 126), ('english', 124), ('brazilian', 123), ('r&b', 123), ('nu-bluz', 122), ('underground hip-hop', 121), ('metal', 121), ('dj', 119), ('Progressive', 118), ('chill906', 118), ('Avant-Garde', 117), ('jazz vocal', 117), ('Neo Soul', 117), ('indietronica', 115), ('rhythm and blues', 115), ('punk', 115), ('dream pop', 115), ('breaks', 111), ('urban', 111), ('composer', 111), ('ninja tune', 111), ('Progressive House', 108), ('female vocal', 107), ('classic', 106), ('brasil', 106), ('dnb', 106), ('Awesome', 106), ('latin jazz', 105), ('Classical', 104), ('10s', 103), ('Hotel Costes', 103), ('Broken Beat', 102)]\n"
     ]
    }
   ],
   "source": [
    "cooc('lounge', 150)"
   ]
  },
  {
   "cell_type": "raw",
   "metadata": {},
   "source": [
    "Для пользователей last.fm lounge примерно равно chillout -- они неправы, причём таких неправых много. Похоже, слову lounge доверия нет. Вообще lounge это часто muzak:"
   ]
  },
  {
   "cell_type": "code",
   "execution_count": 39,
   "metadata": {
    "collapsed": false
   },
   "outputs": [
    {
     "name": "stdout",
     "output_type": "stream",
     "text": [
      "[('muzak', 9), ('seen live', 7), ('pop', 7), ('indie', 6), ('00s', 6), ('alternative', 6), ('rock', 5), ('chill', 5), ('folk', 5), ('male vocalists', 5), ('alternative rock', 4), ('french', 4), ('synthpop', 4), ('electronic', 4), ('singer-songwriter', 4), ('france', 4), ('acoustic', 4), ('jazz', 4), ('electronica', 4), ('Progressive', 3), ('romantic', 3), ('pop rock', 3), ('female vocalists', 3), ('electro', 3), ('french pop', 3), ('spotify', 3), ('All', 3), ('lounge', 3), ('cool', 3), ('Pop-Rock', 3), ('new wave', 3), ('chanson', 3), ('dance', 3), ('indie pop', 3), ('chanson francaise', 3), ('Chanson Française', 3), ('chanteurs', 3), ('francais', 3), ('chillout', 3), ('Progressive rock', 3), ('francophone', 3), ('instrumental', 3), ('downtempo', 3), ('female', 2), ('vocal', 2), ('trance', 2), ('albums I own', 2), ('male', 2), ('French rock', 2), ('synth pop', 2)]\n"
     ]
    }
   ],
   "source": [
    "cooc('muzak', 50)"
   ]
  },
  {
   "cell_type": "raw",
   "metadata": {},
   "source": [
    "С эрудицией у пользователей last.fm тоже не супер. Это касается не только muzak, но и других поджанров, описанных выше. Какой-то значимый результат только для new age:"
   ]
  },
  {
   "cell_type": "code",
   "execution_count": 50,
   "metadata": {
    "collapsed": false
   },
   "outputs": [
    {
     "name": "stdout",
     "output_type": "stream",
     "text": [
      "[('new age', 756), ('ambient', 509), ('instrumental', 433), ('chillout', 420), ('electronic', 390), ('seen live', 326), ('All', 305), ('world', 293), ('pop', 292), ('Classical', 268), ('folk', 267), ('alternative', 255), ('female vocalists', 254), ('electronica', 250), ('rock', 241), ('World Music', 208), ('experimental', 206), ('jazz', 205), ('easy listening', 197), ('Soundtrack', 194), ('beautiful', 187), ('relaxing', 185), ('ethereal', 179), ('chill', 175), ('00s', 169), ('piano', 167), ('90s', 163), ('acoustic', 158), ('downtempo', 156), ('relax', 154), ('lounge', 153), ('neoclassical', 152), ('indie', 149), ('atmospheric', 148), ('contemporary classical', 144), ('american', 143), ('dance', 142), ('celtic', 142), ('ethnic', 138), ('singer-songwriter', 138), ('80s', 134), ('male vocalists', 134), ('composer', 132), ('spotify', 121), ('female vocalist', 120), ('Fusion', 119), ('british', 118), ('vocal', 110), ('female', 107), ('favorites', 104), ('world fusion', 103), ('Mellow', 102), ('electro', 101), ('trip-hop', 100), ('classic rock', 100), ('trance', 98), ('psychedelic', 94), ('french', 92), ('Meditation', 89), ('UK', 87), ('USA', 86), ('guitar', 82), ('Progressive rock', 82), ('soul', 78), ('new wave', 78), ('Avant-Garde', 77), ('composers', 77), ('spiritual', 75), ('Gothic', 70), ('traditional', 69), ('House', 68), ('funk', 68), ('Love', 68), ('modern classical', 67), ('alternative rock', 66), ('metal', 66), ('70s', 65), ('Female Voices', 64), ('melancholic', 64), ('classic', 63), ('techno', 63), ('Myjukebox', 63), ('synthpop', 62), ('epic', 61), ('sexy', 61), ('Asian', 60), ('irish', 60), ('opera', 59), ('dark ambient', 59), ('german', 59), ('cool', 59), ('meditative', 58), ('indie rock', 57), ('japanese', 57), ('orchestral', 56), ('neo-classical', 56), ('Smooth Jazz', 55), ('Progressive', 55), ('france', 55), ('Dreamy', 54)]\n"
     ]
    }
   ],
   "source": [
    "cooc('new age', 100)"
   ]
  },
  {
   "cell_type": "raw",
   "metadata": {},
   "source": [
    "Ну, в общем, да. Найден хороший тег -- new age. Ещё и relaxing, relax, ethereal -- вообще отлично. Плохо то, что вхождений в принципе мало.\n",
    "\n",
    "Близок с ambient, а наоборот:"
   ]
  },
  {
   "cell_type": "code",
   "execution_count": 51,
   "metadata": {
    "collapsed": false
   },
   "outputs": [
    {
     "name": "stdout",
     "output_type": "stream",
     "text": [
      "[('ambient', 2961), ('electronic', 2191), ('seen live', 1898), ('chillout', 1703), ('electronica', 1696), ('alternative', 1456), ('experimental', 1430), ('indie', 1269), ('rock', 1239), ('pop', 1173), ('All', 1158), ('instrumental', 1153), ('downtempo', 1117), ('electro', 969), ('trip-hop', 890), ('female vocalists', 870), ('dance', 866), ('jazz', 839), ('chill', 829), ('lounge', 796), ('00s', 790), ('folk', 727), ('american', 720), ('psychedelic', 693), ('House', 654), ('indie rock', 636), ('idm', 628), ('british', 625), ('techno', 619), ('90s', 602), ('singer-songwriter', 600), ('indie pop', 562), ('alternative rock', 561), ('male vocalists', 557), ('atmospheric', 535), ('UK', 534), ('Soundtrack', 511), ('world', 511), ('new age', 509), ('Hip-Hop', 499), ('post-rock', 490), ('funk', 485), ('beautiful', 483), ('spotify', 480), ('Mellow', 467), ('acoustic', 465), ('USA', 464), ('trance', 438), ('easy listening', 433), ('Classical', 432), ('minimal', 423), ('soul', 414), ('Avant-Garde', 403), ('acid jazz', 402), ('80s', 391), ('female vocalist', 386), ('trip hop', 372), ('Lo-Fi', 364), ('dream pop', 360), ('ethereal', 360), ('new wave', 358), ('french', 355), ('Progressive rock', 353), ('dub', 351), ('nu jazz', 350), ('metal', 348), ('Fusion', 346), ('hip hop', 335), ('favorites', 328), ('synthpop', 325), ('industrial', 322), ('Progressive', 315), ('electropop', 305), ('World Music', 305), ('punk', 303), ('german', 302), ('female', 302), ('relaxing', 299), ('relax', 290), ('shoegaze', 288), ('piano', 288), ('sexy', 286), ('english', 285), ('post-punk', 285), ('indietronica', 278), ('composer', 277), ('dark ambient', 275), ('groove', 274), ('rap', 273), ('noise', 269), ('classic rock', 263), ('contemporary classical', 259), ('breakbeat', 246), ('chill out', 246), ('deep house', 244), ('Dreamy', 240), ('melancholic', 240), ('nu-jazz', 238), ('glitch', 231), ('Drum and bass', 231)]\n"
     ]
    }
   ],
   "source": [
    "cooc('ambient', 100)"
   ]
  },
  {
   "cell_type": "code",
   "execution_count": null,
   "metadata": {
    "collapsed": true
   },
   "outputs": [],
   "source": [
    "Наоборот сложнее."
   ]
  },
  {
   "cell_type": "code",
   "execution_count": 54,
   "metadata": {
    "collapsed": false
   },
   "outputs": [
    {
     "name": "stdout",
     "output_type": "stream",
     "text": [
      "[('relax', 594), ('chillout', 392), ('seen live', 364), ('pop', 326), ('electronic', 310), ('alternative', 296), ('ambient', 290), ('chill', 277), ('rock', 259), ('female vocalists', 256), ('electronica', 241), ('All', 237), ('indie', 236), ('jazz', 230), ('folk', 214), ('easy listening', 210), ('instrumental', 208), ('00s', 201), ('lounge', 197), ('singer-songwriter', 196), ('downtempo', 194), ('relaxing', 178), ('Mellow', 177), ('acoustic', 174), ('beautiful', 167), ('male vocalists', 167), ('world', 164), ('new age', 154), ('dance', 152), ('american', 143), ('90s', 142), ('trip-hop', 139), ('favorites', 130), ('female vocalist', 129), ('experimental', 127), ('soul', 125), ('indie pop', 118), ('electro', 117), ('female', 115), ('World Music', 115), ('indie rock', 112), ('Soundtrack', 110), ('alternative rock', 108), ('piano', 107), ('spotify', 104), ('british', 100), ('Classical', 98), ('Love', 97), ('USA', 96), ('sexy', 93), ('vocal', 88), ('80s', 88), ('House', 87), ('funk', 85), ('guitar', 85), ('chill out', 84), ('ethereal', 84), ('acid jazz', 79), ('pop rock', 79), ('blues', 78), ('UK', 78), ('trance', 76), ('french', 75), ('Fusion', 74), ('cool', 74), ('groove', 73), ('female vocals', 72), ('latin', 72), ('reggae', 72), ('smooth', 70), ('atmospheric', 69), ('nu jazz', 68), ('classic rock', 66), ('romantic', 66), ('Myjukebox', 65), ('Smooth Jazz', 65), ('english', 63), ('psychedelic', 62), ('Female Voices', 61), ('ethnic', 58), ('Hip-Hop', 57), ('trip hop', 57), ('folk rock', 56), ('techno', 55), ('dub', 55), ('female vocal', 53), ('Favorite', 53), ('german', 52), ('melancholy', 52), ('Awesome', 51), ('nu-jazz', 49), ('soft rock', 49), ('Dreamy', 49), ('Meditation', 49), ('male', 48), ('rnb', 48), ('world fusion', 47), ('celtic', 47), ('male vocalist', 47), ('soft', 47)]\n"
     ]
    }
   ],
   "source": [
    "cooc('relax', 100)"
   ]
  },
  {
   "cell_type": "raw",
   "metadata": {},
   "source": [
    "Примерно то же, что с relaxing:"
   ]
  },
  {
   "cell_type": "code",
   "execution_count": 55,
   "metadata": {
    "collapsed": false
   },
   "outputs": [
    {
     "name": "stdout",
     "output_type": "stream",
     "text": [
      "[('relaxing', 617), ('chillout', 393), ('seen live', 354), ('pop', 340), ('ambient', 299), ('electronic', 286), ('rock', 277), ('alternative', 277), ('All', 260), ('chill', 247), ('female vocalists', 241), ('easy listening', 239), ('instrumental', 236), ('indie', 223), ('folk', 220), ('acoustic', 214), ('00s', 214), ('jazz', 213), ('singer-songwriter', 209), ('Mellow', 207), ('electronica', 204), ('male vocalists', 191), ('beautiful', 190), ('american', 189), ('new age', 185), ('relax', 178), ('downtempo', 172), ('world', 171), ('lounge', 171), ('90s', 153), ('dance', 151), ('soul', 151), ('favorites', 141), ('female vocalist', 139), ('USA', 133), ('piano', 126), ('experimental', 123), ('Soundtrack', 121), ('Love', 119), ('female', 118), ('Classical', 116), ('World Music', 114), ('indie rock', 110), ('indie pop', 109), ('spotify', 108), ('80s', 106), ('trip-hop', 106), ('british', 105), ('funk', 99), ('alternative rock', 99), ('vocal', 97), ('atmospheric', 97), ('Myjukebox', 92), ('ethereal', 91), ('guitar', 90), ('electro', 89), ('sexy', 89), ('smooth', 87), ('House', 86), ('UK', 82), ('pop rock', 80), ('rnb', 79), ('groove', 78), ('classic rock', 77), ('acid jazz', 75), ('Female Voices', 74), ('cool', 74), ('blues', 74), ('Hip-Hop', 73), ('trance', 71), ('Fusion', 69), ('Favorite', 68), ('folk rock', 68), ('female vocals', 68), ('english', 67), ('male vocalist', 67), ('ethnic', 66), ('Smooth Jazz', 66), ('Awesome', 65), ('70s', 64), ('chill out', 62), ('soft rock', 61), ('oldies', 61), ('male', 60), ('psychedelic', 60), ('romantic', 57), ('celtic', 56), ('french', 55), ('Dreamy', 55), ('techno', 55), ('Meditation', 54), ('melancholic', 54), ('r&b', 53), ('funky', 53), ('contemporary classical', 53), ('female vocal', 52), ('latin', 52), ('composer', 52), ('world fusion', 51), ('country', 51)]\n"
     ]
    }
   ],
   "source": [
    "cooc('relaxing', 100)"
   ]
  },
  {
   "cell_type": "code",
   "execution_count": null,
   "metadata": {
    "collapsed": true
   },
   "outputs": [],
   "source": [
    "Популярные теги, плюс chillout, ambient, electronic."
   ]
  },
  {
   "cell_type": "markdown",
   "metadata": {},
   "source": [
    "### Easy-listening: не стоит выносить отдельной категорией -- неплохие теги lounge, new age, relax -- все входят в категорию electronica и близки с этим тегом, так же с chillout и ambient."
   ]
  },
  {
   "cell_type": "markdown",
   "metadata": {},
   "source": [
    "## Electronic"
   ]
  },
  {
   "cell_type": "raw",
   "metadata": {},
   "source": [
    "На википедии очень много поджанров. Оставляю следующие из верхнего уровня, более-менее на слуху и встречались в тегах (chillout себя уже не оправдал):\n",
    "\n",
    "Ambient\n",
    "Breakbeat\n",
    "Disco\n",
    "Downtempo\n",
    "Drum and Bass\n",
    "Dub/Dubstep/Dubtronica\n",
    "Electronica\n",
    "Hardcore (??? я думала, это рок... посмотрим, что думают пользователи last.fm)\n",
    "Electro\n",
    "House\n",
    "Industrial\n",
    "IDM\n",
    "Glitch\n",
    "Synthpop\n",
    "Techno\n",
    "Trance\n",
    "Trip-hop\n",
    "\n",
    "Ambient уже был, ещё раз в контексте этого списка:"
   ]
  },
  {
   "cell_type": "code",
   "execution_count": 56,
   "metadata": {
    "collapsed": false
   },
   "outputs": [
    {
     "name": "stdout",
     "output_type": "stream",
     "text": [
      "[('ambient', 2961), ('electronic', 2191), ('seen live', 1898), ('chillout', 1703), ('electronica', 1696), ('alternative', 1456), ('experimental', 1430), ('indie', 1269), ('rock', 1239), ('pop', 1173), ('All', 1158), ('instrumental', 1153), ('downtempo', 1117), ('electro', 969), ('trip-hop', 890), ('female vocalists', 870), ('dance', 866), ('jazz', 839), ('chill', 829), ('lounge', 796), ('00s', 790), ('folk', 727), ('american', 720), ('psychedelic', 693), ('House', 654), ('indie rock', 636), ('idm', 628), ('british', 625), ('techno', 619), ('90s', 602), ('singer-songwriter', 600), ('indie pop', 562), ('alternative rock', 561), ('male vocalists', 557), ('atmospheric', 535), ('UK', 534), ('Soundtrack', 511), ('world', 511), ('new age', 509), ('Hip-Hop', 499), ('post-rock', 490), ('funk', 485), ('beautiful', 483), ('spotify', 480), ('Mellow', 467), ('acoustic', 465), ('USA', 464), ('trance', 438), ('easy listening', 433), ('Classical', 432), ('minimal', 423), ('soul', 414), ('Avant-Garde', 403), ('acid jazz', 402), ('80s', 391), ('female vocalist', 386), ('trip hop', 372), ('Lo-Fi', 364), ('dream pop', 360), ('ethereal', 360), ('new wave', 358), ('french', 355), ('Progressive rock', 353), ('dub', 351), ('nu jazz', 350), ('metal', 348), ('Fusion', 346), ('hip hop', 335), ('favorites', 328), ('synthpop', 325), ('industrial', 322), ('Progressive', 315), ('electropop', 305), ('World Music', 305), ('punk', 303), ('german', 302), ('female', 302), ('relaxing', 299), ('relax', 290), ('shoegaze', 288), ('piano', 288), ('sexy', 286), ('english', 285), ('post-punk', 285), ('indietronica', 278), ('composer', 277), ('dark ambient', 275), ('groove', 274), ('rap', 273), ('noise', 269), ('classic rock', 263), ('contemporary classical', 259), ('breakbeat', 246), ('chill out', 246), ('deep house', 244), ('Dreamy', 240), ('melancholic', 240), ('nu-jazz', 238), ('glitch', 231), ('Drum and bass', 231), ('dark', 229), ('france', 227), ('Love', 223), ('funky', 221), ('melancholy', 218), ('neoclassical', 217), ('post rock', 213), ('ethnic', 213), ('hardcore', 212), ('beats', 209), ('emo', 206), ('club', 203), ('synth pop', 202), ('10s', 202), ('world fusion', 201), ('england', 201), ('germany', 200), ('Gothic', 199), ('latin', 197), ('guitar', 197), ('check out', 196), ('Awesome', 196), ('vocal', 193), ('minimal techno', 193), ('blues', 191), ('hard rock', 191), ('cool', 190), ('darkwave', 189), ('pop rock', 187), ('Disco', 184), ('composers', 184), ('70s', 181), ('dubstep', 175), ('lesser known yet streamable artists', 172), ('Progressive House', 170), ('Experimental Rock', 169), ('Psychedelic Rock', 166), ('jazzy', 166), ('female vocals', 166), ('abstract', 165), ('tech house', 162), ('drone', 162), ('reggae', 161), ('japanese', 160), ('avantgarde', 156), ('Chillosophy', 152), ('modern classical', 151), ('synth', 151), ('folk rock', 151), ('Myjukebox', 151)]\n"
     ]
    }
   ],
   "source": [
    "cooc('ambient', 150)"
   ]
  },
  {
   "cell_type": "raw",
   "metadata": {},
   "source": [
    "Из этого списка много чего встречается -- скорее всего, он объединяет их. "
   ]
  },
  {
   "cell_type": "code",
   "execution_count": 57,
   "metadata": {
    "collapsed": false
   },
   "outputs": [
    {
     "name": "stdout",
     "output_type": "stream",
     "text": [
      "[('breakbeat', 678), ('electronic', 627), ('electronica', 513), ('seen live', 504), ('electro', 407), ('dance', 400), ('chillout', 358), ('downtempo', 348), ('Hip-Hop', 335), ('House', 333), ('trip-hop', 316), ('experimental', 303), ('funk', 299), ('alternative', 297), ('All', 293), ('techno', 276), ('jazz', 261), ('hip hop', 254), ('Drum and bass', 249), ('indie', 248), ('ambient', 246), ('lounge', 237), ('rock', 230), ('british', 228), ('breaks', 222), ('pop', 222), ('acid jazz', 217), ('idm', 215), ('UK', 209), ('nu jazz', 204), ('instrumental', 197), ('chill', 192), ('trip hop', 184), ('beats', 183), ('rap', 178), ('soul', 178), ('dub', 176), ('funky', 174), ('90s', 166), ('american', 153), ('00s', 148), ('groove', 147), ('dnb', 145), ('nu-jazz', 144), ('dubstep', 138), ('psychedelic', 137), ('trance', 136), ('Drum n Bass', 134), ('female vocalists', 134), ('Fusion', 132), ('turntablism', 127), ('spotify', 118), ('ninja tune', 116), ('club', 116), ('minimal', 108), ('hiphop', 107), ('male vocalists', 107), ('dj', 107), ('jungle', 104), ('big beat', 103), ('underground hip-hop', 101), ('groovy', 101), ('instrumental hip-hop', 99), ('Broken Beat', 98), ('reggae', 97), ('deep house', 94), ('sexy', 92), ('electropop', 91), ('Disco', 88), ('80s', 87), ('bass', 87), ('jazzy', 84), ('metal', 82), ('hardcore', 79), ('new wave', 79), ('industrial', 78), ('Progressive', 77), ('underground', 77), ('nujazz', 77), ('french', 76), ('USA', 76), ('Progressive House', 74), ('punk', 73), ('indie rock', 73), ('glitch', 73), ('alternative rock', 73), ('rnb', 72), ('latin', 72), ('world', 71), ('Avant-Garde', 70), ('indie pop', 70), ('indietronica', 67), ('abstract hip-hop', 67), ('singer-songwriter', 67), ('synthpop', 65), ('future jazz', 64), ('electro house', 63), ('jazz fusion', 62), ('tech house', 62), ('german', 61)]\n"
     ]
    }
   ],
   "source": [
    "cooc('breakbeat', 100)"
   ]
  },
  {
   "cell_type": "raw",
   "metadata": {},
   "source": [
    "Неплохой тег, хотя и не очень популярный. В своей среде, супер-популярных тегов почти нет."
   ]
  },
  {
   "cell_type": "code",
   "execution_count": 60,
   "metadata": {
    "collapsed": false
   },
   "outputs": [
    {
     "name": "stdout",
     "output_type": "stream",
     "text": [
      "[('Disco', 1578), ('dance', 1165), ('pop', 1164), ('electronic', 998), ('seen live', 902), ('funk', 736), ('rock', 727), ('80s', 711), ('electronica', 689), ('All', 686), ('soul', 647), ('female vocalists', 645), ('House', 627), ('male vocalists', 587), ('electro', 538), ('alternative', 529), ('indie', 491), ('70s', 487), ('00s', 484), ('90s', 482), ('american', 469), ('jazz', 413), ('synthpop', 412), ('new wave', 398), ('techno', 394), ('rnb', 391), ('USA', 364), ('funky', 360), ('oldies', 359), ('electropop', 352), ('chillout', 330), ('singer-songwriter', 323), ('club', 321), ('spotify', 306), ('female vocalist', 283), ('british', 275), ('Hip-Hop', 274), ('female', 267), ('eurodance', 262), ('classic rock', 260), ('groove', 260), ('experimental', 253), ('trance', 251), ('r&b', 250), ('sexy', 246), ('UK', 237), ('synth pop', 230), ('California', 223), ('lounge', 212), ('gay', 210), ('indie pop', 209), ('rhythm and blues', 206), ('downtempo', 203), ('french', 199), ('pop rock', 196), ('acid jazz', 194), ('60s', 188), ('Myjukebox', 188), ('easy listening', 186), ('ambient', 184), ('instrumental', 184), ('dance-pop', 183), ('alternative rock', 179), ('indie rock', 175), ('rap', 175), ('party', 174), (\"80's\", 171), ('english', 169), ('punk', 167), ('hip hop', 165), ('latin', 164), ('psychedelic', 163), ('aleister crowley', 163), ('Love', 161), ('german', 160), ('deep house', 158), ('acoustic', 155), ('electro house', 155), ('10s', 154), ('groovy', 154), ('indietronica', 153), ('metal', 153), ('urban', 152), ('folk', 152), ('blues', 151), ('Aleyster Crowley', 150), ('Electroclash', 148), ('hard rock', 147), ('Argeu california seixas', 146), ('nu disco', 145), ('favorites', 145), ('synth', 142), ('Christopher Lee', 142), ('Soundtrack', 141), ('Europop', 141), ('Fusion', 141), ('romance', 140), ('vocal', 135), ('chill', 135), ('post-punk', 135)]\n"
     ]
    }
   ],
   "source": [
    "cooc('Disco', 100)"
   ]
  },
  {
   "cell_type": "raw",
   "metadata": {},
   "source": [
    "Все теги как теги, а disco -- с большой буквы, иначе нет. В целом неплохой тег."
   ]
  },
  {
   "cell_type": "code",
   "execution_count": 61,
   "metadata": {
    "collapsed": false
   },
   "outputs": [
    {
     "name": "stdout",
     "output_type": "stream",
     "text": [
      "[('downtempo', 2120), ('electronic', 1793), ('chillout', 1638), ('electronica', 1473), ('seen live', 1356), ('ambient', 1117), ('trip-hop', 1045), ('lounge', 1025), ('alternative', 995), ('indie', 962), ('All', 907), ('experimental', 875), ('pop', 868), ('electro', 852), ('jazz', 851), ('chill', 835), ('dance', 827), ('House', 751), ('female vocalists', 736), ('rock', 703), ('acid jazz', 630), ('funk', 624), ('instrumental', 624), ('nu jazz', 609), ('Hip-Hop', 557), ('idm', 557), ('soul', 543), ('00s', 543), ('groove', 532), ('trip hop', 507), ('techno', 482), ('british', 473), ('UK', 423), ('psychedelic', 413), ('singer-songwriter', 409), ('indie pop', 409), ('spotify', 408), ('nu-jazz', 407), ('hip hop', 401), ('american', 397), ('90s', 383), ('sexy', 383), ('dub', 382), ('male vocalists', 362), ('indie rock', 356), ('Mellow', 350), ('breakbeat', 348), ('deep house', 347), ('folk', 343), ('funky', 338), ('female vocalist', 335), ('Fusion', 330), ('minimal', 325), ('easy listening', 323), ('world', 313), ('alternative rock', 298), ('french', 294), ('acoustic', 292), ('trance', 292), ('electronic-lounge', 283), ('electropop', 281), ('chill out', 279), ('Lo-Fi', 278), ('beats', 276), ('rap', 276), ('beautiful', 273), ('Drum and bass', 268), ('atmospheric', 262), ('indietronica', 260), ('Nu-Bluz Funky Grooves in the E-Lounge', 255), ('club', 244), ('female', 242), ('dream pop', 236), ('synthpop', 233), ('USA', 232), ('jazzy', 230), ('rnb', 227), ('nu-bluz', 226), ('Disco', 203), ('Soundtrack', 201), ('groovy', 201), ('favorites', 200), ('post-rock', 197), ('english', 196), ('latin', 195), ('smooth', 195), ('relax', 194), ('Avant-Garde', 192), ('Neo-Soul', 187), ('dj', 185), ('new wave', 184), ('glitch', 183), ('german', 180), ('reggae', 178), ('breaks', 174), ('Progressive', 174), ('World Music', 174), ('relaxing', 172), ('future jazz', 172), ('france', 172)]\n"
     ]
    }
   ],
   "source": [
    "cooc('downtempo', 100)"
   ]
  },
  {
   "cell_type": "raw",
   "metadata": {},
   "source": [
    "В своей среде. Ещё всякая кислота часто бывает:"
   ]
  },
  {
   "cell_type": "code",
   "execution_count": 62,
   "metadata": {
    "collapsed": true
   },
   "outputs": [],
   "source": [
    "acid_tags = []\n",
    "\n",
    "for i in range(l_t):  \n",
    "    tag = sort_tags[i][0]      \n",
    "    if (((tag.find('acid') != -1)) or ((tag.find('Acid') != -1))):\n",
    "        acid_tags.append(sort_tags[i])"
   ]
  },
  {
   "cell_type": "code",
   "execution_count": 63,
   "metadata": {
    "collapsed": false
   },
   "outputs": [
    {
     "name": "stdout",
     "output_type": "stream",
     "text": [
      "[('acid jazz', 1152), ('Acid', 231), ('acid house', 122), ('acid lounge', 93), ('Acid Rock', 86), ('1st vine acid', 83), ('acid jazz vibe', 76), ('acid techno', 54), ('Acid-Jazz', 49), ('acid nu jazz', 39), ('acid folk', 37), ('original acid jazz', 13), ('acid trance', 11), ('acidjazz', 11), ('acid funk', 7), ('acid jazz source', 7), ('acidcore', 6), ('acid punk', 6), ('Hard Blues Psychedelic Heavy Acid Prog Classic Rock', 5), ('Acid Jazz Artists', 5), ('acid tekno', 5), ('acid rap', 5), ('electro-acid-swing-funk-etc', 4), ('acid croft', 4), ('Acid electro', 4), ('Menacide', 3), ('acid breaks', 3), ('hard acid trance', 3), ('placido domingo', 2), ('acidiviola favMUSIC', 2), ('electronic : acid jazz', 2), ('acid casualty', 2), ('Acid Pop', 2), ('acid jazz latino', 2), ('acid-folk', 2), ('next gen acid house', 2), ('non-acid', 2), ('lords of acid', 2), ('acid americana', 2), ('Acid Bath', 2), ('Acid Washed', 2), ('acid elite', 2), ('canalp acid jazzlari', 2), ('country acid house', 2), ('electronic funk acid jazz italian', 1), ('GaragePsychAcidRock', 1), ('acid blues', 1), ('deep ghetto acid', 1), ('Kai Tracid', 1), ('acid london techno', 1), ('dark acid disco', 1), ('placidity', 1), ('acid jezz', 1), ('cool acid jazz', 1), ('afro acid jazz', 1), ('robacid', 1), ('fonky acid jazz', 1), ('acid-house', 1), ('Trip-Hop Acid Jazz', 1), ('Hard Acid', 1), ('acidbeeps', 1), ('Acid Dub', 1), ('acid country house techno', 1), ('acidtechno', 1), ('Acid Archives', 1), ('acid jazz    groove   bastard blues  funk', 1), ('rob acid', 1), ('german acid-prog rock', 1), ('Hard-Heavy Psych and Acid Rock', 1), ('Acid beat', 1), ('the chimes - acid jazz', 1), ('acidic', 1), ('psych and acid rock', 1), ('acid jazz   funk   groove   jazz   lounge   neo-soul   nu jazz   soul', 1), ('heavy acid rock', 1), ('Acid Trip', 1), ('detroit acid house', 1), ('acid-dance', 1), ('acid folk rock', 1), ('Hard Acid Techno', 1), ('acid milk', 1), ('acid-country rock', 1), ('acid minimal', 1), ('tracid', 1), ('Acid Girls', 1), ('Acid Warrior', 1), ('Acidhead', 1), ('acid-rock', 1), ('acid country', 1), ('electroacidhousenuravetwisteddiscopunkfunk', 1), ('acid-acoustic', 1), ('new-acid-jazz', 1), ('AcidMaster', 1), ('acid revival', 1), ('funk soul acidjazz breakbeat', 1), ('acid-funk', 1), ('strong acid', 1), ('funk acid jazz', 1), ('country acid', 1), ('acid tube screamer telecaster soul', 1)]\n"
     ]
    }
   ],
   "source": [
    "print(acid_tags[:100])"
   ]
  },
  {
   "cell_type": "code",
   "execution_count": null,
   "metadata": {
    "collapsed": true
   },
   "outputs": [],
   "source": [
    "Не так уж часто, только acid jazz:"
   ]
  },
  {
   "cell_type": "code",
   "execution_count": 64,
   "metadata": {
    "collapsed": false
   },
   "outputs": [
    {
     "name": "stdout",
     "output_type": "stream",
     "text": [
      "[('acid jazz', 1152), ('jazz', 950), ('funk', 805), ('electronic', 787), ('chillout', 739), ('seen live', 717), ('soul', 657), ('lounge', 637), ('electronica', 631), ('downtempo', 630), ('All', 533), ('nu jazz', 528), ('dance', 526), ('rock', 520), ('pop', 516), ('funky', 512), ('trip-hop', 472), ('groove', 464), ('alternative', 461), ('House', 439), ('chill', 416), ('ambient', 402), ('female vocalists', 395), ('instrumental', 383), ('nu-jazz', 374), ('electro', 368), ('indie', 360), ('Hip-Hop', 352), ('Fusion', 325), ('experimental', 323), ('american', 315), ('acoustic', 310), ('groovy', 308), ('90s', 307), ('00s', 262), ('sexy', 253), ('hip hop', 252), ('trip hop', 250), ('male vocalists', 249), ('easy listening', 247), ('jecks', 246), ('rnb', 239), ('british', 231), ('jazzy', 224), ('spotify', 222), ('USA', 220), ('singer-songwriter', 219), ('breakbeat', 217), ('techno', 208), ('UK', 206), ('80s', 206), ('Smooth Jazz', 205), ('idm', 202), ('latin', 202), ('world', 196), ('Disco', 194), ('jazz fusion', 191), ('70s', 188), ('psychedelic', 185), ('dub', 179), ('rap', 178), ('deep house', 175), ('blues', 172), ('smooth', 170), ('jazz funk', 167), ('jazz-funk', 163), ('female vocalist', 160), ('nujazz', 159), ('Drum and bass', 158), ('Myjukebox', 158), ('Neo-Soul', 156), ('future jazz', 152), ('beats', 149), ('club', 142), ('Mellow', 139), ('trance', 139), ('classic rock', 137), ('ninja tune', 134), ('oldies', 133), ('female', 131), ('electronic-lounge', 129), ('chill out', 128), ('contemporary jazz', 127), ('french', 126), ('r&b', 122), ('60s', 120), ('Bossa Nova', 119), ('vocal', 118), ('piano', 118), ('folk', 118), ('indie pop', 117), ('nu-bluz', 117), ('Soundtrack', 116), ('urban', 116), ('alternative rock', 116), ('rhythm and blues', 115), ('underground hip-hop', 115), ('cool', 110), ('Jazz Hop', 109), ('saxophone', 109), ('new wave', 109), ('reggae', 109), ('electropop', 106), ('Nu-Bluz Funky Grooves in the E-Lounge', 105), ('Neo Soul', 105), ('indie rock', 104), ('Broken Beat', 102), ('Love', 102), ('breaks', 101), ('Chillosophy', 101), ('bass', 100), ('hiphop', 100), ('downbeat', 99), ('Lo-Fi', 94), ('world fusion', 93), ('beautiful', 93), ('favorites', 93), ('turntablism', 93), ('World Music', 93), ('instrumental hip-hop', 92), ('Avant-Garde', 91), ('dnb', 90), ('metal', 89), ('dj', 88), ('acid lounge', 86), ('deep funk', 86), ('english', 85), ('serve chilled', 85), ('jazzy flavoured', 85), ('my-love', 84), ('smooth lounge', 84), ('city lounge', 83), ('lounge groove', 83), ('acoustic groove', 83), ('lesser known yet streamable artists', 82), ('england', 82), ('1st Vine', 81), ('Ouahhhhh', 81), ('my lounge room', 81), ('lounge electronic', 81), ('chillair', 80), ('groove lounge', 80), ('alternative lounge', 80), ('chill chill', 80), ('lounge at home tres', 80), ('lounge chill', 80), ('tropcool', 80), ('epic lounge', 79), ('relax', 79), ('lounge-tech', 79)]\n"
     ]
    }
   ],
   "source": [
    "cooc('acid jazz', 150)"
   ]
  },
  {
   "cell_type": "raw",
   "metadata": {},
   "source": [
    "Ну вот jazz и funk он чаще, чем electronic. Хотя других поджанров электроники тоже немало."
   ]
  },
  {
   "cell_type": "code",
   "execution_count": 66,
   "metadata": {
    "collapsed": false
   },
   "outputs": [
    {
     "name": "stdout",
     "output_type": "stream",
     "text": [
      "[('Drum and bass', 695), ('electronic', 612), ('seen live', 512), ('electronica', 450), ('dance', 358), ('electro', 333), ('chillout', 307), ('dnb', 299), ('House', 295), ('Drum n Bass', 289), ('alternative', 286), ('All', 284), ('rock', 272), ('downtempo', 268), ('Hip-Hop', 256), ('breakbeat', 249), ('trip-hop', 242), ('techno', 238), ('experimental', 234), ('pop', 234), ('ambient', 231), ('indie', 228), ('british', 226), ('jazz', 220), ('funk', 207), ('hip hop', 205), ('jungle', 199), ('UK', 198), ('lounge', 184), ('idm', 176), ('rap', 170), ('female vocalists', 164), ('90s', 164), ('dubstep', 162), ('trance', 162), ('dub', 161), ('chill', 159), ('acid jazz', 158), ('american', 154), ('soul', 152), ('00s', 150), ('psychedelic', 142), ('metal', 140), ('instrumental', 136), ('nu jazz', 135), ('spotify', 130), ('male vocalists', 129), (\"drum'n'bass\", 123), ('hardcore', 122), ('punk', 120), ('trip hop', 120), ('breaks', 110), ('club', 109), ('drum & bass', 108), ('reggae', 104), ('groove', 104), ('Fusion', 103), ('beats', 100), ('french', 100), ('80s', 99), ('funky', 97), ('alternative rock', 95), ('new wave', 93), ('liquid funk', 91), ('industrial', 89), ('rnb', 85), ('electropop', 85), ('hiphop', 85), ('indie rock', 84), ('underground hip-hop', 83), ('hard rock', 83), ('nu-jazz', 81), ('deep house', 81), ('USA', 81), ('bass', 80), ('german', 78), ('singer-songwriter', 78), ('sexy', 77), ('punk rock', 77), ('atmospheric', 77), ('minimal', 76), ('indie pop', 74), ('dj', 73), ('heavy metal', 73), ('Progressive', 71), ('Disco', 71), ('synthpop', 70), ('world', 70), ('Avant-Garde', 70), ('turntablism', 69), ('Progressive House', 66), ('Progressive rock', 65), ('underground', 64), ('ninja tune', 63), ('neurofunk', 63), ('Soundtrack', 62), ('english', 62), ('groovy', 62), ('Grime', 59), ('electro house', 59)]\n"
     ]
    }
   ],
   "source": [
    "cooc('Drum and bass', 100)"
   ]
  },
  {
   "cell_type": "raw",
   "metadata": {},
   "source": [
    "В своей среде. Кстати, появился club, что с ним:"
   ]
  },
  {
   "cell_type": "code",
   "execution_count": 67,
   "metadata": {
    "collapsed": false
   },
   "outputs": [
    {
     "name": "stdout",
     "output_type": "stream",
     "text": [
      "[('club', 1301), ('dance', 1192), ('electronic', 1142), ('House', 1035), ('electronica', 930), ('electro', 705), ('seen live', 700), ('techno', 679), ('trance', 610), ('pop', 604), ('All', 467), ('Progressive House', 439), ('00s', 388), ('female vocalists', 382), ('chillout', 371), ('electro house', 369), ('rock', 328), ('Disco', 321), ('spotify', 302), ('eurodance', 270), ('dj', 266), ('deep house', 263), ('funk', 262), ('alternative', 256), ('progressive trance', 256), ('90s', 252), ('sexy', 244), ('downtempo', 244), ('party', 234), ('vocal trance', 232), ('Hip-Hop', 228), ('soul', 227), ('indie', 226), ('american', 222), ('tech house', 218), ('male vocalists', 215), ('electropop', 209), ('funky', 207), ('ambient', 203), ('groove', 194), ('minimal', 193), ('british', 189), ('german', 189), ('lounge', 187), ('Progressive', 186), ('vocal house', 176), ('jazz', 175), ('experimental', 171), ('funky house', 170), ('rap', 165), ('idm', 163), ('hip hop', 161), ('rnb', 154), ('female vocalist', 151), ('chill', 147), ('french', 143), ('acid jazz', 142), ('trip-hop', 139), ('remix', 139), ('female', 138), ('80s', 137), ('UK', 137), ('groovy', 135), ('tech-house', 134), ('gay', 129), ('synthpop', 128), ('USA', 126), ('instrumental', 122), ('Electroclash', 121), ('Nu-Bluz Funky Grooves in the E-Lounge', 117), ('breakbeat', 116), ('minimal techno', 115), ('DIsco House', 114), ('electronic-lounge', 112), ('Drum and bass', 109), ('vocal', 108), ('singer-songwriter', 108), ('germany', 106), ('club house', 104), ('dance-pop', 102), ('hardcore', 99), ('uplifting trance', 98), ('english', 94), ('dubstep', 94), ('Myjukebox', 94), ('melodic trance', 92), ('Europop', 92), ('new wave', 91), ('female vocal', 90), ('Hard Trance', 90), ('Rave', 90), ('EDM', 89), ('favorites', 89), ('beats', 88), ('cool', 88), ('acoustic', 87), ('metal', 87), ('nu jazz', 84), ('psychedelic', 83), ('breaks', 82)]\n"
     ]
    }
   ],
   "source": [
    "cooc('club',100)"
   ]
  },
  {
   "cell_type": "raw",
   "metadata": {},
   "source": [
    "В тему танцевальной и электронной музыки. Варианты Dub:"
   ]
  },
  {
   "cell_type": "code",
   "execution_count": 68,
   "metadata": {
    "collapsed": true
   },
   "outputs": [],
   "source": [
    "dub_tags = []\n",
    "\n",
    "for i in range(l_t):  \n",
    "    tag = sort_tags[i][0]      \n",
    "    if (((tag.find('dub') != -1)) or ((tag.find('Dub') != -1))):\n",
    "        dub_tags.append(sort_tags[i])"
   ]
  },
  {
   "cell_type": "code",
   "execution_count": 72,
   "metadata": {
    "collapsed": false
   },
   "outputs": [
    {
     "name": "stdout",
     "output_type": "stream",
     "text": [
      "[('dub', 1130), ('dubstep', 615), ('electronic dub', 135), ('electro dub', 79), ('dub techno', 65), ('post-dubstep', 63), ('dub reggae', 63), ('rub-a-dub', 45), ('reggae-dub-ska', 43), ('Ambient dub', 42), ('dub-u-dub', 40), ('dublin', 38), ('dub-u', 35), ('french dub', 25), ('electro-dub', 23), ('Post Dubstep', 19), ('reggae dub', 17), ('psydub', 17), ('dubby', 15), ('heavy dubstep', 14)]\n"
     ]
    }
   ],
   "source": [
    "print(dub_tags[:20])"
   ]
  },
  {
   "cell_type": "raw",
   "metadata": {},
   "source": [
    "Только первые два достаточно популярны."
   ]
  },
  {
   "cell_type": "code",
   "execution_count": 73,
   "metadata": {
    "collapsed": false
   },
   "outputs": [
    {
     "name": "stdout",
     "output_type": "stream",
     "text": [
      "[('dub', 1130), ('seen live', 773), ('electronic', 714), ('reggae', 599), ('electronica', 536), ('All', 505), ('chillout', 475), ('alternative', 434), ('experimental', 415), ('indie', 384), ('downtempo', 382), ('electro', 381), ('rock', 370), ('Hip-Hop', 364), ('dance', 353), ('ambient', 351), ('trip-hop', 350), ('pop', 333), ('funk', 312), ('chill', 297), ('jazz', 291), ('lounge', 289), ('spotify', 283), ('hip hop', 276), ('instrumental', 264), ('roots reggae', 262), ('House', 258), ('idm', 254), ('roots', 250), ('male vocalists', 243), ('ska', 241), ('british', 235), ('soul', 224), ('female vocalists', 220), ('psychedelic', 215), ('jamaica', 215), ('rap', 214), ('world', 211), ('dancehall', 208), ('techno', 206), ('UK', 206), ('00s', 199), ('jamaican', 197), ('nu jazz', 186), ('american', 184), ('dubstep', 184), ('trip hop', 182), ('Fusion', 182), ('punk', 180), ('acid jazz', 179), ('breakbeat', 176), ('singer-songwriter', 173), ('90s', 171), ('groove', 168), ('Drum and bass', 161), ('french', 156), ('80s', 149), ('indie rock', 147), ('funky', 143), ('alternative rock', 140), ('folk', 139), ('bass', 134), ('beats', 132), ('Rasta', 131), ('sexy', 130), ('ragga', 129), ('indie pop', 128), ('minimal', 126), ('USA', 122), ('World Music', 119), ('nu-jazz', 118), ('rocksteady', 114), ('metal', 112), ('70s', 110), ('deep house', 109), ('new wave', 107), ('latin', 106), ('electropop', 103), ('punk rock', 102), ('dj', 101), ('trance', 101), ('world fusion', 99), ('Avant-Garde', 99), ('hardcore', 97), ('industrial', 95), ('groovy', 95), ('rnb', 94), ('german', 94), ('france', 93), ('easy listening', 92), ('post-punk', 92), ('lesser known yet streamable artists', 90), ('underground hip-hop', 90), ('indietronica', 89), ('favorites', 89), ('Progressive rock', 88), ('dnb', 87), ('Mellow', 87), ('breaks', 86), ('glitch', 86)]\n"
     ]
    }
   ],
   "source": [
    "cooc('dub', 100)"
   ]
  },
  {
   "cell_type": "raw",
   "metadata": {},
   "source": [
    "Он связан с регги, да. Так что всё вполне в тему."
   ]
  },
  {
   "cell_type": "code",
   "execution_count": 74,
   "metadata": {
    "collapsed": false
   },
   "outputs": [
    {
     "name": "stdout",
     "output_type": "stream",
     "text": [
      "[('dubstep', 615), ('electronic', 549), ('seen live', 460), ('electronica', 365), ('electro', 316), ('dance', 279), ('All', 272), ('experimental', 263), ('Hip-Hop', 240), ('House', 237), ('pop', 222), ('indie', 211), ('alternative', 204), ('british', 197), ('hip hop', 196), ('dub', 184), ('ambient', 175), ('chillout', 172), ('rock', 168), ('techno', 166), ('downtempo', 166), ('Drum and bass', 162), ('UK', 161), ('bass', 152), ('trip-hop', 151), ('idm', 145), ('breakbeat', 138), ('rap', 135), ('american', 134), ('Grime', 128), ('spotify', 118), ('female vocalists', 118), ('electropop', 117), ('00s', 114), ('male vocalists', 113), ('psychedelic', 111), ('chill', 108), ('electro house', 107), ('funk', 106), ('soul', 106), ('instrumental', 94), ('club', 94), ('dnb', 91), ('indie pop', 91), ('beats', 89), ('synthpop', 88), ('rnb', 85), ('glitch', 85), ('trance', 85), ('jazz', 85)]\n"
     ]
    }
   ],
   "source": [
    "cooc('dubstep', 50)"
   ]
  },
  {
   "cell_type": "raw",
   "metadata": {},
   "source": [
    "Странно, что этот не связан с регги. И с хип-хопом как-то связан. Нет доверия, в общем."
   ]
  },
  {
   "cell_type": "code",
   "execution_count": 75,
   "metadata": {
    "collapsed": false
   },
   "outputs": [
    {
     "name": "stdout",
     "output_type": "stream",
     "text": [
      "[('electronica', 4904), ('electronic', 4543), ('seen live', 3470), ('dance', 2690), ('electro', 2398), ('pop', 2389), ('alternative', 2385), ('indie', 2175), ('rock', 2062), ('chillout', 2044), ('House', 1977), ('All', 1851), ('experimental', 1851), ('ambient', 1696), ('techno', 1595), ('female vocalists', 1493), ('00s', 1474), ('downtempo', 1473), ('trip-hop', 1274), ('male vocalists', 1127), ('british', 1107), ('jazz', 1097), ('indie pop', 1088), ('Hip-Hop', 1087), ('trance', 1067), ('indie rock', 1051), ('american', 1033), ('lounge', 1022), ('funk', 1020), ('chill', 1007), ('electropop', 982), ('synthpop', 970), ('90s', 967), ('alternative rock', 947), ('instrumental', 941), ('club', 930), ('UK', 914), ('spotify', 854), ('idm', 847), ('new wave', 831), ('soul', 818), ('psychedelic', 809), ('singer-songwriter', 771), ('hip hop', 763), ('rap', 696), ('Disco', 689), ('minimal', 686), ('USA', 683), ('punk', 666), ('80s', 662), ('french', 649), ('indietronica', 639), ('folk', 632), ('acid jazz', 631), ('female vocalist', 629), ('sexy', 595), ('german', 581), ('Progressive House', 569), ('deep house', 567), ('funky', 561), ('synth pop', 553), ('favorites', 551), ('english', 547), ('dub', 536), ('metal', 534), ('groove', 531), ('nu jazz', 527), ('post-punk', 526), ('female', 524), ('breakbeat', 513), ('industrial', 512), ('trip hop', 496), ('electro house', 495), ('Progressive', 483), ('Soundtrack', 482), ('world', 476), ('acoustic', 469), ('post-rock', 454), ('Drum and bass', 450), ('dj', 444), ('tech house', 430), ('Electroclash', 428), ('Progressive rock', 424), ('Avant-Garde', 423), ('Lo-Fi', 416), ('Mellow', 411), ('france', 405), ('rnb', 405), ('Fusion', 404), ('dream pop', 401), ('Awesome', 401), ('beats', 399), ('beautiful', 393), ('atmospheric', 384), ('classic rock', 383), ('progressive trance', 381), ('eurodance', 380), ('pop rock', 378), ('synth', 376), ('hardcore', 376), ('emo', 372), ('10s', 372), ('england', 367), ('dubstep', 365), ('Love', 362), ('germany', 358), ('punk rock', 357), ('minimal techno', 354), ('easy listening', 354), ('britpop', 353), ('nu-jazz', 350), ('cool', 322), ('check out', 319), ('hard rock', 319), ('reggae', 318), ('party', 317), ('glitch', 313), ('noise', 310), ('vocal trance', 305), ('fun', 290), ('london', 287), ('female vocals', 285), ('chill out', 285), ('latin', 283), ('groovy', 283), ('hiphop', 282), ('shoegaze', 277), ('underground hip-hop', 271), ('Electro Pop', 270), ('breaks', 267), ('World Music', 266), ('dark', 256), ('vocal', 254), ('new york', 254), ('new age', 250), ('dnb', 248), ('tech-house', 247), ('gay', 244), ('japanese', 244), ('relax', 241), ('Favorite', 238), ('european', 237), ('deutsch', 233), ('Drum n Bass', 228), ('electronic-lounge', 227), ('bass', 227), ('ethereal', 226), ('swedish', 224), ('lesser known yet streamable artists', 224), ('Gothic', 224)]\n"
     ]
    }
   ],
   "source": [
    "cooc('electronica', 150)"
   ]
  },
  {
   "cell_type": "raw",
   "metadata": {},
   "source": [
    "'electronica' по сути 'electronic', хотя это не совсем так. Тег считать electronic, а сам electronic:"
   ]
  },
  {
   "cell_type": "code",
   "execution_count": 76,
   "metadata": {
    "collapsed": false
   },
   "outputs": [
    {
     "name": "stdout",
     "output_type": "stream",
     "text": [
      "[('electronic', 8181), ('seen live', 5377), ('electronica', 4543), ('pop', 3879), ('dance', 3746), ('alternative', 3630), ('rock', 3461), ('indie', 3327), ('electro', 2987), ('All', 2929), ('chillout', 2672), ('House', 2635), ('experimental', 2577), ('female vocalists', 2286), ('00s', 2278), ('ambient', 2191), ('techno', 2007), ('male vocalists', 1983), ('american', 1796), ('downtempo', 1793), ('Hip-Hop', 1745), ('indie rock', 1702), ('alternative rock', 1651), ('indie pop', 1610), ('british', 1604), ('jazz', 1579), ('90s', 1522), ('funk', 1520), ('trip-hop', 1508), ('spotify', 1437), ('singer-songwriter', 1397), ('trance', 1382), ('soul', 1371), ('instrumental', 1334), ('UK', 1318), ('chill', 1264), ('synthpop', 1260), ('lounge', 1258), ('electropop', 1238), ('hip hop', 1232), ('USA', 1208), ('new wave', 1199), ('80s', 1172), ('psychedelic', 1159), ('rap', 1145), ('club', 1142), ('punk', 1126), ('folk', 1121), ('french', 1074), ('female vocalist', 1033), ('Disco', 998), ('metal', 940), ('idm', 937), ('minimal', 914), ('english', 883), ('sexy', 881), ('female', 850), ('favorites', 849), ('acoustic', 822), ('german', 817), ('Soundtrack', 804), ('post-punk', 793), ('rnb', 790), ('acid jazz', 787), ('pop rock', 786), ('funky', 768), ('industrial', 736), ('deep house', 721), ('groove', 718), ('dub', 714), ('classic rock', 710), ('world', 708), ('indietronica', 707), ('synth pop', 701), ('hardcore', 697), ('Progressive House', 684), ('Progressive', 669), ('Progressive rock', 663), ('Awesome', 656), ('emo', 652), ('nu jazz', 648), ('Love', 638), ('hard rock', 630), ('breakbeat', 627), ('beautiful', 626), ('10s', 620), ('france', 617), ('electro house', 616), ('Drum and bass', 612), ('Avant-Garde', 607), ('Mellow', 604), ('punk rock', 603), ('post-rock', 601), ('Lo-Fi', 599), ('trip hop', 593), ('Fusion', 573), ('britpop', 565), ('england', 562), ('dream pop', 557), ('easy listening', 555), ('dubstep', 549), ('reggae', 537), ('tech house', 536), ('dj', 532), ('eurodance', 528), ('germany', 498), ('atmospheric', 496), ('70s', 491), ('Electroclash', 480), ('hiphop', 472), ('cool', 471), ('beats', 466), ('synth', 457), ('progressive trance', 456), ('noise', 455), ('latin', 450), ('minimal techno', 448), ('r&b', 439), ('check out', 436), ('female vocals', 434), ('party', 433), ('blues', 432), ('fun', 430), ('nu-jazz', 425), ('underground hip-hop', 423), ('london', 413), ('Classical', 410), ('gay', 410), ('World Music', 405), ('shoegaze', 401), ('new age', 390), ('California', 384), ('new york', 383), ('piano', 379), ('groovy', 376), ('Favorite', 374), ('vocal', 373), ('dark', 369), ('swedish', 364), ('heavy metal', 359), ('lesser known yet streamable artists', 357), ('bass', 348), ('male vocalist', 347), ('japanese', 346), ('Gothic', 346), ('vocal trance', 346), ('european', 342), ('glitch', 341), ('deutsch', 336), ('dnb', 336)]\n"
     ]
    }
   ],
   "source": [
    "cooc('electronic', 150)"
   ]
  },
  {
   "cell_type": "raw",
   "metadata": {},
   "source": [
    "Многое из списка наверху. Ещё есть electro:"
   ]
  },
  {
   "cell_type": "code",
   "execution_count": 77,
   "metadata": {
    "collapsed": false
   },
   "outputs": [
    {
     "name": "stdout",
     "output_type": "stream",
     "text": [
      "[('electro', 3275), ('electronic', 2987), ('electronica', 2398), ('seen live', 2332), ('dance', 1977), ('House', 1577), ('pop', 1518), ('alternative', 1419), ('indie', 1387), ('techno', 1246), ('All', 1198), ('experimental', 1193), ('rock', 1174), ('chillout', 1088), ('ambient', 969), ('00s', 933), ('electropop', 868), ('female vocalists', 854), ('downtempo', 852), ('synthpop', 802), ('trip-hop', 773), ('Hip-Hop', 730), ('club', 705), ('funk', 682), ('male vocalists', 659), ('idm', 659), ('trance', 653), ('indie pop', 653), ('british', 647), ('spotify', 642), ('french', 616), ('indie rock', 583), ('UK', 565), ('american', 562), ('new wave', 557), ('jazz', 556), ('minimal', 553), ('Disco', 538), ('chill', 535), ('instrumental', 535), ('lounge', 533), ('electro house', 531), ('hip hop', 526), ('indietronica', 493), ('psychedelic', 472), ('90s', 463), ('alternative rock', 458), ('synth pop', 450), ('soul', 449), ('Progressive House', 444), ('Electroclash', 438), ('rap', 435), ('german', 424), ('breakbeat', 407), ('deep house', 402), ('punk', 396), ('tech house', 394), ('funky', 393), ('sexy', 392), ('industrial', 387), ('dub', 381), ('80s', 378), ('groove', 371), ('acid jazz', 368), ('singer-songwriter', 368), ('dj', 366), ('france', 362), ('female vocalist', 361), ('USA', 353), ('Drum and bass', 333), ('trip hop', 330), ('english', 328), ('synth', 326), ('minimal techno', 320), ('dubstep', 316), ('nu jazz', 313), ('post-punk', 307), ('beats', 299), ('Progressive', 291), ('metal', 286), ('germany', 284), ('female', 282), ('folk', 272), ('favorites', 272), ('Electro Pop', 260), ('10s', 260), ('party', 254), ('Fusion', 254), ('Lo-Fi', 245), ('glitch', 243), ('Soundtrack', 242), ('world', 240), ('Avant-Garde', 235), ('Awesome', 235), ('hardcore', 234), ('eurodance', 231), ('rnb', 229), ('tech-house', 227), ('england', 225), ('breaks', 218)]\n"
     ]
    }
   ],
   "source": [
    "cooc('electro', 100)"
   ]
  },
  {
   "cell_type": "raw",
   "metadata": {},
   "source": [
    "В первых трёх парах всё и написано -- все три тега считать равными electronic.\n",
    "\n",
    "Только ли я заблуждаюсь насчёт hardcore:"
   ]
  },
  {
   "cell_type": "code",
   "execution_count": 79,
   "metadata": {
    "collapsed": false
   },
   "outputs": [
    {
     "name": "stdout",
     "output_type": "stream",
     "text": [
      "[('hardcore', 1766), ('seen live', 1453), ('rock', 1210), ('punk', 983), ('alternative', 971), ('metal', 936), ('american', 778), ('punk rock', 725), ('indie', 724), ('alternative rock', 697), ('electronic', 697), ('pop', 628), ('hard rock', 586), ('USA', 556), ('emo', 547), ('All', 534), ('metalcore', 523), ('indie rock', 479), ('hardcore punk', 456), ('experimental', 452), ('90s', 433), ('heavy metal', 420), ('Hip-Hop', 410), ('male vocalists', 407), ('dance', 403), ('00s', 393), ('screamo', 380), ('rap', 377), ('electronica', 376), ('death metal', 373), ('spotify', 354), ('post-hardcore', 347), ('hip hop', 334), ('female vocalists', 326), ('80s', 314), ('thrash metal', 299), ('Awesome', 289), ('favorites', 284), ('alternative metal', 279), ('pop punk', 279), ('techno', 258), ('industrial', 254), ('Progressive rock', 247), ('classic rock', 243), ('british', 238), ('Nu Metal', 236), ('electro', 234), ('jazz', 227), ('emocore', 222), ('funk', 221), ('french', 217), ('ambient', 212), ('Grunge', 211), ('post-punk', 208), ('melodic hardcore', 208), ('singer-songwriter', 206), ('new wave', 203), ('House', 203), ('trance', 202), ('post hardcore', 200), ('psychedelic', 200), ('chillout', 197), ('pop rock', 197), ('grindcore', 192), ('indie pop', 190), ('California', 186), ('black metal', 183), ('german', 182), ('ska', 179), ('Progressive', 176), ('folk', 174), ('Progressive metal', 169), ('UK', 167), ('hiphop', 164), ('soul', 159), ('instrumental', 158), ('acoustic', 157), ('crossover', 156), ('Love', 153), ('reggae', 152), ('Soundtrack', 151), ('noise', 149), ('Pop-punk', 148), ('trip-hop', 145), ('Nu-metal', 140), ('underground hip-hop', 139), ('post-rock', 138), ('deathcore', 136), ('doom metal', 132), ('Stoner Rock', 126), ('english', 125), ('new york', 125), ('female vocalist', 125), ('Melodic Death Metal', 124), ('rapcore', 122), ('japanese', 122), ('Drum and bass', 122), ('political', 121), ('70s', 120), ('rnb', 119), ('thrash', 119), ('Punk-Rock', 118), ('france', 113), ('underground', 111), ('Brutal Death Metal', 111), ('chill', 111), ('sexy', 110), ('Favorite', 109), ('amazing', 109), ('downtempo', 109), ('underground rap', 108), ('ska punk', 106), ('swedish', 104), ('post-grunge', 104), ('groove metal', 103), ('idm', 102), ('shit', 102), ('power pop', 102), ('female', 101), ('Gangsta Rap', 100), ('synthpop', 99), ('germany', 99), ('club', 99), ('Fusion', 98), ('latin', 97), ('dub', 97), ('Sludge', 97), ('fun', 96), ('old school', 96), ('gay', 95), ('Gabber', 94), ('Need to Rate', 93), ('Oi', 93), ('speed metal', 93), ('comedy', 92), ('Disco', 92), ('christian', 92), ('Power metal', 92), ('punkrock', 92), ('Straight Edge', 91), ('lounge', 91), ('industrial metal', 91), ('eurodance', 90), ('Canadian', 89), ('blues', 88), ('60s', 87), ('oldies', 84), ('Gothic', 84), ('hardcore rap', 83), ('Pop-Rock', 83)]\n"
     ]
    }
   ],
   "source": [
    "cooc('hardcore', 150)"
   ]
  },
  {
   "cell_type": "raw",
   "metadata": {},
   "source": [
    "Приятно, что не только. Нет доверия этому тегу."
   ]
  },
  {
   "cell_type": "code",
   "execution_count": 81,
   "metadata": {
    "collapsed": false
   },
   "outputs": [
    {
     "name": "stdout",
     "output_type": "stream",
     "text": [
      "[('House', 3182), ('electronic', 2635), ('dance', 2229), ('electronica', 1977), ('seen live', 1738), ('electro', 1577), ('techno', 1394), ('pop', 1321), ('All', 1168), ('club', 1035), ('chillout', 1016), ('trance', 900), ('rock', 846), ('alternative', 838), ('female vocalists', 829), ('indie', 806), ('00s', 777), ('downtempo', 751), ('deep house', 725), ('funk', 719), ('spotify', 673), ('ambient', 654), ('Progressive House', 644), ('Disco', 627), ('soul', 614), ('experimental', 608), ('electro house', 605), ('lounge', 600), ('Hip-Hop', 597), ('jazz', 588), ('90s', 582), ('minimal', 562), ('british', 524), ('male vocalists', 515), ('trip-hop', 508), ('tech house', 504), ('electropop', 497), ('american', 481), ('funky', 465), ('chill', 454), ('idm', 442), ('acid jazz', 439), ('UK', 434), ('groove', 433), ('sexy', 426), ('hip hop', 415), ('dj', 413), ('french', 396), ('synthpop', 393), ('eurodance', 384), ('rap', 380), ('german', 377), ('instrumental', 367), ('rnb', 357), ('Progressive', 351), ('minimal techno', 343), ('nu jazz', 340), ('80s', 340), ('breakbeat', 333), ('progressive trance', 326), ('indie pop', 308), ('female vocalist', 307), ('new wave', 301), ('USA', 295), ('Drum and bass', 295), ('singer-songwriter', 294), ('party', 283), ('vocal house', 283), ('tech-house', 280), ('female', 271), ('vocal trance', 270), ('funky house', 269), ('psychedelic', 269), ('Electroclash', 265), ('groovy', 259), ('dub', 258), ('indie rock', 249), ('alternative rock', 245), ('beats', 242), ('dubstep', 237), ('acoustic', 233), ('english', 226), ('france', 226), ('punk', 225), ('germany', 220), ('nu-jazz', 220), ('Fusion', 214), ('indietronica', 212), ('metal', 212), ('Nu-Bluz Funky Grooves in the E-Lounge', 210), ('electronic-lounge', 204), ('gay', 203), ('hardcore', 203), ('remix', 198), ('trip hop', 196), ('world', 195), ('easy listening', 194), ('synth pop', 193), ('DIsco House', 192), ('r&b', 190), ('favorites', 189), ('cool', 189), ('reggae', 188), ('Soundtrack', 182), ('dance-pop', 181), ('folk', 181), ('latin', 179), ('Myjukebox', 178), ('10s', 177), ('breaks', 175), ('deep', 170), ('Awesome', 169), ('Love', 168), ('elektro', 168), ('dnb', 165), ('vocal', 163), ('urban', 161), ('nu disco', 160), ('hiphop', 153), ('england', 152), ('Rave', 150), ('deutsch', 148), ('swedish', 146), ('bass', 145), ('Acid', 141), ('hard rock', 140), ('jecks', 139), ('european', 138), ('emo', 138), ('EDM', 137), ('chill out', 137), ('nu-bluz', 136), ('70s', 136), ('punk rock', 136), ('beautiful', 135), ('Drum n Bass', 135), ('smooth', 133), ('classic rock', 132), ('london', 132), ('italian', 131), ('Soulful house', 131), ('industrial', 130), ('Neo-Soul', 130), ('Electro Pop', 129), ('pop rock', 129), ('dutch', 128), ('underground hip-hop', 126), ('french house', 124), ('jazzy', 123), ('Europop', 123)]\n"
     ]
    }
   ],
   "source": [
    "cooc('House', 150)"
   ]
  },
  {
   "cell_type": "raw",
   "metadata": {},
   "source": [
    "House, как и Disco, с большой буквы. Теги вполне в своей среде.\n",
    "\n",
    "Industrial -- его я тоже больше роком считаю, а пользователи last.fm:"
   ]
  },
  {
   "cell_type": "code",
   "execution_count": 84,
   "metadata": {
    "collapsed": false
   },
   "outputs": [
    {
     "name": "stdout",
     "output_type": "stream",
     "text": [
      "[('industrial', 944), ('seen live', 769), ('electronic', 736), ('rock', 642), ('alternative', 626), ('electronica', 512), ('experimental', 503), ('metal', 463), ('indie', 415), ('electro', 387), ('alternative rock', 377), ('pop', 344), ('ambient', 322), ('american', 319), ('punk', 314), ('All', 303), ('dance', 295), ('90s', 286), ('hard rock', 267), ('new wave', 257), ('male vocalists', 255), ('hardcore', 254), ('techno', 254), ('80s', 248), ('Gothic', 247), ('00s', 239), ('USA', 236), ('female vocalists', 235), ('indie rock', 224), ('synthpop', 221), ('darkwave', 219), ('industrial metal', 218), ('psychedelic', 215), ('ebm', 212), ('heavy metal', 207), ('Hip-Hop', 206), ('noise', 206), ('british', 204), ('post-punk', 204), ('trip-hop', 195), ('dark', 194), ('chillout', 193), ('industrial rock', 177), ('punk rock', 175), ('idm', 170), ('instrumental', 169), ('goth', 164), ('UK', 163), ('death metal', 160), ('trance', 160), ('Progressive rock', 159), ('hip hop', 159), ('folk', 157), ('Avant-Garde', 156), ('spotify', 152), ('german', 152), ('singer-songwriter', 150), ('Gothic Rock', 148), ('rap', 148), ('Soundtrack', 147), ('alternative metal', 146), ('favorites', 145), ('classic rock', 142), ('synth pop', 142), ('emo', 139), ('downtempo', 133), ('jazz', 132), ('House', 130), ('dark ambient', 128), ('Nu Metal', 128), ('english', 120), ('funk', 120), ('synth', 117), ('indie pop', 116), ('french', 114), ('metalcore', 113), ('Gothic Metal', 112), ('Progressive', 110), ('post-rock', 107), ('Awesome', 104), ('black metal', 102), ('thrash metal', 102), ('minimal', 101), ('avantgarde', 101), ('Progressive metal', 100), ('electropop', 98), ('germany', 97), ('electro-industrial', 97), ('soul', 96), ('britpop', 96), ('dub', 95), ('Grunge', 95), ('female vocalist', 95), ('dark electro', 91), ('acoustic', 91), ('Post punk', 89), ('Drum and bass', 89), ('japanese', 85), ('pop rock', 85), ('Post-Industrial', 80)]\n"
     ]
    }
   ],
   "source": [
    "cooc('industrial', 100)"
   ]
  },
  {
   "cell_type": "raw",
   "metadata": {},
   "source": [
    "И электроника, и рок. Варианты написания:"
   ]
  },
  {
   "cell_type": "code",
   "execution_count": 85,
   "metadata": {
    "collapsed": true
   },
   "outputs": [],
   "source": [
    "indust_tags = []\n",
    "\n",
    "for i in range(l_t):  \n",
    "    tag = sort_tags[i][0]      \n",
    "    if (((tag.find('industrial') != -1)) or ((tag.find('Industrial') != -1))):\n",
    "        indust_tags.append(sort_tags[i])"
   ]
  },
  {
   "cell_type": "code",
   "execution_count": 87,
   "metadata": {
    "collapsed": false
   },
   "outputs": [
    {
     "name": "stdout",
     "output_type": "stream",
     "text": [
      "[('industrial', 944), ('industrial metal', 253), ('industrial rock', 193), ('electro-industrial', 102), ('Post-Industrial', 81), ('techno-industrial', 24), ('martial industrial', 23), ('dark industrial', 19), ('industrial hardcore', 18), ('Industrial-electronica', 16), ('old school industrial', 15), ('industrial dance', 15), ('Industrial Death Metal', 14), ('Industrial Techno', 13), ('industrial black metal', 12), ('industrial hip-hop', 12), ('industrial pop', 11), ('industrial-metal', 11), ('electro industrial', 10), ('industrial thrash metal', 9), ('aggro-industrial', 9), ('rhythmic industrial', 9), ('industrial groove metal', 8), ('industrial punk', 8), ('industrial electro', 8), ('tribal industrial', 8), ('industrial dub', 7), ('ambient industrial', 7), ('industrial noise', 7), ('industrial hip hop', 6), ('post industrial', 6), ('industrial rap', 5), ('industrial ambient', 5), ('industrial frenchcore', 5), ('Coldwave Industrial', 4), ('gothic industrial', 4), ('aggro industrial', 4), ('death industrial', 4), ('german industrial', 4), ('Industrial Funk', 3), ('minimal industrial', 3), ('experimental industrial', 3), ('industrial dubstep', 3), ('gothic-industrial', 3), ('industrial jungle pussy punk', 3), ('Industrial Gothic Metal', 3), ('proto-industrial', 3), ('industrial and EBM', 3), ('industrial-rock', 3), ('industrial rapcore', 3)]\n"
     ]
    }
   ],
   "source": [
    "print(indust_tags[:50])"
   ]
  },
  {
   "cell_type": "raw",
   "metadata": {},
   "source": [
    "Не так много использований у других вариантов, чтобы их отделять."
   ]
  },
  {
   "cell_type": "raw",
   "metadata": {},
   "source": [
    "IDM -- Intelligent dance music, надо же:"
   ]
  },
  {
   "cell_type": "code",
   "execution_count": 89,
   "metadata": {
    "collapsed": false
   },
   "outputs": [
    {
     "name": "stdout",
     "output_type": "stream",
     "text": [
      "[('idm', 998), ('electronic', 937), ('electronica', 847), ('seen live', 771), ('experimental', 663), ('electro', 659), ('ambient', 628), ('chillout', 573), ('downtempo', 557), ('alternative', 489), ('dance', 475), ('indie', 475), ('All', 456), ('trip-hop', 447), ('techno', 443), ('House', 442), ('instrumental', 349), ('pop', 340), ('rock', 332), ('minimal', 317), ('chill', 305), ('Hip-Hop', 301), ('lounge', 277), ('psychedelic', 277), ('glitch', 269), ('jazz', 265), ('british', 257), ('00s', 255), ('dub', 254), ('funk', 251), ('hip hop', 235), ('groove', 228), ('UK', 225), ('american', 222), ('breakbeat', 215), ('indietronica', 208), ('nu jazz', 202), ('acid jazz', 202), ('indie rock', 200), ('indie pop', 199), ('female vocalists', 197), ('deep house', 196), ('beats', 193), ('minimal techno', 191), ('electropop', 184), ('trip hop', 180), ('trance', 178), ('Drum and bass', 176), ('industrial', 170), ('sexy', 169), ('spotify', 165), ('Avant-Garde', 165), ('synthpop', 164), ('club', 163), ('post-rock', 161), ('tech house', 160), ('soul', 160), ('male vocalists', 159), ('french', 154), ('Lo-Fi', 152), ('90s', 151), ('rap', 149), ('atmospheric', 146), ('dubstep', 145), ('electronic-lounge', 144), ('alternative rock', 142), ('abstract', 140), ('funky', 140), ('german', 139), ('new wave', 138), ('Nu-Bluz Funky Grooves in the E-Lounge', 137), ('USA', 134), ('dj', 132), ('Fusion', 127), ('noise', 126), ('nu-jazz', 124), ('punk', 122), ('Mellow', 121), ('breaks', 120), ('nu-bluz', 120), ('Progressive House', 119), ('Electroclash', 119), ('singer-songwriter', 117), ('folk', 112), ('underground hip-hop', 111), ('instrumental hip-hop', 110), ('electro house', 108), ('metal', 106), ('Progressive', 104), ('ninja tune', 104), ('world', 102), ('hardcore', 102), ('dnb', 101), ('Disco', 99), ('france', 99), ('dream pop', 98), ('english', 95), ('tech-house', 95), ('germany', 95), ('synth pop', 95)]\n"
     ]
    }
   ],
   "source": [
    "cooc('idm', 100)"
   ]
  },
  {
   "cell_type": "raw",
   "metadata": {},
   "source": [
    "В целом в своей среде. Он же часто glitch (в попарной встречаемости далеко):"
   ]
  },
  {
   "cell_type": "code",
   "execution_count": 90,
   "metadata": {
    "collapsed": false
   },
   "outputs": [
    {
     "name": "stdout",
     "output_type": "stream",
     "text": [
      "[('glitch', 358), ('electronic', 341), ('electronica', 313), ('experimental', 286), ('seen live', 285), ('idm', 269), ('electro', 243), ('ambient', 231), ('downtempo', 183), ('chillout', 172), ('indie', 166), ('All', 161), ('techno', 155), ('alternative', 153), ('minimal', 148), ('trip-hop', 143), ('instrumental', 135), ('dance', 124), ('House', 113), ('abstract', 107), ('Hip-Hop', 96), ('pop', 95), ('psychedelic', 93), ('beats', 89), ('dub', 86), ('indietronica', 86), ('chill', 85), ('dubstep', 85), ('american', 84), ('minimal techno', 84), ('british', 82), ('rock', 79), ('UK', 78), ('hip hop', 76), ('00s', 75), ('noise', 73), ('breakbeat', 73), ('Lo-Fi', 72), ('Avant-Garde', 71), ('jazz', 69), ('glitch-hop', 65), ('german', 63), ('electropop', 60), ('french', 60), ('funk', 57), ('synthpop', 57), ('female vocalists', 56), ('industrial', 55), ('lounge', 55), ('indie pop', 55), ('atmospheric', 55), ('post-rock', 54), ('instrumental hip-hop', 53), ('indie rock', 53), ('tech house', 52), ('USA', 50), ('spotify', 50), ('bass', 49), ('trip hop', 49), ('Ambient Techno', 49), ('abstract hip-hop', 47), ('club', 46), ('wonky', 46), ('nu jazz', 44), ('germany', 43), ('Drum and bass', 42), ('acid jazz', 40), ('france', 39), ('experimental electronic', 39), ('male vocalists', 39), ('microhouse', 39), ('soul', 38), ('trance', 38), ('indie electronic', 38), ('experimental techno', 38), ('breakcore', 37), ('Electroclash', 37), ('underground hip-hop', 36), ('rap', 36), ('glitch hop', 36), ('breaks', 35), ('deep', 35), ('dream pop', 35), ('deep house', 34), ('minimalism', 34), ('shoegaze', 34), ('Dreamy', 33), ('sexy', 33), ('90s', 33), ('dark ambient', 33), ('alternative rock', 32), ('synth pop', 32), ('folk', 32), ('Warp', 31), ('chillwave', 31), ('Progressive', 30), ('england', 30), ('beautiful', 30), ('Acid', 30), ('new wave', 30)]\n"
     ]
    }
   ],
   "source": [
    "cooc('glitch', 100)"
   ]
  },
  {
   "cell_type": "raw",
   "metadata": {},
   "source": [
    "Хороший тег, но не очень популярный. Пожалуй, можно его приравнять к IDM."
   ]
  },
  {
   "cell_type": "code",
   "execution_count": 91,
   "metadata": {
    "collapsed": false
   },
   "outputs": [
    {
     "name": "stdout",
     "output_type": "stream",
     "text": [
      "[('synthpop', 1422), ('electronic', 1260), ('seen live', 1139), ('pop', 1084), ('electronica', 970), ('alternative', 917), ('indie', 879), ('dance', 863), ('rock', 805), ('electro', 802), ('electropop', 715), ('new wave', 708), ('synth pop', 595), ('All', 575), ('male vocalists', 558), ('female vocalists', 543), ('00s', 527), ('indie pop', 527), ('80s', 514), ('experimental', 503), ('indie rock', 412), ('Disco', 412), ('british', 405), ('House', 393), ('chillout', 380), ('alternative rock', 358), ('indietronica', 355), ('UK', 355), ('techno', 351), ('synth', 342), ('american', 332), ('ambient', 325), ('90s', 324), ('post-punk', 315), ('singer-songwriter', 296), ('female vocalist', 286), ('english', 285), ('funk', 267), ('punk', 259), ('USA', 249), ('pop rock', 248), ('Electroclash', 245), ('downtempo', 233), ('psychedelic', 229), ('soul', 221), ('industrial', 221), ('Electro Pop', 220), ('female', 220), ('french', 218), ('spotify', 209), ('sexy', 205), (\"80's\", 204), ('dream pop', 204), ('synth-pop', 201), ('10s', 197), ('trip-hop', 197), ('trance', 178), ('jazz', 178), ('Hip-Hop', 177), ('darkwave', 172), ('chill', 169), ('german', 169), ('britpop', 167), ('england', 165), ('idm', 164), ('metal', 163), ('minimal', 163), ('classic rock', 162), ('favorites', 160), ('folk', 157), ('electro-pop', 154), ('Gothic', 149), ('instrumental', 146), ('france', 146), ('Love', 144), ('indie electronic', 140), ('dance-pop', 140), ('gay', 139), ('Soundtrack', 136), ('lounge', 132), ('funky', 132), ('ebm', 132), ('dark', 131), ('new romantic', 130), ('70s', 130), ('new rave', 130), ('Lo-Fi', 129), ('oldies', 129), ('rnb', 128), ('club', 128), ('Indietronic', 128), ('london', 127), ('Awesome', 127), ('hip hop', 123), ('germany', 118), ('female vocals', 118), ('acoustic', 118), ('80s Pop', 116), ('alternative pop', 116), ('punk rock', 115)]\n"
     ]
    }
   ],
   "source": [
    "cooc('synthpop', 100)"
   ]
  },
  {
   "cell_type": "raw",
   "metadata": {},
   "source": [
    "Неплохой тег."
   ]
  },
  {
   "cell_type": "code",
   "execution_count": 92,
   "metadata": {
    "collapsed": false
   },
   "outputs": [
    {
     "name": "stdout",
     "output_type": "stream",
     "text": [
      "[('techno', 2245), ('electronic', 2007), ('electronica', 1595), ('dance', 1532), ('seen live', 1461), ('House', 1394), ('electro', 1246), ('pop', 942), ('trance', 852), ('All', 825), ('rock', 744), ('alternative', 701), ('club', 679), ('chillout', 678), ('minimal', 659), ('experimental', 629), ('indie', 621), ('ambient', 619), ('00s', 566), ('female vocalists', 541), ('90s', 494), ('downtempo', 482), ('tech house', 459), ('spotify', 453), ('idm', 443), ('Progressive House', 436), ('Hip-Hop', 425), ('german', 420), ('minimal techno', 419), ('male vocalists', 400), ('deep house', 398), ('Disco', 394), ('electro house', 386), ('british', 377), ('funk', 376), ('electropop', 362), ('american', 360), ('synthpop', 351), ('eurodance', 348), ('trip-hop', 343), ('jazz', 342), ('instrumental', 335), ('dj', 324), ('UK', 313), ('soul', 302), ('french', 301), ('new wave', 297), ('Progressive', 295), ('psychedelic', 292), ('rap', 291), ('lounge', 290), ('80s', 287), ('breakbeat', 276), ('hip hop', 273), ('chill', 271), ('progressive trance', 268), ('tech-house', 265), ('hardcore', 258), ('metal', 257), ('industrial', 254), ('alternative rock', 253), ('punk', 251), ('germany', 251), ('Electroclash', 251), ('funky', 250), ('sexy', 246), ('groove', 241), ('Drum and bass', 238), ('USA', 235), ('indie rock', 230), ('vocal trance', 227), ('party', 217), ('indie pop', 215), ('acid jazz', 208), ('dub', 206), ('synth pop', 197), ('beats', 196), ('singer-songwriter', 192), ('Soundtrack', 189), ('acoustic', 188), ('female vocalist', 178), ('groovy', 176), ('Acid', 174), ('indietronica', 173), ('france', 173), ('Rave', 172), ('hard rock', 170), ('female', 170), ('emo', 169), ('folk', 169), ('english', 167), ('dubstep', 166), ('deutsch', 163), ('favorites', 160), ('rnb', 157), ('breaks', 157), ('glitch', 155), ('gay', 155), ('Awesome', 153), ('elektro', 153)]\n"
     ]
    }
   ],
   "source": [
    "cooc('techno', 100)"
   ]
  },
  {
   "cell_type": "raw",
   "metadata": {},
   "source": [
    "Тоже хороший."
   ]
  },
  {
   "cell_type": "code",
   "execution_count": 93,
   "metadata": {
    "collapsed": false
   },
   "outputs": [
    {
     "name": "stdout",
     "output_type": "stream",
     "text": [
      "[('trance', 1640), ('electronic', 1382), ('dance', 1199), ('electronica', 1067), ('seen live', 901), ('House', 900), ('techno', 852), ('pop', 737), ('electro', 653), ('club', 610), ('rock', 583), ('All', 511), ('chillout', 499), ('female vocalists', 482), ('alternative', 462), ('progressive trance', 454), ('00s', 447), ('ambient', 438), ('Progressive House', 405), ('90s', 394), ('indie', 355), ('vocal trance', 348), ('eurodance', 341), ('spotify', 309), ('downtempo', 292), ('male vocalists', 292), ('british', 286), ('experimental', 284), ('german', 272), ('Progressive', 267), ('Hip-Hop', 266), ('american', 258), ('Disco', 251), ('electro house', 244), ('soul', 239), ('psychedelic', 232), ('funk', 229), ('instrumental', 228), ('trip-hop', 224), ('metal', 221), ('jazz', 215), ('lounge', 213), ('dj', 211), ('chill', 209), ('hardcore', 202), ('rap', 200), ('UK', 199), ('uplifting trance', 196), ('alternative rock', 195), ('hip hop', 187), ('psytrance', 185), ('party', 183), ('sexy', 182), ('80s', 182), ('singer-songwriter', 181), ('punk', 179), ('deep house', 178), ('idm', 178), ('minimal', 178), ('synthpop', 178), ('tech house', 169), ('Hard Trance', 166), ('Drum and bass', 162), ('Soundtrack', 160), ('industrial', 160), ('female vocalist', 159), ('acoustic', 159), ('electropop', 158), ('female', 156), ('melodic trance', 155), ('germany', 151), ('goa', 151), ('USA', 150), ('indie rock', 149), ('new wave', 147), ('french', 147), ('funky', 143), ('hard rock', 142), ('acid jazz', 139), ('emo', 137), ('breakbeat', 136), ('english', 135), ('world', 135), ('favorites', 135), ('folk', 132), ('rnb', 131), ('Rave', 127), ('remix', 127), ('vocal house', 125), ('groove', 123), ('indie pop', 121), ('groovy', 120), ('gay', 117), ('beautiful', 117), ('dutch', 117), ('funky house', 115), ('Awesome', 114), ('Europop', 113), ('vocal', 111), ('female vocal', 110)]\n"
     ]
    }
   ],
   "source": [
    "cooc('trance', 100)"
   ]
  },
  {
   "cell_type": "raw",
   "metadata": {},
   "source": [
    "Тоже ок."
   ]
  },
  {
   "cell_type": "code",
   "execution_count": 94,
   "metadata": {
    "collapsed": false
   },
   "outputs": [
    {
     "name": "stdout",
     "output_type": "stream",
     "text": [
      "[('trip-hop', 1722), ('electronic', 1508), ('electronica', 1274), ('seen live', 1260), ('chillout', 1195), ('alternative', 1058), ('downtempo', 1045), ('indie', 986), ('ambient', 890), ('experimental', 846), ('pop', 824), ('rock', 777), ('electro', 773), ('jazz', 734), ('dance', 696), ('Hip-Hop', 696), ('lounge', 689), ('All', 683), ('female vocalists', 678), ('chill', 629), ('00s', 548), ('funk', 540), ('trip hop', 536), ('hip hop', 514), ('House', 508), ('instrumental', 501), ('acid jazz', 472), ('british', 457), ('idm', 447), ('indie rock', 445), ('soul', 443), ('indie pop', 434), ('american', 427), ('nu jazz', 425), ('singer-songwriter', 409), ('UK', 408), ('rap', 402), ('alternative rock', 387), ('psychedelic', 385), ('90s', 379), ('dub', 350), ('male vocalists', 349), ('techno', 343), ('folk', 342), ('groove', 321), ('breakbeat', 316), ('spotify', 299), ('female vocalist', 298), ('nu-jazz', 297), ('sexy', 291), ('french', 276), ('Mellow', 276), ('beats', 269), ('USA', 268), ('easy listening', 254), ('world', 251), ('electropop', 249), ('funky', 249), ('female', 247), ('Fusion', 245), ('Drum and bass', 242), ('indietronica', 241), ('underground hip-hop', 229), ('new wave', 228), ('trance', 224), ('punk', 221), ('post-rock', 221), ('favorites', 220), ('Lo-Fi', 217), ('metal', 217), ('acoustic', 215), ('Soundtrack', 210), ('hiphop', 210), ('dream pop', 204), ('english', 203), ('rnb', 199), ('atmospheric', 198), ('synthpop', 197), ('industrial', 195), ('beautiful', 194), ('Avant-Garde', 189), ('chill out', 179), ('instrumental hip-hop', 176), ('ninja tune', 174), ('deep house', 171), ('80s', 167), ('minimal', 165), ('france', 165), ('blues', 164), ('turntablism', 163), ('jazzy', 160), ('Progressive rock', 158), ('reggae', 157), ('breaks', 153), ('dubstep', 151), ('classic rock', 150), ('abstract hip-hop', 150), ('england', 150), ('punk rock', 146), ('hardcore', 145)]\n"
     ]
    }
   ],
   "source": [
    "cooc('trip-hop',100)"
   ]
  },
  {
   "cell_type": "raw",
   "metadata": {},
   "source": [
    "И этот тоже. Для электроники много названий поджанров являются неплохими тегами."
   ]
  },
  {
   "cell_type": "markdown",
   "metadata": {},
   "source": [
    "### Electronic: electro и electronica приравнивать к electronic, glitch к idm. Хорошие теги: ambient, breakbeat, , Disco, House, downtempo, Drum and bass, club, dub, idm, synthpop, techno, trance, trip-hop. Выбиваются из своей категории: acid jazz, hardcore, industrial, dubstep."
   ]
  },
  {
   "cell_type": "markdown",
   "metadata": {},
   "source": [
    "## Folk "
   ]
  },
  {
   "cell_type": "raw",
   "metadata": {},
   "source": [
    "Country -- это почти всегда folk, но не наоборот. С чем встречается folk:"
   ]
  },
  {
   "cell_type": "code",
   "execution_count": 95,
   "metadata": {
    "collapsed": false
   },
   "outputs": [
    {
     "name": "stdout",
     "output_type": "stream",
     "text": [
      "[('folk', 4452), ('seen live', 3207), ('rock', 2627), ('pop', 2502), ('singer-songwriter', 2477), ('indie', 2403), ('alternative', 2387), ('acoustic', 1915), ('All', 1790), ('male vocalists', 1753), ('00s', 1601), ('female vocalists', 1578), ('indie rock', 1441), ('american', 1427), ('indie pop', 1259), ('alternative rock', 1223), ('folk rock', 1188), ('chillout', 1157), ('electronic', 1121), ('USA', 1109), ('world', 1098), ('jazz', 1036), ('90s', 983), ('experimental', 975), ('female vocalist', 957), ('blues', 933), ('Mellow', 892), ('guitar', 871), ('favorites', 830), ('classic rock', 811), ('80s', 808), ('country', 803), ('spotify', 790), ('indie folk', 776), ('female', 759), ('soul', 728), ('ambient', 727), ('World Music', 724), ('pop rock', 710), ('british', 677), ('beautiful', 666), ('instrumental', 664), ('chill', 657), ('electronica', 632), ('americana', 627), ('psychedelic', 615), ('70s', 614), ('Love', 597), ('french', 574), ('Soundtrack', 573), ('Alt-country', 571), ('dance', 534), ('easy listening', 528), ('punk', 525), ('60s', 517), ('UK', 504), ('oldies', 499), ('male vocalist', 479), ('Lo-Fi', 470), ('10s', 464), ('folk-rock', 463), ('vocal', 453), ('Awesome', 444), ('latin', 442), ('Female Voices', 442), ('english', 437), ('soft rock', 434), ('funk', 431), ('Progressive rock', 430), ('female vocals', 427), ('piano', 404), ('check out', 401), ('ethnic', 400), ('Favorite', 396), ('emo', 394), ('Hip-Hop', 390), ('metal', 387), ('new wave', 377), ('hard rock', 365), ('celtic', 364), ('Fusion', 363), ('melancholy', 359), ('france', 345), ('downtempo', 343), ('trip-hop', 342), ('post-rock', 331), ('singer-songwriters', 331), ('dream pop', 330), ('Classical', 321), ('post-punk', 318), ('traditional', 316), ('lesser known yet streamable artists', 311), ('California', 309), ('melancholic', 304), ('Pop-Rock', 302), ('punk rock', 302), ('britpop', 301), ('lounge', 298), ('alternative pop', 297), ('blues rock', 295), ('spanish', 293), ('reggae', 284), ('england', 282), ('singer songwriter', 277), ('Psychedelic Rock', 276), ('electro', 272), ('female artists', 271), ('male', 270), ('sexy', 269), ('cool', 269), ('new age', 267), ('fun', 265), ('chanson', 265), ('Favourites', 265), ('Avant-Garde', 262), ('world fusion', 258), ('Canadian', 258), ('songwriter', 256), ('irish', 255), ('rap', 249), ('ethereal', 242), ('folk pop', 241), ('amazing', 230), ('female vocal', 227), ('rnb', 227), ('new york', 226), ('Progressive', 221), ('relaxing', 220), ('genius', 215), ('atmospheric', 215), ('political', 214), ('relax', 214), ('chanson francaise', 214), ('francais', 212), ('classic', 211), ('Myjukebox', 208), ('shoegaze', 207), ('hip hop', 206), ('country rock', 205), ('radioparadise', 203), ('lovely', 200), ('freak folk', 196), ('Favorite Artists', 195), ('happy', 194), ('european', 189), ('canada', 189), ('romantic', 188), ('Acoustic Rock', 186), ('ska', 185), ('soft', 184)]\n"
     ]
    }
   ],
   "source": [
    "cooc('folk', 150)"
   ]
  },
  {
   "cell_type": "raw",
   "metadata": {},
   "source": [
    "Со всем подряд, примерно в том же порядке, как встречаются самые популярные теги, разве что indie повыше. В составе каких тегов folk (поджанры обычно его содержат):"
   ]
  },
  {
   "cell_type": "code",
   "execution_count": 96,
   "metadata": {
    "collapsed": true
   },
   "outputs": [],
   "source": [
    "folk_tags = []\n",
    "\n",
    "for i in range(l_t):  \n",
    "    tag = sort_tags[i][0]      \n",
    "    if (((tag.find('folk') != -1)) or ((tag.find('Folk') != -1))):\n",
    "        folk_tags.append(sort_tags[i])"
   ]
  },
  {
   "cell_type": "code",
   "execution_count": 97,
   "metadata": {
    "collapsed": false
   },
   "outputs": [
    {
     "name": "stdout",
     "output_type": "stream",
     "text": [
      "[('folk', 4452), ('folk rock', 1347), ('indie folk', 820), ('folk-rock', 493), ('folk pop', 262), ('freak folk', 205), ('folktronica', 182), ('Alternative Folk', 166), ('neofolk', 166), ('psychedelic folk', 163), ('contemporary folk', 148), ('folk metal', 124), ('Irish Folk', 111), ('alt-folk', 110), ('celtic folk', 103), ('folklore', 96), ('folk-pop', 88), ('dark folk', 86), ('folk punk', 74), ('folk noir', 72), ('french folk', 68), ('folklore intellectuel', 66), ('psych folk', 65), ('progressive folk', 62), ('anti-folk', 56), ('traditional folk', 53), ('indie-folk', 52), ('country folk', 52), ('apocalyptic folk', 50), ('Pop Folk', 49), ('neo-folk', 48), ('experimental folk', 48), ('Folk Blues', 45), ('folky', 45), ('british folk', 44), ('folkrock', 43), ('African Folk', 42), ('italian folk', 40), ('psych-folk', 40), ('acid folk', 37), ('avant-folk', 37), ('pop-folk', 37), ('post folk core', 36), ('medieval folk', 36), ('free folk', 35), ('chamber folk', 34), ('modern folk', 34), ('dream folk', 30), ('electronic-folk', 29), ('Acoustic Folk', 29), ('World Folk', 28), ('Female folk', 26), ('Folk Music', 26), ('folk and folk plus', 25), ('Folk Jazz', 25), ('folk-punk', 25), ('alt folk', 24), ('antifolk', 24), ('jazz folk', 24), ('spanish folk', 23), ('gothic folk', 23), ('new folk', 22), ('Prog Folk', 22), ('queer as folk', 21), ('Latin folk', 21), ('neo folk', 20), ('folk-country', 20), ('good ole homely country folk playing banjo yodeling', 20), ('folksy', 20), ('english folk', 19), ('scottish folk', 18), ('balkan folk', 17), ('country-folk', 17), ('political folk', 16), ('Classic folk', 16), ('folklore argentino', 16), ('turkish folk', 15), ('greek folk', 15), ('urban folk', 15), ('kdvs cool as folk', 15), ('pagan folk', 14), ('rock-folk', 14), ('greenwich village folk', 14), ('mexican folk', 14), ('instrumental folk', 13), ('Folk Revival', 13), ('female folkie', 13), ('Ethnic Folk', 13), ('European Folk', 12), ('folk fusion', 12), ('breton folk', 12), ('people who are freakier and folkier than motherfucking devendra banhart', 12), ('Post Folk', 12), ('anti folk', 12), ('Indian Folk', 12), ('american folk', 12), ('new wave of british folk', 12), ('folk-hop', 11), ('folk-dance', 11), ('Interesting Folk', 11)]\n"
     ]
    }
   ],
   "source": [
    "print(folk_tags[:100])"
   ]
  },
  {
   "cell_type": "raw",
   "metadata": {},
   "source": [
    "Можно выделить отдельно 'folk rock' с 'folk-rock' и, возможно, 'indie folk'. А вообще не очень понятно, можно тот folk, который отметили country, отправлять в country, а оставшееся так и оставить folk."
   ]
  },
  {
   "cell_type": "markdown",
   "metadata": {},
   "source": [
    "### Folk: можно выделить folk rock и indie folk. С country встречается вместе нечасто."
   ]
  },
  {
   "cell_type": "markdown",
   "metadata": {},
   "source": [
    "##Hip hop"
   ]
  },
  {
   "cell_type": "raw",
   "metadata": {},
   "source": [
    "Поджанры содержат в названии hip hop либо rap. С чем встречается hip hop:"
   ]
  },
  {
   "cell_type": "code",
   "execution_count": 100,
   "metadata": {
    "collapsed": false
   },
   "outputs": [
    {
     "name": "stdout",
     "output_type": "stream",
     "text": [
      "[('Hip-Hop', 3758), ('rap', 2494), ('hip hop', 2480), ('seen live', 2430), ('electronic', 1745), ('pop', 1696), ('american', 1437), ('alternative', 1430), ('rock', 1403), ('All', 1381), ('dance', 1260), ('indie', 1196), ('soul', 1179), ('male vocalists', 1112), ('hiphop', 1106), ('electronica', 1087), ('funk', 1051), ('rnb', 1048), ('underground hip-hop', 1002), ('00s', 965), ('chillout', 941), ('USA', 885), ('female vocalists', 863), ('90s', 859), ('jazz', 834), ('experimental', 777), ('spotify', 765), ('electro', 730), ('singer-songwriter', 714), ('trip-hop', 696), ('french', 630), ('underground rap', 625), ('r&b', 610), ('House', 597), ('urban', 590), ('reggae', 588), ('chill', 570), ('alternative rock', 558), ('downtempo', 557), ('punk', 557), ('80s', 531), ('instrumental', 502), ('underground', 501), ('metal', 501), ('ambient', 499), ('underground hip hop', 482), ('indie rock', 472), ('british', 471), ('sexy', 448), ('new york', 435), ('techno', 425), ('Gangsta Rap', 417), ('UK', 410), ('hardcore', 410), ('funky', 407), ('lounge', 404), ('female vocalist', 395), ('alternative rap', 394), ('folk', 390), ('favorites', 389), ('rhythm and blues', 380), ('hard rock', 380), ('female', 378), ('Love', 377), ('classic rock', 366), ('punk rock', 364), ('dub', 364), ('indie pop', 361), ('acid jazz', 352), ('old school', 343), ('east coast rap', 340), ('Soundtrack', 338), ('alternative hip-hop', 338), ('groove', 337), ('breakbeat', 335), ('r and b', 334), ('beats', 330), ('psychedelic', 330), ('emo', 327), ('french rap', 324), ('acoustic', 318), ('California', 316), ('new wave', 312), ('idm', 301), ('world', 300), ('rap francais', 299), ('nu jazz', 297), ('Fusion', 297), ('pop rock', 296), ('Neo-Soul', 290), ('East Coast', 289), ('latin', 287), ('hardcore rap', 287), ('english', 283), ('Awesome', 280), ('blues', 274), ('Disco', 274), ('trip hop', 274), ('Progressive rock', 268), ('french hip-hop', 267), ('trance', 266), ('electropop', 264), ('france', 261), ('Jazz Hop', 260), ('smooth', 256), ('Drum and bass', 256), ('instrumental hip-hop', 255), ('east coast hip-hop', 248), ('dancehall', 244), ('10s', 242), ('dubstep', 240), ('german', 240), ('cool', 240), ('fun', 238), (\"r'n'b\", 236), ('male vocalist', 234), ('Dirty South', 230), ('Neo Soul', 229), ('club', 228), ('Mellow', 225), ('heavy metal', 223), ('turntablism', 219), ('abstract hip-hop', 211), ('industrial', 206), ('post-punk', 204), ('70s', 204), ('easy listening', 198), ('party', 193), ('political', 192), ('beautiful', 188), ('japanese', 187), ('post-rock', 186), ('Real hip-hop', 186), ('oldies', 185), ('Favorite', 184), ('nu-jazz', 184), ('dj', 183), ('underrated', 183), ('Need to Rate', 183), ('shit', 182), ('Officially Shit', 181), ('gay', 178), ('NYC', 178), ('synthpop', 177), ('male', 177), ('britpop', 176), ('bass', 174), ('west coast', 174), ('Grime', 173), ('ska', 172)]\n"
     ]
    }
   ],
   "source": [
    "cooc('Hip-Hop', 150)"
   ]
  },
  {
   "cell_type": "raw",
   "metadata": {},
   "source": [
    "То R&B, которое встречается с Hip-Hop и аналогичным, стоит относить к нему (то, что с блюзом -- к блюзу). Следующие варианты написания:\n",
    "Hip-Hop, hip hop, hiphop, плюс rap, soul, rnb, r&b и варианты. Что содержит в названии hip hop:"
   ]
  },
  {
   "cell_type": "code",
   "execution_count": 102,
   "metadata": {
    "collapsed": false
   },
   "outputs": [],
   "source": [
    "hh_tags = []\n",
    "\n",
    "for i in range(l_t):  \n",
    "    tag = sort_tags[i][0]      \n",
    "    if (((tag.find('hip hop') != -1)) or ((tag.find('hiphop') != -1))):\n",
    "        hh_tags.append(sort_tags[i])"
   ]
  },
  {
   "cell_type": "code",
   "execution_count": 103,
   "metadata": {
    "collapsed": false
   },
   "outputs": [
    {
     "name": "stdout",
     "output_type": "stream",
     "text": [
      "[('hip hop', 2842), ('hiphop', 1175), ('underground hip hop', 492), ('French hip hop', 176), ('alternative hip hop', 145), ('underground hiphop', 132), ('instrumental hip hop', 110), ('abstract hip hop', 103), ('east coast hip hop', 100), ('real hip hop', 90), ('german hiphop', 75), ('UK hip hop', 67), ('experimental hip hop', 56), ('hardcore hip hop', 56), ('francophone hip hop', 56), ('hiphopfrlab', 55), ('German hip hop', 54), ('hip hop and rap', 52), ('this shit is killing hip hop', 52), ('hip hop francais', 51), ('west coast hip hop', 45), ('jazzy hip hop', 43), ('deutscher hiphop', 33), ('french hiphop', 29), ('hip hop soul', 28), ('east coast hiphop', 28), ('hip hop french', 25), ('hip hop tuga', 21), ('mixed-hip hop', 20), ('spanish hip hop', 18), ('swedish hiphop', 18), ('uk hiphop', 17), ('jazz hip hop', 17), ('hip hop 90s', 16), ('hip hop : underground', 16), ('France hip hop', 15), ('jazz hiphop', 15), ('Christian hip hop', 14), ('funky hip hop', 14), ('hip hop rap', 13), ('Most Listened to hip hop', 13), ('old skool hip hop', 12), ('latin hip hop', 12), ('hiphop i like', 11), ('canadian hip hop', 11), ('female hip hop', 10), ('j-hiphop', 10), ('foreign hip hop', 10), ('Aussie hip hop', 10), ('australian hip hop', 10), ('pjhiphop', 10), ('west coast hiphop', 9), ('independent hip hop', 9), ('electronic hip hop', 8), ('Abstract hiphop', 8), ('hiphopz', 7), ('Polish hip hop', 7), ('undergroundhiphop', 7), ('sphere of hiphop', 7), ('westcoasthiphop', 6), ('hiphop deutsch', 6), ('spain hip hop', 6), ('oldschool hiphop', 6), ('industrial hip hop', 6), ('midwest hip hop', 6), ('hip hop francophone', 6), ('progressive hip hop', 6), ('real hiphop', 6), ('hiphopgdchill', 6), ('chill hiphop', 6), ('hip hop feinkost', 5), ('favorite hip hop', 5), ('k-hiphop', 5), ('jazzy hiphop', 5), ('african hip hop', 5), ('hip hopindie rock', 5), ('detroit hip hop', 5), ('psychedelic hip hop', 5), ('hip hop spain', 5), ('electro hiphop', 5), ('golden age hip hop', 5), ('rap hip hop', 5), ('instrumental hiphop', 5), ('j-hip hop', 4), ('oldskool hiphop', 4), ('old school hiphop', 4), ('italian hiphop', 4), ('soulful hip hop', 4), ('hip hop : gangsta', 4), ('spanish hiphop', 4), ('svensk hiphop', 4), ('Dutch hiphop', 4), ('Japanese hip hop', 4), ('portuguese hip hop', 4), ('oldschool hip hop', 4), ('comedy hip hop', 4), ('Mix of hip hop and pop', 4), ('hip hop for respect', 4), ('guterdehiphop', 3), ('westcoast hip hop', 3)]\n"
     ]
    }
   ],
   "source": [
    "print(hh_tags[:100])"
   ]
  },
  {
   "cell_type": "raw",
   "metadata": {},
   "source": [
    "Достаточно популярные теги можно объединить. С rap может быть сложнее:"
   ]
  },
  {
   "cell_type": "code",
   "execution_count": 104,
   "metadata": {
    "collapsed": true
   },
   "outputs": [],
   "source": [
    "rap_tags = []\n",
    "\n",
    "for i in range(l_t):  \n",
    "    tag = sort_tags[i][0]      \n",
    "    if (((tag.find('rap') != -1)) or ((tag.find('Rap') != -1))):\n",
    "        rap_tags.append(sort_tags[i])"
   ]
  },
  {
   "cell_type": "code",
   "execution_count": 105,
   "metadata": {
    "collapsed": false
   },
   "outputs": [
    {
     "name": "stdout",
     "output_type": "stream",
     "text": [
      "[('rap', 2867), ('underground rap', 645), ('Gangsta Rap', 438), ('alternative rap', 397), ('french rap', 368), ('rap francais', 353), ('Crap', 346), ('east coast rap', 344), ('hardcore rap', 289), ('rapcore', 217), ('southern rap', 161), ('trap', 160), ('West Coast Rap', 143), ('Rap FR', 131), ('old school rap', 129), ('rap rock', 114), ('pop rap', 105), ('hip-hop and rap', 88), ('rap metal', 86), ('jazz rap', 84), ('Deutschrap', 82), ('Conscious Rap', 81), ('Rap US', 78), ('indie rap', 68), ('political rap', 67), ('ponyrape', 60), ('rap concret', 56), ('german rap', 56), ('hip hop and rap', 52), ('rap conscient', 50), ('white rap', 47), ('Rap and Hip-Hop', 46), ('Rap-Rock', 46), ('oldschool rap', 46), ('female rap', 45), ('jazz-rap', 45), ('female rapper', 45), ('non-us rap', 42), ('trap rap', 42), ('New York Rap', 39), ('photographed', 38), ('pop-rap', 37), ('midwest rap', 37), ('Rapper', 36), ('real rap', 36), ('New Soul - Hip Hop - Rap', 35), ('Rap and Hip Hop', 33), ('Deutsch Rap', 32), ('rap hardcore', 32), ('underappreciated', 32)]\n"
     ]
    }
   ],
   "source": [
    "print(rap_tags[:50])"
   ]
  },
  {
   "cell_type": "raw",
   "metadata": {},
   "source": [
    "Поджанров рока (rap rock, rap metal) совсем немного -- возможно, можно всё, содержащее rap, объединять, кроме тегов, где это не жанр, а часть слова: ponyrape, photographed, underappreciated."
   ]
  },
  {
   "cell_type": "markdown",
   "metadata": {},
   "source": [
    "###Hip-hop: теги, содержащие hip hop/hiphop/rap/Rap, плюс варианты rnb, которые встречаются с hip hop и аналогичными тегами."
   ]
  },
  {
   "cell_type": "markdown",
   "metadata": {},
   "source": [
    "##Jazz"
   ]
  },
  {
   "cell_type": "raw",
   "metadata": {},
   "source": [
    "В поджанрах названия содержат в себе слово jazz плюс следующие: \n",
    "Bebop\n",
    "Boogie-woogie\n",
    "Bossa nova\n",
    "Free funk\n",
    "Free improvisation\n",
    "Livetronica\n",
    "M-Base\n",
    "Novelty ragtime\n",
    "Post-bop\n",
    "Ragtime\n",
    "Swing\n",
    "\n",
    "С учётом эрудиции пользователей last.fm ставлю на то, что только bossa nova будет более-менее популярна. \n",
    "\n",
    "С чем встречается jazz:"
   ]
  },
  {
   "cell_type": "code",
   "execution_count": 108,
   "metadata": {
    "collapsed": false
   },
   "outputs": [
    {
     "name": "stdout",
     "output_type": "stream",
     "text": [
      "[('jazz', 4851), ('seen live', 2704), ('pop', 2099), ('All', 2053), ('rock', 1949), ('soul', 1909), ('funk', 1748), ('american', 1685), ('alternative', 1604), ('electronic', 1579), ('chillout', 1578), ('female vocalists', 1491), ('instrumental', 1436), ('singer-songwriter', 1332), ('indie', 1326), ('male vocalists', 1249), ('USA', 1220), ('blues', 1207), ('00s', 1136), ('lounge', 1127), ('electronica', 1097), ('90s', 1042), ('folk', 1036), ('dance', 1020), ('experimental', 1008), ('spotify', 991), ('acoustic', 989), ('acid jazz', 950), ('80s', 947), ('easy listening', 888), ('70s', 887), ('Fusion', 853), ('downtempo', 851), ('ambient', 839), ('Hip-Hop', 834), ('chill', 829), ('world', 822), ('60s', 810), ('oldies', 806), ('female vocalist', 802), ('funky', 792), ('rnb', 766), ('classic rock', 741), ('trip-hop', 734), ('groove', 688), ('female', 679), ('piano', 661), ('vocal', 660), ('latin', 650), ('alternative rock', 641), ('nu jazz', 635), ('Soundtrack', 634), ('swing', 629), ('Smooth Jazz', 620), ('british', 612), ('guitar', 608), ('hip hop', 592), ('House', 588), ('Mellow', 572), ('Myjukebox', 569), ('rhythm and blues', 564), ('electro', 556), ('french', 551), ('indie rock', 549), ('favorites', 541), ('psychedelic', 532), ('sexy', 525), ('rap', 519), ('UK', 519), ('r&b', 494), ('jazz fusion', 493), ('World Music', 491), ('nu-jazz', 481), ('indie pop', 476), ('vocal jazz', 455), ('Love', 449), ('smooth', 445), ('Female Voices', 439), ('contemporary jazz', 438), ('Progressive rock', 428), ('beautiful', 425), ('groovy', 416), ('Disco', 413), ('punk', 404), ('jazzy', 403), ('cool', 403), ('50s', 397), ('Avant-Garde', 395), ('metal', 383), ('Classical', 379), ('Bossa Nova', 374), ('reggae', 363), ('male vocalist', 362), ('pop rock', 362), ('new wave', 358), ('lesser known yet streamable artists', 358), ('english', 349), ('saxophone', 344), ('hard rock', 344), ('techno', 342), ('jazz vocal', 341), ('female vocals', 334), ('composer', 321), ('Neo-Soul', 319), ('france', 311), ('trip hop', 306), ('male', 303), ('10s', 300), ('jecks', 295), ('dub', 291), ('California', 289), ('Progressive', 288), ('new york', 288), ('Awesome', 283), ('classic', 280), ('country', 275), ('jazz funk', 274), ('urban', 268), ('jazz piano', 267), ('idm', 265), ('bass', 264), ('breakbeat', 261), ('jazz-funk', 257), ('soft rock', 255), ('Need to Rate', 253), ('hiphop', 252), ('Big Band', 249), ('check out', 244), ('Favorite', 244), ('underground hip-hop', 244), ('folk rock', 240), ('world fusion', 239), ('brazilian', 237), ('blues rock', 235), ('emo', 231), ('relax', 230), ('female vocal', 228), ('german', 227), ('england', 227), ('hardcore', 227), ('latin jazz', 226), ('punk rock', 225), ('post-rock', 224), ('beats', 222), ('romantic', 221), ('Drum and bass', 220), ('Lo-Fi', 217), ('fun', 217), ('trance', 215), ('Neo Soul', 215), ('free jazz', 214), ('relaxing', 213), ('Jazz Rock', 210), ('european', 209), ('trumpet', 209), ('brazil', 205), ('new age', 205), ('ethnic', 204), ('brasil', 204), ('40s', 203), ('Jazz Hop', 202), ('chill out', 202), ('bebop', 201), ('post-punk', 199), ('r and b', 196), ('motown', 194), ('spanish', 194), ('Retro', 192), ('italian', 190), ('britpop', 190), ('chanson', 188), ('genius', 185), ('Mondiovision', 183), ('Rock and Roll', 182), ('deep house', 182), ('electropop', 180), ('americana', 180), ('synthpop', 178), ('club', 175), ('Psychedelic Rock', 173), ('nujazz', 173), ('japanese', 170), ('ska', 169), ('Canadian', 166), ('african', 164), ('future jazz', 163), ('Post-Bop', 162), ('mpb', 162), ('Favourites', 162), ('Hard Bop', 161), ('female artists', 161), ('contemporary classical', 160), ('minimal', 159), ('diva', 158), ('amazing', 156), ('guitar virtuoso', 155), ('Pop-Rock', 155), ('ninja tune', 154), ('francais', 154), ('chanson francaise', 153)]\n"
     ]
    }
   ],
   "source": [
    "cooc('jazz', 200)"
   ]
  },
  {
   "cell_type": "raw",
   "metadata": {},
   "source": [
    "Больше всего -- с самим собой, потом идёт обычный набор популярных тегов плюс soul, funk, chillout повыше. В каких тегах встречается jazz:"
   ]
  },
  {
   "cell_type": "code",
   "execution_count": 109,
   "metadata": {
    "collapsed": true
   },
   "outputs": [],
   "source": [
    "jazz_tags = []\n",
    "\n",
    "for i in range(l_t):  \n",
    "    tag = sort_tags[i][0]      \n",
    "    if (((tag.find('jazz') != -1)) or ((tag.find('Jazz') != -1))):\n",
    "        jazz_tags.append(sort_tags[i])"
   ]
  },
  {
   "cell_type": "code",
   "execution_count": 111,
   "metadata": {
    "collapsed": false
   },
   "outputs": [
    {
     "name": "stdout",
     "output_type": "stream",
     "text": [
      "[('jazz', 4851), ('acid jazz', 1152), ('nu jazz', 821), ('Smooth Jazz', 691), ('nu-jazz', 536), ('jazz fusion', 529), ('jazzy', 500), ('vocal jazz', 475), ('contemporary jazz', 448), ('jazz vocal', 347), ('jazz funk', 308), ('jazz-funk', 288), ('Jazz Hop', 284), ('jazz piano', 277), ('latin jazz', 256), ('Jazz Rock', 247), ('free jazz', 236), ('future jazz', 195), ('nujazz', 186), ('modern jazz', 137), ('soul jazz', 128), ('cool jazz', 128), ('piano jazz', 119), ('jazz guitar', 115), ('funky jazz', 110), ('soul-jazz', 106), ('jazz-rock', 100), ('Avant-Garde Jazz', 98), ('classic jazz', 98), ('jazzy flavoured', 94), ('Jazzapedia', 93), ('Electrojazz', 89), ('jazz rap', 84), ('uutta jazzia', 82), ('Jazzy vibes', 79), ('electronic lounge jazz', 79), ('jazz-trip', 78), ('lounge jazz vibe', 76), ('acid jazz vibe', 76), ('uutta jazziz', 75), ('jazz-hop', 75), ('uuta jazzia', 75), ('jazz vocalists', 74), ('nu-jazz vibe', 73), ('nu jazz vibe', 73), ('future jazz vibe', 72), ('jazzy trip', 72), ('nujazz vibe', 72), ('jazz instrumental', 69), ('jazzy downtempo vibe', 69), ('jazzy down-tempo vibe', 69), ('jazzy down tempo vibe', 68), ('female jazz vocalist', 67), ('jazz saxophone', 66), ('Swing Jazz', 66), ('Instrumental Jazz Tag', 63), ('jazzy female vocal', 63), ('jazz-fusion', 62), ('fusion jazz', 62), ('World jazz', 60), ('gypsy jazz', 58), ('jazz vocals', 56), ('avant-jazz', 56), ('crossover jazz', 55), ('progressive jazz', 54), ('jazz pop', 50), ('experimental jazz', 50), ('new jazz', 49), ('Mainstream Jazz', 49), ('Acid-Jazz', 49), ('Female jazz vocalists', 49), ('Electro-Jazz', 48), ('jazz-rap', 45), ('pop jazz', 44), ('jazz trumpet', 44), ('jazz blues', 44), ('Jazz Divas', 43), ('jazzy hip hop', 43), ('Easy Jazz', 43), ('instrumental jazz', 42), ('SOLOMUSIKA-Jazz', 42), ('Brazilian Jazz', 41), ('jazz vocalist', 41), ('latinjazz', 40), ('acid nu jazz', 39), ('souljazz', 38), ('e-jazz', 38), ('jazz-instrumental', 37), ('MJ-Smmmooth Jazz', 36), ('jazz orchestra', 36), ('French jazz', 35), ('jazz trio', 35), ('jazz moderne', 35), ('female jazz vocal', 34), ('Modernjazz', 34), ('jazz sax', 34), ('female jazz', 33), ('jazz manouche', 33), ('Electronic Jazz', 33), ('Female Jazz Singers', 31)]\n"
     ]
    }
   ],
   "source": [
    "print(jazz_tags[:100])"
   ]
  },
  {
   "cell_type": "raw",
   "metadata": {},
   "source": [
    "Всё можно отправлять в jazz. Поджанры с Вики:"
   ]
  },
  {
   "cell_type": "code",
   "execution_count": 113,
   "metadata": {
    "collapsed": false
   },
   "outputs": [
    {
     "name": "stdout",
     "output_type": "stream",
     "text": [
      "[('Bossa Nova', 478), ('jazz', 374), ('latin', 253), ('pop', 237), ('chillout', 232), ('seen live', 230), ('lounge', 230), ('brazilian', 224), ('female vocalists', 213), ('brasil', 203), ('world', 197), ('All', 196), ('brazil', 195), ('mpb', 177), ('samba', 166), ('electronic', 157), ('alternative', 150), ('funk', 147), ('singer-songwriter', 147), ('downtempo', 142), ('rock', 138), ('easy listening', 135), ('instrumental', 133), ('00s', 130), ('soul', 126), ('indie', 126), ('World Music', 122), ('acid jazz', 119), ('latin jazz', 114), ('folk', 114), ('dance', 111), ('female vocalist', 111), ('electronica', 111), ('chill', 109), ('70s', 109), ('90s', 106), ('Myjukebox', 105), ('nu jazz', 103), ('male vocalists', 103), ('acoustic', 102), ('Smooth Jazz', 102), ('60s', 101), ('female', 101), ('spotify', 100), ('lusofonia', 97), ('nu-jazz', 95), ('Fusion', 95), ('80s', 92), ('groove', 88), ('guitar', 88), ('brazilian music', 87), ('trip-hop', 87), ('ambient', 86), ('piano', 84), ('experimental', 83), ('bossa', 79), ('Female Voices', 78), ('vocal', 72), ('House', 72), ('sexy', 69), ('blues', 68), ('Mellow', 67), ('funky', 67), ('jazzy', 65), ('american', 64), ('french', 63), ('vocal jazz', 61), ('cool', 61), ('portuguese', 58), ('Bossanova', 57), ('brasileira', 56), ('Hip-Hop', 55), ('swing', 55), ('musica popular brasileira', 55), ('musica brasileira', 55), ('10s', 52), ('smooth', 52), ('female vocals', 51), ('Soundtrack', 50), ('psychedelic', 48), ('classic rock', 48), ('jazz fusion', 48), ('jazz vocal', 48), ('Disco', 47), ('Love', 47), ('electro', 46), ('saxophone', 46), ('USA', 46), ('reggae', 46), ('trip hop', 45), ('oldies', 45), ('lesser known yet streamable artists', 45), ('favorites', 44), ('composer', 44), ('latin america', 43), ('alternative rock', 43), ('female vocal', 42), ('nujazz', 42), ('contemporary jazz', 42), ('rio de janeiro', 41), ('Awesome', 41), ('relax', 39), ('beautiful', 38), ('indie rock', 38), ('romantic', 38), ('indie pop', 38), ('vi ao vivo', 37), ('relaxing', 35), ('chill out', 35), ('Brazilian Jazz', 35), ('jazz piano', 34), ('rnb', 34), ('techno', 34), ('trumpet', 34), ('bebop', 33), ('groovy', 33), ('jazz-funk', 32), ('Brazilian Pop', 32), ('spanish', 31), ('ethnic', 31), ('german', 31), ('latino', 31), ('chill906', 31), ('breakbeat', 31), ('chanson', 30), ('Classical', 30), ('50s', 30), ('world fusion', 30), ('cantora', 30), ('jazz funk', 30), ('Nacional', 29), ('dub', 29), ('new wave', 29), ('hip hop', 29), ('pop rock', 29), ('r&b', 28), ('classic', 27), ('Drum and bass', 27), ('Chillosophy', 27), ('brasileiro', 27), ('france', 27), ('latina', 27), ('California', 26), ('italian', 26), ('divas international', 25), ('rap', 25), ('metal', 25), ('musica latina', 25), ('tropicalia', 25), ('hard rock', 24)]\n"
     ]
    }
   ],
   "source": [
    "cooc('Bossa Nova', 150)"
   ]
  },
  {
   "cell_type": "raw",
   "metadata": {},
   "source": [
    "Bossa Nova почти всегда джаз и можно туда и относить. Плюс часто Бразилия. Проверка эрудиции на других поджанрах:"
   ]
  },
  {
   "cell_type": "code",
   "execution_count": 114,
   "metadata": {
    "collapsed": false
   },
   "outputs": [
    {
     "name": "stdout",
     "output_type": "stream",
     "text": [
      "[('bebop', 204), ('jazz', 201), ('american', 129), ('instrumental', 122), ('blues', 106), ('Hard Bop', 105), ('All', 101), ('swing', 95), ('saxophone', 92), ('USA', 91), ('Smooth Jazz', 87), ('piano', 86), ('Fusion', 84), ('seen live', 81), ('funk', 81), ('60s', 78), ('jazz piano', 73), ('soul', 65), ('cool jazz', 64), ('contemporary jazz', 64), ('jazz fusion', 59), ('50s', 59), ('bop', 56), ('70s', 56), ('Post-Bop', 56), ('trumpet', 52), ('classic jazz', 51), ('free jazz', 50), ('latin', 46), ('blue note', 43), ('spotify', 41), ('piano jazz', 41), ('lounge', 40), ('Blue Note Records', 40), ('sax', 40), ('Big Band', 38), ('Tenor Sax', 36), ('latin jazz', 35), ('acid jazz', 34), ('experimental', 34), ('jazz saxophone', 34), ('Mainstream Jazz', 34), ('Bossa Nova', 33), ('Myjukebox', 33), ('cool', 33), ('40s', 33), ('alternative', 32), ('world', 32), ('rock', 32), ('composer', 32)]\n"
     ]
    }
   ],
   "source": [
    "cooc('bebop', 50)"
   ]
  },
  {
   "cell_type": "code",
   "execution_count": 120,
   "metadata": {
    "collapsed": false
   },
   "outputs": [
    {
     "name": "stdout",
     "output_type": "stream",
     "text": [
      "[('boogie woogie', 64), ('blues', 49), ('All', 40), ('jazz', 40), ('american', 37), ('boogie', 33), ('rhythm and blues', 30), ('oldies', 29), ('piano', 29), ('50s', 25), ('USA', 25), ('male vocalists', 25), ('spotify', 24), ('Rock and Roll', 24), ('swing', 23), ('piano blues', 21), ('rnb', 21), ('soul', 20), ('40s', 19), ('rock', 19), ('60s', 18), ('male vocalist', 17), ('pop', 16), ('rockabilly', 16), ('seen live', 15), ('jump blues', 14), ('Classic Blues', 14), ('r&b', 14), ('30s', 14), ('rhythm & blues', 14), ('Myjukebox', 13), ('vocal', 12), ('rock n roll', 12), ('classic rock', 11), ('singer-songwriter', 11), ('female vocalists', 11), ('New Orleans', 11), ('Big Band', 11), (\"Rock 'n' Roll\", 10), ('elmolewis42', 10), ('70s', 10), ('Need to Rate', 10), ('80s', 10), ('Swing Jazz', 9), ('country', 8), ('blues rock', 8), ('jazz piano', 8), ('boogie-woogie', 7), ('everything', 7), ('delta blues', 7)]\n"
     ]
    }
   ],
   "source": [
    "cooc('boogie woogie', 50)"
   ]
  },
  {
   "cell_type": "raw",
   "metadata": {},
   "source": [
    "Free funk нет, а просто funk гораздо шире:"
   ]
  },
  {
   "cell_type": "code",
   "execution_count": 123,
   "metadata": {
    "collapsed": false
   },
   "outputs": [
    {
     "name": "stdout",
     "output_type": "stream",
     "text": [
      "[('funk', 3356), ('seen live', 2058), ('soul', 2033), ('pop', 1760), ('jazz', 1748), ('rock', 1641), ('electronic', 1520), ('All', 1461), ('american', 1366), ('alternative', 1275), ('dance', 1257), ('male vocalists', 1114), ('indie', 1069), ('Hip-Hop', 1051), ('funky', 1048), ('electronica', 1020), ('rnb', 1012), ('chillout', 1009), ('USA', 1000), ('female vocalists', 910), ('80s', 897), ('90s', 889), ('00s', 859), ('hip hop', 813), ('70s', 807), ('acid jazz', 805), ('singer-songwriter', 789), ('groove', 758), ('Disco', 736), ('instrumental', 725), ('House', 719), ('blues', 718), ('experimental', 709), ('spotify', 688), ('rap', 688), ('electro', 682), ('rhythm and blues', 662), ('lounge', 662), ('r&b', 653), ('downtempo', 624), ('Fusion', 613), ('oldies', 591), ('classic rock', 574), ('acoustic', 547), ('chill', 545), ('trip-hop', 540), ('60s', 528), ('alternative rock', 518), ('ambient', 485), ('british', 482)]\n"
     ]
    }
   ],
   "source": [
    "cooc('funk', 50)"
   ]
  },
  {
   "cell_type": "code",
   "execution_count": 125,
   "metadata": {
    "collapsed": false
   },
   "outputs": [
    {
     "name": "stdout",
     "output_type": "stream",
     "text": [
      "[('free improvisation', 33), ('experimental', 29), ('seen live', 27), ('Avant-Garde', 24), ('jazz', 21), ('american', 18), ('improvisation', 18), ('free jazz', 17), ('instrumental', 15), ('electronic', 15), ('rock', 15), ('All', 15), ('avantgarde', 15), ('noise', 14), ('Avant-Garde Jazz', 14), ('avant-jazz', 12), ('ambient', 12), ('psychedelic', 10), ('indie', 10), ('guitar', 10), ('alternative', 10), ('spotify', 10), ('USA', 10), ('Fusion', 10), ('contemporary jazz', 10), ('composer', 9), ('avant garde', 9), ('pop', 9), ('alternative rock', 8), ('electroacoustic', 8), ('electronica', 8), ('contemporary classical', 8), ('90s', 8), ('lesser known yet streamable artists', 8), ('saxophone', 7), ('genius', 7), ('00s', 7), ('folk', 7), ('improv', 7), ('experimental jazz', 7), ('musique concrete', 6), ('Contemporary', 6), ('modern composition', 6), ('emd', 6), ('drone', 6), ('Classical', 6), ('minimal', 6), ('check out', 6), ('Progressive rock', 6), ('punk', 6)]\n"
     ]
    }
   ],
   "source": [
    "cooc('free improvisation', 50)"
   ]
  },
  {
   "cell_type": "code",
   "execution_count": 126,
   "metadata": {
    "collapsed": false
   },
   "outputs": [
    {
     "name": "stdout",
     "output_type": "stream",
     "text": [
      "[('improvisation', 69), ('jazz', 54), ('seen live', 53), ('experimental', 42), ('instrumental', 39), ('Avant-Garde', 35), ('All', 32), ('american', 29), ('rock', 26), ('free jazz', 25), ('Fusion', 24), ('contemporary jazz', 23), ('jazz fusion', 22), ('ambient', 20), ('alternative', 20), ('Avant-Garde Jazz', 20), ('electronic', 19), ('composer', 18), ('free improvisation', 18), ('Classical', 17), ('USA', 17), ('spotify', 16), ('avantgarde', 16), ('world', 16), ('avant-jazz', 16), ('funk', 16), ('pop', 16), ('psychedelic', 15), ('electronica', 15), ('piano', 14), ('90s', 14), ('folk', 14), ('contemporary classical', 14), ('indie', 14), ('noise', 14), ('guitar', 14), ('Soundtrack', 14), ('World Music', 14), ('Post-Bop', 14), ('00s', 14), ('blues', 13), ('chillout', 13), ('Progressive rock', 13), ('Progressive', 12), ('lesser known yet streamable artists', 12), ('saxophone', 11), ('jazz piano', 11), ('genius', 11), ('experimental jazz', 11), ('acoustic', 11)]\n"
     ]
    }
   ],
   "source": [
    "cooc('improvisation', 50)"
   ]
  },
  {
   "cell_type": "code",
   "execution_count": 134,
   "metadata": {
    "collapsed": false
   },
   "outputs": [
    {
     "name": "stdout",
     "output_type": "stream",
     "text": [
      "[('ragtime', 40), ('jazz', 28), ('american', 27), ('All', 26), ('blues', 21), ('swing', 19), ('piano', 17), ('oldies', 15), ('USA', 14), ('30s', 13), ('instrumental', 13), ('americana', 12), ('1920s', 11), ('folk', 11), ('spotify', 11), ('male vocalists', 11), ('dixieland', 10), ('classic jazz', 10), ('seen live', 10), ('Big Band', 9), ('composer', 9), ('guitar', 9), ('20s', 9), ('Soundtrack', 9), ('New Orleans', 9), ('pop', 9), ('acoustic', 9), ('Early Jazz', 8), ('singer-songwriter', 8), ('jazz piano', 8), ('country', 7), ('Jazzapedia', 7), ('1930s', 7), ('lesser known yet streamable artists', 7), ('40s', 7), ('Myjukebox', 7), ('vocal', 6), ('jazz greatest', 6), ('70s', 6), ('Classical', 6), ('rock', 6), ('easy listening', 6), ('traditional jazz', 6), ('coffee and cigarettes', 6), ('acoustic blues', 6), ('country blues', 5), ('folk rock', 5), ('alternative', 5), ('male vocalist', 5), ('dixieland jazz', 5)]\n"
     ]
    }
   ],
   "source": [
    "cooc('ragtime', 50)"
   ]
  },
  {
   "cell_type": "code",
   "execution_count": 135,
   "metadata": {
    "collapsed": false
   },
   "outputs": [
    {
     "name": "stdout",
     "output_type": "stream",
     "text": [
      "[('swing', 710), ('jazz', 629), ('All', 409), ('american', 347), ('seen live', 300), ('pop', 299), ('oldies', 296), ('blues', 270), ('USA', 256), ('easy listening', 230), ('male vocalists', 227), ('soul', 220), ('female vocalists', 208), ('instrumental', 206), ('rock', 206), ('50s', 203), ('vocal', 196), ('60s', 192), ('Big Band', 192), ('spotify', 180), ('lounge', 180), ('vocal jazz', 175), ('Myjukebox', 169), ('funk', 155), ('40s', 149), ('singer-songwriter', 146), ('jazz vocal', 145), ('alternative', 144), ('Smooth Jazz', 142), ('80s', 138), ('70s', 134), ('chillout', 130), ('piano', 125), ('electronic', 125), ('Soundtrack', 122), ('classic rock', 122), ('00s', 117), ('female vocalist', 113), ('dance', 109), ('indie', 109), ('female', 107), ('male', 105), ('30s', 103), ('90s', 102), ('folk', 97), ('bebop', 95), ('jazz piano', 91), ('male vocalist', 91), ('rhythm and blues', 90), ('acoustic', 90)]\n"
     ]
    }
   ],
   "source": [
    "cooc('swing', 50)"
   ]
  },
  {
   "cell_type": "raw",
   "metadata": {},
   "source": [
    "Вот swing популярен, остальные мало. Теги выше (кроме funk) можно объединить с jazz"
   ]
  },
  {
   "cell_type": "markdown",
   "metadata": {},
   "source": [
    "###Jazz: теги, содержащии в названии jazz плюс Bossa Nova и swing из популярных тегов и следующие малопопулярные: bebop, boogie woogie, (free) improvisation, ragtime."
   ]
  },
  {
   "cell_type": "markdown",
   "metadata": {},
   "source": [
    "##Latin"
   ]
  },
  {
   "cell_type": "raw",
   "metadata": {},
   "source": [
    "С чем встречается latin:"
   ]
  },
  {
   "cell_type": "code",
   "execution_count": 139,
   "metadata": {
    "collapsed": false
   },
   "outputs": [
    {
     "name": "stdout",
     "output_type": "stream",
     "text": [
      "[('latin', 1723), ('seen live', 924), ('pop', 906), ('All', 857), ('world', 719), ('spanish', 719), ('rock', 682), ('male vocalists', 663), ('jazz', 650), ('00s', 606), ('alternative', 535), ('female vocalists', 531), ('90s', 530), ('dance', 482), ('singer-songwriter', 475), ('electronic', 450), ('folk', 442), ('80s', 430), ('World Music', 421), ('chillout', 401), ('indie', 398), ('funk', 388), ('soul', 387), ('spotify', 379), ('latino', 368), ('instrumental', 333), ('acoustic', 332), ('lounge', 331), ('70s', 326), ('Fusion', 319), ('guitar', 308), ('latin pop', 305), ('Hip-Hop', 287), ('electronica', 283), ('10s', 277), ('brazilian', 273), ('brasil', 256), ('Bossa Nova', 253), ('español', 248), ('american', 247), ('brazil', 243), ('female vocalist', 242), ('salsa', 241), ('60s', 236), ('Espanol', 236), ('reggae', 235), ('alternative rock', 234), ('pop rock', 233), ('female', 231), ('spain', 221), ('experimental', 220), ('latin jazz', 219), ('Myjukebox', 218), ('USA', 214), ('rap', 211), ('classic rock', 204), ('sexy', 204), ('easy listening', 202), ('acid jazz', 202), ('hip hop', 202), ('blues', 201), ('chill', 201), ('mpb', 200), ('ambient', 197), ('downtempo', 195), ('Rock en Espanol', 187), ('groove', 186), ('mexico', 180), ('House', 179), ('samba', 174), ('rnb', 170), ('punk', 170), ('Love', 166), ('Disco', 164), ('funky', 163), ('Latin Rock', 158), ('vocal', 156), ('oldies', 155), ('piano', 150), ('nu jazz', 150), ('indie rock', 149), ('mexican', 148), ('Soundtrack', 147), ('emo', 147), ('chill906', 146), ('metal', 144), ('spanish pop', 143), ('favorites', 141), ('ethnic', 139), ('Flamenco', 138), ('french', 137), ('rock en español', 137), ('Latin Grammy nominee', 136), ('Spanish Rock', 132), ('hard rock', 131), ('argentina', 131), ('Smooth Jazz', 130), ('trip-hop', 129), ('psychedelic', 128), ('cool', 128), ('new wave', 127), ('male vocalist', 127), ('romantic', 126), ('cuban', 124), ('lesser known yet streamable artists', 123), ('Female Voices', 122), ('brazilian music', 122), ('latinoamerica', 121), ('electro', 120), ('lusofonia', 120), ('cuba', 119), ('indie pop', 117), ('punk rock', 116), ('nu-jazz', 115), ('jazz fusion', 113), ('latin america', 113), ('latina', 113), ('musica latina', 113), ('Classical', 112), ('Romantica', 111), ('techno', 109), ('beautiful', 107), ('ska', 107), ('dub', 106), ('male', 102), ('r&b', 101), ('Mellow', 101), ('portuguese', 101), ('world fusion', 100), ('classic', 100), ('tropical', 100), ('gay', 100), ('shit', 98), ('Progressive rock', 97), ('female vocals', 97), ('hardcore', 97), ('Brutal Death Metal', 96), ('hiphop', 96), ('Pop-Rock', 95), ('cumbia', 95), ('composer', 95), ('españa', 93), ('jazzy', 91), ('saxophone', 91), ('Awesome', 91), ('Reggaeton', 90), ('groovy', 89), ('british', 88), ('italian', 88), ('folk rock', 87)]\n"
     ]
    }
   ],
   "source": [
    "cooc('latin', 150)"
   ]
  },
  {
   "cell_type": "raw",
   "metadata": {},
   "source": [
    "Из не самых популярных тегов spanish и jazz выше всего. Похоже, это скорее категория \"страна\", а не жанр. "
   ]
  },
  {
   "cell_type": "markdown",
   "metadata": {},
   "source": [
    "##Pop"
   ]
  },
  {
   "cell_type": "markdown",
   "metadata": {},
   "source": [
    "Сам тег pop не очень информативен:"
   ]
  },
  {
   "cell_type": "code",
   "execution_count": 142,
   "metadata": {
    "collapsed": false
   },
   "outputs": [
    {
     "name": "stdout",
     "output_type": "stream",
     "text": [
      "[('pop', 10194), ('seen live', 6849), ('rock', 6162), ('alternative', 4991), ('indie', 4583), ('male vocalists', 4506), ('female vocalists', 4022), ('All', 3988), ('electronic', 3879), ('00s', 3729), ('singer-songwriter', 3720), ('american', 3315), ('dance', 3286), ('90s', 2752), ('alternative rock', 2722), ('indie rock', 2622), ('soul', 2583), ('80s', 2503), ('folk', 2502), ('indie pop', 2463), ('USA', 2414), ('electronica', 2389), ('pop rock', 2244), ('female vocalist', 2202), ('chillout', 2125), ('jazz', 2099), ('acoustic', 2005), ('british', 1904), ('female', 1885), ('classic rock', 1851), ('spotify', 1774), ('funk', 1760), ('rnb', 1728), ('Hip-Hop', 1696), ('experimental', 1672), ('favorites', 1649), ('punk', 1551), ('70s', 1538), ('oldies', 1520), ('electro', 1518), ('UK', 1489), ('new wave', 1416), ('Love', 1414), ('english', 1341), ('french', 1326), ('House', 1321), ('Soundtrack', 1292), ('rap', 1220), ('easy listening', 1217), ('60s', 1215), ('blues', 1206), ('sexy', 1205), ('hip hop', 1204), ('ambient', 1173), ('Disco', 1164), ('Mellow', 1126), ('r&b', 1110), ('chill', 1097), ('male vocalist', 1090), ('emo', 1088), ('synthpop', 1084), ('electropop', 1072), ('10s', 1052), ('metal', 1025), ('psychedelic', 1021), ('hard rock', 1016), ('world', 1016), ('Awesome', 1010), ('beautiful', 993), ('Pop-Rock', 969), ('soft rock', 960), ('techno', 942), ('punk rock', 927), ('vocal', 921), ('instrumental', 915), ('britpop', 915), ('latin', 906), ('post-punk', 882), ('downtempo', 868), ('guitar', 864), ('folk rock', 849), ('female vocals', 838), ('lounge', 836), ('Female Voices', 827), ('male', 827), ('Progressive rock', 824), ('trip-hop', 824), ('rhythm and blues', 798), ('country', 797), ('funky', 795), ('england', 767), ('france', 763), ('trance', 737), ('California', 734), ('Myjukebox', 728), ('fun', 708), ('Favorite', 696), ('cool', 685), ('german', 681), ('reggae', 674), ('piano', 672), ('synth pop', 654), ('gay', 647), ('Lo-Fi', 646), ('spanish', 645), ('dream pop', 642), ('urban', 641), ('hardcore', 628), ('groove', 616), ('club', 604), ('power pop', 580), ('World Music', 567), ('check out', 563), ('indietronica', 562), ('female vocal', 559), ('indie folk', 555), ('amazing', 545), ('new york', 537), ('alternative pop', 525), ('Rock and Roll', 525), ('romantic', 524), ('acid jazz', 516), ('eurodance', 511), ('chanson francaise', 509), ('chanson', 500), ('smooth', 496), ('classic', 491), ('hiphop', 485), ('Fusion', 483), ('Favourites', 476), ('european', 474), ('london', 472), (\"80's\", 471), ('Need to Rate', 466), ('female artists', 457), ('r and b', 456), ('francais', 452), ('Progressive', 448), ('Psychedelic Rock', 448), ('pop punk', 445), ('happy', 445), ('singer-songwriters', 444), ('rock n roll', 443), ('post-rock', 436), ('party', 435), ('Canadian', 432), ('french pop', 431), ('Alt-country', 426), ('deutsch', 425), ('dance-pop', 423)]\n"
     ]
    }
   ],
   "source": [
    "cooc('pop', 150)"
   ]
  },
  {
   "cell_type": "raw",
   "metadata": {},
   "source": [
    "Что содержит в составе pop:"
   ]
  },
  {
   "cell_type": "code",
   "execution_count": 143,
   "metadata": {
    "collapsed": true
   },
   "outputs": [],
   "source": [
    "pop_tags = []\n",
    "\n",
    "for i in range(l_t):  \n",
    "    tag = sort_tags[i][0]      \n",
    "    if (((tag.find('pop') != -1)) or ((tag.find('Pop') != -1))):\n",
    "        pop_tags.append(sort_tags[i])"
   ]
  },
  {
   "cell_type": "code",
   "execution_count": 145,
   "metadata": {
    "collapsed": false
   },
   "outputs": [
    {
     "name": "stdout",
     "output_type": "stream",
     "text": [
      "[('pop', 10194), ('indie pop', 2936), ('pop rock', 2435), ('synthpop', 1422), ('electropop', 1309), ('Pop-Rock', 1050), ('britpop', 1024), ('dream pop', 808), ('synth pop', 767), ('power pop', 685), ('pop punk', 662), ('alternative pop', 581), ('french pop', 520), ('dance-pop', 433), ('Electro Pop', 331), ('latin pop', 329), ('powerpop', 326), ('Europop', 305), ('Pop-punk', 283), ('j-pop', 268), ('dance pop', 264), ('folk pop', 262), ('electro-pop', 251), ('chamber pop', 245), ('80s Pop', 241), ('synth-pop', 241), ('psychedelic pop', 240), ('baroque pop', 218), ('art pop', 214), ('spanish pop', 213), ('teen pop', 211), ('JPop', 204), ('noise pop', 197), ('brit pop', 189), ('indiepop', 160), ('poprock', 152), ('60s pop', 151), ('italian pop', 146), ('dreampop', 136), ('sunshine pop', 131), ('country pop', 114), ('twee pop', 113), ('futurepop', 107), ('pop rap', 105), ('Pop/Rock', 103), ('jangle pop', 103), ('space age pop', 103), ('alternative pop-rock', 102), ('indie-pop', 100), ('Turkish Pop', 94), ('gothic pop', 94), ('Experimental pop', 91), ('punk pop', 90), ('folk-pop', 88), ('Electronic Pop', 87), ('Rock Pop', 85), ('Swedish Pop', 84), ('popular', 84), ('musica popular brasileira', 77), ('90s pop', 76), ('Traditional Pop', 75), ('Asian Pop', 73), ('Pop Latino', 71), ('Pop Life', 71), ('k-pop', 70), ('Kpop', 68), ('bubblegum pop', 68), ('spanish indie pop', 67), ('ambient pop', 67), ('pop espanol', 66), ('rock-pop', 66), ('poprawiacz nastroju', 65), ('Progressive Pop', 61), ('dream-pop', 59), ('am pop', 57), ('Vocal Pop', 56), ('christian pop', 55), ('Pop Music', 55), ('classic pop', 53), ('piano pop', 52), ('Punk-Pop', 52), ('soft pop', 50), ('Brazilian Pop', 50), ('jazz pop', 50), ('Pop Metal', 49), ('Pop Folk', 49), ('Brit-pop', 47), ('all popular', 46), ('turkce pop', 46), ('Deutschpop', 46), ('orchestral pop', 45), ('pop jazz', 44), ('technopop', 44), ('arabic pop', 44), ('Japanese pop', 43), ('70s pop', 43), ('pop country', 42), ('German Pop', 42), ('afropop', 41), ('afro-pop', 41)]\n"
     ]
    }
   ],
   "source": [
    "print(pop_tags[:100])"
   ]
  },
  {
   "cell_type": "raw",
   "metadata": {},
   "source": [
    "Можно всё отправлять в pop, отделив britpop и, возможно, pop rock, pop punk и аналогичные."
   ]
  },
  {
   "cell_type": "markdown",
   "metadata": {},
   "source": [
    "##Rock"
   ]
  },
  {
   "cell_type": "raw",
   "metadata": {},
   "source": [
    "Самое интересное и разнообразное. \n",
    "Предварительное деление:\n",
    "\n",
    "alternative: indie, industrial, grunge, post-rock, britpop, shoegaze\n",
    "metal: теги, содержащие это слово плюс death-doom\n",
    "progressive\n",
    "psychedellic\n",
    "punk: теги, содержащие это слово\n",
    "rock and roll\n",
    "art rock\n",
    "pop rock\n",
    "experimental rock\n",
    "folk rock\n",
    "garage rock\n",
    "glam rock\n",
    "hard rock\n",
    "classic rock\n",
    "\n",
    "\n",
    "Сам тег rock не очень информативен:"
   ]
  },
  {
   "cell_type": "code",
   "execution_count": 152,
   "metadata": {
    "collapsed": false
   },
   "outputs": [
    {
     "name": "stdout",
     "output_type": "stream",
     "text": [
      "[('rock', 10172), ('seen live', 7964), ('pop', 6162), ('alternative', 6157), ('indie', 5148), ('male vocalists', 4237), ('alternative rock', 3941), ('american', 3880), ('00s', 3496), ('All', 3465), ('electronic', 3461), ('indie rock', 3364), ('singer-songwriter', 3289), ('USA', 2841), ('90s', 2784), ('female vocalists', 2757), ('folk', 2627), ('80s', 2559), ('punk', 2545), ('classic rock', 2498), ('pop rock', 2222), ('indie pop', 2210), ('experimental', 2209), ('dance', 2163), ('metal', 2157), ('hard rock', 2109), ('acoustic', 2073), ('electronica', 2062), ('british', 2006), ('soul', 1972), ('jazz', 1949), ('chillout', 1787), ('favorites', 1720), ('funk', 1641), ('punk rock', 1638), ('spotify', 1621), ('blues', 1614), ('70s', 1592), ('UK', 1587), ('female vocalist', 1562), ('psychedelic', 1488), ('new wave', 1469), ('Progressive rock', 1417), ('Hip-Hop', 1403), ('english', 1362), ('emo', 1308), ('female', 1300), ('post-punk', 1253), ('ambient', 1239), ('oldies', 1234)]\n"
     ]
    }
   ],
   "source": [
    "cooc('rock', 50)"
   ]
  },
  {
   "cell_type": "raw",
   "metadata": {},
   "source": [
    "Альтернатива и её поджанры:"
   ]
  },
  {
   "cell_type": "code",
   "execution_count": 153,
   "metadata": {
    "collapsed": false
   },
   "outputs": [
    {
     "name": "stdout",
     "output_type": "stream",
     "text": [
      "[('alternative', 7941), ('seen live', 6747), ('rock', 6157), ('indie', 5512), ('pop', 4991), ('alternative rock', 3755), ('electronic', 3630), ('indie rock', 3328), ('00s', 3231), ('male vocalists', 3183), ('american', 2985), ('singer-songwriter', 2866), ('All', 2655), ('female vocalists', 2580), ('indie pop', 2519), ('experimental', 2438), ('folk', 2387), ('electronica', 2385), ('USA', 2150), ('punk', 2148), ('90s', 2114), ('chillout', 2097), ('dance', 1950), ('acoustic', 1884), ('british', 1752), ('pop rock', 1691), ('jazz', 1604), ('80s', 1555), ('favorites', 1546), ('metal', 1507), ('female vocalist', 1504), ('ambient', 1456), ('Hip-Hop', 1430), ('electro', 1419), ('hard rock', 1401), ('soul', 1401), ('UK', 1399), ('punk rock', 1399), ('classic rock', 1384), ('new wave', 1332), ('funk', 1275), ('psychedelic', 1224), ('post-punk', 1199), ('emo', 1193), ('english', 1189), ('female', 1187), ('spotify', 1167), ('chill', 1154), ('Mellow', 1087), ('rap', 1063)]\n"
     ]
    }
   ],
   "source": [
    "cooc('alternative', 50)"
   ]
  },
  {
   "cell_type": "code",
   "execution_count": 154,
   "metadata": {
    "collapsed": false
   },
   "outputs": [
    {
     "name": "stdout",
     "output_type": "stream",
     "text": [
      "[('alternative rock', 4123), ('rock', 3941), ('seen live', 3761), ('alternative', 3755), ('indie', 3206), ('pop', 2722), ('indie rock', 2511), ('male vocalists', 2055), ('00s', 1927), ('american', 1800), ('punk', 1664), ('electronic', 1651), ('indie pop', 1543), ('singer-songwriter', 1496), ('90s', 1394), ('USA', 1317), ('pop rock', 1265), ('All', 1233), ('folk', 1223), ('experimental', 1214), ('hard rock', 1174), ('punk rock', 1140), ('female vocalists', 1138), ('favorites', 1128), ('metal', 1091), ('emo', 1008), ('acoustic', 999), ('classic rock', 989), ('british', 952), ('electronica', 947), ('post-punk', 890), ('80s', 877), ('chillout', 832), ('new wave', 823), ('dance', 804), ('UK', 779), ('Awesome', 770), ('Progressive rock', 733), ('Love', 712), ('britpop', 705), ('english', 700), ('hardcore', 697), ('psychedelic', 671), ('female vocalist', 655), ('jazz', 641), ('Mellow', 608), ('Pop-Rock', 602), ('folk rock', 565), ('ambient', 561), ('Hip-Hop', 558)]\n"
     ]
    }
   ],
   "source": [
    "cooc('alternative rock', 50)"
   ]
  },
  {
   "cell_type": "code",
   "execution_count": 155,
   "metadata": {
    "collapsed": false
   },
   "outputs": [
    {
     "name": "stdout",
     "output_type": "stream",
     "text": [
      "[('indie', 7082), ('seen live', 6027), ('alternative', 5512), ('rock', 5148), ('pop', 4583), ('indie rock', 3522), ('electronic', 3327), ('alternative rock', 3206), ('00s', 2880), ('male vocalists', 2843), ('indie pop', 2767), ('singer-songwriter', 2705), ('american', 2552), ('All', 2493), ('folk', 2403), ('female vocalists', 2326), ('experimental', 2236), ('electronica', 2175), ('chillout', 1886), ('punk', 1837), ('acoustic', 1834), ('USA', 1789), ('dance', 1683), ('90s', 1631), ('british', 1631), ('pop rock', 1439), ('favorites', 1391), ('electro', 1387), ('jazz', 1326), ('female vocalist', 1310), ('UK', 1279), ('ambient', 1269), ('soul', 1212), ('new wave', 1199), ('Hip-Hop', 1196), ('80s', 1179), ('punk rock', 1173), ('psychedelic', 1158), ('classic rock', 1153), ('post-punk', 1141), ('spotify', 1111), ('chill', 1087), ('emo', 1082), ('Mellow', 1071), ('funk', 1069), ('english', 1059), ('female', 1002), ('metal', 987), ('trip-hop', 986), ('Love', 970)]\n"
     ]
    }
   ],
   "source": [
    "cooc('indie', 50)"
   ]
  },
  {
   "cell_type": "raw",
   "metadata": {},
   "source": [
    "alternative (rock) = indie (rock) преимущественно"
   ]
  },
  {
   "cell_type": "code",
   "execution_count": 157,
   "metadata": {
    "collapsed": false
   },
   "outputs": [
    {
     "name": "stdout",
     "output_type": "stream",
     "text": [
      "[('Grunge', 639), ('rock', 597), ('alternative', 566), ('seen live', 556), ('alternative rock', 517), ('indie', 493), ('punk', 392), ('indie rock', 385), ('hard rock', 364), ('american', 352), ('pop', 351), ('metal', 349), ('90s', 343), ('male vocalists', 316), ('punk rock', 303), ('USA', 274), ('00s', 267), ('emo', 260), ('classic rock', 258), ('electronic', 217), ('hardcore', 211), ('favorites', 206), ('post-grunge', 206), ('singer-songwriter', 195), ('All', 189), ('80s', 182), ('Progressive rock', 178), ('pop rock', 173), ('female vocalists', 172), ('experimental', 169), ('post-punk', 151), ('alternative metal', 149), ('heavy metal', 141), ('folk', 138), ('electronica', 133), ('indie pop', 129), ('Awesome', 129), ('Hip-Hop', 123), ('acoustic', 122), ('dance', 122), ('Stoner Rock', 118), ('new wave', 118), ('Soundtrack', 117), ('british', 114), ('chillout', 114), ('psychedelic', 112), ('funk', 111), ('rap', 105), ('jazz', 100), ('Nu Metal', 99)]\n"
     ]
    }
   ],
   "source": [
    "cooc('Grunge', 50)"
   ]
  },
  {
   "cell_type": "raw",
   "metadata": {},
   "source": [
    "Можно относить к альтернативе."
   ]
  },
  {
   "cell_type": "code",
   "execution_count": 158,
   "metadata": {
    "collapsed": false
   },
   "outputs": [
    {
     "name": "stdout",
     "output_type": "stream",
     "text": [
      "[('industrial', 944), ('seen live', 769), ('electronic', 736), ('rock', 642), ('alternative', 626), ('electronica', 512), ('experimental', 503), ('metal', 463), ('indie', 415), ('electro', 387), ('alternative rock', 377), ('pop', 344), ('ambient', 322), ('american', 319), ('punk', 314), ('All', 303), ('dance', 295), ('90s', 286), ('hard rock', 267), ('new wave', 257), ('male vocalists', 255), ('hardcore', 254), ('techno', 254), ('80s', 248), ('Gothic', 247), ('00s', 239), ('USA', 236), ('female vocalists', 235), ('indie rock', 224), ('synthpop', 221), ('darkwave', 219), ('industrial metal', 218), ('psychedelic', 215), ('ebm', 212), ('heavy metal', 207), ('Hip-Hop', 206), ('noise', 206), ('british', 204), ('post-punk', 204), ('trip-hop', 195), ('dark', 194), ('chillout', 193), ('industrial rock', 177), ('punk rock', 175), ('idm', 170), ('instrumental', 169), ('goth', 164), ('UK', 163), ('death metal', 160), ('trance', 160)]\n"
     ]
    }
   ],
   "source": [
    "cooc('industrial', 50)"
   ]
  },
  {
   "cell_type": "raw",
   "metadata": {},
   "source": [
    "На стыке electronic и alternative. Тоже неплохо -- связка между категориями."
   ]
  },
  {
   "cell_type": "code",
   "execution_count": 159,
   "metadata": {
    "collapsed": false
   },
   "outputs": [
    {
     "name": "stdout",
     "output_type": "stream",
     "text": [
      "[('britpop', 1024), ('rock', 947), ('seen live', 931), ('pop', 915), ('alternative', 894), ('indie', 878), ('british', 742), ('indie rock', 715), ('alternative rock', 705), ('male vocalists', 646), ('UK', 633), ('00s', 606), ('indie pop', 594), ('electronic', 565), ('english', 512), ('singer-songwriter', 447), ('90s', 414), ('pop rock', 400), ('england', 391), ('dance', 387), ('new wave', 375), ('punk', 365), ('electronica', 353), ('All', 343), ('post-punk', 340), ('classic rock', 337), ('female vocalists', 337), ('80s', 305), ('folk', 301), ('favorites', 290), ('chillout', 282), ('acoustic', 273), ('experimental', 234), ('soul', 227), ('Love', 219), ('emo', 213), ('london', 198), ('punk rock', 198), ('Pop-Rock', 192), ('metal', 192), ('jazz', 190), ('psychedelic', 182), ('female', 181), ('power pop', 178), ('american', 177), ('Progressive rock', 177), ('Hip-Hop', 176), ('female vocalist', 175), ('Mellow', 174), ('electro', 172)]\n"
     ]
    }
   ],
   "source": [
    "cooc('britpop', 50)"
   ]
  },
  {
   "cell_type": "raw",
   "metadata": {},
   "source": [
    "Можно относить к альтернативе."
   ]
  },
  {
   "cell_type": "code",
   "execution_count": 160,
   "metadata": {
    "collapsed": false
   },
   "outputs": [
    {
     "name": "stdout",
     "output_type": "stream",
     "text": [
      "[('post-rock', 878), ('seen live', 765), ('alternative', 725), ('rock', 721), ('indie', 720), ('experimental', 630), ('electronic', 601), ('indie rock', 563), ('ambient', 490), ('alternative rock', 458), ('electronica', 454), ('pop', 436), ('indie pop', 386), ('instrumental', 355), ('chillout', 353), ('00s', 350), ('american', 340), ('folk', 331), ('psychedelic', 322), ('All', 305), ('male vocalists', 301), ('Progressive rock', 290), ('post rock', 283), ('shoegaze', 278), ('singer-songwriter', 274), ('USA', 267), ('post-punk', 267), ('punk', 253), ('female vocalists', 231), ('Lo-Fi', 228), ('jazz', 224), ('trip-hop', 221), ('atmospheric', 211), ('british', 210), ('electro', 203), ('dream pop', 202), ('90s', 198), ('downtempo', 197), ('Mellow', 193), ('new wave', 193), ('Hip-Hop', 186), ('dance', 182), ('chill', 181), ('acoustic', 181), ('Avant-Garde', 180), ('metal', 180), ('Experimental Rock', 179), ('UK', 174), ('emo', 172), ('favorites', 169)]\n"
     ]
    }
   ],
   "source": [
    "cooc('post-rock', 50)"
   ]
  },
  {
   "cell_type": "raw",
   "metadata": {},
   "source": [
    "Аналогично"
   ]
  },
  {
   "cell_type": "code",
   "execution_count": 163,
   "metadata": {
    "collapsed": false
   },
   "outputs": [
    {
     "name": "stdout",
     "output_type": "stream",
     "text": [
      "[('shoegaze', 640), ('indie', 565), ('seen live', 560), ('alternative', 533), ('rock', 506), ('indie rock', 472), ('pop', 418), ('electronic', 401), ('experimental', 392), ('indie pop', 384), ('alternative rock', 365), ('dream pop', 317), ('ambient', 288), ('psychedelic', 284), ('00s', 284), ('post-rock', 278), ('electronica', 277), ('post-punk', 277), ('american', 272), ('Lo-Fi', 240), ('male vocalists', 239), ('All', 232), ('chillout', 228), ('female vocalists', 219), ('USA', 215), ('folk', 207), ('british', 196), ('singer-songwriter', 180), ('punk', 177), ('new wave', 171), ('90s', 165), ('noise', 156), ('UK', 156), ('post rock', 144), ('Mellow', 142), ('Progressive rock', 141), ('instrumental', 140), ('trip-hop', 132), ('atmospheric', 128), ('downtempo', 125), ('britpop', 124), ('Psychedelic Rock', 123), ('favorites', 122), ('electro', 120), ('noise pop', 118), ('chill', 117), ('english', 117), ('beautiful', 115), ('emo', 114), ('indietronica', 113)]\n"
     ]
    }
   ],
   "source": [
    "cooc('shoegaze', 50)"
   ]
  },
  {
   "cell_type": "raw",
   "metadata": {},
   "source": [
    "Пока всё сходится. Hardcore, который по идее electronic, но всё же попадает больше в рок:"
   ]
  },
  {
   "cell_type": "code",
   "execution_count": 164,
   "metadata": {
    "collapsed": false
   },
   "outputs": [
    {
     "name": "stdout",
     "output_type": "stream",
     "text": [
      "[('hardcore', 1766), ('seen live', 1453), ('rock', 1210), ('punk', 983), ('alternative', 971), ('metal', 936), ('american', 778), ('punk rock', 725), ('indie', 724), ('alternative rock', 697), ('electronic', 697), ('pop', 628), ('hard rock', 586), ('USA', 556), ('emo', 547), ('All', 534), ('metalcore', 523), ('indie rock', 479), ('hardcore punk', 456), ('experimental', 452), ('90s', 433), ('heavy metal', 420), ('Hip-Hop', 410), ('male vocalists', 407), ('dance', 403), ('00s', 393), ('screamo', 380), ('rap', 377), ('electronica', 376), ('death metal', 373), ('spotify', 354), ('post-hardcore', 347), ('hip hop', 334), ('female vocalists', 326), ('80s', 314), ('thrash metal', 299), ('Awesome', 289), ('favorites', 284), ('alternative metal', 279), ('pop punk', 279), ('techno', 258), ('industrial', 254), ('Progressive rock', 247), ('classic rock', 243), ('british', 238), ('Nu Metal', 236), ('electro', 234), ('jazz', 227), ('emocore', 222), ('funk', 221)]\n"
     ]
    }
   ],
   "source": [
    "cooc('hardcore', 50)"
   ]
  },
  {
   "cell_type": "raw",
   "metadata": {},
   "source": [
    "Можно считать, что на стыке alternative, punk, metal."
   ]
  },
  {
   "cell_type": "raw",
   "metadata": {},
   "source": [
    "Металл сам по себе и в составе:"
   ]
  },
  {
   "cell_type": "code",
   "execution_count": 165,
   "metadata": {
    "collapsed": false
   },
   "outputs": [
    {
     "name": "stdout",
     "output_type": "stream",
     "text": [
      "[('metal', 2764), ('seen live', 2299), ('rock', 2157), ('alternative', 1507), ('hard rock', 1319), ('heavy metal', 1116), ('american', 1114), ('alternative rock', 1091), ('punk', 1044), ('pop', 1025), ('indie', 987), ('electronic', 940), ('hardcore', 936), ('USA', 843), ('male vocalists', 823), ('90s', 751), ('punk rock', 729), ('classic rock', 717), ('80s', 690), ('death metal', 672), ('All', 663), ('indie rock', 643), ('00s', 639), ('experimental', 636), ('emo', 606), ('Progressive rock', 585), ('female vocalists', 543), ('thrash metal', 537), ('electronica', 534), ('Hip-Hop', 501), ('dance', 495), ('alternative metal', 495), ('metalcore', 493), ('Progressive metal', 492), ('industrial', 463), ('rap', 436), ('favorites', 429), ('black metal', 427), ('british', 402), ('singer-songwriter', 397), ('Progressive', 388), ('folk', 387), ('funk', 384), ('jazz', 383), ('spotify', 377), ('Power metal', 376), ('pop rock', 374), ('Awesome', 370), ('psychedelic', 364), ('Nu Metal', 364)]\n"
     ]
    }
   ],
   "source": [
    "cooc('metal', 50)"
   ]
  },
  {
   "cell_type": "code",
   "execution_count": 166,
   "metadata": {
    "collapsed": true
   },
   "outputs": [],
   "source": [
    "metal_tags = []\n",
    "\n",
    "for i in range(l_t):  \n",
    "    tag = sort_tags[i][0]      \n",
    "    if (((tag.find('metal') != -1)) or ((tag.find('Metal') != -1))):\n",
    "        metal_tags.append(sort_tags[i])"
   ]
  },
  {
   "cell_type": "code",
   "execution_count": 167,
   "metadata": {
    "collapsed": false
   },
   "outputs": [
    {
     "name": "stdout",
     "output_type": "stream",
     "text": [
      "[('metal', 2764), ('heavy metal', 1356), ('death metal', 842), ('thrash metal', 637), ('metalcore', 633), ('Progressive metal', 586), ('black metal', 573), ('alternative metal', 552), ('Nu Metal', 430), ('Power metal', 428), ('Brutal Death Metal', 399), ('doom metal', 358), ('melodic metal', 350), ('Gothic Metal', 315), ('Melodic Death Metal', 298), ('speed metal', 286), ('industrial metal', 253), ('symphonic metal', 243), ('Nu-metal', 215), ('Female fronted metal', 209), ('hair metal', 194), ('Glam Metal', 183), ('groove metal', 151), ('Gay Metal', 147), ('folk metal', 124), ('Technical Death Metal', 113), ('stoner metal', 96), ('french metal', 91), ('melodic black metal', 89), ('melodic metalcore', 88), ('epic metal', 88), ('rap metal', 86), ('Symphonic Black Metal', 83), ('Swedish Metal', 83), ('German metal', 83), ('progressive death metal', 78), ('Post-Metal', 78), ('funk metal', 76), ('80s metal', 75), ('old school death metal', 74), ('Dark metal', 71), ('sludge metal', 71), ('viking metal', 67), ('finnish metal', 67), ('pagan metal', 67), ('Melodic Power Metal', 66), ('Traditional Metal', 65), ('trash metal', 64), ('Avant-garde Metal', 63), ('Altar of the Metal Gods', 59), ('Blackened Death Metal', 58), ('christian metal', 54), ('old school thrash metal', 54), ('symphonic power metal', 54), ('Altar of the Metal Gods Black Metal', 51), ('Brutal Death Metal with Nordic Influence and guest vocalist satan', 50), ('Extreme Metal', 50), ('Pop Metal', 49), ('80s hair metal', 48), ('Death Doom Metal', 47), ('atmospheric black metal', 47), ('experimental metal', 47), ('Technical Metal', 47), ('true metal', 47), ('math metal', 46), ('classic metal', 46), ('new metal', 45), ('modern metal', 45), ('raw black metal', 41), ('Better than Metallica', 40), ('numetal', 40), ('depressive black metal', 40), ('Gothic Doom Metal', 39), ('true black metal', 39), ('Progressive Metalcore', 38), ('traditional heavy metal', 36), ('Suicidal Black Metal', 36), ('metallic hardcore', 35), ('Love Metal', 35), ('progressive power metal', 35), ('symphonic gothic metal', 35), ('Punk Metal', 35), ('Spanish Metal', 34), ('neo-classical metal', 33), ('Southern metal', 32), ('satanic black metal', 31), ('British Metal', 31), ('national socialist black metal', 30), ('New Wave of British Heavy Metal', 30), ('hardcore metal', 30), ('blackened thrash metal', 30), ('italian metal', 30), ('doom death metal', 29), ('J-Metal', 28), ('metal francais', 28), ('True Norwegian Black Metal', 28), ('post metal', 28), ('fantasy metal', 27), ('melodic heavy metal', 27), ('Swedish Heavy Metal', 27)]\n"
     ]
    }
   ],
   "source": [
    "print(metal_tags[:100])"
   ]
  },
  {
   "cell_type": "raw",
   "metadata": {},
   "source": [
    "Можно всё относить к металлу."
   ]
  },
  {
   "cell_type": "code",
   "execution_count": 170,
   "metadata": {
    "collapsed": false
   },
   "outputs": [
    {
     "name": "stdout",
     "output_type": "stream",
     "text": [
      "[('Progressive rock', 1564), ('rock', 1417), ('seen live', 1285), ('alternative', 986), ('pop', 824), ('indie', 784), ('classic rock', 745), ('alternative rock', 733), ('male vocalists', 698), ('experimental', 668), ('hard rock', 663), ('electronic', 663), ('american', 596), ('metal', 585), ('Progressive', 578), ('psychedelic', 555), ('indie rock', 554), ('80s', 550), ('90s', 508), ('70s', 499), ('All', 471), ('00s', 467), ('singer-songwriter', 456), ('USA', 456), ('punk', 452), ('british', 430), ('folk', 430), ('jazz', 428), ('electronica', 424), ('Psychedelic Rock', 393), ('instrumental', 374), ('ambient', 353), ('favorites', 345), ('blues', 344), ('chillout', 326), ('pop rock', 326), ('art rock', 325), ('heavy metal', 323), ('new wave', 321), ('UK', 319), ('indie pop', 306), ('funk', 296), ('emo', 291), ('female vocalists', 291), ('post-rock', 290), ('punk rock', 283), ('60s', 281), ('post-punk', 276), ('Hip-Hop', 268), ('guitar', 264)]\n"
     ]
    }
   ],
   "source": [
    "cooc('Progressive rock', 50)"
   ]
  },
  {
   "cell_type": "raw",
   "metadata": {},
   "source": [
    "Ближе всего к альтернативе, что неверно, другая эпоха и звук. Пусть будет отдельным тегом со своими вариантами написания."
   ]
  },
  {
   "cell_type": "code",
   "execution_count": 176,
   "metadata": {
    "collapsed": false
   },
   "outputs": [
    {
     "name": "stdout",
     "output_type": "stream",
     "text": [
      "[('psychedelic', 2105), ('seen live', 1621), ('rock', 1488), ('alternative', 1224), ('electronic', 1159), ('indie', 1158), ('experimental', 1140), ('pop', 1021), ('All', 836), ('electronica', 809), ('american', 780), ('male vocalists', 745), ('indie rock', 744), ('ambient', 693), ('Psychedelic Rock', 684), ('alternative rock', 671), ('00s', 649), ('folk', 615), ('chillout', 606), ('USA', 577), ('classic rock', 575), ('british', 566), ('indie pop', 560), ('Progressive rock', 555), ('singer-songwriter', 539), ('jazz', 532), ('70s', 481), ('dance', 479), ('instrumental', 478), ('electro', 472), ('90s', 468), ('UK', 468), ('punk', 458), ('80s', 449), ('female vocalists', 446), ('funk', 441), ('60s', 434), ('downtempo', 413), ('post-punk', 404), ('Avant-Garde', 392), ('Progressive', 390), ('hard rock', 386), ('trip-hop', 385), ('new wave', 375), ('blues', 371), ('Lo-Fi', 364), ('metal', 364), ('soul', 350), ('spotify', 339), ('acoustic', 330)]\n"
     ]
    }
   ],
   "source": [
    "cooc('psychedelic', 50)"
   ]
  },
  {
   "cell_type": "raw",
   "metadata": {},
   "source": [
    "Аналогично -- пусть будет отдельно со своими вариантами написания."
   ]
  },
  {
   "cell_type": "raw",
   "metadata": {},
   "source": [
    "Punk в частности: "
   ]
  },
  {
   "cell_type": "code",
   "execution_count": 177,
   "metadata": {
    "collapsed": false
   },
   "outputs": [
    {
     "name": "stdout",
     "output_type": "stream",
     "text": [
      "[('punk', 2950), ('rock', 2545), ('seen live', 2534), ('alternative', 2148), ('indie', 1837), ('alternative rock', 1664), ('punk rock', 1603), ('pop', 1551), ('indie rock', 1306), ('american', 1277), ('male vocalists', 1170), ('electronic', 1126), ('metal', 1044), ('00s', 1041), ('hardcore', 983), ('All', 963), ('USA', 949), ('hard rock', 891), ('90s', 889), ('emo', 843), ('post-punk', 790), ('80s', 764), ('experimental', 763), ('classic rock', 736), ('new wave', 707), ('favorites', 691), ('female vocalists', 675), ('indie pop', 666), ('electronica', 666), ('dance', 662), ('singer-songwriter', 645), ('pop rock', 624), ('british', 595), ('spotify', 568), ('Hip-Hop', 557), ('pop punk', 556), ('folk', 525), ('Awesome', 518), ('UK', 491), ('rap', 471), ('psychedelic', 458), ('Progressive rock', 452), ('hardcore punk', 447), ('english', 428), ('funk', 428), ('ska', 428), ('hip hop', 416), ('jazz', 404), ('Garage Rock', 403), ('heavy metal', 403)]\n"
     ]
    }
   ],
   "source": [
    "cooc('punk', 50)"
   ]
  },
  {
   "cell_type": "raw",
   "metadata": {},
   "source": [
    "И в целом:"
   ]
  },
  {
   "cell_type": "code",
   "execution_count": 178,
   "metadata": {
    "collapsed": true
   },
   "outputs": [],
   "source": [
    "punk_tags = []\n",
    "\n",
    "for i in range(l_t):  \n",
    "    tag = sort_tags[i][0]      \n",
    "    if (((tag.find('punk') != -1)) or ((tag.find('Punk') != -1))):\n",
    "        punk_tags.append(sort_tags[i])"
   ]
  },
  {
   "cell_type": "code",
   "execution_count": 179,
   "metadata": {
    "collapsed": false
   },
   "outputs": [
    {
     "name": "stdout",
     "output_type": "stream",
     "text": [
      "[('punk', 2950), ('punk rock', 1848), ('post-punk', 1401), ('pop punk', 662), ('hardcore punk', 516), ('Post punk', 459), ('Pop-punk', 283), ('ska punk', 229), ('Punk-Rock', 199), ('dance punk', 193), ('Post-punk revival', 183), ('Garage Punk', 178), ('dance-punk', 165), ('punkrock', 145), ('proto-punk', 138), ('electropunk', 130), ('melodic punk', 117), ('street punk', 112), ('ska-punk', 109), ('skate punk', 99), ('cyberpunk', 93), ('punk pop', 90), ('horror punk', 87), ('electro punk', 76), ('art punk', 75), ('folk punk', 74), ('disco punk', 69), ('proto punk', 68), ('British Punk', 59), ('postpunk', 58), ('Old School Punk', 54), ('streetpunk', 53), ('french punk', 52), ('anarcho-punk', 52), ('Punk-Pop', 52), ('77 punk', 50), ('skatepunk', 48), ('Alternative and punk', 48), ('Punk Revival', 48), ('alternative punk', 47), ('Classic Punk', 46), ('punk liszaj radio', 45), ('rock-protopunk', 44), ('punk blues', 43), ('crust punk', 41), ('deutschpunk', 40), ('Punk 77', 40), ('American Punk', 39), ('skapunk', 36), ('indie punk', 36), ('77 style punk', 36), ('Punk Metal', 35), ('glam punk', 34), ('Electro-Punk', 33), ('dancepunk', 33), ('synth punk', 33), ('French Punk-Rock-Ska', 32), ('afropunk', 32), ('SOLOMUSIKA-post punk', 32), ('Daft Punk', 30), ('Protopunk', 29), ('Punk N Roll', 29), ('UK Punk', 28), ('synthpunk', 28), ('New York Punk', 28), ('punk francais', 28), ('punk funk', 27), ('cowpunk', 26), ('political punk', 26), ('noise punk', 26), ('celtic punk', 26), ('folk-punk', 25), ('emo punk', 24), ('fast melodic punk', 24), ('punk hardcore', 23), ('Discopunk', 23), ('Punkabilly', 22), ('melodic punk rock', 22), ('Swedish Punk', 21), ('Horrorpunk', 20), ('blues punk', 20), ('disco-punk', 20), ('Irish Punk', 20), ('steampunk', 19), ('metal punk', 19), ('hardcore-punk', 18), ('German Punk', 18), ('anarcho punk', 17), ('polish punk', 17), ('Christian punk', 17), ('gothic punk', 17), ('punkish', 17), ('OI Punk', 17), ('J-Punk', 16), ('Spanish punk', 16), ('punkz', 16), ('punk ska', 16), ('japanese punk', 16), ('Paddy Punk', 15), ('gypsy punk', 15)]\n"
     ]
    }
   ],
   "source": [
    "print(punk_tags[:100])"
   ]
  },
  {
   "cell_type": "code",
   "execution_count": null,
   "metadata": {
    "collapsed": true
   },
   "outputs": [],
   "source": [
    "Можно всё относить к панку."
   ]
  },
  {
   "cell_type": "code",
   "execution_count": 185,
   "metadata": {
    "collapsed": false
   },
   "outputs": [
    {
     "name": "stdout",
     "output_type": "stream",
     "text": [
      "[('Rock and Roll', 879), ('rock', 761), ('seen live', 551), ('pop', 525), ('classic rock', 516), ('male vocalists', 504), ('american', 483), ('rock n roll', 458), ('All', 455), ('oldies', 426), ('60s', 426), ('USA', 375), ('blues', 365), ('70s', 353), ('80s', 339), ('alternative', 321), ('indie', 294), ('hard rock', 288), ('soul', 270), ('punk', 263), ('singer-songwriter', 255), ('rockabilly', 242), ('blues rock', 232), ('alternative rock', 231), ('spotify', 228), ('90s', 228), ('rhythm and blues', 227), ('pop rock', 207), ('00s', 207), ('Garage Rock', 201), ('indie rock', 195), ('punk rock', 192), ('50s', 191), ('jazz', 182), ('british', 178), ('metal', 171), ('rnb', 169), ('folk', 169), ('psychedelic', 165), ('guitar', 164), ('country', 163), ('funk', 163), (\"Rock 'n' Roll\", 154), ('female vocalists', 148), (\"rock'n'roll\", 137), ('classic', 137), ('male vocalist', 133), ('favorites', 132), ('UK', 130), ('garage', 129)]\n"
     ]
    }
   ],
   "source": [
    "cooc(\"Rock and Roll\", 50)"
   ]
  },
  {
   "cell_type": "raw",
   "metadata": {},
   "source": [
    "С разными варианатми написания и rockabilly относить к одному. Вариантами написания надо вдумчиво заняться."
   ]
  },
  {
   "cell_type": "code",
   "execution_count": 186,
   "metadata": {
    "collapsed": false
   },
   "outputs": [
    {
     "name": "stdout",
     "output_type": "stream",
     "text": [
      "[('art rock', 552), ('rock', 520), ('seen live', 493), ('alternative', 412), ('experimental', 375), ('indie', 354), ('Progressive rock', 325), ('pop', 324), ('alternative rock', 313), ('electronic', 296), ('indie rock', 276), ('psychedelic', 276), ('male vocalists', 263), ('Progressive', 234), ('british', 227), ('00s', 225), ('classic rock', 212), ('UK', 196), ('80s', 194), ('70s', 188), ('american', 187), ('post-punk', 186), ('Psychedelic Rock', 183), ('electronica', 181), ('folk', 178), ('Avant-Garde', 177), ('singer-songwriter', 176), ('Experimental Rock', 169), ('indie pop', 168), ('All', 165), ('90s', 162), ('USA', 160), ('punk', 157), ('new wave', 154), ('english', 152), ('hard rock', 147), ('ambient', 145), ('post-rock', 139), ('jazz', 125), ('prog rock', 115), ('pop rock', 110), ('favorites', 109), ('prog', 109), ('instrumental', 108), ('female vocalists', 107), ('england', 100), ('chillout', 100), ('metal', 99), ('blues', 93), ('noise', 89)]\n"
     ]
    }
   ],
   "source": [
    "cooc('art rock', 50)"
   ]
  },
  {
   "cell_type": "raw",
   "metadata": {},
   "source": [
    "Близок к progressive -- возможно, стоит объединить. "
   ]
  },
  {
   "cell_type": "code",
   "execution_count": 187,
   "metadata": {
    "collapsed": false
   },
   "outputs": [
    {
     "name": "stdout",
     "output_type": "stream",
     "text": [
      "[('pop rock', 2435), ('pop', 2244), ('rock', 2222), ('seen live', 1997), ('alternative', 1691), ('indie', 1439), ('male vocalists', 1412), ('alternative rock', 1265), ('singer-songwriter', 1238), ('00s', 1175), ('indie rock', 970), ('american', 948), ('female vocalists', 901), ('All', 900), ('90s', 889), ('classic rock', 824), ('electronic', 786), ('80s', 783), ('Pop-Rock', 760), ('indie pop', 726), ('favorites', 712), ('folk', 710), ('USA', 700), ('acoustic', 697), ('dance', 686), ('punk', 624), ('soft rock', 615), ('female vocalist', 593), ('Love', 586), ('british', 561), ('female', 554), ('emo', 531), ('soul', 505), ('hard rock', 500), ('english', 485), ('new wave', 479), ('chillout', 442), ('UK', 438), ('punk rock', 428), ('Awesome', 423), ('oldies', 417), ('70s', 412), ('male vocalist', 405), ('britpop', 400), ('Soundtrack', 390), ('electronica', 378), ('metal', 374), ('spotify', 370), ('jazz', 362), ('power pop', 356)]\n"
     ]
    }
   ],
   "source": [
    "cooc('pop rock', 50)"
   ]
  },
  {
   "cell_type": "raw",
   "metadata": {},
   "source": [
    "Прекрасно вообще с pop и rock встречается. С другой стороны, pop и rock не очень информативны сами по себе. Пусть будет отдельным жанром."
   ]
  },
  {
   "cell_type": "code",
   "execution_count": 189,
   "metadata": {
    "collapsed": false
   },
   "outputs": [
    {
     "name": "stdout",
     "output_type": "stream",
     "text": [
      "[('experimental', 3786), ('seen live', 3052), ('electronic', 2577), ('alternative', 2438), ('indie', 2236), ('rock', 2209), ('electronica', 1851), ('pop', 1672), ('ambient', 1430), ('All', 1347), ('indie rock', 1322), ('american', 1304), ('chillout', 1264), ('alternative rock', 1214), ('00s', 1196), ('electro', 1193), ('psychedelic', 1140), ('male vocalists', 1070), ('instrumental', 1055), ('indie pop', 1018), ('jazz', 1008), ('folk', 975), ('dance', 974), ('USA', 924), ('singer-songwriter', 915), ('female vocalists', 897), ('downtempo', 875), ('trip-hop', 846), ('british', 807), ('Hip-Hop', 777), ('Avant-Garde', 775), ('punk', 763), ('90s', 718), ('funk', 709), ('UK', 671), ('Progressive rock', 668), ('idm', 663), ('post-punk', 652), ('metal', 636), ('post-rock', 630), ('techno', 629), ('new wave', 623), ('80s', 610), ('House', 608), ('chill', 604), ('Lo-Fi', 590), ('Progressive', 586), ('hip hop', 569), ('acoustic', 550), ('soul', 537)]\n"
     ]
    }
   ],
   "source": [
    "cooc('experimental', 50)"
   ]
  },
  {
   "cell_type": "raw",
   "metadata": {},
   "source": [
    "На стыке electronic и alternative"
   ]
  },
  {
   "cell_type": "code",
   "execution_count": 191,
   "metadata": {
    "collapsed": false
   },
   "outputs": [
    {
     "name": "stdout",
     "output_type": "stream",
     "text": [
      "[('folk rock', 1347), ('folk', 1188), ('rock', 1147), ('seen live', 1144), ('singer-songwriter', 917), ('alternative', 903), ('indie', 885), ('pop', 849), ('acoustic', 784), ('male vocalists', 745), ('american', 635), ('indie rock', 615), ('00s', 591), ('alternative rock', 565), ('All', 552), ('USA', 505), ('indie pop', 471), ('classic rock', 439), ('indie folk', 438), ('blues', 410), ('Mellow', 404), ('country', 403), ('folk-rock', 388), ('female vocalists', 388), ('americana', 384), ('90s', 377), ('guitar', 370), ('favorites', 361), ('Alt-country', 351), ('80s', 340), ('pop rock', 320), ('chillout', 312), ('70s', 310), ('experimental', 294), ('psychedelic', 281), ('british', 265), ('female vocalist', 265), ('60s', 247), ('chill', 240), ('electronic', 240), ('jazz', 240), ('soft rock', 232), ('soul', 219), ('oldies', 217), ('spotify', 215), ('Progressive rock', 213), ('punk', 208), ('female', 207), ('Love', 205), ('blues rock', 201)]\n"
     ]
    }
   ],
   "source": [
    "cooc('folk rock', 50)"
   ]
  },
  {
   "cell_type": "raw",
   "metadata": {},
   "source": [
    "Как pop rock -- и там, и там немало. Склоняюсь относить к folk, специфичен."
   ]
  },
  {
   "cell_type": "code",
   "execution_count": 195,
   "metadata": {
    "collapsed": false
   },
   "outputs": [
    {
     "name": "stdout",
     "output_type": "stream",
     "text": [
      "[('Garage Rock', 740), ('rock', 688), ('seen live', 610), ('indie', 520), ('alternative', 486), ('indie rock', 447), ('alternative rock', 416), ('punk', 403), ('pop', 385), ('american', 343), ('male vocalists', 334), ('garage', 332), ('classic rock', 315), ('All', 313), ('psychedelic', 289), ('00s', 284), ('USA', 275), ('punk rock', 272), ('post-punk', 257), ('indie pop', 223), ('Psychedelic Rock', 207), ('experimental', 207), ('hard rock', 206), ('Rock and Roll', 201), ('british', 199), ('rock n roll', 198), ('blues', 198), ('electronic', 189), ('Lo-Fi', 177), ('60s', 173), ('UK', 171), ('90s', 170), ('new wave', 163), ('80s', 162), ('blues rock', 155), ('singer-songwriter', 154), ('Garage Punk', 150), ('female vocalists', 149), ('metal', 148), ('pop rock', 148), ('70s', 145), ('folk', 145), ('spotify', 142), ('britpop', 128), ('favorites', 127), ('power pop', 125), ('oldies', 124), ('Progressive rock', 124), ('english', 120), ('garage rock revival', 116)]\n"
     ]
    }
   ],
   "source": [
    "cooc('Garage Rock', 50)"
   ]
  },
  {
   "cell_type": "raw",
   "metadata": {},
   "source": [
    "Можно относить к альтернативе."
   ]
  },
  {
   "cell_type": "code",
   "execution_count": 200,
   "metadata": {
    "collapsed": false
   },
   "outputs": [
    {
     "name": "stdout",
     "output_type": "stream",
     "text": [
      "[('glam rock', 424), ('rock', 408), ('seen live', 365), ('pop', 271), ('classic rock', 269), ('hard rock', 258), ('alternative', 254), ('80s', 251), ('male vocalists', 249), ('metal', 218), ('indie', 197), ('alternative rock', 193), ('american', 187), ('90s', 182), ('glam', 180), ('punk', 165), ('heavy metal', 153), ('70s', 149), ('USA', 147), ('british', 144), ('rock n roll', 141), ('pop rock', 139), ('All', 138), ('electronic', 138), ('00s', 136), ('Glam Metal', 132), ('indie rock', 131), ('new wave', 128), ('singer-songwriter', 123), ('UK', 119), ('hair metal', 117), ('psychedelic', 113), ('punk rock', 111), ('Progressive rock', 106), ('Garage Rock', 100), ('Rock and Roll', 94), ('female vocalists', 92), ('english', 91), ('oldies', 91), ('dance', 89), ('post-punk', 86), ('60s', 77), (\"80's\", 77), ('spotify', 76), ('electronica', 74), ('indie pop', 71), ('favorites', 69), ('england', 67), ('guitar', 67), ('Pop-Rock', 67)]\n"
     ]
    }
   ],
   "source": [
    "cooc('glam rock', 50)"
   ]
  },
  {
   "cell_type": "raw",
   "metadata": {},
   "source": [
    "Пусть будет отдельно, специфичен. Хотя специфичен больше визуально, а по звуку по сути hard rock. Кстати hard rock:"
   ]
  },
  {
   "cell_type": "code",
   "execution_count": 201,
   "metadata": {
    "collapsed": false
   },
   "outputs": [
    {
     "name": "stdout",
     "output_type": "stream",
     "text": [
      "[('hard rock', 2269), ('rock', 2109), ('seen live', 1888), ('alternative', 1401), ('metal', 1319), ('alternative rock', 1174), ('american', 1078), ('classic rock', 1054), ('pop', 1016), ('male vocalists', 961), ('indie', 956), ('heavy metal', 892), ('punk', 891), ('80s', 823), ('90s', 822), ('USA', 812), ('Progressive rock', 663), ('punk rock', 659), ('00s', 646), ('electronic', 630), ('indie rock', 626), ('All', 625), ('hardcore', 586), ('emo', 511), ('singer-songwriter', 501), ('70s', 500), ('pop rock', 500), ('blues', 490), ('favorites', 440), ('experimental', 430), ('british', 420), ('female vocalists', 418), ('alternative metal', 412), ('blues rock', 410), ('psychedelic', 386), ('Hip-Hop', 380), ('dance', 375), ('folk', 365), ('Grunge', 364), ('rock n roll', 349), ('funk', 347), ('jazz', 344), ('Awesome', 341), ('guitar', 336), ('spotify', 332), ('rap', 330), ('Progressive', 329), ('UK', 326), ('electronica', 319), ('new wave', 318)]\n"
     ]
    }
   ],
   "source": [
    "cooc('hard rock', 50)"
   ]
  },
  {
   "cell_type": "raw",
   "metadata": {},
   "source": [
    "Можно оставить отдельно."
   ]
  },
  {
   "cell_type": "code",
   "execution_count": 202,
   "metadata": {
    "collapsed": false
   },
   "outputs": [
    {
     "name": "stdout",
     "output_type": "stream",
     "text": [
      "[('classic rock', 2696), ('rock', 2498), ('seen live', 2003), ('pop', 1851), ('male vocalists', 1591), ('american', 1391), ('80s', 1389), ('alternative', 1384), ('70s', 1168), ('indie', 1153), ('singer-songwriter', 1142), ('90s', 1114), ('USA', 1075), ('hard rock', 1054), ('All', 1042), ('alternative rock', 989), ('oldies', 939), ('blues', 895), ('60s', 865), ('00s', 832), ('pop rock', 824), ('folk', 811), ('soul', 750), ('Progressive rock', 745), ('jazz', 741), ('indie rock', 738), ('punk', 736), ('metal', 717), ('british', 710), ('electronic', 710), ('favorites', 679), ('female vocalists', 614), ('guitar', 604), ('acoustic', 602), ('soft rock', 587), ('psychedelic', 575), ('funk', 574), ('new wave', 571), ('UK', 559), ('blues rock', 553), ('rock n roll', 519), ('dance', 518), ('Rock and Roll', 516), ('punk rock', 493), ('Soundtrack', 481), ('english', 453), ('country', 439), ('folk rock', 439), ('chillout', 438), ('experimental', 433)]\n"
     ]
    }
   ],
   "source": [
    "cooc('classic rock', 50)"
   ]
  },
  {
   "cell_type": "raw",
   "metadata": {},
   "source": [
    "Тоже отдельно."
   ]
  },
  {
   "cell_type": "markdown",
   "metadata": {},
   "source": [
    "###Rock: сам тег малоинформативен, зато можно выделить следующие жанры с поджанрами: \n",
    "###alternative (поджанры: indie, grunge, post-rock, britpop, shoegaze, garage rock); \n",
    "###metal + все теги, содержащие это слово + death-doom; \n",
    "###punk + все теги, содержащие это слово\n",
    "###progressive rock + art rock\n",
    "### psychedellic\n",
    "### rock'n'roll + rockabilly\n",
    "###classic rock (возможно, объединить со следующим)\n",
    "###glam rock+hard rock\n",
    "###industrial, experimental -- на стыке alternative, punk, metal\n",
    "###hardcore на стыке alternative, punk, metal\n",
    "### pop rock -- и pop, и rock\n",
    "### folk rock -- и folk, и rock (лучше folk)"
   ]
  }
 ],
 "metadata": {
  "kernelspec": {
   "display_name": "Python 3",
   "language": "python",
   "name": "python3"
  },
  "language_info": {
   "codemirror_mode": {
    "name": "ipython",
    "version": 3
   },
   "file_extension": ".py",
   "mimetype": "text/x-python",
   "name": "python",
   "nbconvert_exporter": "python",
   "pygments_lexer": "ipython3",
   "version": "3.4.3"
  }
 },
 "nbformat": 4,
 "nbformat_minor": 0
}
