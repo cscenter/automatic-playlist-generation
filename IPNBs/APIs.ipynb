{
 "cells": [
  {
   "cell_type": "markdown",
   "metadata": {},
   "source": [
    "#Обзор музыкальных API из https://musicmachinery.com/music-apis/"
   ]
  },
  {
   "cell_type": "markdown",
   "metadata": {},
   "source": [
    "## Last.fm "
   ]
  },
  {
   "cell_type": "markdown",
   "metadata": {},
   "source": [
    "http://www.last.fm/api Библиотека pylast, методы:\n",
    "\n",
    "\n",
    "- Artist.getTopTags\n",
    "- Artist.getSimilar\n",
    "- Artist.getTopTracks\n",
    "\n",
    "- Album.getTopTags\n",
    "\n",
    "- Track.getSimilar\n",
    "- Track.getTopTags\n",
    "\n",
    "- Tag.getTopArtists\n",
    "- Tag.getTopTracks\n"
   ]
  },
  {
   "cell_type": "markdown",
   "metadata": {},
   "source": [
    "На примере AC/DC - Highway to Hell и тега classic rock."
   ]
  },
  {
   "cell_type": "code",
   "execution_count": 1,
   "metadata": {
    "collapsed": true
   },
   "outputs": [],
   "source": [
    "import pylast\n",
    "import time\n",
    "\n",
    "LAST_FM_USER = \"\"\n",
    "LAST_FM_PASSWORD = \"\"\n",
    "LAST_FM_API_KEY = \"\"\n",
    "LAST_FM_API_SECRET = \"\"\n",
    "\n",
    "username = LAST_FM_USER\n",
    "password_hash = pylast.md5(LAST_FM_PASSWORD)\n",
    "network = pylast.LastFMNetwork(api_key=LAST_FM_API_KEY, api_secret=LAST_FM_API_SECRET, username=username, password_hash=password_hash)\n"
   ]
  },
  {
   "cell_type": "code",
   "execution_count": 8,
   "metadata": {
    "collapsed": false
   },
   "outputs": [],
   "source": [
    "artist_data = network.get_artist(\"ac/dc\")\n",
    "tag = [t[0].get_name() for t in artist_data.get_top_tags()]\n",
    "cnt = [t[1] for t in artist_data.get_top_tags()]\n",
    "tag_dict = dict(zip(tag, cnt))"
   ]
  },
  {
   "cell_type": "code",
   "execution_count": 9,
   "metadata": {
    "collapsed": false
   },
   "outputs": [
    {
     "name": "stdout",
     "output_type": "stream",
     "text": [
      "[('blues', '1'), ('classic', '1'), ('old school', '1'), ('90s', '2'), ('australia', '2'), (\"rock'n'roll\", '2'), ('alternative', '2'), ('guitar', '2'), ('rock n roll', '3'), ('AC/DC', '4'), ('blues rock', '4'), ('ACDC', '4'), ('Rock and Roll', '4'), ('70s', '5'), ('80s', '8'), ('seen live', '8'), ('australian', '10'), ('metal', '21'), ('heavy metal', '31'), ('rock', '57'), ('classic rock', '63'), ('hard rock', '100')]\n"
     ]
    }
   ],
   "source": [
    "# теги исполнителя\n",
    "print(sorted(tag_dict.items(), key=lambda x:int(x[1])))"
   ]
  },
  {
   "cell_type": "markdown",
   "metadata": {},
   "source": [
    "Интересно, почему metal/heavy metal и как отследить, что это и аналогичные случаи неверны."
   ]
  },
  {
   "cell_type": "code",
   "execution_count": 10,
   "metadata": {
    "collapsed": false
   },
   "outputs": [
    {
     "name": "stdout",
     "output_type": "stream",
     "text": [
      "['Airbourne', \"Guns N' Roses\", 'Aerosmith', 'Black Sabbath', 'Deep Purple', 'Van Halen', 'Ozzy Osbourne', 'Scorpions', 'Motörhead', 'Kiss', 'Alice Cooper', 'ZZ Top', 'Judas Priest', 'Whitesnake', 'Def Leppard', 'Metallica', 'Accept', 'Krokus', 'Led Zeppelin', 'Rainbow', 'Iron Maiden', 'Dio', 'Mötley Crüe', 'Thin Lizzy', 'Ace Frehley', 'Quiet Riot', 'Twisted Sister', 'Nazareth', 'Sammy Hagar', 'Saxon', 'UFO', 'Y&T', 'Ted Nugent', 'Lynyrd Skynyrd', 'Queen', 'Slash', 'David Lee Roth', 'Skid Row', 'Bon Jovi', 'The Rolling Stones', 'Europe', 'Blue Öyster Cult', 'Uriah Heep', 'Tesla', 'Lita Ford', 'Bad Company', 'Great White', 'Ratt', 'Cinderella', 'Creedence Clearwater Revival', 'Dokken', 'Gotthard', 'W.A.S.P.', 'Michael Schenker Group', 'Status Quo', 'The Who', 'Velvet Revolver', 'Black Label Society', 'Bruce Dickinson', 'Godsmack', 'Budgie', 'Lordi', 'The Cult', 'Montrose', 'AC', 'Gary Moore', 'The Black Crowes', 'Extreme', 'George Thorogood & The Destroyers', 'Ugly Kid Joe', 'Foreigner', 'Foghat', \"Slash's Snakepit\", 'Nickelback', 'Mr. Big', 'Doro', 'Thunder', 'Gene Simmons', 'The Darkness', 'Disturbed', 'Buckcherry', 'Volbeat', 'Boston', 'Dire Straits', 'Foo Fighters', 'Slade', 'Kingdom Come', 'Alice in Chains', 'Poison', 'Cheap Trick', 'Rose Tattoo', 'Journey', 'Meat Loaf', 'Pretty Maids', 'Steppenwolf', 'Audioslave', 'The Answer', 'Molly Hatchet', 'Rush', 'Page & Plant']\n"
     ]
    }
   ],
   "source": [
    "# похожие исполнители\n",
    "sim_art = [a[0].get_name() for a in artist_data.get_similar()]\n",
    "print(sim_art)"
   ]
  },
  {
   "cell_type": "code",
   "execution_count": 12,
   "metadata": {
    "collapsed": false
   },
   "outputs": [
    {
     "name": "stdout",
     "output_type": "stream",
     "text": [
      "['Back in Black', 'Highway to Hell', 'You Shook Me All Night Long', 'Thunderstruck', 'Hells Bells', 'Shoot to Thrill', 'T.N.T.', 'Have a Drink on Me', 'Dirty Deeds Done Dirt Cheap', 'What Do You Do for Money Honey', 'Let There Be Rock', 'Let Me Put My Love Into You', 'Whole Lotta Rosie', 'Shake a Leg', 'Jailbreak', 'The Jack', 'Who Made Who', \"Rock And Roll Ain't Noise Pollution\", 'High Voltage', 'Touch Too Much', 'Girls Got Rhythm', 'Big Balls', 'For Those About to Rock (We Salute You)', \"If You Want Blood (You've Got It)\", 'Given the Dog a Bone', 'Shot Down in Flames', 'Hard as a Rock', 'War Machine', 'Problem Child', 'Walk All Over You', 'Moneytalks', \"It's a Long Way to the Top (If You Wanna Rock 'N' Roll)\", 'Big Gun', 'Rocker', 'TNT', 'Beating Around the Bush', 'Get It Hot', 'Heatseeker', \"Hell Ain't A Bad Place To Be\", 'Big Jack', 'Skies on Fire', \"Rock 'n' Roll Damnation\", 'Are You Ready', 'Live Wire', 'Fire Your Guns', 'Anything Goes', 'Black Ice', 'Night Prowler', 'Ride On', 'Stiff Upper Lip']\n"
     ]
    }
   ],
   "source": [
    "# топ треки исполнителя\n",
    "top_tr = [tr[0].get_name() for tr in artist_data.get_top_tracks()]\n",
    "print(top_tr)"
   ]
  },
  {
   "cell_type": "code",
   "execution_count": 15,
   "metadata": {
    "collapsed": false
   },
   "outputs": [
    {
     "name": "stdout",
     "output_type": "stream",
     "text": [
      "[('classic hard rock', '1'), ('own', '1'), ('1970s', '1'), ('australia', '2'), ('rock n roll', '2'), ('australian', '2'), ('Bon Scott', '2'), ('Highway to Hell', '2'), ('80s', '3'), ('1001 Albums You Must Hear Before You Die', '4'), ('AC/DC', '4'), ('ACDC', '4'), ('favorite albums', '4'), ('favourite albums', '5'), ('heavy metal', '8'), ('blues rock', '8'), ('1979', '10'), ('70s', '21'), ('rock', '31'), ('classic rock', '57'), ('albums I own', '63'), ('hard rock', '100')]\n"
     ]
    }
   ],
   "source": [
    "album = network.get_album(\"AC/DC\", \"Highway to Hell\")\n",
    "album_tag = [alb[0].get_name() for alb in album.get_top_tags()]\n",
    "album_cnt = [alb[1] for alb in artist_data.get_top_tags()]\n",
    "\n",
    "album_dict = dict(zip(album_tag, album_cnt))\n",
    "\n",
    "# теги альбома, сильно пересекаются с тегами исполнителя\n",
    "print(sorted(album_dict.items(), key=lambda x:int(x[1])))"
   ]
  },
  {
   "cell_type": "markdown",
   "metadata": {},
   "source": [
    "Тега metal стало меньше."
   ]
  },
  {
   "cell_type": "code",
   "execution_count": 18,
   "metadata": {
    "collapsed": false
   },
   "outputs": [
    {
     "name": "stdout",
     "output_type": "stream",
     "text": [
      "[('cool', '1'), ('Driving', '1'), ('favorite songs', '1'), ('Ac-Dc', '1'), ('hell', '1'), ('highway', '1'), ('best', '1'), ('FUCKING AWESOME', '1'), ('Soundtrack', '2'), ('australia', '2'), ('1979', '2'), ('Awesome', '2'), ('ac dc', '2'), ('male vocalists', '2'), ('oldies', '2'), ('alternative', '2'), ('house md', '2'), ('classic metal', '2'), ('party', '2'), ('punk', '2'), ('heavy', '2'), ('old school', '2'), ('blues rock', '3'), ('favorites', '3'), ('guitar', '4'), ('classic', '4'), ('Rock and Roll', '4'), ('rock n roll', '4'), ('Highway to Hell', '5'), ('Supernatural', '6'), ('australian', '7'), ('80s', '8'), ('AC/DC', '11'), ('70s', '11'), ('metal', '12'), ('heavy metal', '28'), ('ACDC', '29'), ('classic rock', '64'), ('rock', '66'), ('hard rock', '100')]\n"
     ]
    }
   ],
   "source": [
    "track = network.get_track(\"AC/DC\", \"Highway to Hell\")\n",
    "track_tag = [t[0].get_name() for t in track.get_top_tags()]\n",
    "track_cnt = [t[1] for t in track.get_top_tags()]\n",
    "\n",
    "track_dict = dict(zip(track_tag, track_cnt))\n",
    "\n",
    "# теги трека, тоже пересекается\n",
    "print(sorted(track_dict.items(), key=lambda x:int(x[1])))"
   ]
  },
  {
   "cell_type": "markdown",
   "metadata": {
    "collapsed": true
   },
   "source": [
    "И опять metal/heavy metal достаточно много."
   ]
  },
  {
   "cell_type": "code",
   "execution_count": 24,
   "metadata": {
    "collapsed": false
   },
   "outputs": [
    {
     "name": "stdout",
     "output_type": "stream",
     "text": [
      "['AC/DC - Back in Black', 'AC/DC - Thunderstruck', \"Guns N' Roses - Paradise City\", \"Guns N' Roses - Sweet Child o' Mine\", 'Deep Purple - Smoke on the Water', 'Black Sabbath - Paranoid', 'Scorpions - Rock You Like A Hurricane', 'Alice Cooper - Poison', 'Led Zeppelin - Stairway to Heaven', 'Aerosmith - Dream On']\n"
     ]
    }
   ],
   "source": [
    "# похожие треки, вывод большой, надо подумать по структуре хранения и использования\n",
    "\n",
    "sim_tracks = track.get_similar()\n",
    "sim_tr = ['{} - {}'.format(a[0].get_artist(), a[0].get_name()) for a in sim_tracks]\n",
    "print(sim_tr[:10])"
   ]
  },
  {
   "cell_type": "code",
   "execution_count": 22,
   "metadata": {
    "collapsed": false
   },
   "outputs": [
    {
     "name": "stdout",
     "output_type": "stream",
     "text": [
      "['The Rolling Stones', 'The Doors', 'Neil Young', 'Creedence Clearwater Revival', 'The Jimi Hendrix Experience', 'Electric Light Orchestra', 'The Band', 'Boston', 'The Animals', 'Heart', 'Chicago', 'Steve Miller Band', 'The Doobie Brothers', 'Steppenwolf', 'Buffalo Springfield', 'Jeff Beck', 'Neil Young & Crazy Horse', '10cc', 'Don McLean', 'Ten Years After', 'Traveling Wilburys', 'Traffic', 'Three Dog Night', 'The Guess Who', 'John Fogerty', 'Ringo Starr', 'Big Brother & The Holding Company', 'Bob Seger & The Silver Bullet Band', 'The J. Geils Band', 'Ram Jam', 'Mountain', 'Norman Greenbaum', 'Billy Squier', 'Pete Townshend', 'Little River Band', 'Jim Morrison', 'Redbone', 'Mungo Jerry', 'James Gang', 'Leon Russell', 'Rare Earth', 'The Edgar Winter Group', 'Firefall', 'The Firm', 'King Harvest', 'John Entwistle', 'Steve Miller', 'Sugarloaf', 'Tommy James', 'Roger Glover']\n"
     ]
    }
   ],
   "source": [
    "# топ исполнителей по тегу\n",
    "\n",
    "tags = network.get_tag(\"classic rock\")\n",
    "tag_art = [a[0].get_name() for a in tags.get_top_artists()]\n",
    "print(tag_art)\n"
   ]
  },
  {
   "cell_type": "code",
   "execution_count": 29,
   "metadata": {
    "collapsed": false
   },
   "outputs": [
    {
     "name": "stdout",
     "output_type": "stream",
     "text": [
      "['Queen - Bohemian Rhapsody', \"Guns N' Roses - Sweet Child o' Mine\", 'Led Zeppelin - Stairway to Heaven', \"Guns N' Roses - Welcome to the Jungle\", 'Black Sabbath - Paranoid', 'The Rolling Stones - Paint It Black', 'Eagles - Hotel California', 'R.E.M. - Losing My Religion', \"Guns N' Roses - Paradise City\", 'Pink Floyd - Wish You Were Here', 'The Doors - Break on Through (to the Other Side)', 'AC/DC - Back in Black', \"Queen - Don't Stop Me Now\", 'Johnny Cash - Hurt', 'Queen - We Will Rock You', 'The Beatles - Come Together', \"Journey - Don't Stop Believin'\", 'Queen - Another One Bites the Dust', 'U2 - With or Without You', 'The Beatles - Let It Be', 'Lynyrd Skynyrd - Sweet Home Alabama', 'U2 - Beautiful Day', 'The Doors - Light My Fire', 'Dire Straits - Sultans of Swing', 'Simon & Garfunkel - The Sound of Silence', 'The Beatles - Yesterday', 'The Doors - People Are Strange', 'The Rolling Stones - Sympathy for the Devil', \"Guns N' Roses - November Rain\", 'Bob Dylan - Like a Rolling Stone', 'The Beatles - Help!', 'AC/DC - Highway to Hell', 'Aerosmith - Dream On', 'Pink Floyd - Money', 'The Rolling Stones - Gimme Shelter', \"The Rolling Stones - (I Can't Get No) Satisfaction\", 'Deep Purple - Smoke on the Water', 'The Police - Every Breath You Take', 'Motörhead - Ace of Spades', 'Black Sabbath - Iron Man', 'Led Zeppelin - Immigrant Song', 'Jimi Hendrix - Purple Haze', 'The Beatles - Here Comes the Sun', 'Creedence Clearwater Revival - Fortunate Son', 'The Clash - London Calling', 'Cream - Sunshine of Your Love', 'The Beatles - All You Need Is Love', 'The Beatles - Hey Jude', 'Pink Floyd - Comfortably Numb', 'Jimi Hendrix - All Along the Watchtower']\n"
     ]
    }
   ],
   "source": [
    "# топ треков по тегу\n",
    "\n",
    "tag_tr = ['{} - {}'.format(a[0].get_artist(), a[0].get_name()) for a in tags.get_top_tracks()]\n",
    "\n",
    "print(tag_tr)"
   ]
  },
  {
   "cell_type": "markdown",
   "metadata": {},
   "source": [
    "Исполнители по Tag.getTopArtists отличаются от исполнителей из Tag.getTopTracks"
   ]
  },
  {
   "cell_type": "markdown",
   "metadata": {},
   "source": [
    "##Echonest/Spotify "
   ]
  },
  {
   "cell_type": "markdown",
   "metadata": {},
   "source": [
    "API Echonest переехал на Spotify, который в стране недоступен. Без авторизации можно получать ID исполнителя, которые могут быть нужны для других API. Для удобства используется библиотека https://github.com/plamere/spotipy"
   ]
  },
  {
   "cell_type": "code",
   "execution_count": 7,
   "metadata": {
    "collapsed": false
   },
   "outputs": [],
   "source": [
    "import spotipy\n",
    "\n",
    "spotify = spotipy.Spotify()\n",
    "artist_ID = spotify.search(q='artist:' + \"AC/DC\", type='artist')\n"
   ]
  },
  {
   "cell_type": "code",
   "execution_count": 6,
   "metadata": {
    "collapsed": false
   },
   "outputs": [
    {
     "name": "stdout",
     "output_type": "stream",
     "text": [
      "711MCceyCBcFnzjGY4Q7Un\n"
     ]
    }
   ],
   "source": [
    "import json\n",
    "\n",
    "art = artist_ID['artists']\n",
    "item = art['items']\n",
    "\n",
    "# Spotify ID исполнителя\n",
    "print(item[0]['id'])"
   ]
  },
  {
   "cell_type": "markdown",
   "metadata": {
    "collapsed": true
   },
   "source": [
    "## Quantone (ex-Decibel)"
   ]
  },
  {
   "cell_type": "markdown",
   "metadata": {
    "collapsed": true
   },
   "source": [
    "https://developer.quantonemusic.com/data-service и https://developer.quantonemusic.com/musicgeek-apiref Работа через HTTP requests, можно получить плейлисты по следующим параметрам: исполнители, альбомы, жанры, местонахождение (студии записи), название трека, эпоха. По треку можно получить жанр, настроение, темп, тональность, отношения между исполнителями и много информации, связанной со звукозаписью. Пример заголовка запроса HTTP https://developer.quantonemusic.com/authentication-v3\n",
    "\n",
    "Для работы с запросами HTTP библиотека Requests http://docs.python-requests.org/en/master/"
   ]
  },
  {
   "cell_type": "markdown",
   "metadata": {
    "collapsed": true
   },
   "source": [
    "## MusicBrainz "
   ]
  },
  {
   "cell_type": "markdown",
   "metadata": {
    "collapsed": true
   },
   "source": [
    "JSON http://musicbrainz.org/doc/Development/JSON_Web_Service в стадии beta, основное в XML http://musicbrainz.org/doc/Development/XML_Web_Service/Version_2 . Библиотека http://python-musicbrainzngs.readthedocs.io/en/v0.6/ . Метаданных нет, преимущественно данные о звукозаписи, есть отношения исполнителей между собой (есть и на quantone). Метаданные есть у Picard -- https://picard.musicbrainz.org/docs/plugin-api/"
   ]
  },
  {
   "cell_type": "markdown",
   "metadata": {
    "collapsed": true
   },
   "source": [
    "## Gracenote"
   ]
  },
  {
   "cell_type": "markdown",
   "metadata": {
    "collapsed": true
   },
   "source": [
    "Настроение и биты http://devapi.gracenote.com/timeline/ , используются HTTP запросы. Были ещё вкладки, но сайт на данный момент нестабильно работает, не получается посмотреть что ещё есть."
   ]
  },
  {
   "cell_type": "markdown",
   "metadata": {
    "collapsed": true
   },
   "source": [
    "## Music-story"
   ]
  },
  {
   "cell_type": "markdown",
   "metadata": {},
   "source": [
    "http://developers.music-story.com/developers:\n",
    "\n",
    "- Basic data about artists, songs and releases, enabling you to build a rich database or to deduplicate your own.\n",
    "- High-quality editorial data, such as news, biographies, or album reviews.\n",
    "- Tracking data, such as ISRC, ISWC, IPI.\n",
    "\n",
    "Есть коннекторы -- по жанру или исполнителю можно находить похожие. Много текстовых данных -- биографии, новости, пр."
   ]
  },
  {
   "cell_type": "markdown",
   "metadata": {},
   "source": [
    "## Rovi"
   ]
  },
  {
   "cell_type": "markdown",
   "metadata": {},
   "source": [
    "http://developer.rovicorp.com/page -- метаданные (настроение, стили, темы), рекомендации похожих, подробная документация."
   ]
  },
  {
   "cell_type": "markdown",
   "metadata": {},
   "source": [
    "### TODO:\n",
    "- сайты с плейлистами, радио\n",
    "- http://www.blisshq.com \n",
    "- http://developers.musescore.com/ -- ноты\n",
    "- https://market.mashape.com/songmeanings/songmeanings#!documentation\n",
    "- https://api3.nextbigsound.com/\n",
    "\n",
    "- https://www.acrcloud.com/blog/music-apis-the-list-of-2016 -- ещё список"
   ]
  },
  {
   "cell_type": "code",
   "execution_count": null,
   "metadata": {
    "collapsed": true
   },
   "outputs": [],
   "source": []
  }
 ],
 "metadata": {
  "kernelspec": {
   "display_name": "Python 3",
   "language": "python",
   "name": "python3"
  },
  "language_info": {
   "codemirror_mode": {
    "name": "ipython",
    "version": 3
   },
   "file_extension": ".py",
   "mimetype": "text/x-python",
   "name": "python",
   "nbconvert_exporter": "python",
   "pygments_lexer": "ipython3",
   "version": "3.4.3"
  }
 },
 "nbformat": 4,
 "nbformat_minor": 0
}
