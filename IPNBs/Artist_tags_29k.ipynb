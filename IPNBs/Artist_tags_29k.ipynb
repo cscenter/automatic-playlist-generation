{
 "cells": [
  {
   "cell_type": "markdown",
   "metadata": {},
   "source": [
    "## Теги last.fm 29k исполнителей "
   ]
  },
  {
   "cell_type": "code",
   "execution_count": 1,
   "metadata": {
    "collapsed": true
   },
   "outputs": [],
   "source": [
    "import json\n",
    "\n",
    "path = '/mnt/hdd3/artist_7_16k.json'\n",
    "\n",
    "\n",
    "with open(path) as data_file:\n",
    "    data_d = json.load(data_file)"
   ]
  },
  {
   "cell_type": "code",
   "execution_count": 2,
   "metadata": {
    "collapsed": false
   },
   "outputs": [
    {
     "name": "stdout",
     "output_type": "stream",
     "text": [
      "Pretty printing has been turned OFF\n"
     ]
    }
   ],
   "source": [
    "%pprint"
   ]
  },
  {
   "cell_type": "code",
   "execution_count": 3,
   "metadata": {
    "collapsed": false
   },
   "outputs": [
    {
     "data": {
      "text/plain": [
       "793567"
      ]
     },
     "execution_count": 3,
     "metadata": {},
     "output_type": "execute_result"
    }
   ],
   "source": [
    "tags = []\n",
    "\n",
    "for key in data_d:\n",
    "    tmp_dict = data_d[key]\n",
    "    for t_key in tmp_dict:\n",
    "        tags.append(t_key)\n",
    "        \n",
    "len(tags)"
   ]
  },
  {
   "cell_type": "code",
   "execution_count": 4,
   "metadata": {
    "collapsed": true
   },
   "outputs": [],
   "source": [
    "tags.sort()\n",
    "from collections import Counter\n",
    "\n",
    "tag_count = Counter(tags)\n"
   ]
  },
  {
   "cell_type": "raw",
   "metadata": {},
   "source": [
    "Теги, которые встретились у 500 и более исполнителей:"
   ]
  },
  {
   "cell_type": "code",
   "execution_count": 7,
   "metadata": {
    "collapsed": true
   },
   "outputs": [],
   "source": [
    "tag_popular = {}\n",
    "\n",
    "for key in tag_count:\n",
    "    if (tag_count[key] > 499):\n",
    "        tag_popular[key] = tag_count[key]\n",
    "        "
   ]
  },
  {
   "cell_type": "code",
   "execution_count": 8,
   "metadata": {
    "collapsed": false
   },
   "outputs": [
    {
     "name": "stdout",
     "output_type": "stream",
     "text": [
      "[('french pop', 500), ('Alt-country', 500), ('screamo', 503), ('legend', 505), ('indietronica', 506), ('relaxing', 511), ('melancholy', 512), ('swedish', 515), ('dj', 515), ('london', 517), ('swing', 521), ('trip hop', 523), ('Progressive metal', 526), ('dream pop', 528), ('noise', 529), (\"80's\", 529), ('americana', 531), ('50s', 531), ('brazilian', 532), ('alternative metal', 532), ('groovy', 533), ('relax', 536), ('Progressive House', 540), ('Officially Shit', 549), ('deep house', 551), ('thrash metal', 554), ('breakbeat', 555), ('r and b', 555), ('Garage Rock', 556), ('black metal', 558), ('political', 560), ('atmospheric', 561), ('check out', 573), ('Canadian', 574), ('deutsch', 574), ('Favourites', 575), ('metalcore', 577), ('Smooth Jazz', 583), ('Drum and bass', 584), ('party', 589), ('shit', 590), ('new age', 592), ('old school', 597), ('Gothic', 604), ('power pop', 620), ('eurodance', 622), ('synth pop', 623), ('Grunge', 626), ('nu jazz', 629), ('female vocal', 633), ('under 2000 listeners', 639), ('rock n roll', 644), ('post-rock', 648), ('smooth', 648), ('pop punk', 652), ('italian', 655), ('amazing', 665), ('japanese', 667), ('Need to Rate', 678), ('Psychedelic Rock', 691), ('european', 697), ('germany', 698), ('Rock and Roll', 700), ('Lo-Fi', 703), ('blues rock', 710), ('minimal', 718), ('romantic', 737), ('Avant-Garde', 745), ('idm', 748), ('lesser known yet streamable artists', 752), ('chanson', 762), ('underground hip-hop', 791), ('composer', 803), ('death metal', 804), ('ska', 815), ('chanson francaise', 823), ('fun', 837), ('francais', 843), ('industrial', 853), ('urban', 854), ('gay', 855), ('new york', 857), ('england', 867), ('dub', 867), ('Female Voices', 873), ('Favorite', 882), ('male', 904), ('britpop', 919), ('female vocals', 934), ('Myjukebox', 946), ('Progressive', 947), ('acid jazz', 961), ('country', 961), ('classic', 964), ('groove', 970), ('cool', 978), ('electropop', 1000), ('soft rock', 1005), ('10s', 1005), ('Pop-Rock', 1009), ('California', 1018), ('folk rock', 1041), ('synthpop', 1063), ('rhythm and blues', 1073), ('Fusion', 1083), ('club', 1093), ('post-punk', 1104), ('funky', 1136), ('spanish', 1148), ('vocal', 1160), ('hiphop', 1186), ('german', 1194), ('piano', 1223), ('World Music', 1225), ('heavy metal', 1250), ('r&b', 1255), ('beautiful', 1263), ('male vocalist', 1271), ('Mellow', 1290), ('Disco', 1299), ('Awesome', 1378), ('trip-hop', 1415), ('guitar', 1430), ('sexy', 1440), ('Progressive rock', 1442), ('reggae', 1471), ('trance', 1479), ('france', 1509), ('Classical', 1513), ('easy listening', 1553), ('english', 1573), ('downtempo', 1574), ('new wave', 1589), ('emo', 1594), ('hardcore', 1607), ('60s', 1624), ('psychedelic', 1626), ('lounge', 1636), ('latin', 1656), ('Love', 1671), ('chill', 1694), ('punk rock', 1740), ('oldies', 1787), ('techno', 1915), ('UK', 1942), ('blues', 1992), ('female', 2002), ('world', 2074), ('Soundtrack', 2087), ('indie pop', 2089), ('rnb', 2120), ('hard rock', 2124), ('favorites', 2232), ('70s', 2293), ('ambient', 2343), ('female vocalist', 2362), ('pop rock', 2399), ('british', 2436), ('House', 2443), ('electro', 2493), ('acoustic', 2496), ('classic rock', 2557), ('hip hop', 2569), ('metal', 2571), ('rap', 2592), ('instrumental', 2623), ('punk', 2691), ('funk', 2727), ('french', 2750), ('indie rock', 2927), ('experimental', 2985), ('spotify', 3096), ('Hip-Hop', 3281), ('soul', 3315), ('80s', 3397), ('folk', 3441), ('chillout', 3501), ('alternative rock', 3785), ('USA', 3797), ('jazz', 3864), ('electronica', 3929), ('90s', 4049), ('singer-songwriter', 4173), ('dance', 4573), ('female vocalists', 4616), ('00s', 4818), ('american', 5245), ('indie', 5562), ('male vocalists', 5757), ('All', 6146), ('electronic', 6344), ('alternative', 6867), ('pop', 8726), ('rock', 8791), ('seen live', 11269)]\n"
     ]
    }
   ],
   "source": [
    "import operator\n",
    "print(sorted(tag_popular.items(), key=operator.itemgetter(1)))"
   ]
  },
  {
   "cell_type": "code",
   "execution_count": 9,
   "metadata": {
    "collapsed": true
   },
   "outputs": [],
   "source": [
    "tag_list = []\n",
    "\n",
    "for key in tag_popular:\n",
    "    tag_list.append(key)\n"
   ]
  },
  {
   "cell_type": "code",
   "execution_count": 10,
   "metadata": {
    "collapsed": true
   },
   "outputs": [],
   "source": [
    "l = len(tag_list)\n",
    "\n",
    "l_d = len(data_d)\n",
    "\n",
    "tags_2d = [[] for i in range(l_d)]\n",
    "\n",
    "cnt = 0\n",
    "for key in data_d:\n",
    "    tmp_dict = data_d[key]\n",
    "    tmp_list = []\n",
    "    for t_key in tmp_dict:\n",
    "        tmp_list.append(t_key)\n",
    "        \n",
    "    tags_2d[cnt] = tmp_list\n",
    "    cnt += 1\n"
   ]
  },
  {
   "cell_type": "code",
   "execution_count": 12,
   "metadata": {
    "collapsed": true
   },
   "outputs": [],
   "source": [
    "# популярные теги\n",
    "\n",
    "joint_tags = [[] for i in range(l)]\n",
    "\n",
    "for i in range(l):\n",
    "    tmp = []\n",
    "    for j in range(l_d):\n",
    "        if tag_list[i] in tags_2d[j]:\n",
    "            tmp.extend(tags_2d[j])\n",
    "    joint_tags[i].extend(tmp)"
   ]
  },
  {
   "cell_type": "code",
   "execution_count": 15,
   "metadata": {
    "collapsed": false
   },
   "outputs": [],
   "source": [
    "n = tag_list.index('rock')\n",
    "rock_cnt = Counter(joint_tags[n])"
   ]
  },
  {
   "cell_type": "code",
   "execution_count": 17,
   "metadata": {
    "collapsed": false
   },
   "outputs": [
    {
     "name": "stdout",
     "output_type": "stream",
     "text": [
      "8791 5689\n"
     ]
    }
   ],
   "source": [
    "print(rock_cnt['rock'], rock_cnt['pop'])"
   ]
  },
  {
   "cell_type": "code",
   "execution_count": 18,
   "metadata": {
    "collapsed": false
   },
   "outputs": [
    {
     "name": "stdout",
     "output_type": "stream",
     "text": [
      "2016 2124\n"
     ]
    }
   ],
   "source": [
    "n = tag_list.index('hard rock')\n",
    "rock_cnt = Counter(joint_tags[n])\n",
    "print(rock_cnt['rock'], rock_cnt['hard rock'])"
   ]
  },
  {
   "cell_type": "code",
   "execution_count": 19,
   "metadata": {
    "collapsed": false
   },
   "outputs": [
    {
     "name": "stdout",
     "output_type": "stream",
     "text": [
      "1045 2124\n"
     ]
    }
   ],
   "source": [
    "print(rock_cnt['pop'], rock_cnt['hard rock'])"
   ]
  },
  {
   "cell_type": "code",
   "execution_count": 20,
   "metadata": {
    "collapsed": false
   },
   "outputs": [
    {
     "name": "stdout",
     "output_type": "stream",
     "text": [
      "850 2124\n"
     ]
    }
   ],
   "source": [
    "print(rock_cnt['heavy metal'], rock_cnt['hard rock'])"
   ]
  }
 ],
 "metadata": {
  "kernelspec": {
   "display_name": "Python 3",
   "language": "python",
   "name": "python3"
  },
  "language_info": {
   "codemirror_mode": {
    "name": "ipython",
    "version": 3
   },
   "file_extension": ".py",
   "mimetype": "text/x-python",
   "name": "python",
   "nbconvert_exporter": "python",
   "pygments_lexer": "ipython3",
   "version": "3.4.3"
  }
 },
 "nbformat": 4,
 "nbformat_minor": 0
}
