{
 "cells": [
  {
   "cell_type": "markdown",
   "metadata": {},
   "source": [
    "# Категории тегов исполнителей из 72 тысяч плейлистов с deezer.com"
   ]
  },
  {
   "cell_type": "raw",
   "metadata": {},
   "source": [
    "Выводы из прошлого отчёта:\n",
    "\n",
    "Предварительные категории:\n",
    "    \n",
    "эпоха: '50s', '60s', '70s', '80s', '90s', '00s'\n",
    "\n",
    "пол вокалиста: 'male vocalists', 'female vocalists'\n",
    "\n",
    "страна: 'french', 'USA', 'jamaica', 'brazilian', ...\n",
    "\n",
    "жанры и поджанры. большие категории: 'pop', 'rock', 'electronic', 'Hip-Hop', ... -- разделять на небольшие, сверялть с матчастью."
   ]
  },
  {
   "cell_type": "code",
   "execution_count": null,
   "metadata": {
    "collapsed": true
   },
   "outputs": [],
   "source": [
    "Список тегов по убыванию популярности:"
   ]
  },
  {
   "cell_type": "code",
   "execution_count": 1,
   "metadata": {
    "collapsed": true
   },
   "outputs": [],
   "source": [
    "import json\n",
    "import operator\n",
    "\n",
    "\n",
    "path_in = \"72K_artist_tags.json\"\n",
    "\n",
    "data = json.load(open(path_in))\n",
    "\n",
    "total_count = {}\n",
    "\n",
    "\n",
    "for key in data:                   \n",
    "    tmp_dict = data[key]\n",
    "    for tag in tmp_dict:\n",
    "        if tag in total_count:\n",
    "            total_count[tag] += 1\n",
    "\n",
    "        else:\n",
    "            total_count[tag] = 1\n",
    "\n"
   ]
  },
  {
   "cell_type": "code",
   "execution_count": 2,
   "metadata": {
    "collapsed": true
   },
   "outputs": [],
   "source": [
    "sort_tags = sorted(total_count.items(), key=operator.itemgetter(1), reverse=True)"
   ]
  },
  {
   "cell_type": "code",
   "execution_count": 3,
   "metadata": {
    "collapsed": true
   },
   "outputs": [],
   "source": [
    "tags = [tag[0] for tag in sort_tags]         # просто теги"
   ]
  },
  {
   "cell_type": "code",
   "execution_count": 4,
   "metadata": {
    "collapsed": true
   },
   "outputs": [],
   "source": [
    "tag_cnt = [tag[1] for tag in sort_tags]      # подсчёт использований"
   ]
  },
  {
   "cell_type": "raw",
   "metadata": {},
   "source": [
    "Топ-100 тегов:"
   ]
  },
  {
   "cell_type": "code",
   "execution_count": 5,
   "metadata": {
    "collapsed": false
   },
   "outputs": [
    {
     "name": "stdout",
     "output_type": "stream",
     "text": [
      "['seen live', 'pop', 'rock', 'All', 'electronic', 'alternative', 'indie', 'male vocalists', 'american', 'female vocalists', 'dance', '00s', 'singer-songwriter', 'electronica', 'spotify', 'jazz', 'folk', 'USA', 'chillout', 'alternative rock', '90s', 'soul', 'experimental', 'indie rock', 'Hip-Hop', '80s', 'french', 'funk', 'electro', 'instrumental', 'House', 'british', 'acoustic', 'ambient', 'punk', 'indie pop', 'female vocalist', 'rap', 'hip hop', 'metal', 'classic rock', 'world', 'blues', '70s', 'pop rock', 'Soundtrack', 'rnb', 'UK', 'favorites', 'female', 'hard rock', 'techno', 'downtempo', 'psychedelic', 'oldies', 'chill', '60s', 'lounge', 'Classical', 'punk rock', 'new wave', 'english', 'guitar', 'easy listening', 'Love', 'hardcore', 'reggae', 'france', 'latin', 'trip-hop', 'trance', 'sexy', 'Disco', 'Progressive rock', 'piano', 'emo', 'german', 'Mellow', 'Awesome', 'vocal', 'World Music', 'beautiful', '10s', 'male vocalist', 'synthpop', 'r&b', 'post-punk', 'heavy metal', 'folk rock', 'funky', 'Fusion', 'electropop', 'club', 'under 2000 listeners', 'country', 'groove', 'rhythm and blues', 'California', 'Progressive', 'Myjukebox']\n"
     ]
    }
   ],
   "source": [
    "print(tags[:100])"
   ]
  },
  {
   "cell_type": "markdown",
   "metadata": {},
   "source": [
    "## Эпоха"
   ]
  },
  {
   "cell_type": "raw",
   "metadata": {},
   "source": [
    "Среди топ-тегов популярны следующие теги, отражающие эпоху:\n",
    "\n",
    "'60s', '70s', '80s', '90s', '00s'\n",
    "\n",
    "Поиск по тегам одной из следующих подстрок с выводом количества использований тега и в отсортированном по этому количеству виде: "
   ]
  },
  {
   "cell_type": "code",
   "execution_count": 7,
   "metadata": {
    "collapsed": true
   },
   "outputs": [],
   "source": [
    "epoch_sub = ['0s', \"0's\"]"
   ]
  },
  {
   "cell_type": "code",
   "execution_count": 11,
   "metadata": {
    "collapsed": true
   },
   "outputs": [],
   "source": [
    "epoch_tags = []\n",
    "\n",
    "l_t = len(tags)\n",
    "\n",
    "for i in range(l_t):\n",
    "    tag = sort_tags[i][0]   \n",
    "    if ((tag.find(epoch_sub[0]) != -1) or (tag.find(epoch_sub[1]) != -1)):\n",
    "        epoch_tags.append(sort_tags[i])"
   ]
  },
  {
   "cell_type": "code",
   "execution_count": 14,
   "metadata": {
    "collapsed": false
   },
   "outputs": [
    {
     "name": "stdout",
     "output_type": "stream",
     "text": [
      "[('00s', 5224), ('90s', 4122), ('80s', 3688), ('70s', 2516), ('60s', 2028), ('10s', 1452), ('50s', 700), (\"80's\", 579), ('2000s', 450), ('2010s', 390), (\"70's\", 363), (\"60's\", 320), (\"90's\", 309), ('40s', 309), ('1980s', 249), ('1990s', 245), ('80s Pop', 241), ('30s', 216), ('1960s', 182), ('60s pop', 151), ('1970s', 143), (\"00's\", 140), ('80s rock', 100), ('90s Rock', 86), ('90s pop', 76), ('80s metal', 75), (\"50's\", 72), ('20s', 70), ('90s dance', 69), ('90s Rnb', 65), ('80s soul', 62), ('60s girls', 61), ('french 60s', 55), ('1920s', 53), ('80s groove', 53), ('70s rock', 51), ('80s hair metal', 48), ('1950s', 46), (\"70's rock\", 46), ('60s rock', 44), ('70s disco', 44), ('70s pop', 43), ('90s alternative', 42), ('1930s', 40), ('60s garage', 38), ('1940s', 38), ('rock 70s', 36), ('great 60s', 32), ('70s80s', 30), ('80s funk', 27), ('00s rock', 26), ('90s country', 26), ('60s revival', 26), ('60s psychedelic and garage', 25), ('best of 80s', 25), ('60s-70s', 25), ('80s hardcore', 24), ('1970s Soul', 23), ('70s progressive rock', 23), ('80s disco', 22), ('80s dance', 22), ('80s Pop Espanol', 21), ('90s soul', 21), ('eurodance 90s', 20), ('60s British', 20), ('90s emo', 20), ('70s soul', 20), ('50s and 60s', 19), ('70s-80s rock', 19), ('80s Heavy Metal', 19), ('60s soul', 19), ('80s country', 18), ('70s Show', 18), ('80s alternative', 17), ('Dance 90s', 17), ('00s pop', 17), ('hip hop 90s', 16), ('90s euro disco', 16), ('prog of 70s', 16), ('90s hip-hop', 15), ('rock 60s', 15), ('1900s', 15), ('1910s', 15), ('90s metalcore', 15), ('60s-90s pop-rock', 14), ('90s indie', 14), ('80s hard rock', 14), ('90s rap', 14), (\"1970's\", 14), ('50s Rock and Roll', 14), ('british 60s', 13), (\"80's metal\", 13), (\"'70s\", 13), ('1960s Soul', 13), ('80s revival', 12), (\"2000's\", 12), ('90s Hardcore', 12), ('90s Eurodance', 11), ('80s underground', 11), ('Around 70s', 11), ('we love the 80s', 11), ('60s British Invasion', 10), ('70s country', 10), (\"'80s\", 10), ('gdchills00s', 10), ('60s girl groups', 10), ('00s indie', 10), ('80s goth', 10), ('US 60s 70s Rock and Pop', 10), ('60s girl-groups', 10), ('early 90s', 10), (\"80's music\", 9), ('60s Psychedelic', 9), ('80s RnB', 9), ('Britain in the 50s', 9), ('60s-Rock', 9), ('90s Hip Hop', 9), ('80s New Wave', 9), ('alternative 80s', 9), ('80sPop', 8), ('greatest 60s-70s bands', 8), ('1960s-rock', 8), ('60s Gold', 8), ('1960s-garage-rock', 8), (\"'60s\", 8), (\"80's rock\", 8), ('0seen', 8), ('80s grooves', 8), ('00s alternative', 8), ('late 90s', 8), ('1960s-pop', 8), ('hard of 70s', 8), ('60s-pop', 8), ('90s mainstream', 8), (\"1920's\", 8), ('rock of 70s', 8), ('00s ambient', 8), ('50s n 60s girl bands', 7), ('1960s-pop-rock', 7), ('60s-pop-rock', 7), ('70s college favorites', 7), ('10s pop', 7), ('90s r&b', 7), ('I love the 80s', 7), ('90s Britpop', 7), ('1960s psychedelic', 7), ('1960s-garage', 7), ('1960s-american-pop-rock', 7), ('1960s pop', 7), ('80s Music', 7)]\n"
     ]
    }
   ],
   "source": [
    "print(epoch_tags[:150])"
   ]
  },
  {
   "cell_type": "raw",
   "metadata": {},
   "source": [
    "Неприятны теги, охватывающие промежуток более декады: '70s-80s rock', '60s-90s pop-rock' и пр. -- но они и не популярны. Можно не обрабатывать отдельно аналогичные теги, а всё вместе обрабатывать следующим образом:\n",
    "\n",
    "x0s или x0's переводится в 20x0 декаду в случае x = 0, x = 1 и в 19x0 декаду в остальных случаях."
   ]
  },
  {
   "cell_type": "raw",
   "metadata": {},
   "source": [
    "Даст ли что-то S в конце декады вместо s:"
   ]
  },
  {
   "cell_type": "code",
   "execution_count": 20,
   "metadata": {
    "collapsed": true
   },
   "outputs": [],
   "source": [
    "epoch_sub2 = ['0S', \"0'S\"]"
   ]
  },
  {
   "cell_type": "code",
   "execution_count": 21,
   "metadata": {
    "collapsed": true
   },
   "outputs": [],
   "source": [
    "epoch_tags2 = []\n",
    "\n",
    "for i in range(l_t):\n",
    "    tag = sort_tags[i][0]    \n",
    "    if ((tag.find(epoch_sub2[0]) != -1) or (tag.find(epoch_sub2[1]) != -1)):\n",
    "        epoch_tags2.append(sort_tags[i])"
   ]
  },
  {
   "cell_type": "code",
   "execution_count": 22,
   "metadata": {
    "collapsed": false
   },
   "outputs": [
    {
     "name": "stdout",
     "output_type": "stream",
     "text": [
      "[('BIG BANDS OF THE 40S AND 50S', 4), ('80SCARYASFUCK', 1), ('BIG BANDS OF 40S AND 50S', 1), ('40S-50S JAZZ LADIES', 1), ('90S TRASH', 1)]\n"
     ]
    }
   ],
   "source": [
    "print(epoch_tags2)"
   ]
  },
  {
   "cell_type": "code",
   "execution_count": null,
   "metadata": {
    "collapsed": true
   },
   "outputs": [],
   "source": [
    "Поиском с большой S можно пренебречь."
   ]
  },
  {
   "cell_type": "markdown",
   "metadata": {},
   "source": [
    "## Пол вокалиста "
   ]
  },
  {
   "cell_type": "raw",
   "metadata": {},
   "source": [
    "Теги, содержащие подстроку гендерной принадлежности 'male':"
   ]
  },
  {
   "cell_type": "code",
   "execution_count": 23,
   "metadata": {
    "collapsed": true
   },
   "outputs": [],
   "source": [
    "gender_tags = []\n",
    "\n",
    "for i in range(l_t):  \n",
    "    tag = sort_tags[i][0]      \n",
    "    if (((tag.find('male') != -1)) or ((tag.find('Male') != -1))):\n",
    "        gender_tags.append(sort_tags[i])"
   ]
  },
  {
   "cell_type": "code",
   "execution_count": 24,
   "metadata": {
    "collapsed": false
   },
   "outputs": [
    {
     "name": "stdout",
     "output_type": "stream",
     "text": [
      "[('male vocalists', 6587), ('female vocalists', 5812), ('female vocalist', 2869), ('female', 2277), ('male vocalist', 1446), ('Female Voices', 1111), ('female vocals', 1052), ('male', 1041), ('female vocal', 723), ('female artists', 530), ('male vocal', 289), ('female fronted', 221), ('Female fronted metal', 209), ('female singer-songwriter', 195), ('female singers', 152), ('female singer', 125), ('female guitarists', 117), ('female voice', 111), ('male country', 104), ('male vocals', 99), ('male solo artists', 99), ('smell of female', 94), ('female singer-songwriters', 75), ('female-vocalists', 67), ('female jazz vocalist', 67), ('shemale vocalists', 67), ('sexy female vocals', 67), ('jazzy female vocal', 63), ('french female', 62), ('male solo artist', 60), ('Female country', 58), ('male singer', 58), ('female lady', 54), ('lady female', 54), ('shemale', 53), ('female fronted rock', 52), ('Male Singer-Songwriter', 51), ('Female jazz vocalists', 49), ('female woman lady', 49), ('female rock', 49), ('all-male bands', 48), ('female rapper', 45), ('female rap', 45), ('Female solo artists', 44), ('male artists', 44), ('male voice', 39), ('female singles', 36), ('female jazz vocal', 34), ('female jazz', 33), ('male singles', 32), ('female vocal trance', 32), ('male singer-songwriters', 32), ('Female Jazz Singers', 31), ('female emcees', 31), ('Male Groups', 31), ('Male voices', 30), ('female dance vocals', 29), ('Real female thing', 29), ('Female Artist', 28), ('Male Artist', 27), ('Female folk', 26), ('female mc', 26), ('male and female', 25), ('Male Singers', 25), ('swedish female singers', 24), ('shemale fronted metal', 23), ('male feet', 23), ('female blogger', 23), ('males', 22), ('male solo', 21), ('sexy female', 21), ('sweetest female voices', 21), ('1 female 2 males', 20), ('female solo', 20), ('male and female vocalists', 20), ('male group', 19), ('jazz female vocalists', 19), ('female rappers', 19), ('Female rockabilly', 18), ('female pianist', 18), ('female jazz singer', 17), ('male fronted', 17), ('SOLOMUSIKA-female vocalists', 17), ('female opera singer', 16), ('females', 16), ('female dancehall', 15), ('female blues vocalist', 15), ('portuguese female vocalists', 15), ('Brazilian Female Vocalists', 14), ('female punk', 14), ('solo males', 14), ('country female', 13), ('Female Guitarist', 13), ('female reggae', 13), ('female folkie', 13), ('female fronted punk', 13), ('female pop', 13), ('smooth-male-vocal', 13), ('Female Group', 12), ('virally female', 12), ('female popular vocal', 12), ('female jazz instrumentalists', 11), ('all-female', 11), ('solo male', 11), ('smooth male vocals', 11), ('male vocal jazz', 11), ('female vocal jazz', 11), ('all-female band', 11), ('Favourite Females', 11), ('favourite female vocalists', 10), ('female hip hop', 10), ('uk female band', 10), ('female singer: jazz', 10), ('Female Vox', 10), ('male jazz vocal', 10), ('My Top 100 Female Vocalists', 10), ('female soul', 10), ('swedish male singers', 10), ('with female singers', 9), ('female blues artists', 9), ('female blues', 9), ('female funk', 9), ('greek female vocalists', 9), ('male and female vocals', 9), ('all-female bands', 9), ('Female RnB', 9), ('dutch female vocalists', 9), ('famale vocalists', 9), ('male vocalists in radio TV and film', 8), ('male vox', 8), ('female vocalists-pianists', 8), ('female power voice', 8), ('Female voaclist', 8), ('female vocalist with male band', 8), ('singing female', 8), ('male vocal group', 8), ('male rnb', 8), ('keepin-it-male-smoothvocals', 8), ('turkish female vocal', 8), ('female band', 8), ('there -are- female vocalists in my library', 8), ('female rnb singer', 7), ('female jazz vocalist fav', 7), ('the fabulous female voice', 7), ('Female Piano Player', 7), ('female songwriter', 7), ('female jazz vocalist mp3', 7), ('female singer: jazz - favorite', 7), ('all female', 7), ('japanese female vocalists', 7)]\n"
     ]
    }
   ],
   "source": [
    "print(gender_tags[:150])"
   ]
  },
  {
   "cell_type": "raw",
   "metadata": {},
   "source": [
    "В большинстве случаев всё понятно, хотя 'shemale' выбивается. С другой стороны, в популярных тегах этого и нет. Категоризация по следующей системе: искать male (Male), если при этом есть female (Female) в теге -- относить к женскому вокалу, если нет -- к мужскому. Тогда shemale получается как мужской вокал, что не политкорректно, зато по сути."
   ]
  },
  {
   "cell_type": "markdown",
   "metadata": {},
   "source": [
    "##Страна "
   ]
  },
  {
   "cell_type": "raw",
   "metadata": {},
   "source": [
    "Нужно смотреть на попарную встречаемость. Например, среди самых популярных тегов были замечены следующие:\n",
    "\n",
    "'american', 'USA'\n",
    "'british', 'english', 'UK'\n",
    "\n",
    "Попарная встречаемость для 'american':"
   ]
  },
  {
   "cell_type": "code",
   "execution_count": 34,
   "metadata": {
    "collapsed": true
   },
   "outputs": [],
   "source": [
    "from collections import Counter\n",
    "\n",
    "big_tag = []\n",
    "\n",
    "for key in data:\n",
    "    tmp_dict = data[key]\n",
    "    tmp_list = [tag for tag in tmp_dict.keys()]\n",
    "    if (len(tmp_list) > 0):\n",
    "        big_tag.append(tmp_list)\n",
    "\n",
    "\n",
    "def cooc(tag, n_out):\n",
    "    tags = []\n",
    "    l = len(big_tag)\n",
    "\n",
    "    for i in range(l):\n",
    "        if tag in big_tag[i]:\n",
    "            tags.extend(big_tag[i])\n",
    "    print(Counter(tags).most_common(n_out))\n",
    "\n",
    "    return"
   ]
  },
  {
   "cell_type": "code",
   "execution_count": 35,
   "metadata": {
    "collapsed": false
   },
   "outputs": [
    {
     "name": "stdout",
     "output_type": "stream",
     "text": [
      "[('american', 6403), ('seen live', 4397), ('USA', 3925), ('rock', 3880), ('pop', 3315), ('alternative', 2985), ('All', 2658), ('indie', 2552), ('male vocalists', 2506), ('00s', 2017), ('singer-songwriter', 1968), ('alternative rock', 1800), ('electronic', 1796), ('soul', 1793), ('90s', 1761), ('female vocalists', 1753), ('jazz', 1685), ('indie rock', 1563), ('80s', 1456), ('Hip-Hop', 1437), ('folk', 1427), ('classic rock', 1391), ('funk', 1366), ('dance', 1318), ('blues', 1316), ('experimental', 1304), ('punk', 1277), ('favorites', 1268), ('acoustic', 1243), ('rnb', 1234), ('hip hop', 1192), ('spotify', 1142), ('chillout', 1132), ('rap', 1123), ('metal', 1114), ('oldies', 1109), ('female vocalist', 1092), ('70s', 1087), ('hard rock', 1078), ('indie pop', 1035), ('electronica', 1033), ('60s', 1000), ('instrumental', 958), ('pop rock', 948), ('Soundtrack', 947), ('California', 946), ('new york', 926), ('female', 898), ('Love', 847), ('punk rock', 831), ('r&b', 815), ('rhythm and blues', 807), ('country', 805), ('emo', 789), ('Awesome', 788), ('chill', 787), ('psychedelic', 780), ('hardcore', 778), ('guitar', 751), ('Mellow', 727), ('ambient', 720), ('easy listening', 673), ('male vocalist', 651), ('sexy', 636), ('folk rock', 635), ('hiphop', 627), ('americana', 622), ('Progressive rock', 596), ('vocal', 567), ('United States', 564), ('electro', 562), ('Favorite', 554), ('new wave', 549), ('beautiful', 543), ('funky', 543), ('Myjukebox', 543), ('heavy metal', 536), ('urban', 529), ('underground hip-hop', 519), ('soft rock', 512), ('piano', 498), ('male', 496), ('Alt-country', 491), ('Rock and Roll', 483), ('blues rock', 483), ('Lo-Fi', 482), ('House', 481), ('post-punk', 477), ('Disco', 469), ('10s', 465), ('los angeles', 463), ('rock n roll', 463), ('groove', 454), ('fun', 448), ('50s', 448), ('Female Voices', 447), ('trip-hop', 427), ('lounge', 427), ('female vocals', 423), ('cool', 417), ('classic', 413), ('check out', 410), ('Need to Rate', 408), ('Fusion', 401), ('old school', 400), ('downtempo', 397), ('indie folk', 390), ('smooth', 383), ('Pop-Rock', 379), ('amazing', 376), ('r and b', 371), ('underground rap', 365), ('Avant-Garde', 362), ('Psychedelic Rock', 361), ('techno', 360), ('Grunge', 352), ('pop punk', 349), ('reggae', 348), ('swing', 347), ('power pop', 344), ('Garage Rock', 343), ('post-rock', 340), ('underground', 337), ('synthpop', 332), ('Smooth Jazz', 329), ('Progressive', 327), ('Classical', 322), ('metalcore', 320), ('industrial', 319), ('electropop', 319), ('female vocal', 316), ('acid jazz', 315), ('alternative metal', 310), ('underground hip hop', 309), ('Gangsta Rap', 306), ('Favorite Artists', 296), ('british', 296), ('christian', 293), ('english', 292), ('death metal', 292), ('screamo', 285), ('Neo-Soul', 283), ('NYC', 280), ('dream pop', 280), ('alternative rap', 279), ('east coast rap', 277), ('female artists', 276), ('lesser known yet streamable artists', 273), ('shoegaze', 272), ('texas', 271)]\n"
     ]
    }
   ],
   "source": [
    "cooc('american', 150)"
   ]
  },
  {
   "cell_type": "raw",
   "metadata": {},
   "source": [
    "Тоже местоположение в Америке:\n",
    "'USA', 'California', 'new york', 'americana', 'los angeles', 'NYC', 'texas', ...\n",
    "\n",
    "Смущает наличие 'british'. \n",
    "\n",
    "Если смотреть встречаемость для USA, появятся ещё такие теги:"
   ]
  },
  {
   "cell_type": "raw",
   "metadata": {},
   "source": [
    "'north america', 'Brooklyn', 'New York City', 'East Coast', 'detroit', 'america', 'Dirty South',  'New Weird America', 'Michigan', 'chicago', 'san francisco', 'Pennsylvania', 'georgia', 'Ohio', 'new jersey', 'Massachusetts', 'washington', 'Philadelphia', 'florida', 'Tennessee', 'seattle', 'New Orleans', 'North American', 'LA', 'louisiana', 'portland', 'mississippi', 'Minnesota', 'Nashville', ..."
   ]
  },
  {
   "cell_type": "raw",
   "metadata": {},
   "source": [
    "Выводы такие: штаты, некоторые города, что-то содержащее корень 'americ', части страны вроде  'East Coast', 'Dirty South' и пробовать разные регистры.\n",
    "\n",
    "Какие теги содержат 'americ' или 'Americ':"
   ]
  },
  {
   "cell_type": "code",
   "execution_count": 48,
   "metadata": {
    "collapsed": true
   },
   "outputs": [],
   "source": [
    "americ_tags = []\n",
    "\n",
    "for i in range(l_t):  \n",
    "    tag = sort_tags[i][0]      \n",
    "    if (((tag.find('americ') != -1)) or ((tag.find('Americ') != -1))):\n",
    "        americ_tags.append(sort_tags[i])"
   ]
  },
  {
   "cell_type": "code",
   "execution_count": 52,
   "metadata": {
    "collapsed": false
   },
   "outputs": [
    {
     "name": "stdout",
     "output_type": "stream",
     "text": [
      "[('american', 6403), ('americana', 791), ('north america', 209), ('america', 169), ('New Weird America', 167), ('latin america', 127), ('latinoamerica', 125), ('North American', 102), ('unamerican', 68), ('us-american', 56), ('South American', 46), ('South America', 44), ('american underground', 42), ('American Punk', 39), ('american rock', 36), ('American Idol', 35), ('native american', 33), ('rock latinoamericano', 30), ('america latina', 28), ('latino americain', 27), ('north-american', 22), ('Latinoamericana', 21), ('american indie', 20), ('gothic americana', 19), ('american artist', 19), ('cosmic American music', 18), ('sudamerica', 16), ('American film score composers', 16), ('american rap', 16), ('sudamerican rockers', 15), ('latin american', 15), ('american pop', 13), ('american metal', 13), ('american folk', 12), ('american trad rock', 11), ('American blues', 11), ('americana music', 10), ('united states of america', 10), ('American Thrash Metal', 9), ('American Primitivism', 8), ('American popular music', 8), ('american death metal', 8), ('american hip-hop', 8), ('great american songbook', 7), ('Anthology of American Folk Music', 7), ('american brilliance', 7), ('hates america', 7), ('1960s-american-pop-rock', 7), ('Native Americans', 7), ('caos coleccion latinoamerica', 7), ('musica latinoamericana', 7), ('1960s-american-pop', 7), ('new wave of american heavy metal', 7), ('southamerica', 7), ('1960s-american-mod-rock', 7), ('1960s-american-garage-rock', 7), ('comfy americana', 6), ('american hardcore', 6), ('American CREAM Team', 6), ('american primitive', 6), ('African-American', 6), ('Americas Truth Detector', 6), ('american roots', 6), ('american music', 6), ('caos coleccion rock latinoamericano', 6), ('italian-american', 6), ('American Idol 8', 5), ('americas north newer', 5), ('black american hip-hop', 5), ('american gothic', 5), ('american ska', 5), ('american classical', 5), ('american i like', 5), ('american indian', 5), ('sudamericanrockers', 5), ('american jazz', 5), ('american songbook', 5), ('us american', 5), ('American composer', 4), ('dark americana', 4), ('american popular song', 4), ('American Traditional', 4), ('nueva cancion latinoamericana', 4), ('american artists', 4), ('americano', 4), ('cantautor americana', 4), ('all time americana', 4), ('american roots music', 4), ('central america', 3), ('american pie', 3), ('american soul pol', 3), ('Some contemporary American mainstream rock and singer-songwriters', 3), ('North American Traditions', 3), ('american space music', 3), ('new americana', 3), ('americas north older', 3), ('true american', 3), ('electronica latinoamericana', 3), ('new weird american', 3), ('American folk music', 3)]\n"
     ]
    }
   ],
   "source": [
    "print(americ_tags[:100])"
   ]
  },
  {
   "cell_type": "raw",
   "metadata": {},
   "source": [
    "Нужно отделить 'South America' и подумать насчёт latinoamerica."
   ]
  },
  {
   "cell_type": "code",
   "execution_count": null,
   "metadata": {
    "collapsed": true
   },
   "outputs": [],
   "source": []
  },
  {
   "cell_type": "raw",
   "metadata": {},
   "source": [
    "Встречаемость для UK:"
   ]
  },
  {
   "cell_type": "code",
   "execution_count": 47,
   "metadata": {
    "collapsed": false
   },
   "outputs": [
    {
     "name": "stdout",
     "output_type": "stream",
     "text": [
      "[('UK', 2379), ('british', 2108), ('seen live', 1924), ('rock', 1587), ('pop', 1489), ('alternative', 1399), ('electronic', 1318), ('indie', 1279), ('english', 1184), ('male vocalists', 1059), ('england', 925), ('electronica', 914), ('All', 909), ('00s', 880), ('dance', 826), ('indie rock', 779), ('alternative rock', 779), ('80s', 719), ('chillout', 710), ('female vocalists', 695), ('singer-songwriter', 689), ('90s', 688), ('experimental', 671), ('indie pop', 668), ('britpop', 633), ('electro', 565), ('london', 565), ('classic rock', 559), ('new wave', 549), ('soul', 537), ('ambient', 534), ('jazz', 519), ('folk', 504), ('punk', 491), ('psychedelic', 468), ('post-punk', 447), ('70s', 440), ('pop rock', 438), ('House', 434), ('downtempo', 423), ('funk', 422), ('Hip-Hop', 410), ('trip-hop', 408), ('acoustic', 407), ('spotify', 373), ('female vocalist', 361), ('synthpop', 355), ('instrumental', 341), ('hard rock', 326), ('favorites', 320), ('chill', 320), ('Progressive rock', 319), ('techno', 313), ('female', 304), ('oldies', 301), ('metal', 298), ('blues', 282), ('hip hop', 282), ('punk rock', 280), ('rnb', 279), ('10s', 279), ('60s', 274), ('Soundtrack', 268), ('electropop', 267), ('lounge', 263), ('Mellow', 261), ('rap', 259), ('easy listening', 247), ('Love', 243), ('synth pop', 240), ('Disco', 237), ('soft rock', 237), ('beautiful', 233), ('sexy', 232), ('idm', 225), ('male vocalist', 218), ('guitar', 217), ('breakbeat', 209), ('acid jazz', 206), ('Lo-Fi', 206), ('dub', 206), ('funky', 205), ('Psychedelic Rock', 203), ('Awesome', 202), ('trance', 199), ('Drum and bass', 198), ('art rock', 196), ('dream pop', 196), ('Progressive', 195), ('folk rock', 190), ('Favourites', 188), ('emo', 182), ('reggae', 180), ('Pop-Rock', 180), ('indietronica', 178), ('post-rock', 174), ('Garage Rock', 171), ('hardcore', 167), ('cool', 166), (\"80's\", 165), ('United Kingdom', 165), ('check out', 164), ('industrial', 163), ('american', 163), ('trip hop', 163), ('Post punk', 162), ('dubstep', 161), ('groove', 160), ('r&b', 159), ('british rock', 157), ('atmospheric', 157), ('shoegaze', 156), ('blues rock', 153), ('brit pop', 153), ('power pop', 152), ('male', 151), ('brit rock', 151), ('garage', 150), ('european', 150), ('world', 148), ('Scottish', 147), ('minimal', 146), ('Fusion', 145), ('female vocals', 144), ('nu jazz', 140), ('club', 137), ('vocal', 137), ('fun', 136), ('piano', 135), ('Avant-Garde', 135), ('heavy metal', 134), ('alternative pop', 132), ('Rock and Roll', 130), ('indie folk', 129), ('Need to Rate', 129), ('rock n roll', 129), ('Classical', 127), ('ska', 127), ('scotland', 126), ('beats', 126), ('noise', 125), ('dark', 124), ('lesser known yet streamable artists', 122), ('melancholy', 121), ('deep house', 120), ('synth', 119), ('glam rock', 119), ('bass', 118), ('rhythm and blues', 118), ('classic', 117)]\n"
     ]
    }
   ],
   "source": [
    "cooc('UK', 150)"
   ]
  },
  {
   "cell_type": "raw",
   "metadata": {},
   "source": [
    "'UK', 'british', 'english', 'england', 'london', 'United Kingdom', 'Scottish', ... -- в целом понятно, корень 'brit', 'engl' плюс UK, Scottish.\n",
    "\n",
    "Не очень понятно, как быть с britpop, british rock и пр. особенно britpop как устоявшееся название жанра.\n",
    "\n",
    "Какие теги появятся, если искать с корнями 'brit', 'engl':"
   ]
  },
  {
   "cell_type": "code",
   "execution_count": 53,
   "metadata": {
    "collapsed": true
   },
   "outputs": [],
   "source": [
    "brit_tags = []\n",
    "\n",
    "for i in range(l_t):  \n",
    "    tag = sort_tags[i][0]      \n",
    "    if (((tag.find('brit') != -1)) or ((tag.find('engl') != -1))   \n",
    "        or ((tag.find('Engl') != -1)) or ((tag.find('Brit') != -1))):\n",
    "        brit_tags.append(sort_tags[i])"
   ]
  },
  {
   "cell_type": "code",
   "execution_count": 55,
   "metadata": {
    "collapsed": false
   },
   "outputs": [
    {
     "name": "stdout",
     "output_type": "stream",
     "text": [
      "[('british', 3113), ('english', 1826), ('england', 1084), ('britpop', 1024), ('brit pop', 189), ('brit rock', 184), ('british rock', 180), ('British Girls', 142), ('Britrock', 127), ('british invasion', 104), ('Brit', 80), ('britain', 74), ('British Punk', 59), ('Britney Spears', 49), ('Brit-pop', 47), ('British Blues', 45), ('british folk', 44), ('british pop', 32), ('British Metal', 31), ('british hard rock', 30), ('New Wave of British Heavy Metal', 30), ('english lyrics', 28), ('british indie', 27), ('in english', 24), ('The British are coming', 23), ('british rap', 22), ('British Psychedelia', 21), ('60s British', 20), ('British Columbia', 20), ('english folk', 19), ('british progressive rock', 19), ('brit-hop', 18), ('SOLOMUSIKA-British', 17), ('Great Britain', 17), ('british heavy metal', 16), ('brittany', 16), ('british i like', 14), ('british 60s', 13), ('british blues rock', 13), ('new wave of british folk', 12), ('british soul', 11), ('British Hip-Hop', 11), ('British Hip Hop', 11), ('60s British Invasion', 10), ('british prog', 10), ('brit-rock', 10), ('english rock', 10), ('Britain in the 50s', 9), ('british folk rock', 9), ('british folk-rock', 9), ('britsh', 9), ('british artists', 9), ('brit hop', 9), ('celebrity', 9), ('british jazz', 8), ('British Isles', 8), ('britannique', 8), ('british reggae', 8), ('English language', 8), ('englisch', 8), ('Brit and Jangle-pop', 8), ('British Music', 8), ('brittish', 8), ('new england', 8), ('Brits', 7), ('British Christian music', 7), ('Brit indie', 7), ('90s Britpop', 7), ('from: england', 7), ('brit-pop influences', 7), ('british accent', 7), ('post-Britpop', 7), ('classic British rock', 7), ('now thats what i call british', 7), ('english progressive rock', 6), ('60s british rock', 6), ('metal in non-english language', 6), ('British Psychedelic Rock', 6), ('best of british', 6), ('englishceltic folk', 6), ('british-punk', 5), ('british trad rock', 5), ('brittus-live', 5), ('britney', 5), ('brit metal', 5), ('non-english', 5), ('britsoul', 5), ('Classic British Hard Rock', 5), ('love of england', 4), ('britanny', 4), ('very british', 4), ('british classical', 4), ('English pop', 4), ('non english', 4), ('rock chileno britpop', 4), ('soo very british', 4), ('England - London', 4), ('english metal', 4), ('non-english lyrics', 4), ('british folk master', 4)]\n"
     ]
    }
   ],
   "source": [
    "print(brit_tags[:100])"
   ]
  },
  {
   "cell_type": "raw",
   "metadata": {},
   "source": [
    "Бритни Спирс, конечно, мимо. Как и другие Бритни, которые могут появиться, за ними надо следить. \n",
    "\n",
    "Тег 'english' не является однозначно отсылом к UK -- нужно либо игнорировать его, либо для каждого использования проверять, есть ли в тегах america или canada или ещё чего."
   ]
  },
  {
   "cell_type": "raw",
   "metadata": {},
   "source": [
    "После англичан французы, как иначе. Если смотреть на встречаемость с тегами 'french', 'france', получатся такие теги, однозначно указывающие на страну:"
   ]
  },
  {
   "cell_type": "code",
   "execution_count": 57,
   "metadata": {
    "collapsed": false
   },
   "outputs": [
    {
     "name": "stdout",
     "output_type": "stream",
     "text": [
      "[('french', 3517), ('seen live', 1709), ('france', 1520), ('pop', 1326), ('electronic', 1074), ('All', 1062), ('rock', 1038), ('female vocalists', 860), ('indie', 844), ('alternative', 841), ('spotify', 812), ('francais', 790), ('chanson francaise', 788), ('chanson', 670), ('electronica', 649), ('Hip-Hop', 630), ('electro', 616), ('male vocalists', 576), ('singer-songwriter', 575), ('folk', 574), ('dance', 553), ('jazz', 551), ('rap', 511), ('experimental', 506), ('Français', 499), ('00s', 491), ('french pop', 486), ('hip hop', 472), ('francophone', 434), ('chillout', 430), ('Chanson Française', 413), ('instrumental', 408), ('House', 396), ('world', 366), ('ambient', 355), ('female vocalist', 334), ('80s', 334), ('indie pop', 331), ('indie rock', 322), ('alternative rock', 315), ('90s', 311), ('French rock', 308), ('acoustic', 307), ('french rap', 306), ('techno', 301), ('nouvelle scene francaise', 299), ('punk', 298), ('funk', 296), ('downtempo', 294), ('rap francais', 289), ('metal', 283), ('trip-hop', 276), ('soul', 268), ('lounge', 262), ('female', 255), ('french hip-hop', 252), ('Soundtrack', 252), ('new wave', 240), ('under 2000 listeners', 230), ('rock francais', 228), ('reggae', 227), ('synthpop', 218), ('hardcore', 217), ('psychedelic', 216), ('Fusion', 214), ('World Music', 207), ('pop rock', 203), ('european', 201), ('electropop', 201), ('Disco', 199), ('easy listening', 195), ('70s', 193), ('Classical', 192), ('paris', 186), ('60s', 183), ('vocal', 182), ('10s', 181), ('punk rock', 176), ('rnb', 175), ('piano', 174), ('chill', 169), ('french touch', 169), ('cool', 167), ('sexy', 164), ('Progressive', 160), ('oldies', 158), ('underground hip-hop', 158), ('minimal', 157), ('Progressive rock', 156), ('guitar', 156), ('dub', 156), ('French hip hop', 155), ('beautiful', 155), ('idm', 154), ('hard rock', 151), ('trance', 147), ('hiphop', 145), ('blues', 143), ('club', 143), ('Avant-Garde', 141), ('post-punk', 140), ('groove', 139), ('latin', 137), ('heavy metal', 134), ('humour', 132), ('french electro', 131), ('composer', 130), ('chanson francophone', 130), ('classic rock', 127), ('trip hop', 127), ('american', 127), ('acid jazz', 126), ('Variete francaise', 125), ('post-rock', 122), ('Female Voices', 122), ('Love', 119), ('Pop-Rock', 119), ('Myjukebox', 118), ('Mellow', 118), ('lesser known yet streamable artists', 117), ('british', 117), ('favorites', 115), ('Electroclash', 115), ('industrial', 114), ('male', 113), ('Rap FR', 113), ('french house', 113), ('Canadian', 113), ('ska', 112), ('electro house', 112), ('female vocals', 111), ('funky', 110), ('german', 107), ('folk rock', 105), ('nu jazz', 102), ('male vocalist', 101), ('Drum and bass', 100), ('emo', 99), ('romantic', 99), ('synth pop', 98), ('check out', 97), ('underground rap', 97), ('Lo-Fi', 97), ('atmospheric', 96), ('indietronica', 93), ('hip-hop francais', 93), ('deep house', 93), ('Mondiovision', 93), ('new age', 92), ('Eurovision', 91), ('nouvelle scene french', 91), ('noise', 90), ('gay', 90), ('spanish', 90), ('Awesome', 89), ('dj', 89), ('francophonic', 89), ('english', 89), ('contemporary classical', 88), ('fun', 88), ('death metal', 88), ('francaise', 87), ('cabaret', 87), ('Nouvelle scène française', 86), ('japanese', 86), ('beats', 86), ('Progressive metal', 85), ('dream pop', 85), ('vu en concert', 84), ('underground', 83), ('french metal', 83), ('quebec', 82), ('ye-ye', 82), ('synth', 81), ('USA', 81), ('world fusion', 81), ('ethnic', 81), ('thrash metal', 80), ('Belgium', 80), ('Retro', 80), ('indie folk', 79), ('tech house', 78), ('canada', 77), ('celtic', 77), ('nu-jazz', 77), ('Gothic', 76), ('artistes francais', 76), ('breakbeat', 76), ('Need to Rate', 76), ('dubstep', 75), ('relax', 75), ('composers', 74), ('Psychedelic Rock', 74), ('classic', 73), ('belgian', 73), ('african', 73), ('italian', 73), ('eurodance', 73), ('minimal techno', 72), ('metalcore', 72)]\n"
     ]
    }
   ],
   "source": [
    "cooc('french', 200)"
   ]
  },
  {
   "cell_type": "raw",
   "metadata": {},
   "source": [
    "'francais', 'chanson francaise', 'Français', 'french pop', 'francophone', 'Chanson Française', 'French rock', 'french rap', 'nouvelle scene francaise', 'rap francais', 'rock francais', 'paris', 'french touch', 'French hip hop', 'french electro', 'chanson francophone', 'Variete francaise', 'Rap FR', 'french house', 'francaise', 'francophonic', 'french metal', \n",
    "\n",
    "А ещё 'british', 'german', 'japanese' и 'Canadian'. Последний как раз в тему и надо отслеживать отдельно."
   ]
  },
  {
   "cell_type": "raw",
   "metadata": {},
   "source": [
    "Что встречается вместе с frenc и fran:"
   ]
  },
  {
   "cell_type": "code",
   "execution_count": 61,
   "metadata": {
    "collapsed": true
   },
   "outputs": [],
   "source": [
    "fren_tags = []\n",
    "\n",
    "for i in range(l_t):  \n",
    "    tag = sort_tags[i][0]      \n",
    "    if (((tag.find('frenc') != -1)) or ((tag.find('Frenc') != -1))   \n",
    "        or ((tag.find('fran') != -1)) or ((tag.find('Fran') != -1))):\n",
    "        fren_tags.append(sort_tags[i])"
   ]
  },
  {
   "cell_type": "code",
   "execution_count": 62,
   "metadata": {
    "collapsed": false
   },
   "outputs": [
    {
     "name": "stdout",
     "output_type": "stream",
     "text": [
      "[('french', 3517), ('france', 1729), ('chanson francaise', 853), ('francais', 829), ('Français', 521), ('french pop', 520), ('Chanson Française', 479), ('francophone', 466), ('french rap', 368), ('rap francais', 353), ('French rock', 319), ('nouvelle scene francaise', 313), ('french hip-hop', 284), ('rock francais', 234), ('french touch', 190), ('French hip hop', 176), ('san francisco', 168), ('french house', 155), ('chanson francophone', 144), ('Variete francaise', 141), ('french electro', 141), ('nouvelle scene french', 105), ('hip-hop francais', 104), ('francaise', 94), ('francophonic', 91), ('french metal', 91), ('Nouvelle scène française', 90), ('artistes francais', 80), ('frenchcore', 72), ('french folk', 68), ('rock français', 66), ('french female', 62), ('TNPHP FEB 7th 2008 - French Kiss', 61), ('je France donc je suis', 57), ('nouvelle chanson francaise', 57), ('French Music', 56), ('francophone hip hop', 56), ('french 60s', 55), ('Franca', 55), ('french artist', 54), ('chansons francaise', 53), ('french punk', 52), ('hip hop francais', 51), ('frenchz', 51), ('frenchy', 50), ('franco', 45), ('scene francaise', 44), ('french chanson', 42), ('french artists', 41), ('More Gay Than a San Fransisco Man in a Hawaiian Shirt Sniffing Some Liquid Gold and Watching Sex in the City', 41), ('french lyrics', 40), ('francia', 40), ('Musique Francaise', 38), ('French band', 36), ('French jazz', 35), ('from: france', 35), ('française', 32), ('French Punk-Rock-Ska', 32), ('french reggae', 30), ('french hiphop', 29), ('francuzy', 29), ('French singer', 28), ('metal francais', 28), ('punk francais', 28), ('islamic republic of frankistan', 27), ('reggae francais', 27), ('francia mia', 26), ('francorock', 26), ('hip hop french', 25), ('french dub', 25), ('francophonie', 25), ('french indie', 24), ('french rnb', 24), ('humour francais', 23), ('en francais', 23), ('ailenrocfrancophone', 21), ('leiwand - french quarter', 20), ('french soul', 20), ('Frenchies', 19), ('french heavy metal', 19), ('RnB Francais', 19), ('My French Tag', 18), ('artistes francophones', 18), ('selection france', 17), ('french merde', 16), ('french humour', 16), ('French Hot', 15), ('frenchais', 15), ('radio francais', 15), ('doucefrance', 15), ('France hip hop', 15), ('Frankfurt', 14), ('french ska', 14), ('frank sinatra', 14), ('Frenchtastic', 14), ('italian-french-spanish', 14), ('Frenchie but chic', 14), ('chanteur francais', 14), ('franceses', 14), ('Franz', 14)]\n"
     ]
    }
   ],
   "source": [
    "print(fren_tags[:100])"
   ]
  },
  {
   "cell_type": "raw",
   "metadata": {},
   "source": [
    "Отдельно следить за: 'san francisco', 'TNPHP FEB 7th 2008 - French Kiss', шикарный тег 'More Gay Than a San Fransisco Man in a Hawaiian Shirt Sniffing Some Liquid Gold and Watching Sex in the City' с 41 использованием плюс лучше задавать Franc и Franç, чтобы убрать Frank."
   ]
  },
  {
   "cell_type": "raw",
   "metadata": {},
   "source": [
    "Германия. С тегом german встречаются такие:"
   ]
  },
  {
   "cell_type": "code",
   "execution_count": 66,
   "metadata": {
    "collapsed": false
   },
   "outputs": [
    {
     "name": "stdout",
     "output_type": "stream",
     "text": [
      "[('german', 1536), ('seen live', 1041), ('electronic', 817), ('germany', 791), ('deutsch', 693), ('pop', 681), ('rock', 650), ('electronica', 581), ('dance', 545), ('All', 497), ('alternative', 463), ('electro', 424), ('techno', 420), ('female vocalists', 400), ('House', 377), ('male vocalists', 377), ('indie', 368), ('metal', 318), ('chillout', 312), ('ambient', 302), ('experimental', 296), ('00s', 275), ('90s', 272), ('trance', 272), ('80s', 264), ('Hip-Hop', 240), ('spotify', 239), ('jazz', 227), ('instrumental', 222), ('minimal', 220), ('rap', 211), ('punk', 208), ('hard rock', 205), ('alternative rock', 200), ('singer-songwriter', 193), ('club', 189), ('soul', 189), ('hip hop', 183), ('heavy metal', 182), ('hardcore', 182), ('Berlin', 181), ('downtempo', 180), ('female vocalist', 180), ('funk', 177), ('european', 175), ('Classical', 171), ('synthpop', 169), ('eurodance', 168), ('indie rock', 162), ('female', 161), ('new wave', 160), ('Disco', 160), ('folk', 156), ('industrial', 152), ('Schlager', 147), ('70s', 146), ('party', 146), ('oldies', 143), ('idm', 139), ('Deutschrock', 136), ('chill', 135), ('deutschsprachig', 135), ('punk rock', 135), ('minimal techno', 134), ('psychedelic', 132), ('electropop', 131), ('lounge', 130), ('tech house', 129), ('classic rock', 124), ('pop rock', 123), ('death metal', 122), ('indie pop', 122), ('trip-hop', 121), ('Progressive', 118), ('deutschland', 118), ('reggae', 117), ('sexy', 117), ('american', 117), ('deep house', 113), ('live gesehen', 113), ('Gothic', 112), ('thrash metal', 110), ('acoustic', 110), ('german artists', 108), ('Progressive rock', 108), ('french', 107), ('easy listening', 104), ('vocal trance', 103), ('british', 102), ('Soundtrack', 102), ('Progressive House', 101), ('hiphop', 100), ('emo', 98), ('black metal', 98), ('Deutsche Schlager', 95), ('dub', 94), ('favorites', 93), ('synth pop', 93), ('electro house', 93), ('progressive trance', 93), ('ebm', 93), ('elektro', 91), ('dj', 91), ('world', 90), ('beautiful', 90), ('Avant-Garde', 90), ('Electroclash', 89), ('vocal', 89), ('post-punk', 89), ('rnb', 89), ('darkwave', 86), ('Love', 85), ('60s', 85), ('gay', 83), ('speed metal', 83), ('USA', 82), ('tech-house', 81), ('funky', 81), ('Power metal', 79), ('Drum and bass', 78), ('blues', 77), ('piano', 77), ('German metal', 76), ('german hiphop', 75), ('male vocalist', 75), ('hamburg', 75), ('latin', 74), ('acid jazz', 73), ('groove', 72), ('metalcore', 71), ('nu jazz', 71), ('Fusion', 71), ('composer', 70), ('cool', 70), ('Gothic Rock', 70), ('ska', 69), ('Hard Trance', 69), ('lesser known yet streamable artists', 69), ('dark', 69), ('Deutschrap', 69), ('atmospheric', 69), ('german lyrics', 68), ('melodic metal', 68), ('UK', 67), ('classic', 67), ('synth', 66), ('Female Voices', 66), ('Awesome', 65), ('Myjukebox', 65), ('noise', 64)]\n"
     ]
    }
   ],
   "source": [
    "cooc('german', 150)"
   ]
  },
  {
   "cell_type": "raw",
   "metadata": {},
   "source": [
    "Корень с german, deutsch, schlager, плюс разделять с austrian. С этими корнями (без шлягера):"
   ]
  },
  {
   "cell_type": "code",
   "execution_count": 67,
   "metadata": {
    "collapsed": true
   },
   "outputs": [],
   "source": [
    "german_tags = []\n",
    "\n",
    "for i in range(l_t):  \n",
    "    tag = sort_tags[i][0]      \n",
    "    if (((tag.find('german') != -1)) or ((tag.find('German') != -1))   \n",
    "        or ((tag.find('deutsch') != -1)) or ((tag.find('Deutsch') != -1))):\n",
    "        german_tags.append(sort_tags[i])"
   ]
  },
  {
   "cell_type": "code",
   "execution_count": 69,
   "metadata": {
    "collapsed": false
   },
   "outputs": [
    {
     "name": "stdout",
     "output_type": "stream",
     "text": [
      "[('german', 1536), ('germany', 884), ('deutsch', 752), ('deutschsprachig', 141), ('Deutschrock', 139), ('deutschland', 126), ('Deutsche Schlager', 117), ('german artists', 108), ('German metal', 83), ('Deutschrap', 82), ('german hiphop', 75), ('german lyrics', 69), ('german hip-hop', 61), ('german rock', 58), ('german rap', 56), ('German hip hop', 54), ('deutsch rock', 46), ('Deutschpop', 46), ('German Pop', 42), ('deutschpunk', 40), ('Deutscher Hip Hop', 38), ('Neue Deutsche Welle', 37), ('Made In Germany', 33), ('deutscher hiphop', 33), ('german reggae', 32), ('Deutsch Rap', 32), ('german artist', 31), ('Deutsche Musik', 27), ('perlen deutschsprachiger popmusik', 27), ('German Bands', 24), ('deutsch pop', 24), ('deutscher schlager', 24), ('from: germany', 23), ('German Indie', 22), ('Deutsch Hiphop', 21), ('german music', 20), ('German Blues Lovers', 19), ('Deutsche Oldies', 19), ('Deutscher Hip-Hop', 19), ('german thrash metal', 18), ('German Punk', 18), ('Deutsch-Rock', 17), ('Musik wegen der ich mich schaeme Deutscher zu sein', 15), ('deutsche texte', 14), ('neue deutsche härte', 14), ('Deutsche', 13), ('Schlager Deutsch', 13), ('German language', 12), ('Neue Deutsche Haerte', 12), ('german electro', 12), ('blues rock radio deutschland', 11), ('German Metalcore', 11), ('deutscher rap', 11), ('blues rock radio germany', 10), ('deutschegdchill', 10), ('Deutscher Sprechgesang', 10), ('german dancehall', 10), ('German Comedy', 9), ('niederrhein1-deutsch', 9), ('blues rock radio germany deutschland', 9), ('Germans', 9), ('german heavy metal', 9), ('Deutschsprachiges', 8), ('good old germany', 8), ('deutsche wertarbeit', 8), ('germanja', 8), ('german band', 8), ('hip-hop deutsch', 8), ('german thrash', 8), ('german schlager', 8), ('german girls', 8), ('Deutsch Punk', 7), ('german power metal', 7), ('german jazz', 7), ('German Black Metal', 7), ('Guter deutscher HipHop', 6), ('hiphop deutsch', 6), ('German Progressive Rock', 6), ('Deutscher Blues', 6), ('german stand up comedy', 5), ('oldschool german hip-hop', 5), ('deutscher pop', 5), ('country deutsch', 5), ('deutschrap mit niveau', 5), ('Blues Lovers Deutschland', 5), ('german ska', 5), ('german death metal', 5), ('german favourites', 5), ('Deutschsprachige Musik', 5), ('german techno', 5), ('Hip Hop - deutsch', 4), ('german composer', 4), ('Deutscher Hip - Hop', 4), ('German Trance', 4), ('Neue Deutsche Todeskunst', 4), ('german speed metal', 4), ('german electronica', 4), ('deutscher ska', 4), ('Alt deutsch schnulzig', 4), ('german according to stretchead', 4)]\n"
     ]
    }
   ],
   "source": [
    "print(german_tags[:100])"
   ]
  },
  {
   "cell_type": "raw",
   "metadata": {},
   "source": [
    "Достаточно однозначно определяется."
   ]
  },
  {
   "cell_type": "raw",
   "metadata": {},
   "source": [
    "Бразилия. С тегом 'brazil' встречаются:"
   ]
  },
  {
   "cell_type": "code",
   "execution_count": 71,
   "metadata": {
    "collapsed": false
   },
   "outputs": [
    {
     "name": "stdout",
     "output_type": "stream",
     "text": [
      "[('brazil', 454), ('brazilian', 381), ('brasil', 353), ('mpb', 262), ('seen live', 260), ('pop', 243), ('latin', 243), ('jazz', 205), ('Bossa Nova', 195), ('samba', 183), ('rock', 178), ('world', 171), ('alternative', 168), ('female vocalists', 159), ('All', 155), ('brazilian music', 150), ('singer-songwriter', 137), ('male vocalists', 136), ('lusofonia', 133), ('00s', 123), ('indie', 123), ('electronic', 119), ('World Music', 117), ('chillout', 112), ('dance', 109), ('funk', 105), ('80s', 104), ('90s', 103), ('lounge', 100), ('folk', 96), ('musica brasileira', 96), ('soul', 94), ('spotify', 92), ('70s', 91), ('portuguese', 88), ('brasileira', 87), ('acoustic', 83), ('latin jazz', 82), ('60s', 79), ('female vocalist', 77), ('instrumental', 76), ('experimental', 76), ('Nacional', 73), ('guitar', 73), ('female', 73), ('musica popular brasileira', 72), ('alternative rock', 72), ('rio de janeiro', 68), ('vi ao vivo', 66), ('electronica', 65), ('pop rock', 64), ('psychedelic', 61), ('Fusion', 60), ('piano', 58), ('downtempo', 57), ('brazilian rock', 57), ('bossa', 55), ('House', 53), ('Hip-Hop', 53), ('punk', 52), ('metal', 52), ('Female Voices', 51), ('10s', 51), ('acid jazz', 51), ('easy listening', 51), ('rock nacional', 50), ('Disco', 50), ('Myjukebox', 50), ('hardcore', 50), ('brasileiro', 50), ('classic rock', 48), ('sexy', 48), ('indie rock', 46), ('Progressive rock', 46), ('Aleyster Crowley', 46), ('chill', 46), ('Argeu california seixas', 46), ('Brazilian Pop', 46), ('Bossanova', 45), ('rap', 45), ('California', 45), ('rock brasileiro', 44), ('aleister crowley', 43), ('vocal', 43), ('groove', 42), ('blues', 41), ('Smooth Jazz', 40), ('lesser known yet streamable artists', 40), ('Nova California Seixas', 40), ('reggae', 40), ('latin america', 40), ('rnb', 40), ('ambient', 40), ('electro', 40), ('Love', 39), ('romantic', 39), ('punk rock', 39), ('nu-jazz', 38), ('cool', 37), ('hard rock', 37), ('oldies', 36), ('Raul Seixas', 36), ('Christopher Lee', 36), ('hip hop', 36), ('Brasilian', 36), ('Latin Grammy nominee', 35), ('female vocals', 35), ('Mellow', 35), ('composer', 34), ('cantor', 34), ('heavy metal', 33), ('california seixas', 33), ('musica', 33), ('american', 33), ('rock brasil', 32), ('trip-hop', 32), ('Wilson Seixas', 32), ('Silvio Passos', 32), ('favorites', 31), ('Brazilian Jazz', 31), ('nu jazz', 31), ('romance', 31), ('BEto Juara', 31), ('Forro', 30), ('Anyzio Rocha', 30), ('cantora', 30), ('indie pop', 30), ('Familia Santos', 29), ('KricaMorena', 29), ('death metal', 29), ('techno', 28), ('Amidio Junior', 28), ('aleister', 28), ('MPB classica', 28), ('new wave', 27), ('USA', 27), ('Argeu California', 27), ('Krica Morena Bela', 27), ('nordeste', 27), ('Awesome', 27), ('merda', 27), ('caracarai', 26), ('Bahia', 26), ('tropicalia', 26), ('lixo', 26), ('Bresil', 26), ('chill906', 26), ('album rock', 26), ('shows', 26), ('Soundtrack', 26)]\n"
     ]
    }
   ],
   "source": [
    "cooc('brazil', 150)"
   ]
  },
  {
   "cell_type": "raw",
   "metadata": {},
   "source": [
    "И снова тег 'british' в который раз дискредитирует себя. Bossa Nova почти всегда Бразилия, хотя есть исполнители этого жанра и из других стран. \n",
    "\n",
    "Из простого: содержит корень brazil, brasil, ещё portuguese, rio de janeiro, vi ao vivo, nacional, ...\n",
    "\n",
    "Нередко california -- при распределении этого тега к американским следует проверять встречаемость с бразильскими."
   ]
  },
  {
   "cell_type": "raw",
   "metadata": {},
   "source": [
    "Жанры отдельно."
   ]
  }
 ],
 "metadata": {
  "kernelspec": {
   "display_name": "Python 3",
   "language": "python",
   "name": "python3"
  },
  "language_info": {
   "codemirror_mode": {
    "name": "ipython",
    "version": 3
   },
   "file_extension": ".py",
   "mimetype": "text/x-python",
   "name": "python",
   "nbconvert_exporter": "python",
   "pygments_lexer": "ipython3",
   "version": "3.4.3"
  }
 },
 "nbformat": 4,
 "nbformat_minor": 0
}
