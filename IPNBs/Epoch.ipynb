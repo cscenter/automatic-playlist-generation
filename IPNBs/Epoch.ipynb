{
 "cells": [
  {
   "cell_type": "markdown",
   "metadata": {
    "collapsed": true
   },
   "source": [
    "## Эпохи в тегах lastfm"
   ]
  },
  {
   "cell_type": "markdown",
   "metadata": {},
   "source": [
    "Данные из датасета http://labrosa.ee.columbia.edu/millionsong/lastfm"
   ]
  },
  {
   "cell_type": "raw",
   "metadata": {},
   "source": [
    "Строки с 0s:"
   ]
  },
  {
   "cell_type": "code",
   "execution_count": 1,
   "metadata": {
    "collapsed": false
   },
   "outputs": [],
   "source": [
    "f = open('lastfm_unique_tags.txt')"
   ]
  },
  {
   "cell_type": "code",
   "execution_count": 2,
   "metadata": {
    "collapsed": false
   },
   "outputs": [],
   "source": [
    "epochs = set()\n",
    "\n",
    "to_find = \"0s\"\n",
    "\n",
    "for line in f:\n",
    "    ind = line.find(to_find)\n",
    "    if (ind != -1):\n",
    "        if line[(ind-1)].isdigit():\n",
    "            substr = line[(ind-1):(ind+2)]\n",
    "            epochs.add(substr)\n"
   ]
  },
  {
   "cell_type": "code",
   "execution_count": 3,
   "metadata": {
    "collapsed": false
   },
   "outputs": [
    {
     "data": {
      "text/plain": [
       "{'00s', '10s', '20s', '30s', '40s', '50s', '60s', '70s', '80s', '90s'}"
      ]
     },
     "execution_count": 3,
     "metadata": {},
     "output_type": "execute_result"
    }
   ],
   "source": [
    "epochs"
   ]
  },
  {
   "cell_type": "raw",
   "metadata": {
    "collapsed": true
   },
   "source": [
    "Скорее всего, '00s' и '10s' относятся к 21-му веку. Можно считать так -- если год один и тот же, похожесть считается 1, далее за каждое десятилетие уменьшение на 0.1."
   ]
  }
 ],
 "metadata": {
  "kernelspec": {
   "display_name": "Python 3",
   "language": "python",
   "name": "python3"
  },
  "language_info": {
   "codemirror_mode": {
    "name": "ipython",
    "version": 3
   },
   "file_extension": ".py",
   "mimetype": "text/x-python",
   "name": "python",
   "nbconvert_exporter": "python",
   "pygments_lexer": "ipython3",
   "version": "3.4.3"
  }
 },
 "nbformat": 4,
 "nbformat_minor": 0
}
