{
 "cells": [
  {
   "cell_type": "markdown",
   "metadata": {},
   "source": [
    "# Теги исполнителей из 72 тысяч плейлистов с deezer.com "
   ]
  },
  {
   "cell_type": "markdown",
   "metadata": {},
   "source": [
    "## Число использований, популярные теги"
   ]
  },
  {
   "cell_type": "markdown",
   "metadata": {},
   "source": [
    "###Общее число использований:"
   ]
  },
  {
   "cell_type": "code",
   "execution_count": 1,
   "metadata": {
    "collapsed": true
   },
   "outputs": [],
   "source": [
    "import json\n",
    "import operator"
   ]
  },
  {
   "cell_type": "code",
   "execution_count": 2,
   "metadata": {
    "collapsed": true
   },
   "outputs": [],
   "source": [
    "path_in = \"72K_artist_tags.json\"\n",
    "\n",
    "data = json.load(open(path_in))"
   ]
  },
  {
   "cell_type": "raw",
   "metadata": {},
   "source": [
    "Всего исполнителей:"
   ]
  },
  {
   "cell_type": "code",
   "execution_count": 3,
   "metadata": {
    "collapsed": false
   },
   "outputs": [
    {
     "data": {
      "text/plain": [
       "35802"
      ]
     },
     "execution_count": 3,
     "metadata": {},
     "output_type": "execute_result"
    }
   ],
   "source": [
    "len(data)"
   ]
  },
  {
   "cell_type": "raw",
   "metadata": {},
   "source": [
    "Подсчёт с общим числом использований:"
   ]
  },
  {
   "cell_type": "code",
   "execution_count": 4,
   "metadata": {
    "collapsed": true
   },
   "outputs": [],
   "source": [
    "total_count = {}\n",
    "\n",
    "total_sum = 0\n",
    "\n",
    "for key in data:                   \n",
    "    tmp_dict = data[key]\n",
    "    for tag in tmp_dict:\n",
    "        if tag in total_count:\n",
    "            total_count[tag] += int(tmp_dict[tag])\n",
    "\n",
    "        else:\n",
    "            total_count[tag] = int(tmp_dict[tag])\n",
    "        total_sum += int(tmp_dict[tag])\n"
   ]
  },
  {
   "cell_type": "raw",
   "metadata": {},
   "source": [
    "Всего тегов:"
   ]
  },
  {
   "cell_type": "code",
   "execution_count": 5,
   "metadata": {
    "collapsed": false
   },
   "outputs": [
    {
     "data": {
      "text/plain": [
       "121023"
      ]
     },
     "execution_count": 5,
     "metadata": {},
     "output_type": "execute_result"
    }
   ],
   "source": [
    "len(total_count)"
   ]
  },
  {
   "cell_type": "raw",
   "metadata": {},
   "source": [
    "Суммарное число использований:"
   ]
  },
  {
   "cell_type": "code",
   "execution_count": 7,
   "metadata": {
    "collapsed": false
   },
   "outputs": [
    {
     "data": {
      "text/plain": [
       "13975160"
      ]
     },
     "execution_count": 7,
     "metadata": {},
     "output_type": "execute_result"
    }
   ],
   "source": [
    "total_sum"
   ]
  },
  {
   "cell_type": "raw",
   "metadata": {},
   "source": [
    "Первые 30 по популярности использования теги:"
   ]
  },
  {
   "cell_type": "code",
   "execution_count": 17,
   "metadata": {
    "collapsed": true
   },
   "outputs": [],
   "source": [
    "sort_tags = sorted(total_count.items(), key=operator.itemgetter(1), reverse=True)"
   ]
  },
  {
   "cell_type": "code",
   "execution_count": 33,
   "metadata": {
    "collapsed": false
   },
   "outputs": [
    {
     "data": {
      "text/plain": [
       "[('seen live', 378279),\n",
       " ('electronic', 323795),\n",
       " ('rock', 303220),\n",
       " ('pop', 299367),\n",
       " ('indie', 240059),\n",
       " ('female vocalists', 236259),\n",
       " ('french', 201309),\n",
       " ('jazz', 190271),\n",
       " ('Hip-Hop', 177762),\n",
       " ('alternative', 158933),\n",
       " ('folk', 150572),\n",
       " ('dance', 139841),\n",
       " ('House', 134702),\n",
       " ('singer-songwriter', 133983),\n",
       " ('soul', 133303),\n",
       " ('rap', 116261),\n",
       " ('Classical', 106096),\n",
       " ('funk', 97221),\n",
       " ('All', 96430),\n",
       " ('indie rock', 86553),\n",
       " ('reggae', 84416),\n",
       " ('Soundtrack', 80449),\n",
       " ('80s', 79255),\n",
       " ('chillout', 76937),\n",
       " ('electronica', 75469),\n",
       " ('electro', 75238),\n",
       " ('hip hop', 75039),\n",
       " ('instrumental', 73041),\n",
       " ('british', 72252),\n",
       " ('alternative rock', 70487)]"
      ]
     },
     "execution_count": 33,
     "metadata": {},
     "output_type": "execute_result"
    }
   ],
   "source": [
    "sort_tags[:30]"
   ]
  },
  {
   "cell_type": "raw",
   "metadata": {},
   "source": [
    "График использований для всего набора данных:"
   ]
  },
  {
   "cell_type": "markdown",
   "metadata": {},
   "source": [
    "<img src = \"pics/full_0.png\">"
   ]
  },
  {
   "cell_type": "raw",
   "metadata": {},
   "source": [
    "График для первой тысячи по популярности:"
   ]
  },
  {
   "cell_type": "markdown",
   "metadata": {},
   "source": [
    "<img src = \"pics/1000_0.png\">"
   ]
  },
  {
   "cell_type": "raw",
   "metadata": {},
   "source": [
    "Для первой сотни:"
   ]
  },
  {
   "cell_type": "markdown",
   "metadata": {},
   "source": [
    "<img src = \"pics/100_0.png\">"
   ]
  },
  {
   "cell_type": "raw",
   "metadata": {},
   "source": [
    "Аналогично с логарифмом:"
   ]
  },
  {
   "cell_type": "markdown",
   "metadata": {},
   "source": [
    "<img src = \"pics/log_full_0.png\">"
   ]
  },
  {
   "cell_type": "markdown",
   "metadata": {},
   "source": [
    "<img src = \"pics/log_1000_0.png\">"
   ]
  },
  {
   "cell_type": "markdown",
   "metadata": {},
   "source": [
    "<img src = \"pics/log_100_0.png\">"
   ]
  },
  {
   "cell_type": "raw",
   "metadata": {},
   "source": [
    "Для начала 1000 тегов выглядит адекватным числом. При этом число суммарное число использований 1000-го тега:"
   ]
  },
  {
   "cell_type": "code",
   "execution_count": 35,
   "metadata": {
    "collapsed": false
   },
   "outputs": [
    {
     "data": {
      "text/plain": [
       "('NYC', 1141)"
      ]
     },
     "execution_count": 35,
     "metadata": {},
     "output_type": "execute_result"
    }
   ],
   "source": [
    "sort_tags[999]"
   ]
  },
  {
   "cell_type": "code",
   "execution_count": null,
   "metadata": {
    "collapsed": true
   },
   "outputs": [],
   "source": []
  },
  {
   "cell_type": "raw",
   "metadata": {},
   "source": [
    "Заход с другой стороны. 95% от общего числа использований:"
   ]
  },
  {
   "cell_type": "code",
   "execution_count": 10,
   "metadata": {
    "collapsed": false
   },
   "outputs": [
    {
     "data": {
      "text/plain": [
       "13276402.0"
      ]
     },
     "execution_count": 10,
     "metadata": {},
     "output_type": "execute_result"
    }
   ],
   "source": [
    "0.95*total_sum"
   ]
  },
  {
   "cell_type": "raw",
   "metadata": {},
   "source": [
    "Сколько тегов попадают с таким подсчётом в 95%:"
   ]
  },
  {
   "cell_type": "code",
   "execution_count": 11,
   "metadata": {
    "collapsed": false
   },
   "outputs": [
    {
     "data": {
      "text/plain": [
       "20571"
      ]
     },
     "execution_count": 11,
     "metadata": {},
     "output_type": "execute_result"
    }
   ],
   "source": [
    "s = 13276402\n",
    "\n",
    "\n",
    "ind = 0\n",
    "tmp_s = 0\n",
    "\n",
    "while(tmp_s < s):\n",
    "    \n",
    "    tmp_s += sort_tags[ind][1]\n",
    "    ind += 1\n",
    "\n",
    "ind"
   ]
  },
  {
   "cell_type": "raw",
   "metadata": {},
   "source": [
    "Подсчёт всех использований с предварительным приведением всех тегов к нижнему регистру:"
   ]
  },
  {
   "cell_type": "code",
   "execution_count": 36,
   "metadata": {
    "collapsed": true
   },
   "outputs": [],
   "source": [
    "total_count_0 = {}\n",
    "\n",
    "\n",
    "for key in data:                   \n",
    "    tmp_dict = data[key]\n",
    "    for tag in tmp_dict:\n",
    "        tag_norm = tag.lower()\n",
    "        if tag_norm in total_count_0:\n",
    "            total_count_0[tag_norm] += int(tmp_dict[tag])\n",
    "\n",
    "        else:\n",
    "            total_count_0[tag_norm] = int(tmp_dict[tag])\n"
   ]
  },
  {
   "cell_type": "code",
   "execution_count": 37,
   "metadata": {
    "collapsed": true
   },
   "outputs": [],
   "source": [
    "sort_tags_0 = sorted(total_count_0.items(), key=operator.itemgetter(1), reverse=True)"
   ]
  },
  {
   "cell_type": "raw",
   "metadata": {},
   "source": [
    "Всего тегов (почти не отличается от предыдущего):"
   ]
  },
  {
   "cell_type": "code",
   "execution_count": 38,
   "metadata": {
    "collapsed": false
   },
   "outputs": [
    {
     "data": {
      "text/plain": [
       "121004"
      ]
     },
     "execution_count": 38,
     "metadata": {},
     "output_type": "execute_result"
    }
   ],
   "source": [
    "len(sort_tags_0)"
   ]
  },
  {
   "cell_type": "raw",
   "metadata": {},
   "source": [
    "Топ-30 тегов:"
   ]
  },
  {
   "cell_type": "code",
   "execution_count": 39,
   "metadata": {
    "collapsed": false
   },
   "outputs": [
    {
     "data": {
      "text/plain": [
       "[('seen live', 378279),\n",
       " ('electronic', 323795),\n",
       " ('rock', 303220),\n",
       " ('pop', 299367),\n",
       " ('indie', 240059),\n",
       " ('female vocalists', 236259),\n",
       " ('french', 201309),\n",
       " ('jazz', 190271),\n",
       " ('hip-hop', 177762),\n",
       " ('alternative', 158933),\n",
       " ('folk', 150572),\n",
       " ('dance', 139841),\n",
       " ('house', 134717),\n",
       " ('singer-songwriter', 133983),\n",
       " ('soul', 133303),\n",
       " ('rap', 116261),\n",
       " ('classical', 106096),\n",
       " ('funk', 97221),\n",
       " ('all', 96430),\n",
       " ('indie rock', 86553),\n",
       " ('reggae', 84416),\n",
       " ('soundtrack', 80449),\n",
       " ('80s', 79255),\n",
       " ('chillout', 76937),\n",
       " ('electronica', 75469),\n",
       " ('electro', 75238),\n",
       " ('hip hop', 75039),\n",
       " ('instrumental', 73041),\n",
       " ('british', 72252),\n",
       " ('alternative rock', 70487)]"
      ]
     },
     "execution_count": 39,
     "metadata": {},
     "output_type": "execute_result"
    }
   ],
   "source": [
    "sort_tags_0[:30]"
   ]
  },
  {
   "cell_type": "raw",
   "metadata": {},
   "source": [
    "Полагаю, приведением к нижнему регистру можно пренебречь."
   ]
  },
  {
   "cell_type": "raw",
   "metadata": {},
   "source": [
    "Если считать суммарное использование только тех тегов, которые отметили хотя бы 10 человек для одного исполнителя:"
   ]
  },
  {
   "cell_type": "code",
   "execution_count": 40,
   "metadata": {
    "collapsed": true
   },
   "outputs": [],
   "source": [
    "total_count_1 = {}\n",
    "\n",
    "total_sum_1 = 0\n",
    "\n",
    "for key in data:                   \n",
    "    tmp_dict = data[key]\n",
    "    for tag in tmp_dict:\n",
    "        \n",
    "        tag_cnt = int(tmp_dict[tag])\n",
    "        \n",
    "        if (tag_cnt > 9):\n",
    "        \n",
    "            if tag in total_count_1:\n",
    "                total_count_1[tag] +=  tag_cnt\n",
    "            else:\n",
    "                total_count_1[tag] = tag_cnt\n",
    "            \n",
    "            total_sum_1 += int(tmp_dict[tag])\n"
   ]
  },
  {
   "cell_type": "code",
   "execution_count": 41,
   "metadata": {
    "collapsed": false
   },
   "outputs": [
    {
     "data": {
      "text/plain": [
       "11664489"
      ]
     },
     "execution_count": 41,
     "metadata": {},
     "output_type": "execute_result"
    }
   ],
   "source": [
    "total_sum_1"
   ]
  },
  {
   "cell_type": "raw",
   "metadata": {},
   "source": [
    "Суммарное число использование стало меньше на 16.5% -- 11664489 против 13975160. Всего тегов:"
   ]
  },
  {
   "cell_type": "code",
   "execution_count": 42,
   "metadata": {
    "collapsed": false
   },
   "outputs": [
    {
     "data": {
      "text/plain": [
       "35876"
      ]
     },
     "execution_count": 42,
     "metadata": {},
     "output_type": "execute_result"
    }
   ],
   "source": [
    "len(total_count_1)"
   ]
  },
  {
   "cell_type": "raw",
   "metadata": {},
   "source": [
    "А здесь разница очень большая с 121023 тегами, которые были при подсчёте всех тегов. Топ-30:"
   ]
  },
  {
   "cell_type": "code",
   "execution_count": 43,
   "metadata": {
    "collapsed": true
   },
   "outputs": [],
   "source": [
    "sort_tags_1 = sorted(total_count_1.items(), key=operator.itemgetter(1), reverse=True)"
   ]
  },
  {
   "cell_type": "code",
   "execution_count": 44,
   "metadata": {
    "collapsed": false
   },
   "outputs": [
    {
     "data": {
      "text/plain": [
       "[('seen live', 354188),\n",
       " ('electronic', 314320),\n",
       " ('rock', 286332),\n",
       " ('pop', 280515),\n",
       " ('female vocalists', 230364),\n",
       " ('indie', 228910),\n",
       " ('french', 199309),\n",
       " ('jazz', 182833),\n",
       " ('Hip-Hop', 173219),\n",
       " ('folk', 143160),\n",
       " ('alternative', 141688),\n",
       " ('House', 129992),\n",
       " ('dance', 129872),\n",
       " ('soul', 126343),\n",
       " ('singer-songwriter', 124803),\n",
       " ('rap', 112813),\n",
       " ('Classical', 103973),\n",
       " ('funk', 91148),\n",
       " ('reggae', 82232),\n",
       " ('indie rock', 78870),\n",
       " ('Soundtrack', 76522),\n",
       " ('All', 73436),\n",
       " ('80s', 71555),\n",
       " ('hip hop', 70906),\n",
       " ('electro', 68554),\n",
       " ('chillout', 67458),\n",
       " ('instrumental', 66438),\n",
       " ('british', 66353),\n",
       " ('blues', 65052),\n",
       " ('electronica', 63730)]"
      ]
     },
     "execution_count": 44,
     "metadata": {},
     "output_type": "execute_result"
    }
   ],
   "source": [
    "sort_tags_1[:30]"
   ]
  },
  {
   "cell_type": "raw",
   "metadata": {},
   "source": [
    "Теги примерно те же, их стало несколько меньше."
   ]
  },
  {
   "cell_type": "code",
   "execution_count": null,
   "metadata": {
    "collapsed": true
   },
   "outputs": [],
   "source": []
  },
  {
   "cell_type": "markdown",
   "metadata": {},
   "source": [
    "###Без подсчёта числа использований у исполнителя (только число исполнителей):"
   ]
  },
  {
   "cell_type": "code",
   "execution_count": 15,
   "metadata": {
    "collapsed": false
   },
   "outputs": [],
   "source": [
    "total_count_2 = {}\n",
    "\n",
    "\n",
    "for key in data:                   \n",
    "    tmp_dict = data[key]\n",
    "    for tag in tmp_dict:\n",
    "        if tag in total_count_2:\n",
    "            total_count_2[tag] += 1\n",
    "\n",
    "        else:\n",
    "            total_count_2[tag] = 1\n"
   ]
  },
  {
   "cell_type": "raw",
   "metadata": {},
   "source": [
    "Первые 50 по популярности с подсчётом таким образом:"
   ]
  },
  {
   "cell_type": "code",
   "execution_count": 18,
   "metadata": {
    "collapsed": true
   },
   "outputs": [],
   "source": [
    "sort_tags_2 = sorted(total_count_2.items(), key=operator.itemgetter(1), reverse=True)"
   ]
  },
  {
   "cell_type": "code",
   "execution_count": 45,
   "metadata": {
    "collapsed": false
   },
   "outputs": [
    {
     "data": {
      "text/plain": [
       "[('seen live', 13819),\n",
       " ('pop', 10194),\n",
       " ('rock', 10172),\n",
       " ('All', 9002),\n",
       " ('electronic', 8181),\n",
       " ('alternative', 7941),\n",
       " ('indie', 7082),\n",
       " ('male vocalists', 6587),\n",
       " ('american', 6403),\n",
       " ('female vocalists', 5812),\n",
       " ('dance', 5305),\n",
       " ('00s', 5224),\n",
       " ('singer-songwriter', 4964),\n",
       " ('electronica', 4904),\n",
       " ('spotify', 4866),\n",
       " ('jazz', 4851),\n",
       " ('folk', 4452),\n",
       " ('USA', 4398),\n",
       " ('chillout', 4168),\n",
       " ('alternative rock', 4123),\n",
       " ('90s', 4122),\n",
       " ('soul', 4047),\n",
       " ('experimental', 3786),\n",
       " ('indie rock', 3766),\n",
       " ('Hip-Hop', 3758),\n",
       " ('80s', 3688),\n",
       " ('french', 3517),\n",
       " ('funk', 3356),\n",
       " ('electro', 3275),\n",
       " ('instrumental', 3257)]"
      ]
     },
     "execution_count": 45,
     "metadata": {},
     "output_type": "execute_result"
    }
   ],
   "source": [
    "sort_tags_2[:30]"
   ]
  },
  {
   "cell_type": "raw",
   "metadata": {},
   "source": [
    "Графики для всего набора данных, для первых тысячи и сотни тегов:"
   ]
  },
  {
   "cell_type": "markdown",
   "metadata": {},
   "source": [
    "<img src = \"pics/full_1.png\">\n"
   ]
  },
  {
   "cell_type": "markdown",
   "metadata": {},
   "source": [
    "<img src = \"pics/1000_1.png\">"
   ]
  },
  {
   "cell_type": "markdown",
   "metadata": {},
   "source": [
    "<img src = \"pics/100_1.png\">"
   ]
  },
  {
   "cell_type": "raw",
   "metadata": {},
   "source": [
    "Логарифм графиков:"
   ]
  },
  {
   "cell_type": "markdown",
   "metadata": {},
   "source": [
    "<img src = \"pics/log_full_1.png\">"
   ]
  },
  {
   "cell_type": "markdown",
   "metadata": {},
   "source": [
    "<img src = \"pics/log_1000_1.png\">"
   ]
  },
  {
   "cell_type": "markdown",
   "metadata": {},
   "source": [
    "<img src = \"pics/log_100_1.png\">"
   ]
  },
  {
   "cell_type": "raw",
   "metadata": {},
   "source": [
    "Опять же 1000 первых по популярных тегов выглядит адекватным числом для начала (может быть больше). Количество использований для 1000-го тега:"
   ]
  },
  {
   "cell_type": "code",
   "execution_count": 48,
   "metadata": {
    "collapsed": false
   },
   "outputs": [
    {
     "data": {
      "text/plain": [
       "('boston', 110)"
      ]
     },
     "execution_count": 48,
     "metadata": {},
     "output_type": "execute_result"
    }
   ],
   "source": [
    "sort_tags_2[999]"
   ]
  },
  {
   "cell_type": "raw",
   "metadata": {},
   "source": [
    "Тег использовали 110 пользователей, всего пользователей 13819:"
   ]
  },
  {
   "cell_type": "code",
   "execution_count": 49,
   "metadata": {
    "collapsed": false
   },
   "outputs": [
    {
     "data": {
      "text/plain": [
       "('seen live', 13819)"
      ]
     },
     "execution_count": 49,
     "metadata": {},
     "output_type": "execute_result"
    }
   ],
   "source": [
    "sort_tags_2[0]"
   ]
  },
  {
   "cell_type": "code",
   "execution_count": null,
   "metadata": {
    "collapsed": true
   },
   "outputs": [],
   "source": [
    "Количество тегов, которые встретились только у небольшого числа исполнителей (от 1 до 10):"
   ]
  },
  {
   "cell_type": "code",
   "execution_count": 57,
   "metadata": {
    "collapsed": false
   },
   "outputs": [
    {
     "name": "stdout",
     "output_type": "stream",
     "text": [
      "less than 10 artists, number of tags: 112003\n",
      "less than 9 artists, number of tags: 111128\n",
      "less than 8 artists, number of tags: 109938\n",
      "less than 7 artists, number of tags: 108546\n",
      "less than 6 artists, number of tags: 106690\n",
      "less than 5 artists, number of tags: 104039\n",
      "less than 4 artists, number of tags: 100124\n",
      "less than 3 artists, number of tags: 93390\n",
      "less than 2 artists, number of tags: 78195\n"
     ]
    }
   ],
   "source": [
    "l_s = len(sort_tags_2)\n",
    "\n",
    "k = 10\n",
    "\n",
    "for i in range(l_s):\n",
    "    if (sort_tags_2[i][1] < k):\n",
    "        print(\"less than\", k, \"artists, number of tags:\", l_s - i)\n",
    "        k -= 1\n",
    "\n"
   ]
  },
  {
   "cell_type": "raw",
   "metadata": {},
   "source": [
    "При это всего тегов 121023, т.е. больше половины тегов встречаются очень редко. Исполнителей 35802, тег, который встречается только у 10 из них (да и у 50 тоже, наверное) -- очень редок."
   ]
  },
  {
   "cell_type": "raw",
   "metadata": {},
   "source": [
    "Количество тегов, которые встречаются у хотя бы 5% исполнителей (1790):"
   ]
  },
  {
   "cell_type": "code",
   "execution_count": 70,
   "metadata": {
    "collapsed": false
   },
   "outputs": [
    {
     "name": "stdout",
     "output_type": "stream",
     "text": [
      "64\n"
     ]
    }
   ],
   "source": [
    "i = 0\n",
    "while (sort_tags_2[i][1] > 1790):\n",
    "    i += 1\n",
    "\n",
    "print(i)"
   ]
  },
  {
   "cell_type": "raw",
   "metadata": {},
   "source": [
    "Только 64 тега встречаются у хотя бы 5% исполнителей, остальные -- реже. Эти теги:"
   ]
  },
  {
   "cell_type": "code",
   "execution_count": 64,
   "metadata": {
    "collapsed": false
   },
   "outputs": [
    {
     "data": {
      "text/plain": [
       "[('seen live', 13819),\n",
       " ('pop', 10194),\n",
       " ('rock', 10172),\n",
       " ('All', 9002),\n",
       " ('electronic', 8181),\n",
       " ('alternative', 7941),\n",
       " ('indie', 7082),\n",
       " ('male vocalists', 6587),\n",
       " ('american', 6403),\n",
       " ('female vocalists', 5812),\n",
       " ('dance', 5305),\n",
       " ('00s', 5224),\n",
       " ('singer-songwriter', 4964),\n",
       " ('electronica', 4904),\n",
       " ('spotify', 4866),\n",
       " ('jazz', 4851),\n",
       " ('folk', 4452),\n",
       " ('USA', 4398),\n",
       " ('chillout', 4168),\n",
       " ('alternative rock', 4123),\n",
       " ('90s', 4122),\n",
       " ('soul', 4047),\n",
       " ('experimental', 3786),\n",
       " ('indie rock', 3766),\n",
       " ('Hip-Hop', 3758),\n",
       " ('80s', 3688),\n",
       " ('french', 3517),\n",
       " ('funk', 3356),\n",
       " ('electro', 3275),\n",
       " ('instrumental', 3257),\n",
       " ('House', 3182),\n",
       " ('british', 3113),\n",
       " ('acoustic', 3037),\n",
       " ('ambient', 2961),\n",
       " ('punk', 2950),\n",
       " ('indie pop', 2936),\n",
       " ('female vocalist', 2869),\n",
       " ('rap', 2867),\n",
       " ('hip hop', 2842),\n",
       " ('metal', 2764),\n",
       " ('classic rock', 2696),\n",
       " ('world', 2527),\n",
       " ('blues', 2517),\n",
       " ('70s', 2516),\n",
       " ('pop rock', 2435),\n",
       " ('Soundtrack', 2410),\n",
       " ('rnb', 2382),\n",
       " ('UK', 2379),\n",
       " ('favorites', 2283),\n",
       " ('female', 2277),\n",
       " ('hard rock', 2269),\n",
       " ('techno', 2245),\n",
       " ('downtempo', 2120),\n",
       " ('psychedelic', 2105),\n",
       " ('oldies', 2096),\n",
       " ('chill', 2036),\n",
       " ('60s', 2028),\n",
       " ('lounge', 2016),\n",
       " ('Classical', 1932),\n",
       " ('punk rock', 1848),\n",
       " ('new wave', 1842),\n",
       " ('english', 1826),\n",
       " ('guitar', 1810),\n",
       " ('easy listening', 1798)]"
      ]
     },
     "execution_count": 64,
     "metadata": {},
     "output_type": "execute_result"
    }
   ],
   "source": [
    "sort_tags_2[:64]"
   ]
  },
  {
   "cell_type": "raw",
   "metadata": {},
   "source": [
    "Аналогично с 1% исполнителей:"
   ]
  },
  {
   "cell_type": "code",
   "execution_count": 72,
   "metadata": {
    "collapsed": false
   },
   "outputs": [
    {
     "name": "stdout",
     "output_type": "stream",
     "text": [
      "312\n"
     ]
    }
   ],
   "source": [
    "i = 0\n",
    "while (sort_tags_2[i][1] > 358):\n",
    "    i += 1\n",
    "\n",
    "print(i)"
   ]
  },
  {
   "cell_type": "raw",
   "metadata": {},
   "source": [
    "Всего 312 тегов -- возможно, стоит рассматривать это количество вместо 1000."
   ]
  },
  {
   "cell_type": "markdown",
   "metadata": {},
   "source": [
    "### Попарная встречаемость "
   ]
  },
  {
   "cell_type": "raw",
   "metadata": {},
   "source": [
    "Без подсчёта количества использований, только по числу исполнителей. Новый массив, каждый элемент которого -- список тегов для исполнителя."
   ]
  },
  {
   "cell_type": "code",
   "execution_count": 86,
   "metadata": {
    "collapsed": true
   },
   "outputs": [],
   "source": [
    "from collections import Counter\n",
    "\n",
    "big_tag = []\n",
    "\n",
    "for key in data:\n",
    "    tmp_dict = data[key]\n",
    "    tmp_list = [tag for tag in tmp_dict.keys()]\n",
    "    if (len(tmp_list) > 0):\n",
    "        big_tag.append(tmp_list)\n",
    "\n",
    "\n",
    "def cooc(tag):\n",
    "    tags = []\n",
    "    l = len(big_tag)\n",
    "\n",
    "    for i in range(l):\n",
    "        if tag in big_tag[i]:\n",
    "            tags.extend(big_tag[i])\n",
    "    print(Counter(tags).most_common(30))\n",
    "\n",
    "    return\n",
    "    \n",
    "    "
   ]
  },
  {
   "cell_type": "raw",
   "metadata": {},
   "source": [
    "Первая 1000 тегов без подсчёта количества использований:"
   ]
  },
  {
   "cell_type": "code",
   "execution_count": 81,
   "metadata": {
    "collapsed": false
   },
   "outputs": [],
   "source": [
    "tags_1000 = [tag[0] for tag in sort_tags_2[:1000]]"
   ]
  },
  {
   "cell_type": "raw",
   "metadata": {},
   "source": [
    "Соответствующее им количество:"
   ]
  },
  {
   "cell_type": "code",
   "execution_count": 82,
   "metadata": {
    "collapsed": true
   },
   "outputs": [],
   "source": [
    "cnt_1000 = [tag[1] for tag in sort_tags_2[:1000]]"
   ]
  },
  {
   "cell_type": "raw",
   "metadata": {},
   "source": [
    "Здравый смысл в применении к 64 тегам, которые встречаются хотя бы у 5% исполнителей:"
   ]
  },
  {
   "cell_type": "code",
   "execution_count": 96,
   "metadata": {
    "collapsed": false
   },
   "outputs": [
    {
     "name": "stdout",
     "output_type": "stream",
     "text": [
      "['seen live', 'pop', 'rock', 'All', 'electronic', 'alternative', 'indie', 'male vocalists', 'american', 'female vocalists', 'dance', '00s', 'singer-songwriter', 'electronica', 'spotify', 'jazz', 'folk', 'USA', 'chillout', 'alternative rock', '90s', 'soul', 'experimental', 'indie rock', 'Hip-Hop', '80s', 'french', 'funk', 'electro', 'instrumental', 'House', 'british', 'acoustic', 'ambient', 'punk', 'indie pop', 'female vocalist', 'rap', 'hip hop', 'metal', 'classic rock', 'world', 'blues', '70s', 'pop rock', 'Soundtrack', 'rnb', 'UK', 'favorites', 'female', 'hard rock', 'techno', 'downtempo', 'psychedelic', 'oldies', 'chill', '60s', 'lounge', 'Classical', 'punk rock', 'new wave', 'english', 'guitar', 'easy listening']\n"
     ]
    }
   ],
   "source": [
    "print(tags_1000[:64])"
   ]
  },
  {
   "cell_type": "raw",
   "metadata": {},
   "source": [
    "Из этих тегов неинформативными на первый взгляд выглядят следующие:\n",
    "'seen live', 'All', 'spotify', 'favorites', 'singer-songwriter', 'world'\n",
    "информативность других тегов следует смотреть подробнее.\n",
    "\n",
    "Заметно, что можно объединить в одну категорию следующие теги:\n",
    "'american', 'USA', \n",
    "'british', 'english', 'UK'\n",
    "'female vocalists', 'female vocalist',  'female'\n",
    "'electronic', 'electronica',  'electro'\n",
    "'alternative rock', 'alternative'\n",
    "'ambient', 'chillout', 'chill', 'downtempo'\n",
    "'lounge', 'easy listening'\n",
    "'Hip-Hop', 'hip hop', 'rap'\n",
    "\n",
    "Хорошо видны основные по популярности эпохи:\n",
    "'60s', '70s', '80s', '90s', '00s'\n",
    "\n",
    "Пол исполнителя:\n",
    "'male vocalists', 'female vocalists'\n",
    "\n",
    "Много поджанров рока:\n",
    "'alternative rock', 'indie rock', 'punk', 'metal', 'classic rock', 'pop rock', 'hard rock', 'punk rock', 'new wave'\n",
    "\n",
    "Близкие категории:\n",
    "'electronic', 'dance', 'techno', 'House'"
   ]
  },
  {
   "cell_type": "raw",
   "metadata": {},
   "source": [
    "Если захватить побольше тегов, 300:"
   ]
  },
  {
   "cell_type": "code",
   "execution_count": 98,
   "metadata": {
    "collapsed": false
   },
   "outputs": [
    {
     "name": "stdout",
     "output_type": "stream",
     "text": [
      "['seen live', 'pop', 'rock', 'All', 'electronic', 'alternative', 'indie', 'male vocalists', 'american', 'female vocalists', 'dance', '00s', 'singer-songwriter', 'electronica', 'spotify', 'jazz', 'folk', 'USA', 'chillout', 'alternative rock', '90s', 'soul', 'experimental', 'indie rock', 'Hip-Hop', '80s', 'french', 'funk', 'electro', 'instrumental', 'House', 'british', 'acoustic', 'ambient', 'punk', 'indie pop', 'female vocalist', 'rap', 'hip hop', 'metal', 'classic rock', 'world', 'blues', '70s', 'pop rock', 'Soundtrack', 'rnb', 'UK', 'favorites', 'female', 'hard rock', 'techno', 'downtempo', 'psychedelic', 'oldies', 'chill', '60s', 'lounge', 'Classical', 'punk rock', 'new wave', 'english', 'guitar', 'easy listening', 'Love', 'hardcore', 'reggae', 'france', 'latin', 'trip-hop', 'trance', 'sexy', 'Disco', 'Progressive rock', 'piano', 'emo', 'german', 'Mellow', 'Awesome', 'vocal', 'World Music', 'beautiful', '10s', 'male vocalist', 'synthpop', 'r&b', 'post-punk', 'heavy metal', 'folk rock', 'funky', 'Fusion', 'electropop', 'club', 'under 2000 listeners', 'country', 'groove', 'rhythm and blues', 'California', 'Progressive', 'Myjukebox', 'hiphop', 'lesser known yet streamable artists', 'acid jazz', 'Need to Rate', 'dub', 'cool', 'Female Voices', 'spanish', 'england', 'new york', 'soft rock', 'Lo-Fi', 'female vocals', 'Pop-Rock', 'underground hip-hop', 'male', 'britpop', 'minimal', 'idm', 'Favorite', 'Avant-Garde', 'industrial', 'classic', 'check out', 'fun', 'blues rock', 'composer', 'ska', 'germany', 'Rock and Roll', 'post-rock', 'Psychedelic Rock', 'chanson francaise', 'urban', 'death metal', 'francais', 'nu jazz', 'indie folk', 'rock n roll', 'chanson', 'deep house', 'dream pop', 'european', 'gay', 'americana', 'Canadian', 'italian', 'synth pop', 'new age', 'deutsch', 'Garage Rock', 'smooth', 'romantic', 'Progressive House', 'indietronica', 'female vocal', 'atmospheric', 'swedish', 'swing', 'amazing', 'london', '50s', 'Drum and bass', 'Alt-country', 'Smooth Jazz', 'power pop', 'eurodance', 'breakbeat', 'Gothic', 'noise', 'pop punk', 'electro house', 'underground rap', 'United States', 'trip hop', 'shoegaze', 'Grunge', 'thrash metal', 'metalcore', 'Favourites', 'party', 'groovy', 'old school', 'japanese', 'dj', 'relaxing', 'dubstep', 'underground', 'ethnic', 'relax', 'melancholy', 'bass', 'contemporary classical', 'Progressive metal', 'garage', 'alternative pop', 'dancehall', 'beats', \"80's\", 'black metal', 'tech house', 'political', 'christian', 'melancholic', 'Neo-Soul', 'alternative metal', 'art rock', 'underrated', 'brazilian', 'singer-songwriters', 'happy', 'dark', 'canada', 'r and b', 'nu-jazz', 'female artists', 'jazz fusion', 'favourite', 'Favorite Artists', 'los angeles', 'world fusion', 'Retro', 'Français', 'french pop', 'music', 'scandinavian', 'hardcore punk', 'genius', 'progressive trance', 'composers', 'screamo', 'australian', 'jazzy', 'african', 'Electroclash', 'ethereal', 'shit', 'roots', 'folk-rock', 'underground hip hop', 'rockabilly', 'synth', 'Chanson Française', 'Bossa Nova', 'orchestral', 'post-hardcore', 'vocal jazz', 'Italy', 'Sweden', 'minimal techno', 'francophone', 'celtic', 'Officially Shit', 'Post punk', 'legend', 'comedy', 'brazil', 'good', 'Mondiovision', 'brasil', '2000s', 'contemporary jazz', 'live', 'Soundtracks', 'hot', 'ost', 'Gangsta Rap', 'Experimental Rock', 'dutch', 'gospel', 'dance-pop', 'diva', 'Nu Metal', 'songwriter', 'Power metal', 'melodic', 'glam rock', 'Nu-Bluz Funky Grooves in the E-Lounge', 'darkwave', 'spain', 'Eurovision', 'new', 'chill out', 'latino', 'cover', 'traditional', 'Brutal Death Metal', 'africa', 'Ballad', 'alternative rap', 'lovely', 'irish', 'roots reggae', 'Dreamy', '2010s', 'jamaica', 'sweet', 'dnb', 'vocal trance', 'Stoner Rock']\n"
     ]
    }
   ],
   "source": [
    "print(tags_1000[:300])"
   ]
  },
  {
   "cell_type": "raw",
   "metadata": {},
   "source": [
    "Информативных (на первый взгляд) тегов не так уж много, их можно отнести к следующим категориям:\n",
    "    \n",
    "эпоха: '50s', '60s', '70s', '80s', '90s', '00s'\n",
    "\n",
    "пол вокалиста: 'male vocalists', 'female vocalists'\n",
    "\n",
    "страна: 'french', 'USA', 'jamaica', 'brazilian', ...\n",
    "\n",
    "жанры и поджанры: очень много, нужно анализировать подробно с привлечением матчасти и лучше разделять на большие категории\n",
    "\n",
    "настроение/характеристика исполнителя: 'Love', 'sexy', 'Mellow', 'beautiful', 'smooth', 'romantic', 'relaxing', 'relax', 'melancholy', ...\n",
    "\n",
    "Для этих категорий нужно определиться с вариантами написания и объединять таким образом теги."
   ]
  },
  {
   "cell_type": "raw",
   "metadata": {},
   "source": []
  },
  {
   "cell_type": "code",
   "execution_count": null,
   "metadata": {
    "collapsed": true
   },
   "outputs": [],
   "source": [
    "Как часто самые популярные теги встречаются с другими популярными (сам тег идёт первым в выводе):"
   ]
  },
  {
   "cell_type": "code",
   "execution_count": 87,
   "metadata": {
    "collapsed": false
   },
   "outputs": [
    {
     "name": "stdout",
     "output_type": "stream",
     "text": [
      "[('seen live', 13819), ('rock', 7964), ('pop', 6849), ('alternative', 6747), ('indie', 6027), ('electronic', 5377), ('All', 4878), ('male vocalists', 4680), ('american', 4397), ('00s', 4257), ('singer-songwriter', 3803), ('alternative rock', 3761), ('female vocalists', 3565), ('electronica', 3470), ('indie rock', 3436), ('dance', 3247), ('folk', 3207), ('USA', 3132), ('90s', 3117), ('experimental', 3052), ('chillout', 2792), ('jazz', 2704), ('indie pop', 2669), ('80s', 2534), ('punk', 2534), ('Hip-Hop', 2430), ('spotify', 2411), ('british', 2402), ('soul', 2375), ('electro', 2332)]\n"
     ]
    }
   ],
   "source": [
    "cooc(tags_1000[0])"
   ]
  },
  {
   "cell_type": "raw",
   "metadata": {},
   "source": [
    "Тег \"seen live\" встречается с разнообразными жанрами и эпохами, тем самым являясь малоинформативным, как и предполагалось по здравому смыслу."
   ]
  },
  {
   "cell_type": "code",
   "execution_count": 88,
   "metadata": {
    "collapsed": false
   },
   "outputs": [
    {
     "name": "stdout",
     "output_type": "stream",
     "text": [
      "[('pop', 10194), ('seen live', 6849), ('rock', 6162), ('alternative', 4991), ('indie', 4583), ('male vocalists', 4506), ('female vocalists', 4022), ('All', 3988), ('electronic', 3879), ('00s', 3729), ('singer-songwriter', 3720), ('american', 3315), ('dance', 3286), ('90s', 2752), ('alternative rock', 2722), ('indie rock', 2622), ('soul', 2583), ('80s', 2503), ('folk', 2502), ('indie pop', 2463), ('USA', 2414), ('electronica', 2389), ('pop rock', 2244), ('female vocalist', 2202), ('chillout', 2125), ('jazz', 2099), ('acoustic', 2005), ('british', 1904), ('female', 1885), ('classic rock', 1851)]\n"
     ]
    }
   ],
   "source": [
    "cooc(tags_1000[1])"
   ]
  },
  {
   "cell_type": "raw",
   "metadata": {},
   "source": [
    "Тег \"pop\" тоже выглядит малоинформативно."
   ]
  },
  {
   "cell_type": "code",
   "execution_count": 89,
   "metadata": {
    "collapsed": false
   },
   "outputs": [
    {
     "name": "stdout",
     "output_type": "stream",
     "text": [
      "[('rock', 10172), ('seen live', 7964), ('pop', 6162), ('alternative', 6157), ('indie', 5148), ('male vocalists', 4237), ('alternative rock', 3941), ('american', 3880), ('00s', 3496), ('All', 3465), ('electronic', 3461), ('indie rock', 3364), ('singer-songwriter', 3289), ('USA', 2841), ('90s', 2784), ('female vocalists', 2757), ('folk', 2627), ('80s', 2559), ('punk', 2545), ('classic rock', 2498), ('pop rock', 2222), ('indie pop', 2210), ('experimental', 2209), ('dance', 2163), ('metal', 2157), ('hard rock', 2109), ('acoustic', 2073), ('electronica', 2062), ('british', 2006), ('soul', 1972)]\n"
     ]
    }
   ],
   "source": [
    "cooc(tags_1000[2])"
   ]
  },
  {
   "cell_type": "raw",
   "metadata": {},
   "source": [
    "Чуть лучше, чем \"pop\"  -- чаще видели живьём, больше частота поджанров рока -- впрочем, предсказуемо, а информативность тега под вопросом."
   ]
  },
  {
   "cell_type": "code",
   "execution_count": 100,
   "metadata": {
    "collapsed": false
   },
   "outputs": [
    {
     "name": "stdout",
     "output_type": "stream",
     "text": [
      "[('electronic', 8181), ('seen live', 5377), ('electronica', 4543), ('pop', 3879), ('dance', 3746), ('alternative', 3630), ('rock', 3461), ('indie', 3327), ('electro', 2987), ('All', 2929), ('chillout', 2672), ('House', 2635), ('experimental', 2577), ('female vocalists', 2286), ('00s', 2278), ('ambient', 2191), ('techno', 2007), ('male vocalists', 1983), ('american', 1796), ('downtempo', 1793), ('Hip-Hop', 1745), ('indie rock', 1702), ('alternative rock', 1651), ('indie pop', 1610), ('british', 1604), ('jazz', 1579), ('90s', 1522), ('funk', 1520), ('trip-hop', 1508), ('spotify', 1437)]\n"
     ]
    }
   ],
   "source": [
    "cooc(tags_1000[4])"
   ]
  },
  {
   "cell_type": "raw",
   "metadata": {},
   "source": [
    "Аналогично \"pop\" и \"rock\". Плюс видны варианты написания: надо объединять 'electronic', 'electronica',  'electro'.\n",
    "\n",
    "Выглядит адекватным ввести большие категории \"pop\", \"rock\", \"electronic\", \"Hip-Hop\" и другие (какие появятся позже), и в соответствующих им категориях собирать поджанры."
   ]
  },
  {
   "cell_type": "code",
   "execution_count": 101,
   "metadata": {
    "collapsed": false
   },
   "outputs": [
    {
     "name": "stdout",
     "output_type": "stream",
     "text": [
      "[('alternative', 7941), ('seen live', 6747), ('rock', 6157), ('indie', 5512), ('pop', 4991), ('alternative rock', 3755), ('electronic', 3630), ('indie rock', 3328), ('00s', 3231), ('male vocalists', 3183), ('american', 2985), ('singer-songwriter', 2866), ('All', 2655), ('female vocalists', 2580), ('indie pop', 2519), ('experimental', 2438), ('folk', 2387), ('electronica', 2385), ('USA', 2150), ('punk', 2148), ('90s', 2114), ('chillout', 2097), ('dance', 1950), ('acoustic', 1884), ('british', 1752), ('pop rock', 1691), ('jazz', 1604), ('80s', 1555), ('favorites', 1546), ('metal', 1507)]\n"
     ]
    }
   ],
   "source": [
    "cooc(tags_1000[5])"
   ]
  },
  {
   "cell_type": "raw",
   "metadata": {},
   "source": [
    "Согласно http://www.concerthotels.com/100-years-of-rock/ , жанр alternative родственнен следующим:\n",
    "indie rock\n",
    "indie pop\n",
    "grunge\n",
    "shoegaze\n",
    "\n",
    "Есть попарная встречаемость с достаточно непохожими жанрами -- видимо, один исполнитель имеет композиции в разных стилях.\n",
    "\n",
    "Кстати про инди:"
   ]
  },
  {
   "cell_type": "code",
   "execution_count": 102,
   "metadata": {
    "collapsed": false
   },
   "outputs": [
    {
     "name": "stdout",
     "output_type": "stream",
     "text": [
      "[('indie', 7082), ('seen live', 6027), ('alternative', 5512), ('rock', 5148), ('pop', 4583), ('indie rock', 3522), ('electronic', 3327), ('alternative rock', 3206), ('00s', 2880), ('male vocalists', 2843), ('indie pop', 2767), ('singer-songwriter', 2705), ('american', 2552), ('All', 2493), ('folk', 2403), ('female vocalists', 2326), ('experimental', 2236), ('electronica', 2175), ('chillout', 1886), ('punk', 1837), ('acoustic', 1834), ('USA', 1789), ('dance', 1683), ('90s', 1631), ('british', 1631), ('pop rock', 1439), ('favorites', 1391), ('electro', 1387), ('jazz', 1326), ('female vocalist', 1310)]\n"
     ]
    }
   ],
   "source": [
    "cooc(tags_1000[6])"
   ]
  },
  {
   "cell_type": "raw",
   "metadata": {},
   "source": [
    "'alternative' и 'indie' действительно часто идут вместе. Примерно одинаково по количеству с ними встречаются 'indie rock' и 'indie pop'."
   ]
  },
  {
   "cell_type": "raw",
   "metadata": {},
   "source": [
    "Категории подробнее в другом отчёте."
   ]
  }
 ],
 "metadata": {
  "kernelspec": {
   "display_name": "Python 3",
   "language": "python",
   "name": "python3"
  },
  "language_info": {
   "codemirror_mode": {
    "name": "ipython",
    "version": 3
   },
   "file_extension": ".py",
   "mimetype": "text/x-python",
   "name": "python",
   "nbconvert_exporter": "python",
   "pygments_lexer": "ipython3",
   "version": "3.4.3"
  }
 },
 "nbformat": 4,
 "nbformat_minor": 0
}
