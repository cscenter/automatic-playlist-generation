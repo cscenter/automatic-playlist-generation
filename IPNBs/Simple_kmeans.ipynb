{
 "cells": [
  {
   "cell_type": "markdown",
   "metadata": {},
   "source": [
    "## Кластеризация k-means"
   ]
  },
  {
   "cell_type": "raw",
   "metadata": {},
   "source": [
    "Отобран небольшой набор тегов треков (без тегов исполнителей) last.fm без нормализации. Учитывается число вхождений. Результат для 5 кластеров."
   ]
  },
  {
   "cell_type": "code",
   "execution_count": 1,
   "metadata": {
    "collapsed": true
   },
   "outputs": [],
   "source": [
    "from sklearn.cluster import KMeans\n",
    "import numpy as np\n",
    "import json\n",
    "import pandas as pd"
   ]
  },
  {
   "cell_type": "code",
   "execution_count": 3,
   "metadata": {
    "collapsed": false
   },
   "outputs": [
    {
     "data": {
      "text/plain": [
       "array([[32,  0,  0, ...,  0,  0,  0],\n",
       "       [13,  0,  0, ...,  0,  0,  0],\n",
       "       [ 6,  0,  0, ...,  0,  0,  0],\n",
       "       ..., \n",
       "       [ 9,  0,  0, ...,  2,  0,  0],\n",
       "       [13,  0,  0, ...,  0,  0,  0],\n",
       "       [16,  0,  0, ...,  0,  0,  0]])"
      ]
     },
     "execution_count": 3,
     "metadata": {},
     "output_type": "execute_result"
    }
   ],
   "source": [
    "path = \"vect.json\"\n",
    "data = json.load(open(path))\n",
    "data_np = np.asarray(data)\n",
    "data_np"
   ]
  },
  {
   "cell_type": "code",
   "execution_count": 4,
   "metadata": {
    "collapsed": true
   },
   "outputs": [],
   "source": [
    "kmeans5 = KMeans(n_clusters=5, random_state=0).fit(data_np)\n",
    "labels5 = kmeans5.labels_"
   ]
  },
  {
   "cell_type": "raw",
   "metadata": {},
   "source": [
    "Сопоставление индексов, соответствующих кластерам, индексам, соответствующим композициям:"
   ]
  },
  {
   "cell_type": "code",
   "execution_count": 5,
   "metadata": {
    "collapsed": false
   },
   "outputs": [
    {
     "data": {
      "text/plain": [
       "[array([[0, 'Them Crooked Vultures', 'Interlude With Ludes'],\n",
       "        [1, 'Them Crooked Vultures', 'Elephants'],\n",
       "        [2, 'Them Crooked Vultures', 'Reptiles'],\n",
       "        [3, 'Them Crooked Vultures', 'No One Loves Me & Neither Do I'],\n",
       "        [4, 'Them Crooked Vultures', 'Caligulove'],\n",
       "        [5, 'Them Crooked Vultures',\n",
       "         'Warsaw or the First Breath You Take After You Give Up'],\n",
       "        [6, 'Them Crooked Vultures', 'Scumbag Blues'],\n",
       "        [7, 'Them Crooked Vultures', 'Spinning in Daffodils'],\n",
       "        [8, 'Them Crooked Vultures', 'Gunman'],\n",
       "        [10, 'Them Crooked Vultures', 'New Fang'],\n",
       "        [11, 'Them Crooked Vultures', 'Mind Eraser, No Chaser'],\n",
       "        [12, 'Them Crooked Vultures', 'Bandoliers'],\n",
       "        [13, 'Them Crooked Vultures', 'Dead End Friends'],\n",
       "        [77, 'The Rolling Stones', 'Paint It Black'],\n",
       "        [78, 'Led Zeppelin', 'Black Dog'],\n",
       "        [79, 'Led Zeppelin', 'Whole Lotta Love'],\n",
       "        [80, 'Led Zeppelin', 'Stairway to Heaven'],\n",
       "        [81, 'Led Zeppelin', 'Immigrant Song'],\n",
       "        [88, 'Scorpions & Berliner Philharmoniker', 'Lady Starlight'],\n",
       "        [89, 'Scorpions & Berliner Philharmoniker', 'Still Loving You'],\n",
       "        [90, 'Scorpions & Berliner Philharmoniker', 'Moment of Glory'],\n",
       "        [91, 'Scorpions & Berliner Philharmoniker', 'Big City Nights'],\n",
       "        [93, 'Scorpions & Berliner Philharmoniker', 'Send Me an Angel'],\n",
       "        [96, 'Scorpions & Berliner Philharmoniker', 'Hurricane 2000'],\n",
       "        [97, 'Scorpions & Berliner Philharmoniker', 'Here in My Heart'],\n",
       "        [103, 'Ozzy Osbourne', \"Mama, I'm Coming Home\"],\n",
       "        [104, 'Ozzy Osbourne', 'Party With the Animals'],\n",
       "        [105, 'Ozzy Osbourne', 'Mr. Tinkertrain'],\n",
       "        [107, 'Ozzy Osbourne', 'Road To Nowhere'],\n",
       "        [109, 'Ozzy Osbourne', 'Hellraiser'],\n",
       "        [111, 'Ozzy Osbourne', 'No More Tears'],\n",
       "        [191, 'Queens of the Stone Age', 'How to Handle a Rope'],\n",
       "        [199, 'Queens of the Stone Age', 'Walkin On The Sidewalks'],\n",
       "        [206, 'Queens of the Stone Age', 'Hispanic Impressions'],\n",
       "        [211, 'ZZ Top', 'Bad To The Bone'],\n",
       "        [223, 'Alice Cooper', \"Nothing's Free\"],\n",
       "        [224, 'Alice Cooper', 'Hey Stoopid'],\n",
       "        [225, 'Alice Cooper', 'Burning Our Bed'],\n",
       "        [226, 'Alice Cooper', 'House of Fire'],\n",
       "        [227, 'Alice Cooper', 'Poison'],\n",
       "        [228, 'Alice Cooper', \"Love's a Loaded Gun\"],\n",
       "        [229, 'Alice Cooper', 'Lost in America'],\n",
       "        [230, 'Alice Cooper', 'Feed My Frankenstein'],\n",
       "        [234, 'Tito & Tarantula', \"It's My Mistake\"],\n",
       "        [335, 'Scorpions', 'Blackout'],\n",
       "        [337, 'Scorpions', 'Ruby Tuesday'],\n",
       "        [338, 'Scorpions', 'Wind of Change'],\n",
       "        [339, 'Scorpions', 'Still Loving You'],\n",
       "        [340, 'Scorpions', 'Tin Soldier'],\n",
       "        [341, 'Scorpions', 'Rock You Like a Hurricane'],\n",
       "        [342, 'Scorpions', 'Children Of The Revolution'],\n",
       "        [343, 'Scorpions', 'Rhythm Of Love'],\n",
       "        [344, 'Scorpions', 'Across the Universe'],\n",
       "        [345, 'Scorpions', 'All Day And All Of The Night'],\n",
       "        [346, 'Scorpions', 'No One Like You'],\n",
       "        [347, 'Scorpions', 'Big City Nights'],\n",
       "        [349, 'Scorpions', 'Tainted Love'],\n",
       "        [350, 'Scorpions', 'The Zoo'],\n",
       "        [351, 'Godsmack', 'Vampires'],\n",
       "        [352, 'Godsmack', 'Sick of Life'],\n",
       "        [354, 'Godsmack', 'Forgive Me'],\n",
       "        [355, 'Godsmack', 'Spiral'],\n",
       "        [356, 'AC/DC', 'Highway To Hell'],\n",
       "        [357, 'AC/DC', 'T.N.T.'],\n",
       "        [358, 'AC/DC', 'Back in Black'],\n",
       "        [359, 'AC/DC', 'Hells Bells'],\n",
       "        [360, 'AC/DC', 'What Do You Do for Money Honey'],\n",
       "        [361, 'AC/DC', 'You Shook Me All Night Long'],\n",
       "        [395, 'Queen', 'Bohemian Rhapsody']], dtype=object)]"
      ]
     },
     "execution_count": 5,
     "metadata": {},
     "output_type": "execute_result"
    }
   ],
   "source": [
    "id_0 = np.where(0 == labels5)\n",
    "id_1 = np.where(1 == labels5)\n",
    "id_2 = np.where(2 == labels5)\n",
    "id_3 = np.where(3 == labels5)\n",
    "id_4 = np.where(4 == labels5)\n",
    "\n",
    "idx = pd.read_csv(\"idx.txt\", sep = \"\\t\", header = None)\n",
    "\n",
    "[idx.values[i] for i in id_0]"
   ]
  },
  {
   "cell_type": "code",
   "execution_count": 6,
   "metadata": {
    "collapsed": false
   },
   "outputs": [
    {
     "data": {
      "text/plain": [
       "[array([[14, 'Morphine', \"I'm Free Now\"],\n",
       "        [15, 'Morphine', 'Dawna'],\n",
       "        [16, 'Morphine', 'Sheila'],\n",
       "        [17, 'Morphine', 'A Head With Wings'],\n",
       "        [18, 'Morphine', 'Thursday'],\n",
       "        [19, 'Morphine', \"Miles Davis' Funeral\"],\n",
       "        [20, 'Morphine', 'All Wrong'],\n",
       "        [21, 'Morphine', 'Candy'],\n",
       "        [22, 'Morphine', 'In Spite Of Me'],\n",
       "        [23, 'Morphine', 'Buena'],\n",
       "        [24, 'Morphine', \"Mary Won't You Call My Name?\"],\n",
       "        [25, 'Morphine', 'Cure for Pain'],\n",
       "        [26, 'Morphine', \"Let's Take a Trip Together\"],\n",
       "        [98, 'Three Days Grace', 'Chalk Outline'],\n",
       "        [112, 'Jack White', 'Entitlement'],\n",
       "        [113, 'Jack White', 'Love Interruption'],\n",
       "        [115, 'Jack White', 'Temporary Ground'],\n",
       "        [116, 'Jack White', 'I Guess I Should Go to Sleep'],\n",
       "        [117, 'Jack White', 'Would You Fight for My Love?'],\n",
       "        [118, 'Jack White', 'Want and Able'],\n",
       "        [119, 'Jack White', 'Take Me With You When You Go'],\n",
       "        [120, 'Jack White', 'Blunderbuss'],\n",
       "        [121, 'Jack White', 'Missing Pieces'],\n",
       "        [122, 'Jack White', 'Trash Tongue Talker'],\n",
       "        [123, 'Jack White', 'High Ball Stepper'],\n",
       "        [124, 'Jack White', 'On and On and On'],\n",
       "        [126, 'Jack White', 'Hypocritical Kiss'],\n",
       "        [127, 'Jack White', 'Just One Drink'],\n",
       "        [128, 'Jack White', 'Weep Themselves to Sleep'],\n",
       "        [130, 'Jack White', 'Alone in My Home'],\n",
       "        [131, 'Jack White', \"I'm Shakin'\"],\n",
       "        [132, 'Jack White', 'Hip (Eponymous) Poor Boy'],\n",
       "        [134, 'Jack White', 'Sixteen Saltines'],\n",
       "        [135, 'Jack White', 'Freedom at 21'],\n",
       "        [147, 'Foo Fighters', 'The Pretender'],\n",
       "        [148, 'Foo Fighters', 'All My Life'],\n",
       "        [149, 'Foo Fighters', 'Word Forward'],\n",
       "        [150, 'Foo Fighters', 'Wheels'],\n",
       "        [151, 'Foo Fighters', 'Everlong'],\n",
       "        [152, 'Foo Fighters', 'My Hero'],\n",
       "        [153, 'Foo Fighters', 'Monkey Wrench'],\n",
       "        [154, 'Foo Fighters', 'Skin and Bones'],\n",
       "        [155, 'Foo Fighters', 'Times Like These'],\n",
       "        [156, 'Foo Fighters', 'This Is a Call'],\n",
       "        [157, 'Foo Fighters', 'Best of You'],\n",
       "        [158, 'Foo Fighters', 'Breakout'],\n",
       "        [159, 'Foo Fighters', 'Learn to Fly'],\n",
       "        [160, 'Foo Fighters', 'Big Me'],\n",
       "        [161, 'Foo Fighters', 'Long Road to Ruin'],\n",
       "        [162, 'Sully Erna', '7 Years'],\n",
       "        [163, 'Sully Erna', 'In Through Time'],\n",
       "        [166, 'Sully Erna', 'The Departed'],\n",
       "        [167, 'Sully Erna', 'My Light'],\n",
       "        [169, 'Sully Erna', 'Cast Out (Spirit Ceremony)'],\n",
       "        [170, 'Sully Erna', 'Eyes Of A Child'],\n",
       "        [171, 'Sully Erna', 'The Rise'],\n",
       "        [172, 'Sully Erna', 'Broken Road'],\n",
       "        [173, 'Black Strobe', \"I'm a Man\"],\n",
       "        [174, 'Imagine Dragons', 'Radioactive'],\n",
       "        [193, 'Queens of the Stone Age', 'You Would Know'],\n",
       "        [195, 'Queens of the Stone Age', 'Kalopsia'],\n",
       "        [198, 'Queens of the Stone Age', 'The Vampyre of Time and Memory'],\n",
       "        [201, 'Queens of the Stone Age', '…Like Clockwork'],\n",
       "        [202, 'Queens of the Stone Age', 'I Sat by the Ocean'],\n",
       "        [209, 'Queens of the Stone Age', 'If I Had a Tail'],\n",
       "        [231, 'Tito & Tarantula', 'After Dark'],\n",
       "        [233, 'Tito & Tarantula', 'Missed Your Eyes'],\n",
       "        [235, 'Radiohead', 'Creep'],\n",
       "        [236, 'Coldplay', 'A Message'],\n",
       "        [237, 'Coldplay', 'High Speed'],\n",
       "        [238, 'Coldplay', 'Talk'],\n",
       "        [239, 'Coldplay', 'Clocks'],\n",
       "        [240, 'Coldplay', 'The World Turned Upside Down'],\n",
       "        [241, 'Coldplay', 'Animals'],\n",
       "        [242, 'Coldplay', 'X&Y'],\n",
       "        [243, 'Coldplay', 'Violet Hill'],\n",
       "        [244, 'Coldplay', 'No More Keeping My Feet on the Ground'],\n",
       "        [245, 'Coldplay', \"Don't Panic\"],\n",
       "        [246, 'Coldplay', 'White Shadows'],\n",
       "        [247, 'Coldplay', 'Spies'],\n",
       "        [248, 'Coldplay', 'Politik'],\n",
       "        [249, 'Coldplay', 'Brothers and Sisters'],\n",
       "        [250, 'Coldplay', 'Bigger Stronger'],\n",
       "        [251, 'Coldplay', 'In My Place'],\n",
       "        [252, 'Coldplay', 'Lost!'],\n",
       "        [253, 'Coldplay', 'Only Superstition'],\n",
       "        [254, 'Coldplay', 'See You Soon'],\n",
       "        [255, 'Coldplay', 'Fix You'],\n",
       "        [256, 'Coldplay', 'Such a Rush'],\n",
       "        [257, 'Coldplay', 'I Ran Away'],\n",
       "        [258, 'Coldplay', 'Shiver'],\n",
       "        [259, 'Coldplay', 'The Hardest Part'],\n",
       "        [260, 'Coldplay', 'Cemeteries of London'],\n",
       "        [261, 'Coldplay', 'Yellow'],\n",
       "        [262, 'Coldplay', 'Trouble'],\n",
       "        [263, 'Coldplay', 'We Never Change'],\n",
       "        [264, 'Coldplay', 'Speed of Sound'],\n",
       "        [265, 'Coldplay', 'Crests Of Waves'],\n",
       "        [266, 'Coldplay', 'Sparks'],\n",
       "        [267, 'Coldplay', 'Viva la Vida'],\n",
       "        [268, 'Coldplay', 'Square One'],\n",
       "        [269, 'Coldplay', 'God Put a Smile Upon Your Face'],\n",
       "        [270, 'Coldplay', \"Things I Don't Understand\"],\n",
       "        [271, '30 Seconds to Mars', 'Welcome to the Universe'],\n",
       "        [272, '30 Seconds to Mars', 'Oblivion'],\n",
       "        [273, '30 Seconds to Mars', 'The Fantasy'],\n",
       "        [274, '30 Seconds to Mars', 'Buddha for Mary'],\n",
       "        [275, '30 Seconds to Mars', '93 Million Miles'],\n",
       "        [276, '30 Seconds to Mars', 'The Kill'],\n",
       "        [277, '30 Seconds to Mars', 'The Mission'],\n",
       "        [278, '30 Seconds to Mars', 'End of the Beginning'],\n",
       "        [279, '30 Seconds to Mars', 'Year Zero'],\n",
       "        [280, '30 Seconds to Mars', 'Fallen'],\n",
       "        [281, '30 Seconds to Mars', 'Echelon'],\n",
       "        [282, '30 Seconds to Mars', 'Capricorn (A Brand New Name)'],\n",
       "        [283, '30 Seconds to Mars', 'Edge of the Earth'],\n",
       "        [284, '30 Seconds to Mars', 'A Beautiful Lie'],\n",
       "        [317, 'Muse', 'Hysteria'],\n",
       "        [319, 'Muse', 'I Belong to You'],\n",
       "        [320, 'Muse', 'Uprising'],\n",
       "        [321, 'Muse', 'Supermassive Black Hole'],\n",
       "        [322, 'Muse', 'Unnatural Selection'],\n",
       "        [323, 'Muse', 'Hoodoo'],\n",
       "        [324, 'Muse', 'Undisclosed Desires'],\n",
       "        [325, 'Muse', 'Starlight'],\n",
       "        [326, 'Muse', 'United States of Eurasia'],\n",
       "        [327, 'Muse', 'Exogenesis: Symphony, Part 2: Cross-Pollination'],\n",
       "        [328, 'Muse', 'Exogenesis: Symphony, Part 1: Overture'],\n",
       "        [329, 'Muse', 'MK Ultra'],\n",
       "        [330, 'Muse', 'Psycho'],\n",
       "        [331, 'Muse', 'Resistance'],\n",
       "        [332, 'Muse', 'Exo-Politics'],\n",
       "        [333, 'Muse', 'Apocalypse Please'],\n",
       "        [334, 'Muse', 'Guiding Light'],\n",
       "        [362, 'Red Hot Chili Peppers', 'Universally Speaking'],\n",
       "        [363, 'Red Hot Chili Peppers', 'Californication'],\n",
       "        [364, 'Red Hot Chili Peppers', 'Save the Population'],\n",
       "        [365, 'Red Hot Chili Peppers', 'Scar Tissue'],\n",
       "        [366, 'Red Hot Chili Peppers', 'By the Way'],\n",
       "        [367, 'Red Hot Chili Peppers', 'Give It Away'],\n",
       "        [368, 'Red Hot Chili Peppers', 'Under the Bridge'],\n",
       "        [369, 'Red Hot Chili Peppers', 'Breaking the Girl'],\n",
       "        [370, 'Red Hot Chili Peppers', 'Higher Ground'],\n",
       "        [371, 'Red Hot Chili Peppers', 'Fortune Faded'],\n",
       "        [372, 'Red Hot Chili Peppers', 'My Friends'],\n",
       "        [373, 'Red Hot Chili Peppers', 'Soul to Squeeze'],\n",
       "        [374, 'Red Hot Chili Peppers', \"Road Trippin'\"],\n",
       "        [375, 'Red Hot Chili Peppers', 'Suck My Kiss'],\n",
       "        [376, 'Red Hot Chili Peppers', 'Otherside'],\n",
       "        [377, 'Red Hot Chili Peppers', 'Parallel Universe'],\n",
       "        [378, 'Limp Bizkit', 'Lean On Me'],\n",
       "        [379, 'Limp Bizkit', 'Faith'],\n",
       "        [380, 'Limp Bizkit', 'Home Sweet Home'],\n",
       "        [381, 'Limp Bizkit', 'Behind Blue Eyes'],\n",
       "        [383, 'Limp Bizkit', 'Build a Bridge'],\n",
       "        [386, 'Limp Bizkit', 'Boiler'],\n",
       "        [387, 'Limp Bizkit', 'Why'],\n",
       "        [388, 'Limp Bizkit', 'My Way'],\n",
       "        [389, 'Limp Bizkit', 'Eat You Alive'],\n",
       "        [390, 'Limp Bizkit', \"Rollin' (Air Raid Vehicle)\"],\n",
       "        [391, 'Limp Bizkit', 'Break Stuff'],\n",
       "        [392, 'Limp Bizkit', 'Take a Look Around'],\n",
       "        [396, 'Green Day', \"She's a Rebel\"],\n",
       "        [397, 'Green Day', 'Wake Me Up When September Ends'],\n",
       "        [398, 'Green Day', 'Give Me Novacaine'],\n",
       "        [399, 'Green Day', 'Homecoming'],\n",
       "        [400, 'Green Day', 'American Idiot'],\n",
       "        [401, 'Green Day', 'Extraordinary Girl'],\n",
       "        [402, 'Green Day', 'Whatsername'],\n",
       "        [403, 'Green Day', 'St. Jimmy'],\n",
       "        [404, 'Green Day', 'Boulevard of Broken Dreams'],\n",
       "        [405, 'Green Day', 'Holiday'],\n",
       "        [406, 'Green Day', 'Letterbomb'],\n",
       "        [407, 'Green Day', 'Are We the Waiting'],\n",
       "        [408, 'Green Day', 'Jesus of Suburbia'],\n",
       "        [409, 'Linkin Park', 'Numb'],\n",
       "        [410, 'The Raconteurs', 'Intimate Secretary'],\n",
       "        [411, 'The Raconteurs', 'Blue Veins'],\n",
       "        [412, 'The Raconteurs', 'Yellow Sun'],\n",
       "        [413, 'The Raconteurs', 'Together'],\n",
       "        [414, 'The Raconteurs', 'Call It a Day'],\n",
       "        [415, 'The Raconteurs', 'Store Bought Bones'],\n",
       "        [416, 'The Raconteurs', 'Hands'],\n",
       "        [417, 'The Raconteurs', 'Broken Boy Soldier'],\n",
       "        [418, 'The Raconteurs', 'Steady, as She Goes'],\n",
       "        [419, 'The Raconteurs', 'Level'],\n",
       "        [421, 'The White Stripes', 'Seven Nation Army'],\n",
       "        [422, 'The White Stripes', 'Black Math'],\n",
       "        [423, 'The White Stripes', 'Little Acorns'],\n",
       "        [424, 'The White Stripes', 'In the Cold, Cold Night']], dtype=object)]"
      ]
     },
     "execution_count": 6,
     "metadata": {},
     "output_type": "execute_result"
    }
   ],
   "source": [
    "[idx.values[i] for i in id_1]"
   ]
  },
  {
   "cell_type": "code",
   "execution_count": 7,
   "metadata": {
    "collapsed": false
   },
   "outputs": [
    {
     "data": {
      "text/plain": [
       "[array([[175, 'Nirvana', 'Sliver'],\n",
       "        [176, 'Nirvana', 'Smells Like Teen Spirit'],\n",
       "        [177, 'Nirvana', 'In Bloom'],\n",
       "        [178, 'Nirvana', 'Dumb'],\n",
       "        [179, 'Nirvana', 'Come as You Are'],\n",
       "        [180, 'Nirvana', 'Heart-Shaped Box'],\n",
       "        [181, 'Nirvana', \"You Know You're Right\"],\n",
       "        [182, 'Nirvana', 'About a Girl'],\n",
       "        [183, 'Nirvana', 'The Man Who Sold the World'],\n",
       "        [184, 'Nirvana', 'All Apologies'],\n",
       "        [185, 'Nirvana', 'Where Did You Sleep Last Night?'],\n",
       "        [186, 'Nirvana', 'Lithium'],\n",
       "        [187, 'Nirvana', 'Rape Me'],\n",
       "        [188, 'Nirvana', 'Pennyroyal Tea'],\n",
       "        [189, 'Nirvana', 'Been a Son'],\n",
       "        [285, 'Alice in Chains', 'What The Hell Have I'],\n",
       "        [286, 'Alice in Chains', 'Over Now'],\n",
       "        [287, 'Alice in Chains', 'Died'],\n",
       "        [288, 'Alice in Chains', 'Dirt'],\n",
       "        [289, 'Alice in Chains', 'Hate to Feel'],\n",
       "        [290, 'Alice in Chains', 'Brother'],\n",
       "        [291, 'Alice in Chains', 'Rain When I Die'],\n",
       "        [292, 'Alice in Chains', 'Love, Hate, Love'],\n",
       "        [293, 'Alice in Chains', 'Am I Inside'],\n",
       "        [294, 'Alice in Chains', 'A Little Bitter'],\n",
       "        [295, 'Alice in Chains', 'Nutshell'],\n",
       "        [296, 'Alice in Chains', 'Get Born Again'],\n",
       "        [297, 'Alice in Chains', 'Heaven Beside You'],\n",
       "        [298, 'Alice in Chains', 'Angry Chair'],\n",
       "        [299, 'Alice in Chains', 'Down in a Hole'],\n",
       "        [300, 'Alice in Chains', 'Again'],\n",
       "        [301, 'Alice in Chains', 'Man in the Box'],\n",
       "        [302, 'Alice in Chains', 'Grind'],\n",
       "        [303, 'Alice in Chains', 'Junkhead'],\n",
       "        [304, 'Alice in Chains', 'I Stay Away'],\n",
       "        [305, 'Alice in Chains', 'God Smack'],\n",
       "        [306, 'Alice in Chains', 'Got Me Wrong'],\n",
       "        [307, 'Alice in Chains', 'Them Bones'],\n",
       "        [308, 'Alice in Chains', 'Iron Gland'],\n",
       "        [309, 'Alice in Chains', 'Rooster'],\n",
       "        [310, 'Alice in Chains', 'Sea of Sorrow'],\n",
       "        [311, 'Alice in Chains', 'No Excuses'],\n",
       "        [312, 'Alice in Chains', 'We Die Young'],\n",
       "        [313, 'Alice in Chains', 'Sickman'],\n",
       "        [314, 'Alice in Chains', 'Right Turn'],\n",
       "        [315, 'Alice in Chains', 'Would?'],\n",
       "        [316, 'Alice in Chains', 'Dam That River']], dtype=object)]"
      ]
     },
     "execution_count": 7,
     "metadata": {},
     "output_type": "execute_result"
    }
   ],
   "source": [
    "[idx.values[i] for i in id_2]"
   ]
  },
  {
   "cell_type": "code",
   "execution_count": 8,
   "metadata": {
    "collapsed": false
   },
   "outputs": [
    {
     "data": {
      "text/plain": [
       "[array([[9, 'Them Crooked Vultures', 'HWY 1'],\n",
       "        [27, 'Judas Priest', 'Angel'],\n",
       "        [28, 'Judas Priest', 'Deal with the Devil'],\n",
       "        [29, 'Judas Priest', 'A Touch of Evil'],\n",
       "        [30, 'Judas Priest', 'Painkiller'],\n",
       "        [31, 'Judas Priest', 'Living Bad Dreams'],\n",
       "        [32, 'Tiamat', 'Cain'],\n",
       "        [82, 'Pantera', 'Drag the Waters'],\n",
       "        [83, 'Pantera', 'Cat Scratch Fever'],\n",
       "        [84, 'Pantera', 'Cemetery Gates'],\n",
       "        [85, 'Nightwish', 'Nemo'],\n",
       "        [86, 'Nightwish', 'Dark Chest of Wonders'],\n",
       "        [87, 'Scorpions & Berliner Philharmoniker', 'Crossfire'],\n",
       "        [92, 'Scorpions & Berliner Philharmoniker', 'Wind of Change'],\n",
       "        [94, 'Scorpions & Berliner Philharmoniker',\n",
       "         'Hurricane 2000 (Radio Edit)'],\n",
       "        [95, 'Scorpions & Berliner Philharmoniker', 'Deadly Sting Suite'],\n",
       "        [99, 'Ozzy Osbourne', 'Zombie Stomp'],\n",
       "        [100, 'Ozzy Osbourne', 'Desire'],\n",
       "        [101, 'Ozzy Osbourne', \"Don't Blame Me\"],\n",
       "        [102, 'Ozzy Osbourne', 'A.V.H.'],\n",
       "        [106, 'Ozzy Osbourne', \"I Don't Want To Change The World\"],\n",
       "        [108, 'Ozzy Osbourne', 'Time After Time'],\n",
       "        [110, 'Ozzy Osbourne', 'S.I.N.'],\n",
       "        [114, 'Jack White', 'That Black Bat Licorice'],\n",
       "        [125, 'Jack White', 'Lazaretto'],\n",
       "        [129, 'Jack White', 'Three Women'],\n",
       "        [133, 'Jack White', 'I Think I Found the Culprit'],\n",
       "        [136, 'Depeche Mode', 'I Feel You'],\n",
       "        [137, 'Depeche Mode', 'Dream On'],\n",
       "        [138, 'Depeche Mode', 'Personal Jesus'],\n",
       "        [139, 'Depeche Mode', 'Enjoy the Silence'],\n",
       "        [140, 'Depeche Mode', 'Walking in My Shoes'],\n",
       "        [141, 'Steve Vai', 'Die To Live'],\n",
       "        [142, 'Steve Vai', 'Tender Surrender'],\n",
       "        [143, 'Steve Vai', 'The Boy From Seattle'],\n",
       "        [144, 'Steve Vai', 'Bad Horsie'],\n",
       "        [145, 'Steve Vai', 'Juice'],\n",
       "        [146, 'Steve Vai', 'Ya-Yo Gakk'],\n",
       "        [164, 'Sully Erna', \"Sinner's Prayer\"],\n",
       "        [165, 'Sully Erna', 'Until Then...'],\n",
       "        [168, 'Sully Erna', 'Avalon'],\n",
       "        [190, 'Queens of the Stone Age', 'Keep Your Eyes Peeled'],\n",
       "        [192, 'Queens of the Stone Age', 'Avon'],\n",
       "        [194, 'Queens of the Stone Age', 'Smooth Sailing'],\n",
       "        [196, 'Queens of the Stone Age', 'Regular John'],\n",
       "        [197, 'Queens of the Stone Age', 'I Was a Teenage Hand Model'],\n",
       "        [200, 'Queens of the Stone Age', 'Fairweather Friends'],\n",
       "        [203, 'Queens of the Stone Age', 'My God Is the Sun'],\n",
       "        [204, 'Queens of the Stone Age', 'Mexicola'],\n",
       "        [205, 'Queens of the Stone Age', \"You Can't Quit Me Baby\"],\n",
       "        [207, 'Queens of the Stone Age', 'Give the Mule What He Wants'],\n",
       "        [208, 'Queens of the Stone Age', 'I Appear Missing'],\n",
       "        [210, 'Queens of the Stone Age', 'If Only'],\n",
       "        [212, 'The Dead Weather', 'Looking at the Invisible Man'],\n",
       "        [213, 'The Dead Weather', \"I Can't Hear You\"],\n",
       "        [214, 'The Dead Weather', 'Hustle and Cuss'],\n",
       "        [215, 'The Dead Weather', 'Blue Blood Blues'],\n",
       "        [216, 'The Dead Weather', 'The Difference Between Us'],\n",
       "        [217, 'The Dead Weather', 'Gasoline'],\n",
       "        [218, 'The Dead Weather', 'Old Mary'],\n",
       "        [219, 'The Dead Weather', 'Die by the Drop'],\n",
       "        [220, 'The Dead Weather', 'No Horse'],\n",
       "        [221, 'The Dead Weather', 'Jawbreaker'],\n",
       "        [222, 'The Dead Weather', \"I'm Mad\"],\n",
       "        [232, 'Tito & Tarantula', 'California Girl'],\n",
       "        [318, 'Muse', 'Exogenesis: Symphony, Part 3: Redemption'],\n",
       "        [336, 'Scorpions', 'Shapes Of Things'],\n",
       "        [348, 'Scorpions', \"Still Loving You (Je t'aime encore)\"],\n",
       "        [353, 'Godsmack', 'Good Times, Bad Times'],\n",
       "        [382, 'Limp Bizkit', 'Counterfeit'],\n",
       "        [384, 'Limp Bizkit', 'N 2 Gether Now'],\n",
       "        [385, 'Limp Bizkit', 'Nookie'],\n",
       "        [393, 'Limp Bizkit', 'My Generation'],\n",
       "        [394, 'Limp Bizkit', 'Re-Arranged'],\n",
       "        [420, 'Static-X', 'Cold']], dtype=object)]"
      ]
     },
     "execution_count": 8,
     "metadata": {},
     "output_type": "execute_result"
    }
   ],
   "source": [
    "[idx.values[i] for i in id_3]"
   ]
  },
  {
   "cell_type": "code",
   "execution_count": 9,
   "metadata": {
    "collapsed": false
   },
   "outputs": [
    {
     "data": {
      "text/plain": [
       "[array([[33, 'Pink Floyd', 'Arnold Layne'],\n",
       "        [34, 'Pink Floyd', 'Jugband Blues'],\n",
       "        [35, 'Pink Floyd', 'Wish You Were Here'],\n",
       "        [36, 'Pink Floyd', 'Set the Controls for the Heart of the Sun'],\n",
       "        [37, 'Pink Floyd', 'When the Tigers Broke Free'],\n",
       "        [38, 'Pink Floyd', 'Learning to Fly'],\n",
       "        [39, 'Pink Floyd', 'Time'],\n",
       "        [40, 'Pink Floyd', 'Us and Them'],\n",
       "        [41, 'Pink Floyd', 'Surfacing'],\n",
       "        [42, 'Pink Floyd', \"Autumn '68\"],\n",
       "        [43, 'Pink Floyd', 'See Emily Play'],\n",
       "        [44, 'Pink Floyd', 'Comfortably Numb'],\n",
       "        [45, 'Pink Floyd', 'Allons-y (2)'],\n",
       "        [46, 'Pink Floyd', 'Anisina'],\n",
       "        [47, 'Pink Floyd', 'Echoes'],\n",
       "        [48, 'Pink Floyd', 'Louder Than Words'],\n",
       "        [49, 'Pink Floyd', 'One of These Days'],\n",
       "        [50, 'Pink Floyd', 'Night Light'],\n",
       "        [51, 'Pink Floyd', 'The Happiest Days of Our Lives'],\n",
       "        [52, 'Pink Floyd', 'Things Left Unsaid'],\n",
       "        [53, 'Pink Floyd', 'On Noodle Street'],\n",
       "        [54, 'Pink Floyd', 'The Fletcher Memorial Home'],\n",
       "        [55, 'Pink Floyd', 'Ebb and Flow'],\n",
       "        [56, 'Pink Floyd', 'Marooned'],\n",
       "        [57, 'Pink Floyd', 'Money'],\n",
       "        [58, 'Pink Floyd', 'Skins'],\n",
       "        [59, 'Pink Floyd', 'Unsung'],\n",
       "        [60, 'Pink Floyd', 'The Great Gig in the Sky'],\n",
       "        [61, 'Pink Floyd', 'Keep Talking'],\n",
       "        [62, 'Pink Floyd', 'The Lost Art of Conversation'],\n",
       "        [63, 'Pink Floyd', 'Sorrow'],\n",
       "        [64, 'Pink Floyd', 'Eyes to Pearls'],\n",
       "        [65, 'Pink Floyd', 'Another Brick in the Wall, Part 2'],\n",
       "        [66, 'Pink Floyd', 'High Hopes'],\n",
       "        [67, 'Pink Floyd', 'Sheep'],\n",
       "        [68, 'Pink Floyd', 'Astronomy Domine'],\n",
       "        [69, 'Pink Floyd', 'Bike'],\n",
       "        [70, 'Pink Floyd', 'Sum'],\n",
       "        [71, 'Pink Floyd', 'Calling'],\n",
       "        [72, 'Pink Floyd', 'Allons-y (1)'],\n",
       "        [73, 'Pink Floyd', \"Talkin' Hawkin'\"],\n",
       "        [74, 'Pink Floyd', 'Hey You'],\n",
       "        [75, 'Pink Floyd', \"It's What We Do\"],\n",
       "        [76, 'Pink Floyd', 'Shine on You Crazy Diamond, Parts 1-7']], dtype=object)]"
      ]
     },
     "execution_count": 9,
     "metadata": {},
     "output_type": "execute_result"
    }
   ],
   "source": [
    "[idx.values[i] for i in id_4]"
   ]
  },
  {
   "cell_type": "raw",
   "metadata": {},
   "source": [
    "10 кластеров:"
   ]
  },
  {
   "cell_type": "code",
   "execution_count": 10,
   "metadata": {
    "collapsed": true
   },
   "outputs": [],
   "source": [
    "kmeans10 = KMeans(n_clusters=10, random_state=0).fit(data_np)\n",
    "labels10 = kmeans10.labels_\n",
    "\n",
    "\n",
    "i_0 = np.where(0 == labels10)\n",
    "i_1 = np.where(1 == labels10)\n",
    "i_2 = np.where(2 == labels10)\n",
    "i_3 = np.where(3 == labels10)\n",
    "i_4 = np.where(4 == labels10)\n",
    "i_5 = np.where(5 == labels10)\n",
    "i_6 = np.where(6 == labels10)\n",
    "i_7 = np.where(7 == labels10)\n",
    "i_8 = np.where(8 == labels10)\n",
    "i_9 = np.where(9 == labels10)\n"
   ]
  },
  {
   "cell_type": "code",
   "execution_count": 11,
   "metadata": {
    "collapsed": false
   },
   "outputs": [
    {
     "data": {
      "text/plain": [
       "[array([[0, 'Them Crooked Vultures', 'Interlude With Ludes'],\n",
       "        [12, 'Them Crooked Vultures', 'Bandoliers'],\n",
       "        [76, 'Pink Floyd', 'Shine on You Crazy Diamond, Parts 1-7'],\n",
       "        [77, 'The Rolling Stones', 'Paint It Black'],\n",
       "        [112, 'Jack White', 'Entitlement'],\n",
       "        [113, 'Jack White', 'Love Interruption'],\n",
       "        [114, 'Jack White', 'That Black Bat Licorice'],\n",
       "        [115, 'Jack White', 'Temporary Ground'],\n",
       "        [116, 'Jack White', 'I Guess I Should Go to Sleep'],\n",
       "        [117, 'Jack White', 'Would You Fight for My Love?'],\n",
       "        [118, 'Jack White', 'Want and Able'],\n",
       "        [119, 'Jack White', 'Take Me With You When You Go'],\n",
       "        [120, 'Jack White', 'Blunderbuss'],\n",
       "        [121, 'Jack White', 'Missing Pieces'],\n",
       "        [122, 'Jack White', 'Trash Tongue Talker'],\n",
       "        [123, 'Jack White', 'High Ball Stepper'],\n",
       "        [124, 'Jack White', 'On and On and On'],\n",
       "        [126, 'Jack White', 'Hypocritical Kiss'],\n",
       "        [127, 'Jack White', 'Just One Drink'],\n",
       "        [128, 'Jack White', 'Weep Themselves to Sleep'],\n",
       "        [130, 'Jack White', 'Alone in My Home'],\n",
       "        [131, 'Jack White', \"I'm Shakin'\"],\n",
       "        [132, 'Jack White', 'Hip (Eponymous) Poor Boy'],\n",
       "        [134, 'Jack White', 'Sixteen Saltines'],\n",
       "        [135, 'Jack White', 'Freedom at 21'],\n",
       "        [150, 'Foo Fighters', 'Wheels'],\n",
       "        [163, 'Sully Erna', 'In Through Time'],\n",
       "        [166, 'Sully Erna', 'The Departed'],\n",
       "        [169, 'Sully Erna', 'Cast Out (Spirit Ceremony)'],\n",
       "        [172, 'Sully Erna', 'Broken Road'],\n",
       "        [173, 'Black Strobe', \"I'm a Man\"],\n",
       "        [195, 'Queens of the Stone Age', 'Kalopsia'],\n",
       "        [198, 'Queens of the Stone Age', 'The Vampyre of Time and Memory'],\n",
       "        [209, 'Queens of the Stone Age', 'If I Had a Tail'],\n",
       "        [210, 'Queens of the Stone Age', 'If Only'],\n",
       "        [211, 'ZZ Top', 'Bad To The Bone'],\n",
       "        [231, 'Tito & Tarantula', 'After Dark'],\n",
       "        [233, 'Tito & Tarantula', 'Missed Your Eyes'],\n",
       "        [234, 'Tito & Tarantula', \"It's My Mistake\"],\n",
       "        [326, 'Muse', 'United States of Eurasia'],\n",
       "        [390, 'Limp Bizkit', \"Rollin' (Air Raid Vehicle)\"],\n",
       "        [411, 'The Raconteurs', 'Blue Veins']], dtype=object)]"
      ]
     },
     "execution_count": 11,
     "metadata": {},
     "output_type": "execute_result"
    }
   ],
   "source": [
    "[idx.values[i] for i in i_0]"
   ]
  },
  {
   "cell_type": "code",
   "execution_count": 12,
   "metadata": {
    "collapsed": false
   },
   "outputs": [
    {
     "data": {
      "text/plain": [
       "[array([[9, 'Them Crooked Vultures', 'HWY 1'],\n",
       "        [27, 'Judas Priest', 'Angel'],\n",
       "        [28, 'Judas Priest', 'Deal with the Devil'],\n",
       "        [29, 'Judas Priest', 'A Touch of Evil'],\n",
       "        [30, 'Judas Priest', 'Painkiller'],\n",
       "        [31, 'Judas Priest', 'Living Bad Dreams'],\n",
       "        [32, 'Tiamat', 'Cain'],\n",
       "        [82, 'Pantera', 'Drag the Waters'],\n",
       "        [83, 'Pantera', 'Cat Scratch Fever'],\n",
       "        [84, 'Pantera', 'Cemetery Gates'],\n",
       "        [85, 'Nightwish', 'Nemo'],\n",
       "        [86, 'Nightwish', 'Dark Chest of Wonders'],\n",
       "        [87, 'Scorpions & Berliner Philharmoniker', 'Crossfire'],\n",
       "        [92, 'Scorpions & Berliner Philharmoniker', 'Wind of Change'],\n",
       "        [94, 'Scorpions & Berliner Philharmoniker',\n",
       "         'Hurricane 2000 (Radio Edit)'],\n",
       "        [95, 'Scorpions & Berliner Philharmoniker', 'Deadly Sting Suite'],\n",
       "        [97, 'Scorpions & Berliner Philharmoniker', 'Here in My Heart'],\n",
       "        [99, 'Ozzy Osbourne', 'Zombie Stomp'],\n",
       "        [100, 'Ozzy Osbourne', 'Desire'],\n",
       "        [101, 'Ozzy Osbourne', \"Don't Blame Me\"],\n",
       "        [102, 'Ozzy Osbourne', 'A.V.H.'],\n",
       "        [104, 'Ozzy Osbourne', 'Party With the Animals'],\n",
       "        [105, 'Ozzy Osbourne', 'Mr. Tinkertrain'],\n",
       "        [106, 'Ozzy Osbourne', \"I Don't Want To Change The World\"],\n",
       "        [108, 'Ozzy Osbourne', 'Time After Time'],\n",
       "        [109, 'Ozzy Osbourne', 'Hellraiser'],\n",
       "        [110, 'Ozzy Osbourne', 'S.I.N.'],\n",
       "        [125, 'Jack White', 'Lazaretto'],\n",
       "        [129, 'Jack White', 'Three Women'],\n",
       "        [133, 'Jack White', 'I Think I Found the Culprit'],\n",
       "        [136, 'Depeche Mode', 'I Feel You'],\n",
       "        [137, 'Depeche Mode', 'Dream On'],\n",
       "        [138, 'Depeche Mode', 'Personal Jesus'],\n",
       "        [139, 'Depeche Mode', 'Enjoy the Silence'],\n",
       "        [140, 'Depeche Mode', 'Walking in My Shoes'],\n",
       "        [141, 'Steve Vai', 'Die To Live'],\n",
       "        [142, 'Steve Vai', 'Tender Surrender'],\n",
       "        [143, 'Steve Vai', 'The Boy From Seattle'],\n",
       "        [144, 'Steve Vai', 'Bad Horsie'],\n",
       "        [145, 'Steve Vai', 'Juice'],\n",
       "        [146, 'Steve Vai', 'Ya-Yo Gakk'],\n",
       "        [164, 'Sully Erna', \"Sinner's Prayer\"],\n",
       "        [165, 'Sully Erna', 'Until Then...'],\n",
       "        [168, 'Sully Erna', 'Avalon'],\n",
       "        [190, 'Queens of the Stone Age', 'Keep Your Eyes Peeled'],\n",
       "        [191, 'Queens of the Stone Age', 'How to Handle a Rope'],\n",
       "        [192, 'Queens of the Stone Age', 'Avon'],\n",
       "        [194, 'Queens of the Stone Age', 'Smooth Sailing'],\n",
       "        [196, 'Queens of the Stone Age', 'Regular John'],\n",
       "        [197, 'Queens of the Stone Age', 'I Was a Teenage Hand Model'],\n",
       "        [200, 'Queens of the Stone Age', 'Fairweather Friends'],\n",
       "        [203, 'Queens of the Stone Age', 'My God Is the Sun'],\n",
       "        [204, 'Queens of the Stone Age', 'Mexicola'],\n",
       "        [205, 'Queens of the Stone Age', \"You Can't Quit Me Baby\"],\n",
       "        [207, 'Queens of the Stone Age', 'Give the Mule What He Wants'],\n",
       "        [208, 'Queens of the Stone Age', 'I Appear Missing'],\n",
       "        [232, 'Tito & Tarantula', 'California Girl'],\n",
       "        [318, 'Muse', 'Exogenesis: Symphony, Part 3: Redemption'],\n",
       "        [336, 'Scorpions', 'Shapes Of Things'],\n",
       "        [344, 'Scorpions', 'Across the Universe'],\n",
       "        [348, 'Scorpions', \"Still Loving You (Je t'aime encore)\"],\n",
       "        [353, 'Godsmack', 'Good Times, Bad Times'],\n",
       "        [382, 'Limp Bizkit', 'Counterfeit'],\n",
       "        [393, 'Limp Bizkit', 'My Generation'],\n",
       "        [394, 'Limp Bizkit', 'Re-Arranged'],\n",
       "        [420, 'Static-X', 'Cold']], dtype=object)]"
      ]
     },
     "execution_count": 12,
     "metadata": {},
     "output_type": "execute_result"
    }
   ],
   "source": [
    "[idx.values[i] for i in i_1]"
   ]
  },
  {
   "cell_type": "code",
   "execution_count": 13,
   "metadata": {
    "collapsed": false
   },
   "outputs": [
    {
     "data": {
      "text/plain": [
       "[array([[33, 'Pink Floyd', 'Arnold Layne'],\n",
       "        [34, 'Pink Floyd', 'Jugband Blues'],\n",
       "        [35, 'Pink Floyd', 'Wish You Were Here'],\n",
       "        [36, 'Pink Floyd', 'Set the Controls for the Heart of the Sun'],\n",
       "        [37, 'Pink Floyd', 'When the Tigers Broke Free'],\n",
       "        [38, 'Pink Floyd', 'Learning to Fly'],\n",
       "        [39, 'Pink Floyd', 'Time'],\n",
       "        [40, 'Pink Floyd', 'Us and Them'],\n",
       "        [43, 'Pink Floyd', 'See Emily Play'],\n",
       "        [44, 'Pink Floyd', 'Comfortably Numb'],\n",
       "        [47, 'Pink Floyd', 'Echoes'],\n",
       "        [48, 'Pink Floyd', 'Louder Than Words'],\n",
       "        [49, 'Pink Floyd', 'One of These Days'],\n",
       "        [51, 'Pink Floyd', 'The Happiest Days of Our Lives'],\n",
       "        [54, 'Pink Floyd', 'The Fletcher Memorial Home'],\n",
       "        [57, 'Pink Floyd', 'Money'],\n",
       "        [60, 'Pink Floyd', 'The Great Gig in the Sky'],\n",
       "        [61, 'Pink Floyd', 'Keep Talking'],\n",
       "        [63, 'Pink Floyd', 'Sorrow'],\n",
       "        [65, 'Pink Floyd', 'Another Brick in the Wall, Part 2'],\n",
       "        [66, 'Pink Floyd', 'High Hopes'],\n",
       "        [67, 'Pink Floyd', 'Sheep'],\n",
       "        [68, 'Pink Floyd', 'Astronomy Domine'],\n",
       "        [69, 'Pink Floyd', 'Bike'],\n",
       "        [74, 'Pink Floyd', 'Hey You']], dtype=object)]"
      ]
     },
     "execution_count": 13,
     "metadata": {},
     "output_type": "execute_result"
    }
   ],
   "source": [
    "[idx.values[i] for i in i_2]"
   ]
  },
  {
   "cell_type": "code",
   "execution_count": 14,
   "metadata": {
    "collapsed": false
   },
   "outputs": [
    {
     "data": {
      "text/plain": [
       "[array([[14, 'Morphine', \"I'm Free Now\"],\n",
       "        [15, 'Morphine', 'Dawna'],\n",
       "        [16, 'Morphine', 'Sheila'],\n",
       "        [17, 'Morphine', 'A Head With Wings'],\n",
       "        [18, 'Morphine', 'Thursday'],\n",
       "        [19, 'Morphine', \"Miles Davis' Funeral\"],\n",
       "        [20, 'Morphine', 'All Wrong'],\n",
       "        [21, 'Morphine', 'Candy'],\n",
       "        [22, 'Morphine', 'In Spite Of Me'],\n",
       "        [23, 'Morphine', 'Buena'],\n",
       "        [24, 'Morphine', \"Mary Won't You Call My Name?\"],\n",
       "        [25, 'Morphine', 'Cure for Pain'],\n",
       "        [26, 'Morphine', \"Let's Take a Trip Together\"],\n",
       "        [174, 'Imagine Dragons', 'Radioactive'],\n",
       "        [235, 'Radiohead', 'Creep'],\n",
       "        [413, 'The Raconteurs', 'Together']], dtype=object)]"
      ]
     },
     "execution_count": 14,
     "metadata": {},
     "output_type": "execute_result"
    }
   ],
   "source": [
    "[idx.values[i] for i in i_3]"
   ]
  },
  {
   "cell_type": "code",
   "execution_count": 15,
   "metadata": {
    "collapsed": false
   },
   "outputs": [
    {
     "data": {
      "text/plain": [
       "[array([[175, 'Nirvana', 'Sliver'],\n",
       "        [176, 'Nirvana', 'Smells Like Teen Spirit'],\n",
       "        [177, 'Nirvana', 'In Bloom'],\n",
       "        [178, 'Nirvana', 'Dumb'],\n",
       "        [179, 'Nirvana', 'Come as You Are'],\n",
       "        [180, 'Nirvana', 'Heart-Shaped Box'],\n",
       "        [181, 'Nirvana', \"You Know You're Right\"],\n",
       "        [182, 'Nirvana', 'About a Girl'],\n",
       "        [183, 'Nirvana', 'The Man Who Sold the World'],\n",
       "        [184, 'Nirvana', 'All Apologies'],\n",
       "        [185, 'Nirvana', 'Where Did You Sleep Last Night?'],\n",
       "        [186, 'Nirvana', 'Lithium'],\n",
       "        [187, 'Nirvana', 'Rape Me'],\n",
       "        [188, 'Nirvana', 'Pennyroyal Tea'],\n",
       "        [189, 'Nirvana', 'Been a Son'],\n",
       "        [285, 'Alice in Chains', 'What The Hell Have I'],\n",
       "        [286, 'Alice in Chains', 'Over Now'],\n",
       "        [287, 'Alice in Chains', 'Died'],\n",
       "        [288, 'Alice in Chains', 'Dirt'],\n",
       "        [289, 'Alice in Chains', 'Hate to Feel'],\n",
       "        [290, 'Alice in Chains', 'Brother'],\n",
       "        [291, 'Alice in Chains', 'Rain When I Die'],\n",
       "        [292, 'Alice in Chains', 'Love, Hate, Love'],\n",
       "        [293, 'Alice in Chains', 'Am I Inside'],\n",
       "        [294, 'Alice in Chains', 'A Little Bitter'],\n",
       "        [295, 'Alice in Chains', 'Nutshell'],\n",
       "        [296, 'Alice in Chains', 'Get Born Again'],\n",
       "        [297, 'Alice in Chains', 'Heaven Beside You'],\n",
       "        [298, 'Alice in Chains', 'Angry Chair'],\n",
       "        [299, 'Alice in Chains', 'Down in a Hole'],\n",
       "        [300, 'Alice in Chains', 'Again'],\n",
       "        [301, 'Alice in Chains', 'Man in the Box'],\n",
       "        [302, 'Alice in Chains', 'Grind'],\n",
       "        [303, 'Alice in Chains', 'Junkhead'],\n",
       "        [304, 'Alice in Chains', 'I Stay Away'],\n",
       "        [305, 'Alice in Chains', 'God Smack'],\n",
       "        [306, 'Alice in Chains', 'Got Me Wrong'],\n",
       "        [307, 'Alice in Chains', 'Them Bones'],\n",
       "        [308, 'Alice in Chains', 'Iron Gland'],\n",
       "        [309, 'Alice in Chains', 'Rooster'],\n",
       "        [310, 'Alice in Chains', 'Sea of Sorrow'],\n",
       "        [311, 'Alice in Chains', 'No Excuses'],\n",
       "        [312, 'Alice in Chains', 'We Die Young'],\n",
       "        [313, 'Alice in Chains', 'Sickman'],\n",
       "        [314, 'Alice in Chains', 'Right Turn'],\n",
       "        [315, 'Alice in Chains', 'Would?'],\n",
       "        [316, 'Alice in Chains', 'Dam That River']], dtype=object)]"
      ]
     },
     "execution_count": 15,
     "metadata": {},
     "output_type": "execute_result"
    }
   ],
   "source": [
    "[idx.values[i] for i in i_4]"
   ]
  },
  {
   "cell_type": "code",
   "execution_count": 16,
   "metadata": {
    "collapsed": false
   },
   "outputs": [
    {
     "data": {
      "text/plain": [
       "[array([[1, 'Them Crooked Vultures', 'Elephants'],\n",
       "        [2, 'Them Crooked Vultures', 'Reptiles'],\n",
       "        [3, 'Them Crooked Vultures', 'No One Loves Me & Neither Do I'],\n",
       "        [4, 'Them Crooked Vultures', 'Caligulove'],\n",
       "        [5, 'Them Crooked Vultures',\n",
       "         'Warsaw or the First Breath You Take After You Give Up'],\n",
       "        [6, 'Them Crooked Vultures', 'Scumbag Blues'],\n",
       "        [7, 'Them Crooked Vultures', 'Spinning in Daffodils'],\n",
       "        [8, 'Them Crooked Vultures', 'Gunman'],\n",
       "        [10, 'Them Crooked Vultures', 'New Fang'],\n",
       "        [11, 'Them Crooked Vultures', 'Mind Eraser, No Chaser'],\n",
       "        [13, 'Them Crooked Vultures', 'Dead End Friends'],\n",
       "        [78, 'Led Zeppelin', 'Black Dog'],\n",
       "        [79, 'Led Zeppelin', 'Whole Lotta Love'],\n",
       "        [80, 'Led Zeppelin', 'Stairway to Heaven'],\n",
       "        [81, 'Led Zeppelin', 'Immigrant Song'],\n",
       "        [88, 'Scorpions & Berliner Philharmoniker', 'Lady Starlight'],\n",
       "        [89, 'Scorpions & Berliner Philharmoniker', 'Still Loving You'],\n",
       "        [90, 'Scorpions & Berliner Philharmoniker', 'Moment of Glory'],\n",
       "        [91, 'Scorpions & Berliner Philharmoniker', 'Big City Nights'],\n",
       "        [93, 'Scorpions & Berliner Philharmoniker', 'Send Me an Angel'],\n",
       "        [96, 'Scorpions & Berliner Philharmoniker', 'Hurricane 2000'],\n",
       "        [103, 'Ozzy Osbourne', \"Mama, I'm Coming Home\"],\n",
       "        [107, 'Ozzy Osbourne', 'Road To Nowhere'],\n",
       "        [111, 'Ozzy Osbourne', 'No More Tears'],\n",
       "        [199, 'Queens of the Stone Age', 'Walkin On The Sidewalks'],\n",
       "        [206, 'Queens of the Stone Age', 'Hispanic Impressions'],\n",
       "        [223, 'Alice Cooper', \"Nothing's Free\"],\n",
       "        [224, 'Alice Cooper', 'Hey Stoopid'],\n",
       "        [225, 'Alice Cooper', 'Burning Our Bed'],\n",
       "        [226, 'Alice Cooper', 'House of Fire'],\n",
       "        [227, 'Alice Cooper', 'Poison'],\n",
       "        [228, 'Alice Cooper', \"Love's a Loaded Gun\"],\n",
       "        [229, 'Alice Cooper', 'Lost in America'],\n",
       "        [230, 'Alice Cooper', 'Feed My Frankenstein'],\n",
       "        [335, 'Scorpions', 'Blackout'],\n",
       "        [337, 'Scorpions', 'Ruby Tuesday'],\n",
       "        [338, 'Scorpions', 'Wind of Change'],\n",
       "        [339, 'Scorpions', 'Still Loving You'],\n",
       "        [340, 'Scorpions', 'Tin Soldier'],\n",
       "        [341, 'Scorpions', 'Rock You Like a Hurricane'],\n",
       "        [342, 'Scorpions', 'Children Of The Revolution'],\n",
       "        [343, 'Scorpions', 'Rhythm Of Love'],\n",
       "        [345, 'Scorpions', 'All Day And All Of The Night'],\n",
       "        [346, 'Scorpions', 'No One Like You'],\n",
       "        [347, 'Scorpions', 'Big City Nights'],\n",
       "        [349, 'Scorpions', 'Tainted Love'],\n",
       "        [350, 'Scorpions', 'The Zoo'],\n",
       "        [351, 'Godsmack', 'Vampires'],\n",
       "        [352, 'Godsmack', 'Sick of Life'],\n",
       "        [354, 'Godsmack', 'Forgive Me'],\n",
       "        [355, 'Godsmack', 'Spiral'],\n",
       "        [356, 'AC/DC', 'Highway To Hell'],\n",
       "        [357, 'AC/DC', 'T.N.T.'],\n",
       "        [358, 'AC/DC', 'Back in Black'],\n",
       "        [359, 'AC/DC', 'Hells Bells'],\n",
       "        [360, 'AC/DC', 'What Do You Do for Money Honey'],\n",
       "        [361, 'AC/DC', 'You Shook Me All Night Long'],\n",
       "        [395, 'Queen', 'Bohemian Rhapsody']], dtype=object)]"
      ]
     },
     "execution_count": 16,
     "metadata": {},
     "output_type": "execute_result"
    }
   ],
   "source": [
    "[idx.values[i] for i in i_5]"
   ]
  },
  {
   "cell_type": "code",
   "execution_count": 17,
   "metadata": {
    "collapsed": false
   },
   "outputs": [
    {
     "data": {
      "text/plain": [
       "[array([[236, 'Coldplay', 'A Message'],\n",
       "        [237, 'Coldplay', 'High Speed'],\n",
       "        [238, 'Coldplay', 'Talk'],\n",
       "        [239, 'Coldplay', 'Clocks'],\n",
       "        [240, 'Coldplay', 'The World Turned Upside Down'],\n",
       "        [241, 'Coldplay', 'Animals'],\n",
       "        [242, 'Coldplay', 'X&Y'],\n",
       "        [243, 'Coldplay', 'Violet Hill'],\n",
       "        [244, 'Coldplay', 'No More Keeping My Feet on the Ground'],\n",
       "        [245, 'Coldplay', \"Don't Panic\"],\n",
       "        [246, 'Coldplay', 'White Shadows'],\n",
       "        [247, 'Coldplay', 'Spies'],\n",
       "        [248, 'Coldplay', 'Politik'],\n",
       "        [249, 'Coldplay', 'Brothers and Sisters'],\n",
       "        [250, 'Coldplay', 'Bigger Stronger'],\n",
       "        [251, 'Coldplay', 'In My Place'],\n",
       "        [252, 'Coldplay', 'Lost!'],\n",
       "        [253, 'Coldplay', 'Only Superstition'],\n",
       "        [254, 'Coldplay', 'See You Soon'],\n",
       "        [255, 'Coldplay', 'Fix You'],\n",
       "        [256, 'Coldplay', 'Such a Rush'],\n",
       "        [257, 'Coldplay', 'I Ran Away'],\n",
       "        [258, 'Coldplay', 'Shiver'],\n",
       "        [259, 'Coldplay', 'The Hardest Part'],\n",
       "        [260, 'Coldplay', 'Cemeteries of London'],\n",
       "        [261, 'Coldplay', 'Yellow'],\n",
       "        [262, 'Coldplay', 'Trouble'],\n",
       "        [263, 'Coldplay', 'We Never Change'],\n",
       "        [264, 'Coldplay', 'Speed of Sound'],\n",
       "        [265, 'Coldplay', 'Crests Of Waves'],\n",
       "        [266, 'Coldplay', 'Sparks'],\n",
       "        [268, 'Coldplay', 'Square One'],\n",
       "        [269, 'Coldplay', 'God Put a Smile Upon Your Face'],\n",
       "        [270, 'Coldplay', \"Things I Don't Understand\"]], dtype=object)]"
      ]
     },
     "execution_count": 17,
     "metadata": {},
     "output_type": "execute_result"
    }
   ],
   "source": [
    "[idx.values[i] for i in i_6]"
   ]
  },
  {
   "cell_type": "code",
   "execution_count": 18,
   "metadata": {
    "collapsed": false
   },
   "outputs": [
    {
     "data": {
      "text/plain": [
       "[array([[98, 'Three Days Grace', 'Chalk Outline'],\n",
       "        [147, 'Foo Fighters', 'The Pretender'],\n",
       "        [148, 'Foo Fighters', 'All My Life'],\n",
       "        [149, 'Foo Fighters', 'Word Forward'],\n",
       "        [151, 'Foo Fighters', 'Everlong'],\n",
       "        [152, 'Foo Fighters', 'My Hero'],\n",
       "        [153, 'Foo Fighters', 'Monkey Wrench'],\n",
       "        [154, 'Foo Fighters', 'Skin and Bones'],\n",
       "        [155, 'Foo Fighters', 'Times Like These'],\n",
       "        [156, 'Foo Fighters', 'This Is a Call'],\n",
       "        [157, 'Foo Fighters', 'Best of You'],\n",
       "        [158, 'Foo Fighters', 'Breakout'],\n",
       "        [159, 'Foo Fighters', 'Learn to Fly'],\n",
       "        [160, 'Foo Fighters', 'Big Me'],\n",
       "        [161, 'Foo Fighters', 'Long Road to Ruin'],\n",
       "        [162, 'Sully Erna', '7 Years'],\n",
       "        [167, 'Sully Erna', 'My Light'],\n",
       "        [170, 'Sully Erna', 'Eyes Of A Child'],\n",
       "        [171, 'Sully Erna', 'The Rise'],\n",
       "        [193, 'Queens of the Stone Age', 'You Would Know'],\n",
       "        [201, 'Queens of the Stone Age', '…Like Clockwork'],\n",
       "        [202, 'Queens of the Stone Age', 'I Sat by the Ocean'],\n",
       "        [267, 'Coldplay', 'Viva la Vida'],\n",
       "        [271, '30 Seconds to Mars', 'Welcome to the Universe'],\n",
       "        [272, '30 Seconds to Mars', 'Oblivion'],\n",
       "        [273, '30 Seconds to Mars', 'The Fantasy'],\n",
       "        [274, '30 Seconds to Mars', 'Buddha for Mary'],\n",
       "        [275, '30 Seconds to Mars', '93 Million Miles'],\n",
       "        [276, '30 Seconds to Mars', 'The Kill'],\n",
       "        [277, '30 Seconds to Mars', 'The Mission'],\n",
       "        [278, '30 Seconds to Mars', 'End of the Beginning'],\n",
       "        [279, '30 Seconds to Mars', 'Year Zero'],\n",
       "        [280, '30 Seconds to Mars', 'Fallen'],\n",
       "        [281, '30 Seconds to Mars', 'Echelon'],\n",
       "        [282, '30 Seconds to Mars', 'Capricorn (A Brand New Name)'],\n",
       "        [283, '30 Seconds to Mars', 'Edge of the Earth'],\n",
       "        [284, '30 Seconds to Mars', 'A Beautiful Lie'],\n",
       "        [317, 'Muse', 'Hysteria'],\n",
       "        [319, 'Muse', 'I Belong to You'],\n",
       "        [320, 'Muse', 'Uprising'],\n",
       "        [321, 'Muse', 'Supermassive Black Hole'],\n",
       "        [322, 'Muse', 'Unnatural Selection'],\n",
       "        [323, 'Muse', 'Hoodoo'],\n",
       "        [324, 'Muse', 'Undisclosed Desires'],\n",
       "        [325, 'Muse', 'Starlight'],\n",
       "        [327, 'Muse', 'Exogenesis: Symphony, Part 2: Cross-Pollination'],\n",
       "        [328, 'Muse', 'Exogenesis: Symphony, Part 1: Overture'],\n",
       "        [329, 'Muse', 'MK Ultra'],\n",
       "        [330, 'Muse', 'Psycho'],\n",
       "        [331, 'Muse', 'Resistance'],\n",
       "        [332, 'Muse', 'Exo-Politics'],\n",
       "        [333, 'Muse', 'Apocalypse Please'],\n",
       "        [334, 'Muse', 'Guiding Light'],\n",
       "        [362, 'Red Hot Chili Peppers', 'Universally Speaking'],\n",
       "        [363, 'Red Hot Chili Peppers', 'Californication'],\n",
       "        [364, 'Red Hot Chili Peppers', 'Save the Population'],\n",
       "        [365, 'Red Hot Chili Peppers', 'Scar Tissue'],\n",
       "        [366, 'Red Hot Chili Peppers', 'By the Way'],\n",
       "        [367, 'Red Hot Chili Peppers', 'Give It Away'],\n",
       "        [368, 'Red Hot Chili Peppers', 'Under the Bridge'],\n",
       "        [369, 'Red Hot Chili Peppers', 'Breaking the Girl'],\n",
       "        [370, 'Red Hot Chili Peppers', 'Higher Ground'],\n",
       "        [371, 'Red Hot Chili Peppers', 'Fortune Faded'],\n",
       "        [372, 'Red Hot Chili Peppers', 'My Friends'],\n",
       "        [373, 'Red Hot Chili Peppers', 'Soul to Squeeze'],\n",
       "        [374, 'Red Hot Chili Peppers', \"Road Trippin'\"],\n",
       "        [375, 'Red Hot Chili Peppers', 'Suck My Kiss'],\n",
       "        [376, 'Red Hot Chili Peppers', 'Otherside'],\n",
       "        [377, 'Red Hot Chili Peppers', 'Parallel Universe'],\n",
       "        [378, 'Limp Bizkit', 'Lean On Me'],\n",
       "        [379, 'Limp Bizkit', 'Faith'],\n",
       "        [380, 'Limp Bizkit', 'Home Sweet Home'],\n",
       "        [381, 'Limp Bizkit', 'Behind Blue Eyes'],\n",
       "        [383, 'Limp Bizkit', 'Build a Bridge'],\n",
       "        [384, 'Limp Bizkit', 'N 2 Gether Now'],\n",
       "        [385, 'Limp Bizkit', 'Nookie'],\n",
       "        [386, 'Limp Bizkit', 'Boiler'],\n",
       "        [387, 'Limp Bizkit', 'Why'],\n",
       "        [388, 'Limp Bizkit', 'My Way'],\n",
       "        [389, 'Limp Bizkit', 'Eat You Alive'],\n",
       "        [391, 'Limp Bizkit', 'Break Stuff'],\n",
       "        [392, 'Limp Bizkit', 'Take a Look Around'],\n",
       "        [396, 'Green Day', \"She's a Rebel\"],\n",
       "        [397, 'Green Day', 'Wake Me Up When September Ends'],\n",
       "        [398, 'Green Day', 'Give Me Novacaine'],\n",
       "        [399, 'Green Day', 'Homecoming'],\n",
       "        [400, 'Green Day', 'American Idiot'],\n",
       "        [401, 'Green Day', 'Extraordinary Girl'],\n",
       "        [402, 'Green Day', 'Whatsername'],\n",
       "        [403, 'Green Day', 'St. Jimmy'],\n",
       "        [404, 'Green Day', 'Boulevard of Broken Dreams'],\n",
       "        [405, 'Green Day', 'Holiday'],\n",
       "        [406, 'Green Day', 'Letterbomb'],\n",
       "        [407, 'Green Day', 'Are We the Waiting'],\n",
       "        [408, 'Green Day', 'Jesus of Suburbia'],\n",
       "        [409, 'Linkin Park', 'Numb'],\n",
       "        [410, 'The Raconteurs', 'Intimate Secretary'],\n",
       "        [412, 'The Raconteurs', 'Yellow Sun'],\n",
       "        [414, 'The Raconteurs', 'Call It a Day'],\n",
       "        [415, 'The Raconteurs', 'Store Bought Bones'],\n",
       "        [416, 'The Raconteurs', 'Hands'],\n",
       "        [417, 'The Raconteurs', 'Broken Boy Soldier'],\n",
       "        [418, 'The Raconteurs', 'Steady, as She Goes'],\n",
       "        [419, 'The Raconteurs', 'Level'],\n",
       "        [421, 'The White Stripes', 'Seven Nation Army'],\n",
       "        [422, 'The White Stripes', 'Black Math'],\n",
       "        [423, 'The White Stripes', 'Little Acorns'],\n",
       "        [424, 'The White Stripes', 'In the Cold, Cold Night']], dtype=object)]"
      ]
     },
     "execution_count": 18,
     "metadata": {},
     "output_type": "execute_result"
    }
   ],
   "source": [
    "[idx.values[i] for i in i_7]"
   ]
  },
  {
   "cell_type": "code",
   "execution_count": 19,
   "metadata": {
    "collapsed": false
   },
   "outputs": [
    {
     "data": {
      "text/plain": [
       "[array([[41, 'Pink Floyd', 'Surfacing'],\n",
       "        [42, 'Pink Floyd', \"Autumn '68\"],\n",
       "        [45, 'Pink Floyd', 'Allons-y (2)'],\n",
       "        [46, 'Pink Floyd', 'Anisina'],\n",
       "        [50, 'Pink Floyd', 'Night Light'],\n",
       "        [52, 'Pink Floyd', 'Things Left Unsaid'],\n",
       "        [53, 'Pink Floyd', 'On Noodle Street'],\n",
       "        [55, 'Pink Floyd', 'Ebb and Flow'],\n",
       "        [56, 'Pink Floyd', 'Marooned'],\n",
       "        [58, 'Pink Floyd', 'Skins'],\n",
       "        [59, 'Pink Floyd', 'Unsung'],\n",
       "        [62, 'Pink Floyd', 'The Lost Art of Conversation'],\n",
       "        [64, 'Pink Floyd', 'Eyes to Pearls'],\n",
       "        [70, 'Pink Floyd', 'Sum'],\n",
       "        [71, 'Pink Floyd', 'Calling'],\n",
       "        [72, 'Pink Floyd', 'Allons-y (1)'],\n",
       "        [73, 'Pink Floyd', \"Talkin' Hawkin'\"],\n",
       "        [75, 'Pink Floyd', \"It's What We Do\"]], dtype=object)]"
      ]
     },
     "execution_count": 19,
     "metadata": {},
     "output_type": "execute_result"
    }
   ],
   "source": [
    "[idx.values[i] for i in i_8]"
   ]
  },
  {
   "cell_type": "code",
   "execution_count": 20,
   "metadata": {
    "collapsed": false
   },
   "outputs": [
    {
     "data": {
      "text/plain": [
       "[array([[212, 'The Dead Weather', 'Looking at the Invisible Man'],\n",
       "        [213, 'The Dead Weather', \"I Can't Hear You\"],\n",
       "        [214, 'The Dead Weather', 'Hustle and Cuss'],\n",
       "        [215, 'The Dead Weather', 'Blue Blood Blues'],\n",
       "        [216, 'The Dead Weather', 'The Difference Between Us'],\n",
       "        [217, 'The Dead Weather', 'Gasoline'],\n",
       "        [218, 'The Dead Weather', 'Old Mary'],\n",
       "        [219, 'The Dead Weather', 'Die by the Drop'],\n",
       "        [220, 'The Dead Weather', 'No Horse'],\n",
       "        [221, 'The Dead Weather', 'Jawbreaker'],\n",
       "        [222, 'The Dead Weather', \"I'm Mad\"]], dtype=object)]"
      ]
     },
     "execution_count": 20,
     "metadata": {},
     "output_type": "execute_result"
    }
   ],
   "source": [
    "[idx.values[i] for i in i_9]"
   ]
  }
 ],
 "metadata": {
  "kernelspec": {
   "display_name": "Python 3",
   "language": "python",
   "name": "python3"
  },
  "language_info": {
   "codemirror_mode": {
    "name": "ipython",
    "version": 3
   },
   "file_extension": ".py",
   "mimetype": "text/x-python",
   "name": "python",
   "nbconvert_exporter": "python",
   "pygments_lexer": "ipython3",
   "version": "3.4.3"
  }
 },
 "nbformat": 4,
 "nbformat_minor": 0
}
