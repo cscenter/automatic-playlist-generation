{
 "cells": [
  {
   "cell_type": "markdown",
   "metadata": {},
   "source": [
    "## Анализ плейлиста с помощью тегов last.fm"
   ]
  },
  {
   "cell_type": "markdown",
   "metadata": {},
   "source": [
    "Плейлист rock ballads -- https://new.vk.com/wall-29231851_654895 Обе песни Шер и песня Bon Jovi – Silent Night несколько выбиваются. Теги по исполнителям:"
   ]
  },
  {
   "cell_type": "code",
   "execution_count": 1,
   "metadata": {
    "collapsed": true
   },
   "outputs": [],
   "source": [
    "import pylast\n",
    "import time\n",
    "\n",
    "\n",
    "username = LAST_FM_USER\n",
    "password_hash = pylast.md5(LAST_FM_PASSWORD)\n",
    "network = pylast.LastFMNetwork(api_key=LAST_FM_API_KEY, api_secret=LAST_FM_API_SECRET, username=username, password_hash=password_hash)"
   ]
  },
  {
   "cell_type": "raw",
   "metadata": {},
   "source": [
    "По исполнителю есть следующие методы:\n",
    "\n",
    "    artist.addTags\n",
    "    artist.getCorrection\n",
    "    artist.getInfo\n",
    "    artist.getSimilar\n",
    "    artist.getTags\n",
    "    artist.getTopAlbums\n",
    "    artist.getTopTags\n",
    "    artist.getTopTracks\n",
    "    artist.removeTag\n",
    "    artist.search\n",
    "\n",
    "getTags не даёт информации, а getTopTags даёт тэги. getInfo -- краткая сводка биографии. Перспективными выглядят теги artist.getSimilar и artist.getTopTags. Популярные теги:"
   ]
  },
  {
   "cell_type": "code",
   "execution_count": 4,
   "metadata": {
    "collapsed": false
   },
   "outputs": [
    {
     "name": "stdout",
     "output_type": "stream",
     "text": [
      "['pop', 'female vocalists', '80s', 'dance', 'rock', 'cher', 'diva', '90s', '70s', 'american', 'female', 'classic rock', '60s', 'Disco', 'female vocalist', 'legend', 'seen live', 'pop rock', 'electronic', '00s', 'gay', 'Ballad', 'soft rock', 'oldies', 'soul', 'folk', 'USA', 'Gay Icon', 'singer-songwriter', 'love songs', 'Pop-Rock', 'ballads', 'sweet', 'love song', 'goddess of pop', 'alternative', 'favorites', 'icon', 'divas', 'electronica', 'House', 'singer', \"80's\", 'goddess', 'adult contemporary', 'dance pop', 'women', 'godness of pop']\n",
      "['hard rock', 'classic rock', 'rock', 'heavy metal', '80s', 'seen live', 'german', 'metal', 'scorpions', '70s', 'germany', 'hair metal', '90s', 'Progressive rock', 'ballads', 'melodic metal', 'male vocalists', 'legend', 'melodic rock', 'rock ballads']\n",
      "['rock', 'hard rock', 'classic rock', '80s', 'hair metal', 'seen live', 'bon jovi', 'american', '90s', 'pop', 'pop rock', 'Glam Metal', 'glam rock', 'metal', 'male vocalists', 'heavy metal', 'USA', 'soft rock', 'alternative', 'alternative rock', 'new jersey', '00s', 'Pop-Rock', 'singer-songwriter', 'melodic rock', '80s rock', 'Pop Metal']\n",
      "['classic rock', 'rock', 'female vocalists', '80s', 'hard rock', '70s', 'heart', 'seen live', 'pop', 'american', 'female vocalist', 'pop rock', 'folk rock', 'seattle', 'female', 'AOR', 'soft rock', 'arena rock', 'Canadian', 'USA', 'oldies', 'favorites', 'Pop-Rock', 'hair metal', 'singer-songwriter', 'classic', 'alternative', 'Progressive rock', 'female vocals', '90s', \"80's\", '60s', 'metal', 'album rock', 'guitar', 'melodic rock']\n",
      "['hard rock', 'rock', 'classic rock', '80s', 'metal', 'heavy metal', 'seen live', 'Guns N Roses', 'american', 'hair metal', '90s', 'glam rock', 'alternative', 'Glam Metal', \"Guns N' Roses\", 'Slash', 'rock n roll', 'USA', 'sleaze rock', 'alternative rock', 'guitar', 'Axl Rose', 'male vocalists', 'punk', 'blues rock']\n",
      "['rock', 'classic rock', 'hard rock', '80s', '70s', 'seen live', 'aerosmith', 'american', 'blues rock', 'alternative', '90s', 'heavy metal', 'metal', 'alternative rock', 'glam rock', 'male vocalists', 'rock n roll', 'blues', 'USA', 'hair metal', 'pop', 'pop rock', 'Rock and Roll', 'classic', 'oldies']\n"
     ]
    }
   ],
   "source": [
    "artists = [\"cher\", \"scorpions\", \"bon jovi\", \"heart\", \"guns n roses\", \"aerosmith\"]\n",
    "\n",
    "l = len(artists)\n",
    "\n",
    "tags = []\n",
    "\n",
    "for i in range(l):\n",
    "    artist_data = network.get_artist(artists[i])\n",
    "    tag = [t[0].get_name() for t in artist_data.get_top_tags()]\n",
    "    print(tag)\n",
    "    tags.append(tag)\n",
    "    time.sleep(0.1)"
   ]
  },
  {
   "cell_type": "raw",
   "metadata": {},
   "source": [
    "По тегам Cher больше pop, чем rock, поэтому может выбиваться из плейлиста. Пересечение тегов для разных исполнителей:"
   ]
  },
  {
   "cell_type": "code",
   "execution_count": 5,
   "metadata": {
    "collapsed": false
   },
   "outputs": [
    {
     "name": "stdout",
     "output_type": "stream",
     "text": [
      "cher intersect scorpions : {'rock', '80s', 'legend', 'seen live', 'classic rock', '70s', '90s', 'ballads'} \n",
      "\n",
      "cher intersect bon jovi : {'rock', '80s', 'american', 'USA', 'singer-songwriter', 'seen live', 'pop', 'pop rock', 'soft rock', 'alternative', 'classic rock', '00s', 'Pop-Rock', '90s'} \n",
      "\n",
      "cher intersect heart : {'rock', 'female vocalists', '80s', 'american', 'female vocalist', 'USA', 'singer-songwriter', 'seen live', 'favorites', 'pop', \"80's\", 'pop rock', 'female', 'soft rock', 'alternative', '60s', 'classic rock', 'Pop-Rock', '70s', 'oldies', '90s'} \n",
      "\n",
      "cher intersect guns n roses : {'rock', '80s', 'american', 'USA', 'seen live', 'alternative', 'classic rock', '90s'} \n",
      "\n",
      "cher intersect aerosmith : {'rock', '80s', 'american', 'USA', 'seen live', 'pop', 'pop rock', 'alternative', 'classic rock', '70s', 'oldies', '90s'} \n",
      "\n",
      "scorpions intersect bon jovi : {'rock', '80s', 'hair metal', 'seen live', 'melodic rock', 'heavy metal', 'hard rock', 'classic rock', 'male vocalists', '90s', 'metal'} \n",
      "\n",
      "scorpions intersect heart : {'rock', '80s', 'hair metal', 'seen live', 'Progressive rock', 'melodic rock', 'hard rock', 'classic rock', '70s', '90s', 'metal'} \n",
      "\n",
      "scorpions intersect guns n roses : {'rock', '80s', 'hair metal', 'seen live', 'heavy metal', 'hard rock', 'classic rock', 'male vocalists', '90s', 'metal'} \n",
      "\n",
      "scorpions intersect aerosmith : {'rock', '80s', 'hair metal', 'seen live', 'heavy metal', 'hard rock', 'classic rock', '70s', 'male vocalists', '90s', 'metal'} \n",
      "\n",
      "bon jovi intersect heart : {'rock', '80s', 'american', 'hair metal', 'USA', 'singer-songwriter', 'seen live', 'melodic rock', 'pop', 'pop rock', 'soft rock', 'hard rock', 'alternative', 'classic rock', 'Pop-Rock', '90s', 'metal'} \n",
      "\n",
      "bon jovi intersect guns n roses : {'rock', '80s', 'american', 'hair metal', 'USA', 'seen live', 'Glam Metal', 'glam rock', 'alternative rock', 'heavy metal', 'hard rock', 'alternative', 'classic rock', 'male vocalists', '90s', 'metal'} \n",
      "\n",
      "bon jovi intersect aerosmith : {'rock', '80s', 'american', 'hair metal', 'USA', 'seen live', 'glam rock', 'alternative rock', 'pop', 'pop rock', 'heavy metal', 'hard rock', 'alternative', 'classic rock', 'male vocalists', '90s', 'metal'} \n",
      "\n",
      "heart intersect guns n roses : {'rock', '80s', 'american', 'hair metal', 'USA', 'seen live', 'guitar', 'hard rock', 'alternative', 'classic rock', '90s', 'metal'} \n",
      "\n",
      "heart intersect aerosmith : {'rock', '80s', 'american', 'hair metal', 'classic', 'USA', 'seen live', 'pop', 'pop rock', 'hard rock', 'alternative', 'classic rock', '70s', 'oldies', '90s', 'metal'} \n",
      "\n",
      "guns n roses intersect aerosmith : {'rock', '80s', 'american', 'hair metal', 'USA', 'seen live', 'glam rock', 'alternative rock', 'blues rock', 'heavy metal', 'hard rock', 'alternative', 'classic rock', 'rock n roll', 'male vocalists', '90s', 'metal'} \n",
      "\n"
     ]
    }
   ],
   "source": [
    "for i in range((l-1)):\n",
    "    for j in range((i+1),l):\n",
    "        print(artists[i], \"intersect\", artists[j], \":\",set(tags[i]).intersection(tags[j]), \"\\n\")   \n"
   ]
  },
  {
   "cell_type": "raw",
   "metadata": {},
   "source": [
    "У каких-то больше пересечения, у каких-то меньше, но надо учитывать и количество тегов."
   ]
  },
  {
   "cell_type": "raw",
   "metadata": {},
   "source": [
    "Похожие артисты по исполнителям:"
   ]
  },
  {
   "cell_type": "code",
   "execution_count": 6,
   "metadata": {
    "collapsed": false
   },
   "outputs": [],
   "source": [
    "similar_artist = []\n",
    "\n",
    "for i in range(l):\n",
    "    artist_data = network.get_artist(artists[i])\n",
    "    sim_art = [a[0].get_name() for a in artist_data.get_similar()]\n",
    "    similar_artist.append(sim_art)\n",
    "    time.sleep(0.1)"
   ]
  },
  {
   "cell_type": "raw",
   "metadata": {},
   "source": [
    "Пересечения:"
   ]
  },
  {
   "cell_type": "code",
   "execution_count": 7,
   "metadata": {
    "collapsed": false
   },
   "outputs": [
    {
     "name": "stdout",
     "output_type": "stream",
     "text": [
      "cher intersect scorpions : set() \n",
      "\n",
      "cher intersect bon jovi : {'Bonnie Tyler', 'Roxette'} \n",
      "\n",
      "cher intersect heart : {'Stevie Nicks'} \n",
      "\n",
      "cher intersect guns n roses : set() \n",
      "\n",
      "cher intersect aerosmith : set() \n",
      "\n",
      "scorpions intersect bon jovi : {'Tesla', 'Def Leppard', 'Poison', \"Guns N' Roses\", 'Bonfire', 'Mötley Crüe', 'White Lion', 'David Lee Roth', 'Boston', 'Gotthard', 'Y&T', 'Deep Purple', 'Bryan Adams', 'Journey', 'Status Quo', 'Gorky Park', 'Aerosmith', 'W.A.S.P.', 'Dire Straits', 'Magnum', 'Sammy Hagar', 'Rainbow', 'Thunder', 'Heart', 'Airbourne', 'L.A. Guns', 'Meat Loaf', 'Slash', 'Great White', 'Ratt', 'Kingdom Come', 'Night Ranger', 'ZZ Top', 'Twisted Sister', 'Kiss', 'Whitesnake', 'Skid Row', 'Firehouse', 'Warrant', 'Gary Moore', 'Michael Schenker Group', 'Steelheart', 'Dokken', 'Richie Sambora', 'Ozzy Osbourne', 'AC/DC', 'Sebastian Bach', 'Lita Ford', 'Jon Bon Jovi', 'Van Halen', 'Alice Cooper', 'Quiet Riot', 'Europe', 'Foreigner', 'Cinderella', 'Winger', 'Mr. Big', 'Queen', 'Survivor'} \n",
      "\n",
      "scorpions intersect heart : {'Tesla', 'Def Leppard', 'Poison', 'David Lee Roth', 'Boston', 'Nazareth', 'Y&T', 'Journey', 'Bryan Adams', 'Status Quo', 'Aerosmith', 'Thin Lizzy', 'Montrose', 'Sammy Hagar', 'UFO', 'Meat Loaf', 'Ratt', 'Great White', 'Night Ranger', 'ZZ Top', 'Kiss', 'Whitesnake', 'Firehouse', 'Warrant', 'Ted Nugent', 'Dokken', 'Blue Öyster Cult', 'Kansas', 'Lita Ford', 'Van Halen', 'Alice Cooper', 'Europe', 'Foreigner', 'Cinderella', 'Winger', 'Queen', 'Survivor'} \n",
      "\n",
      "scorpions intersect guns n roses : {'Tesla', 'Poison', 'Def Leppard', 'Judas Priest', 'Mötley Crüe', 'David Lee Roth', 'White Lion', 'Boston', 'Gotthard', 'Nazareth', 'Y&T', 'Deep Purple', 'Motörhead', 'Dio', 'Journey', 'W.A.S.P.', 'Aerosmith', 'Dire Straits', 'Thin Lizzy', 'Sammy Hagar', 'Rainbow', 'Thunder', 'Heart', 'Airbourne', 'L.A. Guns', 'Slash', 'Ratt', 'Great White', 'Meat Loaf', 'UFO', 'Kingdom Come', 'Night Ranger', 'ZZ Top', 'Twisted Sister', 'Kiss', 'Skid Row', 'Whitesnake', 'Firehouse', 'Warrant', 'Michael Schenker Group', 'Ted Nugent', 'Bon Jovi', 'Uriah Heep', 'Steelheart', 'Dokken', 'Ozzy Osbourne', 'AC/DC', 'Sebastian Bach', 'Black Sabbath', 'Lita Ford', 'Ace Frehley', 'Jon Bon Jovi', 'Van Halen', 'Alice Cooper', 'Quiet Riot', 'Iron Maiden', 'Europe', 'Foreigner', 'Cinderella', 'Metallica', 'Winger', 'Mr. Big', 'Queen'} \n",
      "\n",
      "scorpions intersect aerosmith : {'Tesla', 'Def Leppard', 'Poison', \"Guns N' Roses\", 'Mötley Crüe', 'David Lee Roth', 'Boston', 'White Lion', 'Nazareth', 'Deep Purple', 'Journey', 'Bryan Adams', 'Status Quo', 'Dire Straits', 'Thin Lizzy', 'Sammy Hagar', 'Rainbow', 'Heart', 'Airbourne', 'UFO', 'Slash', 'Meat Loaf', 'Great White', 'L.A. Guns', 'Ratt', 'ZZ Top', 'Night Ranger', 'Twisted Sister', 'Kiss', 'Whitesnake', 'Skid Row', 'Firehouse', 'Warrant', 'Ted Nugent', 'Bon Jovi', 'Uriah Heep', 'Dokken', 'Richie Sambora', 'Blue Öyster Cult', 'Ozzy Osbourne', 'AC/DC', 'Black Sabbath', 'Sebastian Bach', 'Ace Frehley', 'Lita Ford', 'Jon Bon Jovi', 'Van Halen', 'Alice Cooper', 'Quiet Riot', 'Europe', 'Foreigner', 'Cinderella', 'Winger', 'Mr. Big', 'Queen', 'Survivor'} \n",
      "\n",
      "bon jovi intersect heart : {'Tesla', 'Def Leppard', 'Poison', 'Elton John', 'Damn Yankees', 'Vixen', 'Boston', 'David Lee Roth', 'Y&T', 'REO Speedwagon', 'Journey', 'Loverboy', 'Bad Company', 'Aerosmith', 'Status Quo', 'Bryan Adams', 'Rod Stewart', 'Sammy Hagar', 'Asia', 'Meat Loaf', 'Ratt', 'Great White', 'Night Ranger', 'ZZ Top', 'Kiss', 'Whitesnake', 'Firehouse', 'Warrant', 'Joan Jett and the Blackhearts', 'Dokken', 'Billy Squier', 'Lita Ford', 'Van Halen', 'Alice Cooper', 'Pat Benatar', 'Cheap Trick', 'Europe', 'Foreigner', 'Styx', 'Cinderella', 'Winger', 'Bad English', 'Queen', 'Survivor'} \n",
      "\n",
      "bon jovi intersect guns n roses : {'Scorpions', 'Tesla', 'Poison', 'Def Leppard', 'Damn Yankees', 'Hanoi Rocks', 'Billy Idol', 'Velvet Revolver', 'Mötley Crüe', 'David Lee Roth', 'White Lion', 'Boston', 'Y&T', 'Gotthard', 'Deep Purple', 'Slaughter', 'Journey', 'W.A.S.P.', 'Aerosmith', 'Dire Straits', 'The Darkness', 'Sammy Hagar', 'Rainbow', 'Thunder', 'Heart', 'Airbourne', 'Sixx:A.M.', 'L.A. Guns', 'Slash', 'Ratt', 'Great White', 'Faster Pussycat', 'Meat Loaf', 'Kingdom Come', 'Night Ranger', 'ZZ Top', 'Twisted Sister', 'Kiss', 'Skid Row', 'Whitesnake', 'Firehouse', 'Warrant', 'Michael Schenker Group', 'Joan Jett and the Blackhearts', 'Steelheart', 'Dokken', 'Ozzy Osbourne', 'U2', 'AC/DC', 'Sebastian Bach', 'Lita Ford', 'Jon Bon Jovi', 'Extreme', 'Van Halen', 'Alice Cooper', 'Quiet Riot', 'Europe', 'Foreigner', 'Cinderella', 'Winger', \"Slash's Snakepit\", 'Mr. Big', 'Bad English', 'Queen', 'Buckcherry'} \n",
      "\n",
      "bon jovi intersect aerosmith : {'Scorpions', 'Survivor', 'Tesla', 'Def Leppard', 'Poison', 'Damn Yankees', 'Bruce Springsteen', \"Guns N' Roses\", 'Hanoi Rocks', 'Mötley Crüe', 'David Lee Roth', 'Boston', 'Velvet Revolver', 'White Lion', 'Deep Purple', 'Journey', 'Bryan Adams', 'Status Quo', 'Bad Company', 'REO Speedwagon', 'Rod Stewart', 'Dire Straits', 'The Darkness', 'Sammy Hagar', 'Rainbow', 'Asia', 'Heart', 'Airbourne', 'L.A. Guns', 'Slash', 'Meat Loaf', 'Great White', 'Ratt', 'ZZ Top', 'Night Ranger', 'Twisted Sister', 'Kiss', 'Whitesnake', 'Skid Row', 'Firehouse', 'Warrant', 'Joan Jett and the Blackhearts', 'Dokken', 'Richie Sambora', 'Ozzy Osbourne', 'Billy Squier', 'AC/DC', 'Sebastian Bach', 'Lita Ford', 'Jon Bon Jovi', 'Extreme', 'Van Halen', 'Alice Cooper', 'Quiet Riot', 'Cheap Trick', 'Europe', 'Foreigner', 'Styx', 'Cinderella', 'Winger', \"Slash's Snakepit\", 'Mr. Big', 'Bad English', 'Queen', 'Buckcherry'} \n",
      "\n",
      "heart intersect guns n roses : {'Tesla', 'Poison', 'Def Leppard', 'Damn Yankees', 'David Lee Roth', 'Boston', 'Nazareth', 'Y&T', 'Journey', 'Aerosmith', 'Thin Lizzy', 'Sammy Hagar', 'UFO', 'Meat Loaf', 'Ratt', 'Great White', 'Night Ranger', 'ZZ Top', 'Kiss', 'Whitesnake', 'Firehouse', 'Warrant', 'Ted Nugent', 'Joan Jett and the Blackhearts', 'Dokken', 'Lita Ford', 'The Who', 'Van Halen', 'Alice Cooper', 'Europe', 'Foreigner', 'Cinderella', 'Winger', 'Bad English', 'Queen'} \n",
      "\n",
      "heart intersect aerosmith : {'Bachman-Turner Overdrive', 'Tesla', 'Poison', 'Def Leppard', 'Damn Yankees', 'Bob Seger & The Silver Bullet Band', 'David Lee Roth', 'Boston', 'Nazareth', 'Bryan Adams', 'Journey', 'Status Quo', 'Bad Company', 'REO Speedwagon', 'Rod Stewart', 'Thin Lizzy', 'Sammy Hagar', 'Asia', 'UFO', 'Meat Loaf', 'Ratt', 'Great White', 'Grand Funk Railroad', 'Foghat', 'Triumph', 'ZZ Top', 'Night Ranger', 'Kiss', 'Whitesnake', 'Eagles', 'Firehouse', 'Warrant', 'Ted Nugent', 'Joan Jett and the Blackhearts', 'Dokken', 'Blue Öyster Cult', 'Billy Squier', 'Robert Plant', 'The Who', 'Lita Ford', 'Van Halen', 'Alice Cooper', 'Steve Miller Band', 'Cheap Trick', 'Europe', 'Foreigner', 'Styx', 'Cinderella', 'Winger', 'Bad English', 'Queen', 'Survivor'} \n",
      "\n",
      "guns n roses intersect aerosmith : {'Scorpions', 'Tesla', 'Def Leppard', 'Poison', 'Damn Yankees', 'Hanoi Rocks', 'Mötley Crüe', 'David Lee Roth', 'Boston', 'Velvet Revolver', 'White Lion', 'Nazareth', 'Deep Purple', 'Izzy Stradlin', 'Journey', 'Dire Straits', 'The Rolling Stones', 'Thin Lizzy', 'The Darkness', 'Sammy Hagar', 'Rainbow', 'Lynyrd Skynyrd', 'Heart', 'Airbourne', 'The Black Crowes', 'UFO', 'Slash', 'Meat Loaf', 'Great White', 'L.A. Guns', 'Ratt', 'ZZ Top', 'Night Ranger', 'Twisted Sister', 'Kiss', 'Whitesnake', 'Skid Row', 'Firehouse', 'Warrant', 'Ted Nugent', 'Joan Jett and the Blackhearts', 'Bon Jovi', 'Uriah Heep', 'Dokken', 'Ozzy Osbourne', 'AC/DC', 'Black Sabbath', 'Sebastian Bach', 'Ace Frehley', 'The Who', 'Lita Ford', 'Jon Bon Jovi', 'Extreme', 'Van Halen', 'Alice Cooper', 'Quiet Riot', 'Led Zeppelin', 'Europe', 'Foreigner', 'Cinderella', 'Winger', \"Slash's Snakepit\", 'Mr. Big', 'The Cult', 'Bad English', 'Queen', 'Buckcherry'} \n",
      "\n"
     ]
    }
   ],
   "source": [
    "for i in range((l-1)):\n",
    "    for j in range((i+1),l):\n",
    "        print(artists[i], \"intersect\", artists[j], \":\",set(similar_artist[i]).intersection(similar_artist[j]), \"\\n\")   "
   ]
  },
  {
   "cell_type": "raw",
   "metadata": {},
   "source": [
    "Шер явно выбивается из компании. Heart тоже имеет меньше пересечений -- возможно, причина в женском вокале. Теги для песен:"
   ]
  },
  {
   "cell_type": "code",
   "execution_count": 8,
   "metadata": {
    "collapsed": false
   },
   "outputs": [],
   "source": [
    "tracks = [[\"cher\", \"we all sleep alone\"], [\"scorpions\", \"wind of change\"], \n",
    "           [\"bon jovi\", \"never say goodbye\"], [\"heart\", \"alone\"], [\"guns n roses\", \"november rain\"], \n",
    "           [\"aerosmith\", \"i don't want to miss a thing\"], [\"cher\", \"i found someone\"], \n",
    "           [\"scorpions\", \"still loving you\"], [\"bon jovi\", \"silent night\"]]"
   ]
  },
  {
   "cell_type": "code",
   "execution_count": 9,
   "metadata": {
    "collapsed": false
   },
   "outputs": [
    {
     "name": "stdout",
     "output_type": "stream",
     "text": [
      "['pop', 'cher', '80s', 'dance', '90s', 'pop rock', 'female vocalist', 'rock', 'female vocalists', 'diva', 'sexy', 'adult contemporary', 'american', 'gay', 'love songs', '1988', 'We all sleep ALONE', 'Disco', 'sad', 'favorites', 'easy listening', 'loved', 'groovy', 'top 40', 'MyLovedTracks', 'Hip-Hop', 'electronic', 'vocal', 'female', 'alternative', 'slow', 'urban', 'beautiful', 'night', 'angry', '1998', 'rnb', 'melancholic', 'sex', 'female vocals', 'dance pop', 'rock n roll', 'female vocal', 'depression', 'love at first listen', 'polish', 'Female Voices', 'love song', 'makes me cry', 'sensual', 'FUCKING AWESOME', 'angst', 'favorite by this singer', 'all the best', 'on re-re-repeat', '1987', 'abba', 'Feeling Blue', 'teardrops', 'personal', 'songs about sleep or being tired', 'best songs of the 80s', 'pick me up', 'I could listen to this song forever', 'my life written in song', 'edyta gorniak', 'legal drug', 'yes i am', 'brillant lyrics', 'power tracks', 'lonely night', 'a lyricality', '90s dance pop', 'Cher 1987', 'tylko dziewczyny', 'women making waves', 'desmond child', 'honest feelings', 'I can see myself covering this at some shitty open-mic night', 'Ferdinando amante de narices', 'the heartache that never ends', 'soothing sound', 'Sensual and different than usual', 'better music than normally', 'Cher-We All Sleep Alone']\n",
      "['classic rock', 'rock', '80s', 'hard rock', 'scorpions', 'Ballad', 'rock ballad', 'wind of change', 'german', '90s', 'heavy metal', 'ballads', 'rock ballads', 'soft rock', 'Power ballad', 'beautiful', 'legend', 'oldies', 'favorites', 'pop', 'political', 'hair metal', 'metal', 'slow', 'Love', 'Awesome', 'classic', 'romantic', 'guitar', 'male vocalists', 'power ballads', 'germany', '1990', '80s rock', 'the best of scorpions', 'crazy world', 'melodic rock', 'chillout', 'deutsch', 'the best', '70s', 'memories', 'nostalgic', \"80's\", 'Favourites', 'whistling', 'Hope', 'melancholy', 'favourite', 'melancholic', 'great song', 'Favorite', 'freedom', 'metal ballad', 'easy listening', 'melodic', 'glam rock', 'cool', 'male vocalist', 'relax', 'english', 'nostalgia', 'Favourite Songs', 'heavy', 'epic', 'arena rock', 'Mellow', 'great', 'amazing', 'top 40', 'Baladas', 'fav', 'best', 'greatest hits', 'Sentimental', 'Legendary', 'ballade', 'favourite tracks', '80s metal', 'amayzes loved', 'music that makes my hart is crying']\n",
      "['rock', 'bon jovi', 'classic rock', '80s', 'hard rock', 'hair metal', 'rock ballads', 'Love', 'romantic', 'Ballad', 'Power ballad', 'never say goodbye', 'glam rock', 'sad', 'ballads', '1987', 'Soundtrack Of My Life', 'heavy metal', 'favorites', '90s', 'american', 'male vocalists', 'rock ballad', '6 of 10 stars', 'Glam Metal', 'baladas rock', 'metal', 'pop', 'soft rock', 'melodic', 'cool', '1986', '7 of 10 stars', 'power ballads', 'story of my life', 'my favorite', 'Powerballad', 'NEVER SAY GOODBYE-', 'seen live', 'vocal', 'sexy', 'singer-songwriter', 'pop rock', 'album rock', 'arena rock', 'blues', 'Awesome', 'night', 'Mellow', 'pop punk', 'great song', 'love songs', 'Rock and Roll', 'Guilty Pleasures', '8 of 10 stars', 'nostalgia', 'love song', 'childhood', 'melodic rock', 'n-a', 'all the best', '4 of 10 stars', 'american artist', '80s Pop', '<3', 'us', '5', 'eddie', 'MP3', 'group', 'tender', 'depressive', 'Alice Cooper', 'lovesongs', 'Romantica', 'melodic hard rock', 'LOVELOVE', 'most loved', 'best songs of the 80s', 'slow-tempo', 'back in tha day', 'anglais', 'miss you', 'Message', 'masterpieces', \"80's rock\", 'intiharlik', '-3', 'rated2', 'great ballads', 'Tranquilo', 'cena', 'bon', 'high school favorites', 'bonjovi', 'romantic bass', 'jepp', 'sou mais brega que a barbara', 'hurt love', 'becky']\n",
      "['80s', 'rock', 'classic rock', 'female vocalists', 'heart', 'pop', 'alone', 'Ballad', 'power ballads', 'Love', 'Fleetwood Mac', 'hard rock', 'Power ballad', 'soft rock', 'love songs', 'christine mcvie', 'rock ballad', '1987', 'rock ballads', 'female vocalist', 'ballads', 'favorites', 'oldies', 'Stevie Nicks', '70s', 'beautiful', 'melancholy', 'pop rock', 'romantic', 'female vocals', 'danny kirwan', '123 drippy sappy', 'seattle', 'piano', 'american', 'emotional', \"80's\", 'melodic rock', 'heart-alone', 'USA', 'easy listening', 'hair metal', 'Awesome', 'nostalgic', 'soft', 'female vocal', 'Guilty Pleasures', 'love song', '1980s', '80s Pop', 'my favorite', 'greatest songs ever', 'Top Classics', 'Alone - Heart', 'vocal', 'sad', 'memories', 'slow', 'guitar', 'eighties', '3', 'Favorite Artists', 'dramatic', 'piano rock', 'rock n roll', 'Pop-Rock', 'rock band', 'fav', 'Girl Rock', 'english', 'perfect', 'all time faves', 'poprock', '10 of 10 stars', 'christine', 'Sentimental', 'lovesongs', 'minor', 'top 2000', 'top artists', '80s rock', 'all time favorites', 'rock band dlc', 'songs I absolutely love', 'my soundtrack', 'cold case', 'we love the 80s', 'love hurts', 'romantic collection', 'core jessielou artists', 'heart alone']\n",
      "['rock', 'hard rock', 'classic rock', 'Guns N Roses', '90s', 'Ballad', '80s', 'epic', 'rock ballads', 'metal', 'guitar', 'rock ballad', 'November Rain', 'Guitar Solo', 'Slash', 'Love', 'piano', 'Power ballad', 'Awesome Guitar Jams', 'heavy metal', 'classic', 'beautiful', 'favorites', 'hair metal', 'ballads', 'american', 'favorite songs', 'rain', 'sad', 'Axl Rose', 'GNR', 'emotional', 'glam rock', 'Awesome', \"Guns N' Roses\", 'Guns n Roses - November Rain', 'november', 'Masterpiece', '100 Greatest Guitar Solos', 'guitar virtuoso', 'alternative', '1991', 'great guitar solo', 'legend', 'pop', 'blues rock', 'male vocalists', 'live', 'best song ever', 'nostalgia', 'melancholy', 'melancholic', 'best', 'alternative rock', 'Progressive rock', 'oldies', 'Favourites', 'power ballads', 'guns', '90s Rock', 'chillout', 'seen live', 'memories', 'soft rock', 'romantic', 'slow', 'amazing', 'Favorite', 'autumn', 'FUCKING AWESOME', 'guns and roses', 'solo', 'love songs', '1992', '10 of 10 stars', 'Guitar Gods', '80s rock']\n",
      "['rock', 'classic rock', 'aerosmith', 'Soundtrack', 'Love', 'Ballad', '90s', 'hard rock', 'romantic', 'love songs', 'rock ballad', '80s', 'rock ballads', 'beautiful', 'Armageddon', 'pop', 'Power ballad', 'love song', 'favorites', '1998', 'ballads', 'alternative', 'american', 'alternative rock', 'classic', 'slow', 'soft rock', '70s', 'sad', 'relax', 'Awesome', 'male vocalists', 'I dont want to miss a thing', 'amazing', 'power ballads', 'pop rock', 'Soundtracks', 'Mellow', 'armageddon soundtrack', 'Favorite', 'blues rock', 'songs that make me cry', 'legend', 'AeroSmith - I Dont Want to Miss a Thing', 'ost', 'emotional', 'Sentimental', 'chill', 'favourite', 'Rock and Roll', 'Favourites', 'movie', 'memories', \"90's\", 'Favourite Songs', 'love rock', 'diane warren', 'i don t want to miss a thing', 'USA', 'epic', 'great', 'male vocalist', 'powerful']\n",
      "['pop', '80s', 'cher', 'female vocalists', 'rock', 'pop rock', 'divas', 'dance', 'american', '1987', 'I found someone', 'diva', 'female vocalist', 'love songs', 'classic rock', 'Love', 'loved', 'cheesy but good', 'classic', 'happy', 'slow', 'easy listening', 'soft rock', 'cover', 'great song', 'High School', '6 of 10 stars', 'favoritas', 'pop favorites', 'Disco', 'Hip-Hop', 'jazz', '60s', 'alternative', 'sexy', 'singer-songwriter', 'C', 'favorites', 'epic', 'americana', 'adult contemporary', 'beautiful', '90s', 'up', 'covers', 'Mellow', 'party', 'great', 'AOR', 'Winamp', 'amazing', 'old school', 'melancholic', 'relaxing', 'fun', 'great lyrics', 'Ballad', 'female vocal', 'break', 'Favorite', 'top 40', 'heartbreak', 'best', 'Favourites', 'english', 'female singers', 'sam cooke', 'Love it', 'all the best', 'Don', '1980s', 'performance art', 'Radio Music', 'favs', 'Tina Turner', 'rockin', 'laura', 'easyrock', 'Playlist', 'attitude', 'discodance', 'Female Artist', 'burlesque', 'westcoast', 'best songs of the 80s', 'Celine Dion', 'Favoritos', 'my favorite', 'best mouth in rock', 'flying music', 'Soundtrack Of My Life', 'soundtrack to my life', 'Best of best', 'femalesinger', 'slgdmbestof', 'soulpop', '1984-7', 'guzel', 'paula abdul', 'fucking love']\n",
      "['classic rock', 'rock', 'hard rock', '80s', 'Ballad', 'scorpions', 'rock ballads', 'heavy metal', 'Love', 'rock ballad', 'still loving you', 'german', 'Power ballad', 'romantic', 'ballads', 'favorites', 'love songs', 'metal', 'beautiful', 'lovesongs', '80s rock', 'Awesome', 'classic', 'melodic rock', 'live', 'soft rock', 'male vocalists', 'oldies', 'slow', 'germany', 'best', 'sad', 'nostalgia', 'power ballads', 'The Best Of All', '70s', 'great', \"80's\", '1984', 'love song', 'legend', 'the best of scorpions', 'seen live', 'Progressive rock', 'memories', 'epic', 'hair metal', 'melancholy', 'great song', 'heavy rock', '80s hard rock', 'rakkauslaulu', 'pop', 'melancholic', 'rock n roll', 'relax', 'Favourites', 'perfect', 'Guitar Solo', 'acoustic', 'dramatic', 'melodic metal', 'Love it', 'best songs ever', 'metal ballad', 'metal ballads', 'Legendary Song - Legendary Band', 'Scorpions - Still loving you']\n",
      "['rock', 'hard rock', '80s', 'bon jovi', 'classic rock', 'Power ballad', 'rock ballads 80s', 'heavy metal', 'hair metal', 'glam', '1980s', '1985', 'Glam Metal', 'album rock', 'soft rock', 'arena rock', 'melodic', 'night', 'american', 'great song', 'male vocalists', 'Ballad', 'Favorite', '6 of 10 stars', 'american artist', 'ballads', 'us', 'Love Ballad', 'melodic hard rock', '80s metal', 'summer 2005', '5 of 10 stars', '80s rock', 'best band', 'best songs', 'video killed the radio star', 'Balla', 'songs of drops', 'persasoalcazar', 'bon jovi an epic']\n"
     ]
    }
   ],
   "source": [
    "l2 = len(tracks)\n",
    "\n",
    "track_tags = []\n",
    "\n",
    "for i in range(l2):\n",
    "    track_info = network.get_track(tracks[i][0], tracks[i][1])\n",
    "    tag = [t[0].get_name() for t in track_info.get_top_tags()]\n",
    "    print(tag)\n",
    "    track_tags.append(tag)\n",
    "    time.sleep(0.1)"
   ]
  },
  {
   "cell_type": "raw",
   "metadata": {},
   "source": [
    "Пересечения по тегам для треков:"
   ]
  },
  {
   "cell_type": "code",
   "execution_count": 10,
   "metadata": {
    "collapsed": false
   },
   "outputs": [
    {
     "name": "stdout",
     "output_type": "stream",
     "text": [
      "['cher', 'we all sleep alone'] intersect ['scorpions', 'wind of change'] : {'rock', '80s', 'favorites', 'top 40', 'pop', 'easy listening', 'slow', 'melancholic', '90s', 'beautiful'} \n",
      "\n",
      "['cher', 'we all sleep alone'] intersect ['bon jovi', 'never say goodbye'] : {'rock', '80s', 'american', 'love song', 'favorites', 'vocal', 'best songs of the 80s', 'pop', 'love songs', 'pop rock', 'sexy', 'night', 'all the best', 'sad', '1987', '90s'} \n",
      "\n",
      "['cher', 'we all sleep alone'] intersect ['heart', 'alone'] : {'80s', 'rock', 'female vocalists', 'female vocalist', 'american', 'love song', 'favorites', 'vocal', 'pop', 'love songs', 'pop rock', 'easy listening', 'female vocal', 'slow', 'rock n roll', '1987', 'sad', 'female vocals', 'beautiful'} \n",
      "\n",
      "['cher', 'we all sleep alone'] intersect ['guns n roses', 'november rain'] : {'rock', '80s', 'american', 'favorites', 'pop', 'love songs', 'FUCKING AWESOME', 'slow', 'melancholic', 'alternative', 'sad', '90s', 'beautiful'} \n",
      "\n",
      "['cher', 'we all sleep alone'] intersect ['aerosmith', \"i don't want to miss a thing\"] : {'rock', '80s', 'american', 'love song', 'favorites', 'pop', 'love songs', 'pop rock', '1998', 'slow', 'alternative', 'sad', '90s', 'beautiful'} \n",
      "\n",
      "['cher', 'we all sleep alone'] intersect ['cher', 'i found someone'] : {'female vocalist', 'Disco', 'pop', 'pop rock', 'sexy', 'slow', 'diva', 'beautiful', 'rock', 'best songs of the 80s', 'all the best', 'alternative', 'female vocalists', 'adult contemporary', 'cher', 'favorites', 'top 40', 'dance', 'love songs', 'female vocal', 'melancholic', 'Hip-Hop', '80s', 'american', 'loved', 'easy listening', '1987', '90s'} \n",
      "\n",
      "['cher', 'we all sleep alone'] intersect ['scorpions', 'still loving you'] : {'rock', '80s', 'love song', 'favorites', 'pop', 'love songs', 'slow', 'melancholic', 'rock n roll', 'sad', 'beautiful'} \n",
      "\n",
      "['cher', 'we all sleep alone'] intersect ['bon jovi', 'silent night'] : {'rock', '80s', 'night', 'american'} \n",
      "\n",
      "['scorpions', 'wind of change'] intersect ['bon jovi', 'never say goodbye'] : {'Power ballad', 'power ballads', 'pop', 'soft rock', 'great song', 'rock', 'hair metal', 'rock ballad', 'nostalgia', 'Mellow', 'melodic rock', 'Awesome', 'heavy metal', 'classic rock', 'male vocalists', 'metal', 'ballads', 'Love', 'favorites', 'rock ballads', 'romantic', 'arena rock', '80s', 'glam rock', 'cool', 'Ballad', 'hard rock', '90s', 'melodic'} \n",
      "\n",
      "['scorpions', 'wind of change'] intersect ['heart', 'alone'] : {'power ballads', 'Power ballad', 'memories', 'pop', '80s rock', 'slow', 'soft rock', '70s', 'melancholy', 'beautiful', 'rock', 'rock ballad', 'hair metal', 'melodic rock', 'english', \"80's\", 'Awesome', 'classic rock', 'fav', 'oldies', 'ballads', 'Love', 'favorites', 'nostalgic', 'rock ballads', 'romantic', '80s', 'Sentimental', 'Ballad', 'easy listening', 'guitar', 'hard rock'} \n",
      "\n",
      "['scorpions', 'wind of change'] intersect ['guns n roses', 'november rain'] : {'Power ballad', 'Favourites', 'power ballads', 'classic', 'memories', 'pop', '80s rock', 'Favorite', 'slow', 'epic', 'soft rock', 'melancholy', 'beautiful', 'rock', 'rock ballad', 'hair metal', 'legend', 'nostalgia', 'Awesome', 'heavy metal', 'classic rock', 'male vocalists', 'oldies', 'ballads', 'metal', 'Love', 'favorites', 'chillout', 'rock ballads', 'melancholic', 'romantic', 'amazing', '80s', 'best', 'glam rock', 'Ballad', 'guitar', 'hard rock', '90s'} \n",
      "\n",
      "['scorpions', 'wind of change'] intersect ['aerosmith', \"i don't want to miss a thing\"] : {'Power ballad', 'power ballads', 'Favourites', 'classic', 'memories', 'Favourite Songs', 'great', 'pop', 'Favorite', 'slow', 'epic', 'soft rock', '70s', 'beautiful', 'rock', 'rock ballad', 'male vocalist', 'legend', 'favourite', 'Mellow', 'relax', 'Awesome', 'classic rock', 'male vocalists', 'ballads', 'Love', 'favorites', 'rock ballads', 'romantic', 'amazing', '80s', 'Sentimental', 'Ballad', 'hard rock', '90s'} \n",
      "\n",
      "['scorpions', 'wind of change'] intersect ['cher', 'i found someone'] : {'Favourites', 'classic', 'great', 'pop', 'Favorite', 'slow', 'epic', 'soft rock', 'great song', 'beautiful', 'rock', 'Mellow', 'english', 'classic rock', 'Love', 'favorites', 'top 40', 'melancholic', 'amazing', '80s', 'best', 'easy listening', 'Ballad', '90s'} \n",
      "\n",
      "['scorpions', 'wind of change'] intersect ['scorpions', 'still loving you'] : {'Power ballad', 'power ballads', 'Favourites', 'classic', 'memories', 'scorpions', 'great', 'pop', '80s rock', 'slow', 'epic', 'soft rock', '70s', 'great song', 'melancholy', 'beautiful', 'the best of scorpions', 'rock', 'rock ballad', 'hair metal', 'nostalgia', 'legend', 'melodic rock', 'relax', \"80's\", 'Awesome', 'heavy metal', 'classic rock', 'male vocalists', 'oldies', 'metal', 'ballads', 'Love', 'favorites', 'rock ballads', 'melancholic', 'romantic', '80s', 'metal ballad', 'best', 'german', 'Ballad', 'germany', 'hard rock'} \n",
      "\n",
      "['scorpions', 'wind of change'] intersect ['bon jovi', 'silent night'] : {'rock', '80s', 'Power ballad', 'hair metal', '80s metal', 'Ballad', '80s rock', 'Favorite', 'heavy metal', 'hard rock', 'soft rock', 'classic rock', 'arena rock', 'male vocalists', 'great song', 'melodic', 'ballads'} \n",
      "\n",
      "['bon jovi', 'never say goodbye'] intersect ['heart', 'alone'] : {'power ballads', 'Power ballad', 'pop', 'pop rock', 'soft rock', 'sad', 'rock', 'rock ballad', 'hair metal', 'love song', 'melodic rock', 'vocal', 'my favorite', 'Awesome', 'classic rock', 'lovesongs', '80s Pop', 'ballads', 'Love', 'favorites', 'love songs', 'rock ballads', 'romantic', 'Guilty Pleasures', '80s', 'american', 'Ballad', 'hard rock', '1987'} \n",
      "\n",
      "['bon jovi', 'never say goodbye'] intersect ['guns n roses', 'november rain'] : {'Power ballad', 'power ballads', 'pop', 'soft rock', 'sad', 'rock', 'rock ballad', 'hair metal', 'nostalgia', 'Awesome', 'heavy metal', 'classic rock', 'male vocalists', 'ballads', 'metal', 'Love', 'favorites', 'seen live', 'love songs', 'rock ballads', 'romantic', '80s', 'american', 'glam rock', 'Ballad', 'hard rock', '90s'} \n",
      "\n",
      "['bon jovi', 'never say goodbye'] intersect ['aerosmith', \"i don't want to miss a thing\"] : {'Power ballad', 'power ballads', 'pop', 'pop rock', 'soft rock', 'sad', 'rock', 'rock ballad', 'love song', 'Mellow', 'Awesome', 'classic rock', 'male vocalists', 'ballads', 'Love', 'favorites', 'Rock and Roll', 'love songs', 'rock ballads', 'romantic', '80s', 'american', 'Ballad', 'hard rock', '90s'} \n",
      "\n",
      "['bon jovi', 'never say goodbye'] intersect ['cher', 'i found someone'] : {'pop', 'pop rock', 'sexy', 'soft rock', 'great song', 'rock', 'singer-songwriter', 'Mellow', 'best songs of the 80s', '6 of 10 stars', 'my favorite', 'all the best', 'classic rock', 'Love', 'favorites', 'Soundtrack Of My Life', 'love songs', '80s', 'american', 'Ballad', '1987', '90s'} \n",
      "\n",
      "['bon jovi', 'never say goodbye'] intersect ['scorpions', 'still loving you'] : {'Power ballad', 'power ballads', 'pop', 'soft rock', 'sad', 'great song', 'rock', 'rock ballad', 'hair metal', 'nostalgia', 'love song', 'melodic rock', 'Awesome', 'heavy metal', 'classic rock', 'lovesongs', 'male vocalists', 'metal', 'ballads', 'Love', 'favorites', 'seen live', 'love songs', 'rock ballads', 'romantic', '80s', 'Ballad', 'hard rock'} \n",
      "\n",
      "['bon jovi', 'never say goodbye'] intersect ['bon jovi', 'silent night'] : {'Power ballad', 'Glam Metal', 'soft rock', 'album rock', 'great song', 'american artist', 'rock', 'hair metal', 'melodic hard rock', '6 of 10 stars', 'heavy metal', 'classic rock', 'male vocalists', 'ballads', 'bon jovi', 'us', 'night', 'arena rock', '80s', 'american', 'Ballad', 'hard rock', 'melodic'} \n",
      "\n",
      "['heart', 'alone'] intersect ['guns n roses', 'november rain'] : {'Power ballad', 'power ballads', 'memories', 'pop', '80s rock', 'slow', 'soft rock', 'sad', 'melancholy', 'beautiful', 'rock', 'rock ballad', 'hair metal', 'piano', 'Awesome', 'classic rock', 'oldies', 'ballads', 'Love', 'favorites', '10 of 10 stars', 'love songs', 'rock ballads', 'romantic', '80s', 'american', 'emotional', 'Ballad', 'guitar', 'hard rock'} \n",
      "\n",
      "['heart', 'alone'] intersect ['aerosmith', \"i don't want to miss a thing\"] : {'Power ballad', 'power ballads', 'memories', 'pop', 'pop rock', 'slow', 'soft rock', '70s', 'sad', 'beautiful', 'rock', 'rock ballad', 'love song', 'Awesome', 'classic rock', 'ballads', 'Love', 'USA', 'favorites', 'love songs', 'rock ballads', 'romantic', '80s', 'american', 'emotional', 'Sentimental', 'Ballad', 'hard rock'} \n",
      "\n",
      "['heart', 'alone'] intersect ['cher', 'i found someone'] : {'80s', 'female vocalists', 'rock', 'american', 'female vocalist', 'Love', 'favorites', 'pop', 'love songs', 'pop rock', 'easy listening', 'Ballad', 'english', 'slow', 'female vocal', 'soft rock', 'my favorite', 'classic rock', '1987', 'beautiful', '1980s'} \n",
      "\n",
      "['heart', 'alone'] intersect ['scorpions', 'still loving you'] : {'Power ballad', 'power ballads', 'memories', 'pop', 'dramatic', '80s rock', 'slow', 'soft rock', 'sad', '70s', 'melancholy', 'beautiful', 'rock', 'rock ballad', 'hair metal', 'love song', 'melodic rock', \"80's\", 'Awesome', 'classic rock', 'lovesongs', 'oldies', 'ballads', 'Love', 'favorites', 'love songs', 'rock ballads', 'rock n roll', 'romantic', '80s', 'perfect', 'Ballad', 'hard rock'} \n",
      "\n",
      "['heart', 'alone'] intersect ['bon jovi', 'silent night'] : {'rock', '80s', 'Power ballad', 'hair metal', 'american', 'ballads', 'Ballad', '80s rock', 'soft rock', 'hard rock', 'classic rock', '1980s'} \n",
      "\n",
      "['guns n roses', 'november rain'] intersect ['aerosmith', \"i don't want to miss a thing\"] : {'Power ballad', 'power ballads', 'Favourites', 'classic', 'memories', 'pop', 'blues rock', 'Favorite', 'slow', 'epic', 'soft rock', 'sad', 'beautiful', 'rock', 'rock ballad', 'legend', 'alternative rock', 'Awesome', 'alternative', 'classic rock', 'male vocalists', 'ballads', 'Love', 'favorites', 'love songs', 'rock ballads', 'romantic', 'amazing', '80s', 'american', 'emotional', 'Ballad', 'hard rock', '90s'} \n",
      "\n",
      "['guns n roses', 'november rain'] intersect ['cher', 'i found someone'] : {'80s', 'rock', 'american', 'Favourites', 'classic', 'Love', 'best', 'favorites', 'pop', 'love songs', 'Ballad', 'Favorite', 'slow', 'epic', 'soft rock', 'alternative', 'melancholic', 'classic rock', 'amazing', '90s', 'beautiful'} \n",
      "\n",
      "['guns n roses', 'november rain'] intersect ['scorpions', 'still loving you'] : {'Power ballad', 'power ballads', 'Favourites', 'classic', 'memories', 'live', 'pop', '80s rock', 'slow', 'epic', 'soft rock', 'sad', 'melancholy', 'beautiful', 'rock', 'rock ballad', 'hair metal', 'nostalgia', 'legend', 'Awesome', 'heavy metal', 'classic rock', 'male vocalists', 'oldies', 'metal', 'ballads', 'Love', 'favorites', 'seen live', 'love songs', 'rock ballads', 'melancholic', 'romantic', '80s', 'best', 'Progressive rock', 'Ballad', 'Guitar Solo', 'hard rock'} \n",
      "\n",
      "['guns n roses', 'november rain'] intersect ['bon jovi', 'silent night'] : {'rock', '80s', 'Power ballad', 'hair metal', 'american', 'Ballad', '80s rock', 'Favorite', 'heavy metal', 'hard rock', 'soft rock', 'classic rock', 'male vocalists', 'ballads'} \n",
      "\n",
      "['aerosmith', \"i don't want to miss a thing\"] intersect ['cher', 'i found someone'] : {'Favourites', 'classic', 'great', 'pop', 'pop rock', 'Favorite', 'slow', 'epic', 'soft rock', 'beautiful', 'rock', 'Mellow', 'alternative', 'classic rock', 'Love', 'favorites', 'love songs', 'amazing', '80s', 'american', 'Ballad', '90s'} \n",
      "\n",
      "['aerosmith', \"i don't want to miss a thing\"] intersect ['scorpions', 'still loving you'] : {'Power ballad', 'power ballads', 'Favourites', 'classic', 'memories', 'great', 'pop', 'slow', 'epic', 'soft rock', 'sad', '70s', 'beautiful', 'rock', 'rock ballad', 'legend', 'love song', 'relax', 'Awesome', 'classic rock', 'male vocalists', 'ballads', 'Love', 'favorites', 'love songs', 'rock ballads', 'romantic', '80s', 'Ballad', 'hard rock'} \n",
      "\n",
      "['aerosmith', \"i don't want to miss a thing\"] intersect ['bon jovi', 'silent night'] : {'rock', '80s', 'Power ballad', 'american', 'Ballad', 'Favorite', 'soft rock', 'hard rock', 'classic rock', 'male vocalists', 'ballads'} \n",
      "\n",
      "['cher', 'i found someone'] intersect ['scorpions', 'still loving you'] : {'rock', '80s', 'Favourites', 'classic', 'Love', 'best', 'favorites', 'Love it', 'great', 'pop', 'love songs', 'Ballad', 'slow', 'epic', 'soft rock', 'melancholic', 'classic rock', 'great song', 'beautiful'} \n",
      "\n",
      "['cher', 'i found someone'] intersect ['bon jovi', 'silent night'] : {'rock', '80s', 'american', '6 of 10 stars', 'Ballad', 'Favorite', 'soft rock', 'classic rock', 'great song', '1980s'} \n",
      "\n",
      "['scorpions', 'still loving you'] intersect ['bon jovi', 'silent night'] : {'rock', '80s', 'Power ballad', 'hair metal', 'Ballad', '80s rock', 'heavy metal', 'hard rock', 'soft rock', 'classic rock', 'male vocalists', 'great song', 'ballads'} \n",
      "\n"
     ]
    }
   ],
   "source": [
    "for i in range((l2-1)):\n",
    "    for j in range((i+1),l2):\n",
    "        print(tracks[i], \"intersect\", tracks[j], \":\",set(track_tags[i]).intersection(track_tags[j]), \"\\n\")   "
   ]
  },
  {
   "cell_type": "markdown",
   "metadata": {},
   "source": [
    "Bon Jovi - Silent Night имеет мало пересечений, как и Шер. А вообще надо нормализовывать и смотреть подробнее. Разбивать теги на разные категории -- жанр, темп, вокалисты, период, настроение и пр. Ещё есть http://www.last.fm/api/show/tag.getSimilar , но на несколько примеров пусто."
   ]
  },
  {
   "cell_type": "markdown",
   "metadata": {},
   "source": [
    "Пересечение по похожим композициям:"
   ]
  },
  {
   "cell_type": "code",
   "execution_count": 11,
   "metadata": {
    "collapsed": false
   },
   "outputs": [
    {
     "name": "stdout",
     "output_type": "stream",
     "text": [
      "cher we all sleep alone ['Cher - I Found Someone', 'Cher - All or Nothing', 'Madonna - Cherish', 'Madonna - Angel', 'Cyndi Lauper - She Bop', 'Paula Abdul - Cold Hearted', 'Kylie Minogue - Better the Devil You Know', 'Tina Turner - Private Dancer', 'Cyndi Lauper - Girls Just Want to Have Fun', 'Janet Jackson - Escapade', 'Janet Jackson - Black Cat', 'Kylie Minogue - Je Ne Sais Pas Pourquoi', 'Whitney Houston - I Wanna Dance with Somebody (Who Loves Me)', 'Belinda Carlisle - Heaven Is a Place on Earth', 'Britney Spears - (You Drive Me) Crazy', 'Eurythmics - Sweet Dreams (Are Made of This)', 'Annie Lennox - No More \"I Love You\\'s\"', 'Paula Abdul - Opposites Attract', 'Tina Turner - Typical Male', 'Cathy Dennis - Just Another Dream', 'Pat Benatar - We Belong', 'Lady Gaga - Black Jesus † Amen Fashion', 'Blondie - Maria', 'Katy Perry - Walking on Air', 'Bonnie Tyler - Holding Out for a Hero', 'Grace Jones - Slave to the Rhythm', 'Annie Lennox - Little Bird', 'Gwen Stefani - Serious', 'Debbie Gibson - Anything Is Possible', 'Bananarama - Venus', 'Belinda Carlisle - I Get Weak', 'Michael Jackson - Beat It', 'Bonnie Tyler - Total Eclipse of the Heart', 'Pet Shop Boys - Go West', 'Lindsay Lohan - Rumors', 'Bette Midler - Tragedy', 'Taylor Dayne - Tell It to My Heart', 'Alison Moyet - All Cried Out', 'Laura Branigan - Self Control', 'Kerli - Army of Love', 'Lisa Stansfield - All Around the World', 'Eurythmics - I Saved The World Today', 'Whitney Houston - I Wanna Dance with Somebody', 'Michael Jackson - Smooth Criminal', 'Taylor Dayne - Love Will Lead You Back', 'Pet Shop Boys - New York City Boy', 'Kim Wilde - Never Trust A Stranger', 'George Michael - Fastlove', 'Christina Aguilera - Elastic Love', 'Christina Aguilera - Back in the Day', 'Lady Gaga - Americano', 'Mariah Carey - Meteorite', 'Kelly Clarkson - My Life Would Suck Without You', 'Mariah Carey - Honey', 'Lindsay Lohan - Black Hole', 'Kelly Clarkson - I Do Not Hook Up', \"Shania Twain - That Don't Impress Me Much\", 'Britney Spears - Lace and Leather', 'Gwen Stefani - Cool', 'Katy Perry - Firework', 'Marta Sánchez - Te Imagino', 'Marta Sánchez - Frida Y Sus Flores', 'Beyoncé - Sweet Dreams', 'Cher, Chrissie Hynde & Neneh Cherry with Eric Clapton - Love Can Build A Bridge', 'Paloma Faith - Only Love Can Hurt Like This', 'Blondie - Rip Her To Shreds (live)', 'Shakira - Whenever, Wherever', \"Céline Dion - Pour que tu m'aimes encore\", 'Rihanna - Diamonds', \"Sonny - My Best Friend's Girl Is Out Of Sight\", 'Bette Midler - Hello in There', 'Beyoncé - Pretty Hurts', 'RuPaul - Sissy That Walk', 'Céline Dion - A New Day Has Come', 'Debbie Gibson - Do You Have It in Your Heart?', 'Rihanna - Russian Roulette', 'ABBA - Dancing Queen', 'Stevie Nicks - Stand Back', 'Alanis Morissette - Precious Illusions', 'Alanis Morissette - Hands Clean', 'Lily Allen - Hard Out Here', 'The Luxury Liners - Believe', 'Loreen - Paper Light (Higher)', 'ABBA - Money, Money, Money', 'Sybil - Now Or Never', 'Sybil - Oh, How I Love You', 'Eros Ramazzotti - Più Che Puoi', \"Sonny & Cher - It's The Little Things (LP/Single Version)\", 'Sonny & Cher - Just You (Original Single Version)', \"Londonbeat - There's A Deep House Going On\", 'Londonbeat - Talent On The Make', 'Shania Twain - Come on Over', 'Loreen - Euphoria', \"Jennifer Lopez - Love Don't Cost a Thing\", 'Robyn - Call Your Girlfriend', 'Anastacia - Paid My Dues', \"Jane Child - Don't Wanna Fall in Love\", 'Stevie Nicks - Talk to Me', 'RuPaul - Born Naked (feat. Clairy Browne)', 'Right Said Fred - We Are The Freds (Radio Edit)'] \n",
      "\n",
      "scorpions wind of change ['Scorpions - Still Loving You', 'Scorpions - Send Me An Angel', \"Guns N' Roses - November Rain\", 'Europe - The Final Countdown', \"Guns N' Roses - Don't Cry\", 'Aerosmith - Crazy', 'Queen - The Show Must Go On', \"Bon Jovi - Livin' on a Prayer\", 'Aerosmith - Dream On', 'Alice Cooper - Poison', 'Whitesnake - Is This Love', 'Bon Jovi - Always', 'Led Zeppelin - Stairway to Heaven', 'Nazareth - Love Hurts', 'Europe - Carrie', 'Deep Purple - Smoke on the Water', 'Queen - Bohemian Rhapsody', 'Survivor - Eye of the Tiger', 'Whitesnake - Here I Go Again', 'Dire Straits - Brothers in Arms', 'Deep Purple - Soldier Of Fortune', 'Kansas - Dust in the Wind', 'Foreigner - I Want to Know What Love Is', \"Kiss - I Was Made for Lovin' You\", 'Boston - More Than a Feeling', 'Ozzy Osbourne - Dreamer', 'Dire Straits - Money for Nothing', 'AC/DC - Highway to Hell', 'Status Quo - In The Army Now', 'Eagles - Hotel California', 'Van Halen - Jump', 'Bryan Adams - Heaven', 'Def Leppard - Pour Some Sugar on Me', 'Pink Floyd - Another Brick in the Wall', 'AC/DC - Back in Black', 'Toto - Africa', 'Def Leppard - Love Bites', 'Led Zeppelin - Kashmir', 'Skid Row - 18 and Life', 'Roxette - It Must Have Been Love', 'Extreme - More Than Words', 'Uriah Heep - Lady in Black', 'The Rolling Stones - Angie', 'Heart - Alone', 'Eric Clapton - Tears in Heaven', 'Black Sabbath - Paranoid', 'Lynyrd Skynyrd - Sweet Home Alabama', \"Journey - Don't Stop Believin'\", 'Ozzy Osbourne - Crazy Train', 'Toto - Hold the Line', 'Bryan Adams - (Everything I Do) I Do It for You', 'Twisted Sister - I Wanna Rock', 'Skid Row - I remember you', 'Rainbow - The Temple of the King', \"Twisted Sister - We're Not Gonna Take It\", 'Dio - Holy Diver', 'Rainbow - Catch the Rainbow', 'Quiet Riot - Cum on Feel the Noize', 'Kiss - Rock And Roll All Nite', 'The Who - Behind Blue Eyes', 'Kansas - Carry on Wayward Son', 'Mr. Big - Wild World', 'Mr. Big - To Be With You', 'Black Sabbath - Iron Man', 'ZZ Top - Sharp Dressed Man', 'Eric Clapton - Layla', 'ZZ Top - La Grange', 'Nazareth - Dream On', 'The Rolling Stones - Paint It Black', 'Pink Floyd - Learning to Fly', 'Lynyrd Skynyrd - Free Bird', 'White Lion - When the Children Cry', \"The Who - Baba O'Riley\", 'Kingdom Come - What Love Can Be', 'Journey - Separate Ways (Worlds Apart)', 'Boston - Amanda', 'UFO - Belladonna', \"Van Halen - Ain't Talkin' 'Bout Love\", 'Foreigner - Waiting for a Girl Like You', 'Asia - Heat of the Moment', 'Styx - Boat On The River', 'Heart - Barracuda', 'Survivor - Burning Heart', 'Poison - Every Rose Has Its Thorn', \"Blue Öyster Cult - Burnin' for You\", 'U2 - Pride (in the Name of Love)', \"Alice Cooper - School's Out\", 'Thin Lizzy - The Boys Are Back in Town', 'Billy Idol - Rebel Yell', 'Motörhead - Ace of Spades', \"U2 - I Still Haven't Found What I'm Looking For\", 'Rush - Tom Sawyer', \"Blue Öyster Cult - (Don't Fear) The Reaper\", 'Smokie - What Can I Do', 'UFO - Doctor Doctor', 'Status Quo - Whatever You Want', 'Styx - Babe', 'Warrant - Cherry Pie', 'Lita Ford - Close My Eyes Forever', 'Billy Idol - White Wedding'] \n",
      "\n",
      "bon jovi never say goodbye ['Bon Jovi - Without Love', \"Bon Jovi - I'd Die For You\", 'Jon Bon Jovi - Blaze Of Glory', 'Whitesnake - Is This Love', 'Def Leppard - Love Bites', 'Aerosmith - What It Takes', 'Aerosmith - Amazing', \"Guns N' Roses - November Rain\", \"Guns N' Roses - Patience\", 'Def Leppard - Have You Ever Needed Someone So Bad', 'Europe - Carrie', \"Poison - I Won't Forget You\", 'Skid Row - I remember you', 'Poison - Every Rose Has Its Thorn', 'Scorpions - Still Loving You', \"Van Halen - Can't Stop Lovin' You\", \"Cinderella - Don't Know What You Got (Till It's Gone)\", 'Whitesnake - Here I Go Again', 'Tesla - Love Song', 'Mötley Crüe - Home Sweet Home', 'Jon Bon Jovi - Never Say Die', 'Boston - Amanda', 'Scorpions - Wind of Change', 'Europe - The Final Countdown', 'White Lion - When the Children Cry', 'Bad English - When I See You Smile', 'Van Halen - Jump', 'Bryan Adams - Heaven', 'Damn Yankees - High Enough', 'Skid Row - 18 and Life', \"Cinderella - Nobody's Fool\", 'Foreigner - I Want to Know What Love Is', 'Kiss - Forever', 'Cheap Trick - The Flame', 'Firehouse - I Live My Life For You', 'Heart - Alone', 'Queen - We Are the Champions', 'Quiet Riot - Cum on Feel the Noize', 'Queen - Crazy Little Thing Called Love', 'Journey - Faithfully', 'AC/DC - You Shook Me All Night Long', 'Mr. Big - To Be With You', 'Foreigner - Waiting for a Girl Like You', 'Journey - Open Arms', 'Warrant - Sometimes She Cries', 'Alice Cooper - Poison', 'Heart - These Dreams', 'Warrant - Cherry Pie', 'Kiss - Rock And Roll All Nite', 'AC/DC - Highway to Hell', 'Mötley Crüe - Dr. Feelgood', 'REO Speedwagon - Keep on Loving You', \"Bryan Adams - Summer of '69\", 'Mr. Big - Just Take My Heart', \"REO Speedwagon - Can't Fight This Feeling\", 'Asia - Heat of the Moment', 'L.A. Guns - The Ballad Of Jayne', 'Pat Benatar - We Belong', 'Ratt - Round and Round', 'Nazareth - Love Hurts', 'Survivor - Eye of the Tiger', 'Eric Clapton - Wonderful Tonight', 'Deep Purple - Soldier Of Fortune', 'Bonnie Tyler - Total Eclipse of the Heart', 'Twisted Sister - I Wanna Rock', 'Boston - More Than a Feeling', 'INXS - Never Tear Us Apart', 'Survivor - The Search Is Over', 'U2 - Pride (in the Name of Love)', \"Meat Loaf - I'd Do Anything for Love (But I Won't Do That)\", 'Styx - Babe', 'White Lion - Broken Heart', 'Pat Benatar - Hit Me With Your Best Shot', 'Toto - Africa', 'Dire Straits - Brothers in Arms', 'Toto - Hold the Line', 'Ozzy Osbourne - Dreamer', 'Lita Ford - Kiss Me Deadly', 'Night Ranger - Sister Christian', 'ZZ Top - Sharp Dressed Man', 'Firehouse - All She Wrote', 'Billy Idol - Rebel Yell', \"Twisted Sister - We're Not Gonna Take It\", 'Dire Straits - Money for Nothing', 'ZZ Top - Rough Boy', 'Cheap Trick - Mighty Wings', 'Thunder - Love Walked In', 'Great White - Rock Me', 'Great White - Once Bitten Twice Shy', 'Bruce Springsteen - Dancing in the Dark', 'Asia - Only Time Will Tell', 'Nazareth - Dream On', \"Sammy Hagar - I Can't Drive 55\", 'Kingdom Come - What Love Can Be', 'Billy Idol - Eyes Without a Face', \"U2 - New Year's Day\", 'Autograph - Turn up the Radio', 'Bruce Springsteen - Streets of Philadelphia', 'Styx - Mr. Roboto', 'Winger - Headed For A Heartbreak'] \n",
      "\n",
      "heart alone ['Heart - These Dreams', 'Heart - All I Wanna Do Is Make Love to You', 'Foreigner - I Want to Know What Love Is', \"REO Speedwagon - Can't Fight This Feeling\", 'REO Speedwagon - Keep on Loving You', \"Starship - Nothing's Gonna Stop Us Now\", 'Bonnie Tyler - Total Eclipse of the Heart', 'Whitesnake - Is This Love', 'Bad English - When I See You Smile', \"Journey - Don't Stop Believin'\", 'Europe - Carrie', 'Pat Benatar - We Belong', 'Cheap Trick - The Flame', 'Journey - Open Arms', 'Cyndi Lauper - Time After Time', 'Foreigner - Waiting for a Girl Like You', 'John Waite - Missing You', 'The Cars - Drive', 'Belinda Carlisle - Heaven Is a Place on Earth', 'Pat Benatar - Love Is a Battlefield', 'Toto - Africa', 'Bryan Adams - Heaven', 'Berlin - Take My Breath Away', 'Boston - Amanda', 'Cutting Crew - (I Just) Died in Your Arms', 'The Bangles - Eternal Flame', 'Europe - The Final Countdown', \"Chicago - Hard to Say I'm Sorry\", 'The Police - Every Breath You Take', 'Starship - We Built This City', 'Asia - Heat of the Moment', 'Cyndi Lauper - True Colors', 'Boston - More Than a Feeling', 'Mr. Mister - Broken Wings', 'Whitesnake - Here I Go Again', 'Toto - Rosanna', 'Eddie Money - Take Me Home Tonight', 'Alannah Myles - Black Velvet', 'Survivor - Eye of the Tiger', 'Fleetwood Mac - Little Lies', 'Poison - Every Rose Has Its Thorn', \"Tina Turner - What's Love Got to Do With It\", 'Warrant - Heaven', 'Fleetwood Mac - Everywhere', 'Stevie Nicks - Edge of Seventeen', \"The Pretenders - I'll Stand By You\", 'Air Supply - All Out of Love', 'Richard Marx - Right Here Waiting', 'Billy Joel - Uptown Girl', 'Men at Work - Down Under', 'Don Henley - The Boys Of Summer', 'Van Halen - Jump', 'Phil Collins - Against All Odds', \"Bryan Adams - Summer of '69\", 'Bonnie Tyler - Holding Out for a Hero', 'Phil Collins - Another Day in Paradise', 'Blondie - Call Me', \"Billy Joel - We Didn't Start the Fire\", 'Steve Perry - Oh Sherrie', 'Def Leppard - Love Bites', 'Steve Winwood - Higher Love', 'Yes - Owner of a Lonely Heart', 'Quarterflash - Harden My Heart', 'Tina Turner - The Best', 'Night Ranger - Sister Christian', 'Eurythmics - Sweet Dreams (Are Made of This)', 'The Outfield - Your Love', 'Stevie Nicks - Stand Back', \"Rick Springfield - Jessie's Girl\", 'Robert Palmer - Addicted to Love', 'Nazareth - Love Hurts', 'Styx - Babe', \"Chicago - You're the Inspiration\", 'The Police - Every Little Thing She Does Is Magic', 'Richard Marx - Hazard', 'Huey Lewis & The News - The Power of Love', 'White Lion - When the Children Cry', 'Survivor - Burning Heart', 'Laura Branigan - Self Control', 'Debbie Gibson - Lost in Your Eyes', 'Alice Cooper - Poison', 'Def Leppard - Pour Some Sugar on Me', 'Kenny Loggins - Footloose', \"Aerosmith - I Don't Want to Miss a Thing\", \"Meat Loaf - I'd Do Anything for Love (But I Won't Do That)\", 'Aerosmith - Angel', 'Air Supply - Making Love Out of Nothing At All', 'Huey Lewis & The News - Stuck With You', 'Mr. Mister - Kyrie', 'Taylor Dayne - Tell It to My Heart', 'The Bangles - Manic Monday', 'Loverboy - Turn Me Loose', 'Kansas - Dust in the Wind', 'Steve Miller Band - Abracadabra', 'Loverboy - Working for the Weekend', 'Steve Winwood - Valerie', 'Hall & Oates - Out of Touch', \"The Pretenders - Don't Get Me Wrong\", 'John Mellencamp - Jack & Diane', 'Asia - Only Time Will Tell'] \n",
      "\n",
      "guns n roses november rain [\"Guns N' Roses - Knockin' on Heaven's Door\", \"Guns N' Roses - Sweet Child o' Mine\", 'Scorpions - Wind of Change', 'Bon Jovi - Always', \"Aerosmith - Cryin'\", 'Aerosmith - Crazy', 'Led Zeppelin - Stairway to Heaven', \"Bon Jovi - Livin' on a Prayer\", 'Queen - Bohemian Rhapsody', 'Alice Cooper - Poison', 'Scorpions - Still Loving You', 'AC/DC - Highway to Hell', 'Skid Row - I remember you', 'Europe - The Final Countdown', 'AC/DC - Thunderstruck', 'Skid Row - 18 and Life', 'Dire Straits - Brothers in Arms', 'Eagles - Hotel California', 'Whitesnake - Here I Go Again', 'Deep Purple - Smoke on the Water', 'Whitesnake - Is This Love', 'Led Zeppelin - Kashmir', 'Deep Purple - Child in Time', 'Black Sabbath - Paranoid', 'Def Leppard - Love Bites', 'Queen - The Show Must Go On', 'Dire Straits - Sultans of Swing', 'Def Leppard - Pour Some Sugar on Me', 'Van Halen - Jump', \"Ozzy Osbourne - Mama, I'm Coming Home\", 'Boston - More Than a Feeling', 'Nazareth - Love Hurts', \"Kiss - I Was Made for Lovin' You\", 'Lynyrd Skynyrd - Free Bird', 'Black Sabbath - Iron Man', 'The Rolling Stones - Angie', 'Extreme - More Than Words', 'Ozzy Osbourne - Crazy Train', 'Slash - Anastasia', 'Europe - Carrie', 'Lynyrd Skynyrd - Simple Man', 'Mr. Big - To Be With You', 'Kiss - Forever', 'Kansas - Dust in the Wind', 'Motörhead - Ace of Spades', \"The Who - Baba O'Riley\", 'Van Halen - Eruption', 'Dio - Holy Diver', \"Journey - Don't Stop Believin'\", 'Bryan Adams - (Everything I Do) I Do It for You', 'Mr. Big - Wild World', 'ZZ Top - La Grange', 'The Who - Behind Blue Eyes', 'Dio - Rainbow in the Dark', 'Poison - Every Rose Has Its Thorn', 'Pink Floyd - Another Brick in the Wall', 'Kansas - Carry on Wayward Son', 'Foreigner - I Want to Know What Love Is', 'Bryan Adams - Heaven', 'Eric Clapton - Wonderful Tonight', 'Twisted Sister - I Wanna Rock', \"Twisted Sister - We're Not Gonna Take It\", 'Rainbow - The Temple of the King', 'ZZ Top - Sharp Dressed Man', 'Slash - World on Fire', 'Rainbow - Catch the Rainbow', 'The Rolling Stones - Start Me Up', 'Lenny Kravitz - Are You Gonna Go My Way', 'The Police - Roxanne', 'Mötley Crüe - Kickstart My Heart', 'Heart - Alone', 'Quiet Riot - Cum on Feel the Noize', 'Avenged Sevenfold - Dear God', 'White Lion - When the Children Cry', 'Uriah Heep - Lady in Black', 'Tesla - Love Song', \"Alice Cooper - School's Out\", 'Ugly Kid Joe - Cats in the Cradle', 'Warrant - Cherry Pie', 'Mötley Crüe - Home Sweet Home', 'Thin Lizzy - The Boys Are Back in Town', 'Velvet Revolver - Fall to Pieces', 'The Police - Message in a Bottle', 'Nazareth - Dream On', 'Cinderella - Coming Home', 'Damn Yankees - High Enough', 'Heart - Barracuda', 'Journey - Open Arms', 'Firehouse - I Live My Life For You', 'Avenged Sevenfold - A Little Piece of Heaven', \"Airbourne - Runnin' Wild\", \"Cinderella - Nobody's Fool\", 'Judas Priest - Living After Midnight', 'Lita Ford - Close My Eyes Forever', 'Boston - Peace Of Mind', 'Velvet Revolver - Slither', 'White Lion - Broken Heart', 'Billy Idol - Rebel Yell', 'Ugly Kid Joe - Everything About You', 'The Cult - She Sells Sanctuary'] \n",
      "\n",
      "aerosmith i don't want to miss a thing ['Aerosmith - Crazy', \"Aerosmith - Cryin'\", 'Bon Jovi - Always', \"Guns N' Roses - November Rain\", 'Scorpions - Wind of Change', \"Bon Jovi - Livin' on a Prayer\", 'Scorpions - Still Loving You', \"Guns N' Roses - Sweet Child o' Mine\", 'Extreme - More Than Words', 'Queen - Bohemian Rhapsody', 'Bryan Adams - (Everything I Do) I Do It for You', 'Eric Clapton - Wonderful Tonight', 'Eagles - Hotel California', 'Mr. Big - To Be With You', 'Led Zeppelin - Stairway to Heaven', 'Whitesnake - Is This Love', 'Eric Clapton - Tears in Heaven', 'Bruce Springsteen - Streets of Philadelphia', 'Nazareth - Love Hurts', 'Queen - The Show Must Go On', 'Foreigner - I Want to Know What Love Is', 'Alice Cooper - Poison', 'Bryan Adams - Heaven', 'Boston - More Than a Feeling', 'The Rolling Stones - Angie', 'Survivor - Eye of the Tiger', 'AC/DC - Highway to Hell', 'Deep Purple - Smoke on the Water', 'Kansas - Dust in the Wind', 'Mr. Big - Wild World', 'Van Halen - Jump', 'Lynyrd Skynyrd - Sweet Home Alabama', 'Steppenwolf - Born to Be Wild', 'Whitesnake - Here I Go Again', \"Kiss - I Was Made for Lovin' You\", 'Dire Straits - Brothers in Arms', 'U2 - One', 'AC/DC - Back in Black', 'Heart - Alone', 'Dire Straits - Sultans of Swing', 'Europe - Carrie', 'Kansas - Carry on Wayward Son', 'Ozzy Osbourne - Dreamer', 'Def Leppard - Love Bites', 'Def Leppard - Pour Some Sugar on Me', 'Journey - Open Arms', 'Black Sabbath - Paranoid', 'Lynyrd Skynyrd - Free Bird', 'Led Zeppelin - Black Dog', 'The Who - Behind Blue Eyes', \"The Who - Baba O'Riley\", \"The Rolling Stones - (I Can't Get No) Satisfaction\", 'ZZ Top - La Grange', 'Creedence Clearwater Revival - Fortunate Son', 'Kiss - Rock And Roll All Nite', \"Meat Loaf - I'd Do Anything for Love (But I Won't Do That)\", 'Deep Purple - Highway Star', 'The Beatles - I Want to Hold Your Hand', 'Joe Cocker - You Are So Beautiful', 'Creedence Clearwater Revival - Have You Ever Seen the Rain', 'Foreigner - Waiting for a Girl Like You', 'Journey - Faithfully', 'Bruce Springsteen - Secret Garden', 'Free - All Right Now', 'Uriah Heep - Lady in Black', 'The Beatles - Love Me Do', 'Status Quo - In The Army Now', \"Van Halen - Can't Stop Lovin' You\", 'The Doors - Light My Fire', 'Cream - Sunshine of Your Love', 'The Doors - Riders on the Storm', \"REO Speedwagon - Can't Fight This Feeling\", \"Elvis Presley - Can't Help Falling in Love\", \"ZZ Top - Gimme All Your Lovin'\", 'Thin Lizzy - The Boys Are Back in Town', 'Foghat - Slow Ride', 'Lenny Kravitz - Are You Gonna Go My Way', 'Pink Floyd - Another Brick in the Wall', 'Rod Stewart - Sailing', 'Rainbow - Since You Been Gone', 'Heart - Barracuda', 'REO Speedwagon - Keep on Loving You', \"Meat Loaf - Two Out of Three Ain't Bad\", 'Cheap Trick - The Flame', 'Nazareth - Dream On', \"Blue Öyster Cult - (Don't Fear) The Reaper\", 'Jimi Hendrix - All Along the Watchtower', 'Lenny Kravitz - Again', 'Bad English - When I See You Smile', \"Blue Öyster Cult - Burnin' for You\", 'Rainbow - Catch the Rainbow', 'Jimi Hendrix - Purple Haze', 'Elton John - Tiny Dancer', 'Styx - Babe', 'Black Sabbath - Changes', \"Alice Cooper - School's Out\", 'Boston - Peace Of Mind', 'Survivor - Burning Heart', 'Steppenwolf - Magic Carpet Ride', 'Joe Cocker - You Can Leave Your Hat On'] \n",
      "\n",
      "cher i found someone ['Cher - Heart of Stone', 'Cher - Love and Understanding', 'Madonna - Cherish', 'Madonna - Open Your Heart', 'Belinda Carlisle - Heaven Is a Place on Earth', 'Tina Turner - Typical Male', 'Pat Benatar - Love Is a Battlefield', 'Tina Turner - The Best', 'Cyndi Lauper - Girls Just Want to Have Fun', 'Cyndi Lauper - She Bop', 'Bonnie Tyler - Total Eclipse of the Heart', 'Lisa Stansfield - All Around the World', 'Bonnie Tyler - Holding Out for a Hero', 'Whitney Houston - I Wanna Dance with Somebody (Who Loves Me)', 'Taylor Dayne - Tell It to My Heart', \"Whitney Houston - Didn't We Almost Have It All\", 'Pat Benatar - We Belong', 'Eurythmics - Here Comes The Rain Again', 'Kylie Minogue - I Should Be So Lucky', 'Kim Wilde - You Came', 'Eurythmics - Sweet Dreams (Are Made of This)', 'Stevie Nicks - Stand Back', 'Bananarama - Venus', 'Kylie Minogue - Hand on Your Heart', 'Kim Wilde - Kids in America', 'Laura Branigan - Self Control', 'Samantha Fox - Touch Me (I Want Your Body)', 'Blondie - The Tide Is High', 'Blondie - Call Me', 'Janet Jackson - Nasty', 'Stevie Nicks - Rooms On Fire', 'Janet Jackson - Escapade', 'Belinda Carlisle - I Get Weak', 'ABBA - Super Trouper', 'Bette Midler - Wind Beneath My Wings', 'Bananarama - Cruel Summer', 'George Michael - Faith', 'Annie Lennox - No More \"I Love You\\'s\"', 'Paula Abdul - Straight Up', 'Christina Aguilera - Fighter', 'Culture Club - Karma Chameleon', 'Sheena Easton - Morning Train (Nine to Five)', 'Olivia Newton-John - Physical', 'Laura Branigan - Gloria', \"Christina Aguilera - Ain't No Other Man\", 'Alison Moyet - Weak in the Presence of Beauty', 'ABBA - The Winner Takes It All', \"Anastacia - I'm Outta Love\", 'Michael Jackson - Bad', 'Bette Midler - Beast of Burden', 'Paula Abdul - Cold Hearted', 'Michael Jackson - Beat It', 'George Michael - Father Figure', 'Lady Gaga - Fashion of His Love', 'Debbie Gibson - Foolish Beat', 'Alison Moyet - Is This Love', 'Gwen Stefani - Cool', 'Erasure - Sometimes', 'Debbie Gibson - Lost in Your Eyes', 'Anastacia - Left Outside Alone', 'Diana Ross - Upside Down', 'Taylor Dayne - Prove Your Love', 'Diana Ross - Chain Reaction', 'Pet Shop Boys - West End Girls', 'Katy Perry - This Moment', 'Erasure - A Little Respect', 'Gwen Stefani - What You Waiting For?', \"Gloria Estefan - Can't Stay Away from You\", 'Kelly Clarkson - Catch My Breath', 'Annie Lennox - Walking on Broken Glass', 'Pet Shop Boys - Always on My Mind', 'Katy Perry - Spiritual', 'Gloria Estefan - Anything for You', 'Grace Jones - Pull Up To The Bumper', 'Culture Club - Do You Really Want to Hurt Me', 'Donna Summer - She Works Hard for the Money', 'Britney Spears - It Should Be Easy (feat. will.i.am)', \"Donna Summer - This Time I Know It's for Real\", 'Sheena Easton - For Your Eyes Only', 'Olivia Newton-John - Twist Of Fate', 'Kelly Clarkson - People Like Us', \"Tina Arena - That's The Way A Woman Feels\", 'Paloma Faith - Do You Want the Truth or Something Beautiful?', 'P!nk - Sober', 'Adore Delano - Give Me Tonight', 'Jennifer Lopez - A.K.A. (feat. T.I.)', \"P!nk - Leave Me Alone (I'm Lonely)\", 'Natalie Imbruglia - Shiver', 'No Doubt - Hella Good', 'Sonny & Cher - I Got You Babe', 'Dolly Parton - 9 to 5', 'Céline Dion - A New Day Has Come', 'Britney Spears - Born to Make You Happy', 'Barbra Streisand - Woman in Love', \"Mariah Carey - Can't Let Go\", 'RuPaul - The Beginning', 'Lady Gaga - The Edge of Glory', 'Céline Dion - Loved Me Back to Life', 'Mariah Carey - Dreamlover', 'Shania Twain - Man! I Feel Like a Woman!'] \n",
      "\n",
      "scorpions still loving you ['Scorpions - Wind of Change', 'Scorpions - Send Me An Angel', 'Aerosmith - Dream On', 'Deep Purple - Smoke on the Water', 'Deep Purple - Soldier Of Fortune', 'Aerosmith - Crazy', 'Whitesnake - Is This Love', 'Europe - The Final Countdown', 'Nazareth - Love Hurts', \"Guns N' Roses - November Rain\", 'Alice Cooper - Poison', 'Queen - The Show Must Go On', 'Bon Jovi - Always', \"Kiss - I Was Made for Lovin' You\", 'Led Zeppelin - Stairway to Heaven', \"Guns N' Roses - Don't Cry\", 'Whitesnake - Here I Go Again', 'Europe - Carrie', \"Bon Jovi - Livin' on a Prayer\", 'AC/DC - Highway to Hell', 'Queen - Bohemian Rhapsody', 'Def Leppard - Love Bites', 'Van Halen - Jump', 'Skid Row - 18 and Life', 'AC/DC - Back in Black', 'Dire Straits - Brothers in Arms', 'Ozzy Osbourne - Dreamer', 'Kansas - Dust in the Wind', 'Foreigner - I Want to Know What Love Is', 'Rainbow - Catch the Rainbow', 'Survivor - Eye of the Tiger', 'Def Leppard - Pour Some Sugar on Me', 'Black Sabbath - Paranoid', 'Eagles - Hotel California', 'Led Zeppelin - Kashmir', 'Bryan Adams - Heaven', 'Ozzy Osbourne - Crazy Train', 'The Rolling Stones - Angie', 'Rainbow - The Temple of the King', 'Dire Straits - Money for Nothing', 'Uriah Heep - Lady in Black', 'Status Quo - In The Army Now', 'Dio - Holy Diver', 'Skid Row - I remember you', 'Boston - More Than a Feeling', 'Twisted Sister - I Wanna Rock', 'U2 - With or Without You', 'Dio - Rainbow in the Dark', 'Kiss - Detroit Rock City', 'Black Sabbath - Iron Man', 'Eric Clapton - Tears in Heaven', 'Pink Floyd - Another Brick in the Wall', \"Twisted Sister - We're Not Gonna Take It\", 'Kingdom Come - What Love Can Be', 'The Who - Behind Blue Eyes', 'ZZ Top - Sharp Dressed Man', 'Mr. Big - Wild World', 'Eric Clapton - Wonderful Tonight', \"Van Halen - Ain't Talkin' 'Bout Love\", 'Extreme - More Than Words', 'Quiet Riot - Cum on Feel the Noize', 'Lynyrd Skynyrd - Sweet Home Alabama', 'Lynyrd Skynyrd - Simple Man', 'Toto - Africa', 'Heart - Alone', 'Pink Floyd - Learning to Fly', \"The Rolling Stones - (I Can't Get No) Satisfaction\", 'Nazareth - Dream On', 'Journey - Separate Ways (Worlds Apart)', 'Roxette - It Must Have Been Love', 'Foreigner - Waiting for a Girl Like You', 'White Lion - When the Children Cry', 'Journey - Faithfully', 'UFO - Doctor Doctor', 'UFO - Belladonna', \"Blue Öyster Cult - Burnin' for You\", 'Toto - Hold the Line', \"Alice Cooper - School's Out\", 'ZZ Top - Rough Boy', 'Slash - Anastasia', 'Thin Lizzy - The Boys Are Back in Town', 'Boston - Amanda', 'Styx - Boat On The River', 'Motörhead - Ace of Spades', 'Kansas - Carry on Wayward Son', 'Asia - Heat of the Moment', 'Mr. Big - Just Take My Heart', \"Uriah Heep - Easy Livin'\", 'Survivor - Burning Heart', 'U2 - Sunday Bloody Sunday', 'Bryan Adams - (Everything I Do) I Do It for You', 'Heart - Barracuda', \"The Who - Baba O'Riley\", 'Poison - Every Rose Has Its Thorn', 'Ted Nugent - Stranglehold', 'Warrant - Cherry Pie', 'Smokie - What Can I Do', 'Thin Lizzy - Whiskey in the Jar', 'Joe Cocker - You Are So Beautiful', 'Tesla - Love Song'] \n",
      "\n",
      "bon jovi silent night ['Bon Jovi - King Of The Mountain', 'Bon Jovi - Secret Dreams', 'Jon Bon Jovi - Bang A Drum', 'Jon Bon Jovi - Never Say Die', 'Europe - More Than Meets The Eye', 'Poison - Love On The Rocks', 'Danger Danger - Rock America', 'Danger Danger - Feels Like Love', 'Europe - Time Has Come', 'Def Leppard - Lady Strange', \"Cinderella - Nothin' For Nothin'\", 'Poison - Bad to Be Good', 'Def Leppard - White Lightning', 'Richie Sambora - Nowadays', 'Damn Yankees - Come Again', \"Cinderella - If You Don't Like It\", 'Damn Yankees - Coming Of Age', 'Warrant - Blind Faith', 'Hardline - Change Of Heart', 'Aerosmith - Critical Mass', \"Aerosmith - Heart's Done Time\", 'Whitesnake - Wings Of The Storm', \"Whitesnake - Don't Turn Away\", 'Mötley Crüe - Five Years Dead', 'Hardline - Hot Cherie', 'Warrant - 32 Pennies', 'Richie Sambora - Taking a Chance On the Wind', 'Ratt - The Morning After', 'Mr. Big - Anything for You', 'Dokken - Jaded Heart', 'Tesla - The Way It Is', 'Mr. Big - Mr. Gone', 'Dokken - Heaven Sent', 'Winger - Rainbow In The Rose', 'Ratt - Scene of the Crime', 'Steelheart - Sticky Side Up', 'White Lion - Tell Me', \"Skid Row - Breakin' Down\", 'White Lion - Radar Love', 'Van Halen - Feels So Good', 'Steelheart - Everybody Loves Eileen', 'Firehouse - Reach For The Sky', 'Firehouse - Hold The Dream', 'Kiss - Turn On The Night', \"Survivor - It's The Singer Not The Song\", 'Van Halen - Mine All Mine', 'Giant - Hold Back The Night', 'Kiss - Bang Bang You', \"Tesla - Edison's Medicine\", 'L.A. Guns - Rip And Tear', 'Bad English - Straight To Your Heart', \"Bad English - Don't Walk Away\", 'Skid Row - Mudkicker', \"Guns N' Roses - You're Crazy\", \"Guns N' Roses - Welcome to the Jungle\", 'Great White - Hiway Nights', 'L.A. Guns - Sex Action', 'Mötley Crüe - Merry-Go-Round', 'Extreme - Kid Ego', \"Winger - Spell I'm under\", 'AC/DC - Hell or High Water', \"Y&T - I'll Keep On Believin' (Do You Know)\", 'Kingdom Come - Living Out Of Touch', 'Great White - On Your Knees', 'Journey - Chain Reaction', 'Night Ranger - Sing Me Away', 'Scorpions - Every Minute Every Day', 'AC/DC - Deep in the Hole', \"Quiet Riot - Don't Wanna Let You Go\", 'XYZ - Inside Out', 'Kingdom Come - 17', 'Scorpions - Media Overkill', 'Foreigner - Reaction To Action', 'Vixen - Rev It Up', 'Autograph - In The Night', 'Autograph - Cloud 10', 'Night Ranger - Rumours In The Air', 'Vixen - Bad Reputation', 'Thunder - Love Walked In', 'Slaughter - Days Gone By', 'Quiet Riot - Mama Weer All Crazee Now', 'H.E.A.T - Point of No Return', 'Faster Pussycat - House Of Pain', 'Britny Fox - Dream On', 'Sammy Hagar - Your Love Is Driving Me Crazy', 'H.E.A.T - Mannequin Show', \"Y&T - Don't Stop Runnin'\", 'Kix - No Ring Around Rosie', 'Twisted Sister - You Want What We Got', 'Reckless Love - Fight', 'Slaughter - Up All Night', 'Hanoi Rocks - Lost In the City', 'Queen - Hang On In There', 'Britny Fox - Standing In The Shadows', 'Magnum - When The World Comes Down', 'XYZ - What Keeps Me Loving You', 'Survivor - Broken Promises', 'Lita Ford - Back to the Cave', \"Lita Ford - Playin' with Fire\", 'Gotthard - Nothing Left At All'] \n",
      "\n"
     ]
    }
   ],
   "source": [
    "similar_tracks = []\n",
    "\n",
    "for i in range(l2):\n",
    "    track_info = network.get_track(tracks[i][0], tracks[i][1])\n",
    "    sim_tracks = track_info.get_similar()\n",
    "    sim_tr = ['{} - {}'.format(a[0].get_artist(), a[0].get_name()) for a in sim_tracks]\n",
    "\n",
    "    print(tracks[i][0], tracks[i][1],   sim_tr, \"\\n\")\n",
    "    similar_artist.append(sim_tr)\n",
    "    time.sleep(0.1)"
   ]
  },
  {
   "cell_type": "raw",
   "metadata": {},
   "source": [
    "Надо думать как правильно хранить и искать где что, но вот точно похожи Scorpions - Wind of Change, Guns N' Roses - November Rain,  Scorpions - Still Loving You. Aerosmith - I Don't Want to Miss a Thing и Heart - Alone, к другим песням больше подходят другие песни Aerosmith."
   ]
  }
 ],
 "metadata": {
  "kernelspec": {
   "display_name": "Python 3",
   "language": "python",
   "name": "python3"
  },
  "language_info": {
   "codemirror_mode": {
    "name": "ipython",
    "version": 3
   },
   "file_extension": ".py",
   "mimetype": "text/x-python",
   "name": "python",
   "nbconvert_exporter": "python",
   "pygments_lexer": "ipython3",
   "version": "3.4.3"
  }
 },
 "nbformat": 4,
 "nbformat_minor": 0
}
