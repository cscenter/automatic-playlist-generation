{
 "cells": [
  {
   "cell_type": "markdown",
   "metadata": {},
   "source": [
    "# Теги композиций из 72 тысяч плейлистов с deezer.com "
   ]
  },
  {
   "cell_type": "markdown",
   "metadata": {},
   "source": [
    "## Число использований, популярные теги"
   ]
  },
  {
   "cell_type": "markdown",
   "metadata": {},
   "source": [
    "###Общее число использований:"
   ]
  },
  {
   "cell_type": "code",
   "execution_count": 1,
   "metadata": {
    "collapsed": true
   },
   "outputs": [],
   "source": [
    "import json\n",
    "import operator"
   ]
  },
  {
   "cell_type": "code",
   "execution_count": 7,
   "metadata": {
    "collapsed": true
   },
   "outputs": [],
   "source": [
    "path_in = \"72K_track_tags.json\"\n",
    "\n",
    "data_full = json.load(open(path_in))"
   ]
  },
  {
   "cell_type": "code",
   "execution_count": 8,
   "metadata": {
    "collapsed": false
   },
   "outputs": [],
   "source": [
    "data = {}\n",
    "\n",
    "for artist in data_full:\n",
    "    tracks = data_full[artist]\n",
    "    for track in tracks:\n",
    "        title = list(track.keys())[0]\n",
    "        if (track[title] != {}):\n",
    "            name = artist + \"-\" + title\n",
    "            data[name] = track[title]  \n",
    "\n",
    "    "
   ]
  },
  {
   "cell_type": "raw",
   "metadata": {},
   "source": [
    "Всего композиций с тегами:"
   ]
  },
  {
   "cell_type": "code",
   "execution_count": 9,
   "metadata": {
    "collapsed": false
   },
   "outputs": [
    {
     "data": {
      "text/plain": [
       "158638"
      ]
     },
     "execution_count": 9,
     "metadata": {},
     "output_type": "execute_result"
    }
   ],
   "source": [
    "len(data)"
   ]
  },
  {
   "cell_type": "raw",
   "metadata": {},
   "source": [
    "В 5 раз больше, чем исполнителей. Подсчёт с общим числом использований:"
   ]
  },
  {
   "cell_type": "code",
   "execution_count": 10,
   "metadata": {
    "collapsed": true
   },
   "outputs": [],
   "source": [
    "total_count = {}\n",
    "\n",
    "total_sum = 0\n",
    "\n",
    "for key in data:                   \n",
    "    tmp_dict = data[key]\n",
    "    for tag in tmp_dict:\n",
    "        if tag in total_count:\n",
    "            total_count[tag] += int(tmp_dict[tag])\n",
    "\n",
    "        else:\n",
    "            total_count[tag] = int(tmp_dict[tag])\n",
    "        total_sum += int(tmp_dict[tag])\n"
   ]
  },
  {
   "cell_type": "raw",
   "metadata": {},
   "source": [
    "Всего тегов:"
   ]
  },
  {
   "cell_type": "code",
   "execution_count": 11,
   "metadata": {
    "collapsed": false
   },
   "outputs": [
    {
     "data": {
      "text/plain": [
       "358716"
      ]
     },
     "execution_count": 11,
     "metadata": {},
     "output_type": "execute_result"
    }
   ],
   "source": [
    "len(total_count)"
   ]
  },
  {
   "cell_type": "raw",
   "metadata": {},
   "source": [
    "В 3 раза больше, чем тегов исполнителей. Суммарное число использований:"
   ]
  },
  {
   "cell_type": "code",
   "execution_count": 12,
   "metadata": {
    "collapsed": false
   },
   "outputs": [
    {
     "data": {
      "text/plain": [
       "87535153"
      ]
     },
     "execution_count": 12,
     "metadata": {},
     "output_type": "execute_result"
    }
   ],
   "source": [
    "total_sum"
   ]
  },
  {
   "cell_type": "raw",
   "metadata": {},
   "source": [
    "В 6 раз больше, чем для исполнителей. Первые 30 по популярности использования теги:"
   ]
  },
  {
   "cell_type": "code",
   "execution_count": 13,
   "metadata": {
    "collapsed": true
   },
   "outputs": [],
   "source": [
    "sort_tags = sorted(total_count.items(), key=operator.itemgetter(1), reverse=True)"
   ]
  },
  {
   "cell_type": "code",
   "execution_count": 14,
   "metadata": {
    "collapsed": false
   },
   "outputs": [
    {
     "data": {
      "text/plain": [
       "[('rock', 2764093),\n",
       " ('pop', 1810571),\n",
       " ('alternative', 1198834),\n",
       " ('indie', 1131666),\n",
       " ('female vocalists', 1103041),\n",
       " ('electronic', 957490),\n",
       " ('french', 811507),\n",
       " ('jazz', 733426),\n",
       " ('alternative rock', 716266),\n",
       " ('classic rock', 704371),\n",
       " ('soul', 675109),\n",
       " ('singer-songwriter', 631090),\n",
       " ('Hip-Hop', 613008),\n",
       " ('dance', 563899),\n",
       " ('80s', 557164),\n",
       " ('folk', 522104),\n",
       " ('indie rock', 507998),\n",
       " ('hard rock', 475565),\n",
       " ('Soundtrack', 464686),\n",
       " ('90s', 421364),\n",
       " ('metal', 420922),\n",
       " ('rnb', 419051),\n",
       " ('british', 418457),\n",
       " ('instrumental', 398475),\n",
       " ('chillout', 395731),\n",
       " ('rap', 393067),\n",
       " ('reggae', 377402),\n",
       " ('cover', 376715),\n",
       " ('hip hop', 368317),\n",
       " ('acoustic', 346857)]"
      ]
     },
     "execution_count": 14,
     "metadata": {},
     "output_type": "execute_result"
    }
   ],
   "source": [
    "sort_tags[:30]"
   ]
  },
  {
   "cell_type": "raw",
   "metadata": {},
   "source": [
    "По сравнению с исполнителями из топа пропал тег \"seen live\" -- видимо, применяется только к исполнителям, что логично. Остальные теги примерно те же.\n",
    "\n",
    "График использований для всего набора данных:"
   ]
  },
  {
   "cell_type": "markdown",
   "metadata": {},
   "source": [
    "<img src = \"https://raw.githubusercontent.com/cscenter/automatic-playlist-generation/master/Pics/t_full.png\">"
   ]
  },
  {
   "cell_type": "raw",
   "metadata": {},
   "source": [
    "График для первых 10 тысяч по популярности:"
   ]
  },
  {
   "cell_type": "markdown",
   "metadata": {},
   "source": [
    "<img src = \"https://raw.githubusercontent.com/cscenter/automatic-playlist-generation/master/Pics/t_10000.png\">"
   ]
  },
  {
   "cell_type": "raw",
   "metadata": {},
   "source": [
    "Для первой тысячи:"
   ]
  },
  {
   "cell_type": "markdown",
   "metadata": {},
   "source": [
    "<img src = \"https://raw.githubusercontent.com/cscenter/automatic-playlist-generation/master/Pics/t_1000.png\">"
   ]
  },
  {
   "cell_type": "raw",
   "metadata": {},
   "source": [
    "Аналогично с логарифмом:"
   ]
  },
  {
   "cell_type": "markdown",
   "metadata": {},
   "source": [
    "<img src = \"https://raw.githubusercontent.com/cscenter/automatic-playlist-generation/master/Pics/l_t_full.png\">"
   ]
  },
  {
   "cell_type": "markdown",
   "metadata": {},
   "source": [
    "<img src = \"https://raw.githubusercontent.com/cscenter/automatic-playlist-generation/master/Pics/l_t_10000.png\">"
   ]
  },
  {
   "cell_type": "markdown",
   "metadata": {},
   "source": [
    "<img src = \"https://raw.githubusercontent.com/cscenter/automatic-playlist-generation/master/Pics/l_t_1000.png\">"
   ]
  },
  {
   "cell_type": "raw",
   "metadata": {},
   "source": [
    "При этом число суммарное число использований 1000-го тега:"
   ]
  },
  {
   "cell_type": "code",
   "execution_count": 17,
   "metadata": {
    "collapsed": false
   },
   "outputs": [
    {
     "data": {
      "text/plain": [
       "('maschio', 7842)"
      ]
     },
     "execution_count": 17,
     "metadata": {},
     "output_type": "execute_result"
    }
   ],
   "source": [
    "sort_tags[999]"
   ]
  },
  {
   "cell_type": "code",
   "execution_count": null,
   "metadata": {
    "collapsed": true
   },
   "outputs": [],
   "source": []
  },
  {
   "cell_type": "raw",
   "metadata": {},
   "source": [
    "Заход с другой стороны. 95% от общего числа использований:"
   ]
  },
  {
   "cell_type": "code",
   "execution_count": 18,
   "metadata": {
    "collapsed": false
   },
   "outputs": [
    {
     "data": {
      "text/plain": [
       "83158395.35"
      ]
     },
     "execution_count": 18,
     "metadata": {},
     "output_type": "execute_result"
    }
   ],
   "source": [
    "0.95*total_sum"
   ]
  },
  {
   "cell_type": "raw",
   "metadata": {},
   "source": [
    "Сколько тегов попадают с таким подсчётом в 95%:"
   ]
  },
  {
   "cell_type": "code",
   "execution_count": 19,
   "metadata": {
    "collapsed": false
   },
   "outputs": [
    {
     "data": {
      "text/plain": [
       "70193"
      ]
     },
     "execution_count": 19,
     "metadata": {},
     "output_type": "execute_result"
    }
   ],
   "source": [
    "s = 83158395\n",
    "\n",
    "\n",
    "ind = 0\n",
    "tmp_s = 0\n",
    "\n",
    "while(tmp_s < s):\n",
    "    \n",
    "    tmp_s += sort_tags[ind][1]\n",
    "    ind += 1\n",
    "\n",
    "ind"
   ]
  },
  {
   "cell_type": "raw",
   "metadata": {},
   "source": [
    "Очень много.\n",
    "\n",
    "Подсчёт всех использований с предварительным приведением всех тегов к нижнему регистру:"
   ]
  },
  {
   "cell_type": "code",
   "execution_count": 20,
   "metadata": {
    "collapsed": true
   },
   "outputs": [],
   "source": [
    "total_count_0 = {}\n",
    "\n",
    "\n",
    "for key in data:                   \n",
    "    tmp_dict = data[key]\n",
    "    for tag in tmp_dict:\n",
    "        tag_norm = tag.lower()\n",
    "        if tag_norm in total_count_0:\n",
    "            total_count_0[tag_norm] += int(tmp_dict[tag])\n",
    "\n",
    "        else:\n",
    "            total_count_0[tag_norm] = int(tmp_dict[tag])\n"
   ]
  },
  {
   "cell_type": "code",
   "execution_count": 21,
   "metadata": {
    "collapsed": true
   },
   "outputs": [],
   "source": [
    "sort_tags_0 = sorted(total_count_0.items(), key=operator.itemgetter(1), reverse=True)"
   ]
  },
  {
   "cell_type": "raw",
   "metadata": {},
   "source": [
    "Всего тегов на 49 меньше, чем с учётом регистра -- при таком большом общем количестве можно пренебречь:"
   ]
  },
  {
   "cell_type": "code",
   "execution_count": 22,
   "metadata": {
    "collapsed": false
   },
   "outputs": [
    {
     "data": {
      "text/plain": [
       "358667"
      ]
     },
     "execution_count": 22,
     "metadata": {},
     "output_type": "execute_result"
    }
   ],
   "source": [
    "len(sort_tags_0)"
   ]
  },
  {
   "cell_type": "raw",
   "metadata": {},
   "source": [
    "Если считать суммарное использование только тех тегов, которые отметили хотя бы 10 человек для одной композиции:"
   ]
  },
  {
   "cell_type": "code",
   "execution_count": 23,
   "metadata": {
    "collapsed": true
   },
   "outputs": [],
   "source": [
    "total_count_1 = {}\n",
    "\n",
    "total_sum_1 = 0\n",
    "\n",
    "for key in data:                   \n",
    "    tmp_dict = data[key]\n",
    "    for tag in tmp_dict:\n",
    "        \n",
    "        tag_cnt = int(tmp_dict[tag])\n",
    "        \n",
    "        if (tag_cnt > 9):\n",
    "        \n",
    "            if tag in total_count_1:\n",
    "                total_count_1[tag] +=  tag_cnt\n",
    "            else:\n",
    "                total_count_1[tag] = tag_cnt\n",
    "            \n",
    "            total_sum_1 += int(tmp_dict[tag])\n"
   ]
  },
  {
   "cell_type": "code",
   "execution_count": 24,
   "metadata": {
    "collapsed": false
   },
   "outputs": [
    {
     "data": {
      "text/plain": [
       "74826595"
      ]
     },
     "execution_count": 24,
     "metadata": {},
     "output_type": "execute_result"
    }
   ],
   "source": [
    "total_sum_1"
   ]
  },
  {
   "cell_type": "raw",
   "metadata": {},
   "source": [
    "Суммарное число использование стало меньше на 14.5% -- 74826595 против 87535153 (для тегов исполнителей было 16.5%). Всего тегов:"
   ]
  },
  {
   "cell_type": "code",
   "execution_count": 25,
   "metadata": {
    "collapsed": false
   },
   "outputs": [
    {
     "data": {
      "text/plain": [
       "189141"
      ]
     },
     "execution_count": 25,
     "metadata": {},
     "output_type": "execute_result"
    }
   ],
   "source": [
    "len(total_count_1)"
   ]
  },
  {
   "cell_type": "raw",
   "metadata": {},
   "source": [
    "А здесь разница почти в 2 раза с 358716 тегами, которые были при подсчёте всех тегов (для тегов исполнителей разница была в 3 раза). Топ-30:"
   ]
  },
  {
   "cell_type": "code",
   "execution_count": 26,
   "metadata": {
    "collapsed": true
   },
   "outputs": [],
   "source": [
    "sort_tags_1 = sorted(total_count_1.items(), key=operator.itemgetter(1), reverse=True)"
   ]
  },
  {
   "cell_type": "code",
   "execution_count": 27,
   "metadata": {
    "collapsed": false
   },
   "outputs": [
    {
     "data": {
      "text/plain": [
       "[('rock', 2721143),\n",
       " ('pop', 1753928),\n",
       " ('alternative', 1157369),\n",
       " ('indie', 1103984),\n",
       " ('female vocalists', 1090541),\n",
       " ('electronic', 937839),\n",
       " ('french', 808778),\n",
       " ('jazz', 718719),\n",
       " ('alternative rock', 685847),\n",
       " ('classic rock', 680524),\n",
       " ('soul', 658161),\n",
       " ('singer-songwriter', 604908),\n",
       " ('Hip-Hop', 604584),\n",
       " ('80s', 537205),\n",
       " ('dance', 534200),\n",
       " ('folk', 506096),\n",
       " ('indie rock', 487523),\n",
       " ('hard rock', 450535),\n",
       " ('Soundtrack', 448325),\n",
       " ('rnb', 407922),\n",
       " ('metal', 404994),\n",
       " ('90s', 396002),\n",
       " ('british', 395164),\n",
       " ('rap', 387217),\n",
       " ('instrumental', 385774),\n",
       " ('reggae', 374035),\n",
       " ('cover', 368812),\n",
       " ('hip hop', 361556),\n",
       " ('chillout', 357475),\n",
       " ('blues', 327394)]"
      ]
     },
     "execution_count": 27,
     "metadata": {},
     "output_type": "execute_result"
    }
   ],
   "source": [
    "sort_tags_1[:30]"
   ]
  },
  {
   "cell_type": "raw",
   "metadata": {},
   "source": [
    "Теги примерно те же, их стало несколько меньше."
   ]
  },
  {
   "cell_type": "code",
   "execution_count": null,
   "metadata": {
    "collapsed": true
   },
   "outputs": [],
   "source": []
  },
  {
   "cell_type": "markdown",
   "metadata": {},
   "source": [
    "###Без подсчёта числа использований у исполнителя (только число исполнителей):"
   ]
  },
  {
   "cell_type": "code",
   "execution_count": 28,
   "metadata": {
    "collapsed": false
   },
   "outputs": [],
   "source": [
    "total_count_2 = {}\n",
    "\n",
    "\n",
    "for key in data:                   \n",
    "    tmp_dict = data[key]\n",
    "    for tag in tmp_dict:\n",
    "        if tag in total_count_2:\n",
    "            total_count_2[tag] += 1\n",
    "\n",
    "        else:\n",
    "            total_count_2[tag] = 1\n"
   ]
  },
  {
   "cell_type": "raw",
   "metadata": {},
   "source": [
    "Первые 50 по популярности с подсчётом таким образом:"
   ]
  },
  {
   "cell_type": "code",
   "execution_count": 29,
   "metadata": {
    "collapsed": true
   },
   "outputs": [],
   "source": [
    "sort_tags_2 = sorted(total_count_2.items(), key=operator.itemgetter(1), reverse=True)"
   ]
  },
  {
   "cell_type": "code",
   "execution_count": 30,
   "metadata": {
    "collapsed": false
   },
   "outputs": [
    {
     "data": {
      "text/plain": [
       "[('rock', 55098),\n",
       " ('pop', 44455),\n",
       " ('alternative', 35186),\n",
       " ('favorites', 27485),\n",
       " ('indie', 25225),\n",
       " ('Love', 24484),\n",
       " ('female vocalists', 23431),\n",
       " ('alternative rock', 22270),\n",
       " ('male vocalists', 21429),\n",
       " ('00s', 21073),\n",
       " ('beautiful', 20947),\n",
       " ('electronic', 20470),\n",
       " ('american', 19472),\n",
       " ('Awesome', 19296),\n",
       " ('singer-songwriter', 19027),\n",
       " ('seen live', 18940),\n",
       " ('dance', 18108),\n",
       " ('classic rock', 17998),\n",
       " ('chillout', 17536),\n",
       " ('Mellow', 16974),\n",
       " ('chill', 16638),\n",
       " ('90s', 16509),\n",
       " ('british', 15470),\n",
       " ('80s', 14798),\n",
       " ('soul', 14680),\n",
       " ('indie rock', 14678),\n",
       " ('hard rock', 14269),\n",
       " ('cool', 13879),\n",
       " ('jazz', 13868),\n",
       " ('Favorite', 13858)]"
      ]
     },
     "execution_count": 30,
     "metadata": {},
     "output_type": "execute_result"
    }
   ],
   "source": [
    "sort_tags_2[:30]"
   ]
  },
  {
   "cell_type": "raw",
   "metadata": {},
   "source": [
    "Примерно те же теги, только favorites в разных написаниях и Awesomе пробрались в топ.\n",
    "\n",
    "\n",
    "Графики для всего набора данных, для первых 10 тысяч и тысячи тегов:"
   ]
  },
  {
   "cell_type": "markdown",
   "metadata": {},
   "source": [
    "<img src = \"https://raw.githubusercontent.com/cscenter/automatic-playlist-generation/master/Pics/t2_f.png\">\n"
   ]
  },
  {
   "cell_type": "markdown",
   "metadata": {},
   "source": [
    "<img src = \"https://raw.githubusercontent.com/cscenter/automatic-playlist-generation/master/Pics/t2_10000.png\">"
   ]
  },
  {
   "cell_type": "markdown",
   "metadata": {},
   "source": [
    "<img src = \"https://raw.githubusercontent.com/cscenter/automatic-playlist-generation/master/Pics/t2_1000.png\">"
   ]
  },
  {
   "cell_type": "raw",
   "metadata": {},
   "source": [
    "Логарифм графиков:"
   ]
  },
  {
   "cell_type": "markdown",
   "metadata": {},
   "source": [
    "<img src = \"https://raw.githubusercontent.com/cscenter/automatic-playlist-generation/master/Pics/l_t2_f.png\">"
   ]
  },
  {
   "cell_type": "code",
   "execution_count": null,
   "metadata": {
    "collapsed": true
   },
   "outputs": [],
   "source": [
    "Логарифм графика сам выглядит как экспоненциальное распределение."
   ]
  },
  {
   "cell_type": "markdown",
   "metadata": {},
   "source": [
    "<img src = \"https://raw.githubusercontent.com/cscenter/automatic-playlist-generation/master/Pics/l_t2_10000.png\">"
   ]
  },
  {
   "cell_type": "markdown",
   "metadata": {},
   "source": [
    "<img src = \"https://raw.githubusercontent.com/cscenter/automatic-playlist-generation/master/Pics/l_t2_1000.png\">"
   ]
  },
  {
   "cell_type": "raw",
   "metadata": {},
   "source": [
    "Количество использований для 1000-го тега:"
   ]
  },
  {
   "cell_type": "code",
   "execution_count": 31,
   "metadata": {
    "collapsed": false
   },
   "outputs": [
    {
     "data": {
      "text/plain": [
       "('1989', 534)"
      ]
     },
     "execution_count": 31,
     "metadata": {},
     "output_type": "execute_result"
    }
   ],
   "source": [
    "sort_tags_2[999]"
   ]
  },
  {
   "cell_type": "raw",
   "metadata": {},
   "source": [
    "Тег использовали 534 пользователей, всего пользователей 55098, т.е. около 1%:"
   ]
  },
  {
   "cell_type": "code",
   "execution_count": 32,
   "metadata": {
    "collapsed": false
   },
   "outputs": [
    {
     "data": {
      "text/plain": [
       "('rock', 55098)"
      ]
     },
     "execution_count": 32,
     "metadata": {},
     "output_type": "execute_result"
    }
   ],
   "source": [
    "sort_tags_2[0]"
   ]
  },
  {
   "cell_type": "code",
   "execution_count": null,
   "metadata": {
    "collapsed": true
   },
   "outputs": [],
   "source": [
    "Количество тегов, которые встретились только у небольшого числа исполнителей (от 1 до 10):"
   ]
  },
  {
   "cell_type": "code",
   "execution_count": 35,
   "metadata": {
    "collapsed": false
   },
   "outputs": [
    {
     "name": "stdout",
     "output_type": "stream",
     "text": [
      "less than 10 artists, number of tags: 317948\n",
      "less than 9 artists, number of tags: 314367\n",
      "less than 8 artists, number of tags: 310116\n",
      "less than 7 artists, number of tags: 304686\n",
      "less than 6 artists, number of tags: 297861\n",
      "less than 5 artists, number of tags: 288764\n",
      "less than 4 artists, number of tags: 275799\n",
      "less than 3 artists, number of tags: 255409\n",
      "less than 2 artists, number of tags: 214671\n"
     ]
    }
   ],
   "source": [
    "l_s = len(sort_tags_2)\n",
    "\n",
    "k = 10\n",
    "\n",
    "for i in range(l_s):\n",
    "    if (sort_tags_2[i][1] < k):\n",
    "        print(\"less than\", k, \"artists, number of tags:\", l_s - i)\n",
    "        k -= 1\n",
    "\n"
   ]
  },
  {
   "cell_type": "raw",
   "metadata": {},
   "source": [
    "При это всего тегов 358716, т.е. больше половины тегов встречаются очень редко. Количество тегов, отмеченных хотя бы у 10, очень небольшое. Специфика тегов для композиций, а не исполнителей."
   ]
  },
  {
   "cell_type": "raw",
   "metadata": {},
   "source": [
    "Количество тегов, которые встречаются у хотя бы 5% композиций (7932):"
   ]
  },
  {
   "cell_type": "code",
   "execution_count": 36,
   "metadata": {
    "collapsed": false
   },
   "outputs": [
    {
     "name": "stdout",
     "output_type": "stream",
     "text": [
      "73\n"
     ]
    }
   ],
   "source": [
    "i = 0\n",
    "while (sort_tags_2[i][1] > 7932):\n",
    "    i += 1\n",
    "\n",
    "print(i)"
   ]
  },
  {
   "cell_type": "raw",
   "metadata": {},
   "source": [
    "Только 73 тега встречаются у хотя бы 5% исполнителей, остальные -- реже. Это очень мало. Для исполнителей аналогично было 64 тега, но и самих тегов в 3 раза меньше.\n",
    "\n",
    "Эти теги:"
   ]
  },
  {
   "cell_type": "code",
   "execution_count": 38,
   "metadata": {
    "collapsed": false
   },
   "outputs": [
    {
     "name": "stdout",
     "output_type": "stream",
     "text": [
      "[('rock', 55098), ('pop', 44455), ('alternative', 35186), ('favorites', 27485), ('indie', 25225), ('Love', 24484), ('female vocalists', 23431), ('alternative rock', 22270), ('male vocalists', 21429), ('00s', 21073), ('beautiful', 20947), ('electronic', 20470), ('american', 19472), ('Awesome', 19296), ('singer-songwriter', 19027), ('seen live', 18940), ('dance', 18108), ('classic rock', 17998), ('chillout', 17536), ('Mellow', 16974), ('chill', 16638), ('90s', 16509), ('british', 15470), ('80s', 14798), ('soul', 14680), ('indie rock', 14678), ('hard rock', 14269), ('cool', 13879), ('jazz', 13868), ('Favorite', 13858), ('Favourites', 13014), ('metal', 12780), ('folk', 12596), ('male vocalist', 11977), ('guitar', 11794), ('acoustic', 11731), ('female vocalist', 11614), ('easy listening', 11440), ('sexy', 11281), ('electronica', 11173), ('Soundtrack', 11111), ('pop rock', 11078), ('Hip-Hop', 10866), ('french', 10855), ('instrumental', 10668), ('favourite', 10647), ('party', 10480), ('oldies', 10381), ('catchy', 10365), ('sad', 10174), ('favorite songs', 10161), ('70s', 9885), ('blues', 9559), ('classic', 9418), ('punk', 9401), ('6 of 10 stars', 9315), ('loved', 9270), ('rnb', 9223), ('amazing', 9069), ('melancholy', 8999), ('fun', 8929), ('happy', 8710), ('funk', 8541), ('piano', 8449), ('ambient', 8410), ('epic', 8272), ('love at first listen', 8251), ('Ballad', 8166), ('8 of 10 stars', 8149), ('experimental', 8070), ('relax', 7990), ('indie pop', 7987), ('fip', 7965)]\n"
     ]
    }
   ],
   "source": [
    "print(sort_tags_2[:73])"
   ]
  },
  {
   "cell_type": "raw",
   "metadata": {},
   "source": [
    "Аналогично с 1% исполнителей:"
   ]
  },
  {
   "cell_type": "code",
   "execution_count": 39,
   "metadata": {
    "collapsed": false
   },
   "outputs": [
    {
     "name": "stdout",
     "output_type": "stream",
     "text": [
      "351\n"
     ]
    }
   ],
   "source": [
    "i = 0\n",
    "while (sort_tags_2[i][1] > 1586):\n",
    "    i += 1\n",
    "\n",
    "print(i)"
   ]
  },
  {
   "cell_type": "raw",
   "metadata": {},
   "source": [
    "Всего 351 тег, для исполнителей это было 312 -- опять же разница небольшая. Возможно, проблема в том, что больше ошибок при написании тегов, в итоге всё \"размазано\"."
   ]
  },
  {
   "cell_type": "markdown",
   "metadata": {},
   "source": [
    "### Попарная встречаемость "
   ]
  },
  {
   "cell_type": "raw",
   "metadata": {},
   "source": [
    "Без подсчёта количества использований, только по числу исполнителей. Новый массив, каждый элемент которого -- список тегов для исполнителя."
   ]
  },
  {
   "cell_type": "code",
   "execution_count": 40,
   "metadata": {
    "collapsed": true
   },
   "outputs": [],
   "source": [
    "from collections import Counter\n",
    "\n",
    "big_tag = []\n",
    "\n",
    "for key in data:\n",
    "    tmp_dict = data[key]\n",
    "    tmp_list = [tag for tag in tmp_dict.keys()]\n",
    "    if (len(tmp_list) > 0):\n",
    "        big_tag.append(tmp_list)\n",
    "\n",
    "\n",
    "def cooc(tag):\n",
    "    tags = []\n",
    "    l = len(big_tag)\n",
    "\n",
    "    for i in range(l):\n",
    "        if tag in big_tag[i]:\n",
    "            tags.extend(big_tag[i])\n",
    "    print(Counter(tags).most_common(30))\n",
    "\n",
    "    return\n",
    "    \n",
    "    "
   ]
  },
  {
   "cell_type": "raw",
   "metadata": {},
   "source": [
    "Первая 1000 тегов без подсчёта количества использований:"
   ]
  },
  {
   "cell_type": "code",
   "execution_count": 41,
   "metadata": {
    "collapsed": false
   },
   "outputs": [],
   "source": [
    "tags_1000 = [tag[0] for tag in sort_tags_2[:1000]]"
   ]
  },
  {
   "cell_type": "raw",
   "metadata": {},
   "source": [
    "Соответствующее им количество:"
   ]
  },
  {
   "cell_type": "code",
   "execution_count": 42,
   "metadata": {
    "collapsed": true
   },
   "outputs": [],
   "source": [
    "cnt_1000 = [tag[1] for tag in sort_tags_2[:1000]]"
   ]
  },
  {
   "cell_type": "raw",
   "metadata": {},
   "source": [
    "Здравый смысл в применении к 73 тегам, которые встречаются хотя бы у 5% исполнителей:"
   ]
  },
  {
   "cell_type": "code",
   "execution_count": 43,
   "metadata": {
    "collapsed": false
   },
   "outputs": [
    {
     "name": "stdout",
     "output_type": "stream",
     "text": [
      "['rock', 'pop', 'alternative', 'favorites', 'indie', 'Love', 'female vocalists', 'alternative rock', 'male vocalists', '00s', 'beautiful', 'electronic', 'american', 'Awesome', 'singer-songwriter', 'seen live', 'dance', 'classic rock', 'chillout', 'Mellow', 'chill', '90s', 'british', '80s', 'soul', 'indie rock', 'hard rock', 'cool', 'jazz', 'Favorite', 'Favourites', 'metal', 'folk', 'male vocalist', 'guitar', 'acoustic', 'female vocalist', 'easy listening', 'sexy', 'electronica', 'Soundtrack', 'pop rock', 'Hip-Hop', 'french', 'instrumental', 'favourite', 'party', 'oldies', 'catchy', 'sad', 'favorite songs', '70s', 'blues', 'classic', 'punk', '6 of 10 stars', 'loved', 'rnb', 'amazing', 'melancholy', 'fun', 'happy', 'funk', 'piano', 'ambient', 'epic', 'love at first listen', 'Ballad', '8 of 10 stars', 'experimental', 'relax', 'indie pop', 'fip']\n"
     ]
    }
   ],
   "source": [
    "print(tags_1000[:73])"
   ]
  },
  {
   "cell_type": "raw",
   "metadata": {},
   "source": [
    "Из этих тегов неинформативными на первый взгляд выглядят следующие:\n",
    "'Awesome','Favorite/Favotites/favorite', 'singer-songwriter', '8 of 10 stars'\n",
    "информативность других тегов следует смотреть подробнее.\n",
    "\n",
    "Остальные выводы как для тегов исполнителей."
   ]
  },
  {
   "cell_type": "raw",
   "metadata": {},
   "source": [
    "Если захватить побольше тегов, 300:"
   ]
  },
  {
   "cell_type": "code",
   "execution_count": 44,
   "metadata": {
    "collapsed": false
   },
   "outputs": [
    {
     "name": "stdout",
     "output_type": "stream",
     "text": [
      "['rock', 'pop', 'alternative', 'favorites', 'indie', 'Love', 'female vocalists', 'alternative rock', 'male vocalists', '00s', 'beautiful', 'electronic', 'american', 'Awesome', 'singer-songwriter', 'seen live', 'dance', 'classic rock', 'chillout', 'Mellow', 'chill', '90s', 'british', '80s', 'soul', 'indie rock', 'hard rock', 'cool', 'jazz', 'Favorite', 'Favourites', 'metal', 'folk', 'male vocalist', 'guitar', 'acoustic', 'female vocalist', 'easy listening', 'sexy', 'electronica', 'Soundtrack', 'pop rock', 'Hip-Hop', 'french', 'instrumental', 'favourite', 'party', 'oldies', 'catchy', 'sad', 'favorite songs', '70s', 'blues', 'classic', 'punk', '6 of 10 stars', 'loved', 'rnb', 'amazing', 'melancholy', 'fun', 'happy', 'funk', 'piano', 'ambient', 'epic', 'love at first listen', 'Ballad', '8 of 10 stars', 'experimental', 'relax', 'indie pop', 'fip', 'heavy metal', 'hip hop', 'female', 'cover', 'soft rock', 'rap', 'melancholic', '2000s', 'romantic', 'Progressive rock', 'relaxing', 'heard on Pandora', 'electro', 'good', 'summer', 'upbeat', 'downtempo', 'lounge', 'Love it', 'punk rock', 'USA', 'Favourite Songs', 'best', 'love songs', '60s', 'smooth', 'great', 'UK', 'funky', 'nice', 'britpop', 'psychedelic', 'slow', 'live', 'emo', '10 of 10 stars', 'new wave', '7 of 10 stars', 'world', 'english', 'memories', 'female vocals', 'reggae', 'atmospheric', 'sweet', 'FUCKING AWESOME', 'House', 'soft', 'vocal', 'Dreamy', 'fav', 'lovely', 'country', 'trip-hop', 'dark', 'rock n roll', 'Energetic', 'blues rock', 'folk rock', 'r&b', 'covers', 'great lyrics', 'chanson francaise', 'techno', 'Disco', 'Driving', 'calm', 'groovy', 'emotional', 'latin', 'post-punk', 'nostalgia', 'feel good', 'great song', 'synthpop', 'Like', 'melodic', '4 of 10 stars', 'perfect', 'Progressive', 'hardcore', 'Good Stuff', 'Grunge', '<3', 'all the best', 'vugube62', 'francais', 'love song', 'alternative metal', 'eclectonia', 'rhythm and blues', 'brilliant', 'Alternative  Punk', '9 of 10 stars', 'Uplifting', '10s', 'electropop', 'male vocals', 'german', 'jazzy', 'Pop-Rock', 'Psychedelic Rock', 'female vocal', 'urban', 'chanson', 'industrial', 'Canadian', 'Rock and Roll', 'Masterpiece', 'adult contemporary', '5 of 10 stars', 'groove', 'trance', 'Gothic', 'the best', 'Classical', 'sex', 'cute', 'singer songwriter', 'Nu Metal', 'other', 'alt rock', 'genius', 'haunting', 'france', 'RB', 'personal favourites', 'Smooth Jazz', 'chill out', 'Retro', 'ethereal', 'club', 'easy', '2008', 'spanish', 'World Music', 'somafm', '2007', 'art rock', 'nostalgic', 'Favorite Artists', 'old school', 'guilty pleasure', 'top 40', 'pop punk', 'poprock', 'pretty', 'americana', '1990s', 'My Favorites', 'bass', 'male', \"80's\", 'heavy', 'sensual', 'album rock', 'death metal', 'freedom', 'Guilty Pleasures', 'synth pop', 'powerful', 'funny', 'glam rock', 'Bittersweet', 'hiphop', 'trip hop', 'thrash metal', 'Faves', 'Garage Rock', 'new', 'Fusion', 'Progressive metal', 'hot', 'political', 'folk-rock', 'California', 'interesting', 'ballads', 'swing', '3', 'night', 'new age', 'feelgood', 'ska', 'r and b', 'Lo-Fi', 'acid jazz', 'intense', 'dub', 'moody', 'vocal jazz', 'energy', 'england', 'new york', 'songs I absolutely love', '2005', '2006', 'Power metal', 'favs', 'Gothic Metal', 'swedish', 'lyrics', 'Soundtracks', '4', 'quirky', 'angry', 'remix', 'synth', 'post-rock', '2009', '4 Stars', 'RockPop', 'indie folk', '1980s', '1', 'best songs ever', 'metalcore', 'my favorite', 'soulful', 'guitar virtuoso', 'indietronica', 'amayzes loved', 'test', 'best song ever', 'drums', 'nu jazz', 'radio paradise']\n"
     ]
    }
   ],
   "source": [
    "print(tags_1000[:300])"
   ]
  },
  {
   "cell_type": "raw",
   "metadata": {},
   "source": [
    "Аналогично -- варианты awesome/favorite, достаточно много (по сравнению с тегами исполнителя) настроений и других эпитетов."
   ]
  },
  {
   "cell_type": "raw",
   "metadata": {},
   "source": []
  },
  {
   "cell_type": "code",
   "execution_count": null,
   "metadata": {
    "collapsed": true
   },
   "outputs": [],
   "source": [
    "Как часто самые популярные теги встречаются с другими популярными (сам тег идёт первым в выводе):"
   ]
  },
  {
   "cell_type": "code",
   "execution_count": 45,
   "metadata": {
    "collapsed": false
   },
   "outputs": [
    {
     "name": "stdout",
     "output_type": "stream",
     "text": [
      "[('rock', 55098), ('alternative', 28266), ('pop', 25940), ('alternative rock', 20673), ('favorites', 20527), ('indie', 18846), ('classic rock', 16209), ('Love', 15955), ('seen live', 15133), ('male vocalists', 15052), ('Awesome', 15023), ('00s', 14166), ('american', 13641), ('beautiful', 13496), ('hard rock', 13342), ('indie rock', 12866), ('singer-songwriter', 12530), ('british', 11343), ('90s', 11273), ('Mellow', 10830), ('80s', 10731), ('Favourites', 10487), ('Favorite', 10144), ('pop rock', 9846), ('female vocalists', 9691), ('chill', 9595), ('guitar', 9581), ('metal', 9445), ('cool', 9112), ('male vocalist', 9105)]\n"
     ]
    }
   ],
   "source": [
    "cooc(tags_1000[0])"
   ]
  },
  {
   "cell_type": "raw",
   "metadata": {},
   "source": [
    "Похоже, здесь rock тоже неинформативен, объединяя в себе много поджанров."
   ]
  },
  {
   "cell_type": "code",
   "execution_count": 46,
   "metadata": {
    "collapsed": false
   },
   "outputs": [
    {
     "name": "stdout",
     "output_type": "stream",
     "text": [
      "[('pop', 44455), ('rock', 25940), ('alternative', 17858), ('favorites', 16168), ('Love', 15998), ('female vocalists', 14381), ('indie', 13670), ('male vocalists', 13667), ('beautiful', 12355), ('00s', 12171), ('singer-songwriter', 12077), ('dance', 11778), ('alternative rock', 11009), ('american', 10827), ('Mellow', 10588), ('Awesome', 10298), ('chill', 9627), ('chillout', 9430), ('british', 9403), ('electronic', 9332), ('pop rock', 9320), ('seen live', 9268), ('80s', 9124), ('90s', 8958), ('classic rock', 8893), ('Favorite', 8478), ('female vocalist', 8292), ('soul', 8274), ('cool', 8176), ('Favourites', 8162)]\n"
     ]
    }
   ],
   "source": [
    "cooc(tags_1000[1])"
   ]
  },
  {
   "cell_type": "raw",
   "metadata": {},
   "source": [
    "Тег \"pop\" тоже выглядит малоинформативно."
   ]
  },
  {
   "cell_type": "code",
   "execution_count": 47,
   "metadata": {
    "collapsed": false
   },
   "outputs": [
    {
     "name": "stdout",
     "output_type": "stream",
     "text": [
      "[('alternative', 35186), ('rock', 28266), ('indie', 19189), ('alternative rock', 19102), ('pop', 17858), ('favorites', 16065), ('Love', 12907), ('seen live', 12719), ('00s', 12617), ('indie rock', 12452), ('Awesome', 12256), ('beautiful', 11537), ('male vocalists', 9929), ('american', 9803), ('Mellow', 9463), ('singer-songwriter', 9123), ('chill', 9008), ('electronic', 8980), ('chillout', 8875), ('Favourites', 8767), ('Favorite', 8696), ('british', 8674), ('90s', 8564), ('female vocalists', 7961), ('cool', 7699), ('hard rock', 7355), ('favorite songs', 6989), ('acoustic', 6847), ('pop rock', 6661), ('punk', 6638)]\n"
     ]
    }
   ],
   "source": [
    "cooc(tags_1000[2])"
   ]
  },
  {
   "cell_type": "raw",
   "metadata": {},
   "source": [
    "Тоже как для исполнителей."
   ]
  },
  {
   "cell_type": "code",
   "execution_count": 48,
   "metadata": {
    "collapsed": false
   },
   "outputs": [
    {
     "name": "stdout",
     "output_type": "stream",
     "text": [
      "[('favorites', 27485), ('rock', 20527), ('pop', 16168), ('alternative', 16065), ('Love', 13137), ('Awesome', 11786), ('alternative rock', 11455), ('indie', 10994), ('beautiful', 10785), ('seen live', 10467), ('00s', 10067), ('male vocalists', 9956), ('american', 9785), ('Mellow', 8764), ('Favorite', 8697), ('Favourites', 8516), ('chill', 8276), ('singer-songwriter', 7719), ('chillout', 7696), ('90s', 7455), ('classic rock', 7428), ('cool', 7410), ('indie rock', 7335), ('favorite songs', 7198), ('female vocalists', 7191), ('dance', 6812), ('electronic', 6558), ('hard rock', 6554), ('favourite', 6437), ('british', 6402)]\n"
     ]
    }
   ],
   "source": [
    "cooc(tags_1000[3])"
   ]
  },
  {
   "cell_type": "raw",
   "metadata": {},
   "source": [
    "Пока не знаю, стоит ли оставлять этот тег, может ли он указывать на популярность композиции."
   ]
  },
  {
   "cell_type": "code",
   "execution_count": 49,
   "metadata": {
    "collapsed": false
   },
   "outputs": [
    {
     "name": "stdout",
     "output_type": "stream",
     "text": [
      "[('Love', 24484), ('pop', 15998), ('rock', 15955), ('favorites', 13137), ('alternative', 12907), ('beautiful', 11077), ('indie', 9880), ('Awesome', 9169), ('Mellow', 9130), ('00s', 9105), ('male vocalists', 8942), ('alternative rock', 8665), ('chill', 8111), ('female vocalists', 7974), ('american', 7958), ('chillout', 7854), ('singer-songwriter', 7825), ('seen live', 7796), ('Favorite', 7539), ('Favourites', 6780), ('indie rock', 6435), ('cool', 6341), ('dance', 6281), ('sad', 5991), ('easy listening', 5974), ('sexy', 5928), ('pop rock', 5686), ('british', 5671), ('favorite songs', 5651), ('90s', 5644)]\n"
     ]
    }
   ],
   "source": [
    "cooc(tags_1000[5])"
   ]
  },
  {
   "cell_type": "raw",
   "metadata": {},
   "source": [
    "Как быть с такими эпитетами, тоже не очень понятно."
   ]
  },
  {
   "cell_type": "raw",
   "metadata": {},
   "source": [
    "Категории подробнее в другом отчёте."
   ]
  }
 ],
 "metadata": {
  "kernelspec": {
   "display_name": "Python 3",
   "language": "python",
   "name": "python3"
  },
  "language_info": {
   "codemirror_mode": {
    "name": "ipython",
    "version": 3
   },
   "file_extension": ".py",
   "mimetype": "text/x-python",
   "name": "python",
   "nbconvert_exporter": "python",
   "pygments_lexer": "ipython3",
   "version": "3.4.3"
  }
 },
 "nbformat": 4,
 "nbformat_minor": 0
}
