{
 "cells": [
  {
   "cell_type": "markdown",
   "metadata": {},
   "source": [
    "## Анализ плейлиста с помощью тегов last.fm"
   ]
  },
  {
   "cell_type": "markdown",
   "metadata": {},
   "source": [
    "Плейлист Alternative Rock / Alternative Metal / Gothic Metal https://new.vk.com/wall-29231851_654837 HIM, Placebo, Crazy Town и 30 Seconds to Mars несколько выбиваются от остальных, которые более тяжёлые и можно добавить Limp Bizkit. Похожи Limp Bizkit - Take a Look Around и P.O.D. - Youth of the Nation. При этом Placebo из набора больше всего похож на 30 Seconds to Mars, HIM слишком попсовый для подборки, Crazy Town слишком хип-хоп (пока имхо, дальше на тегах будет видно). Список песен с добавкой:"
   ]
  },
  {
   "cell_type": "code",
   "execution_count": 28,
   "metadata": {
    "collapsed": false
   },
   "outputs": [],
   "source": [
    "tracks = [[\"Papa Roach\", \"Between Angels and Insects\"], [\"Linkin Park\", \"Crawling\"], \n",
    "           [\"Glamorous Bones\", \"Call Me Manana\" ], [\"HIM\", \"Pretending\"], [\"Placebo\", \"Begin The End\"],\n",
    "           [\"Crazy Town\", \"Butter Fly\"], [\"Lacrimas Profundere\", \"Lullaby For A Weeping Girl\"], \n",
    "           [\"P.O.D.\", \"Youth of The Nation\"], [\"30 Seconds To Mars\", \"This Is War\"], [\"Limp Bizkit\", \"Take a look around\"]]"
   ]
  },
  {
   "cell_type": "code",
   "execution_count": 8,
   "metadata": {
    "collapsed": true
   },
   "outputs": [],
   "source": [
    "import pylast\n",
    "import time\n",
    "\n",
    "\n",
    "username = LAST_FM_USER\n",
    "password_hash = pylast.md5(LAST_FM_PASSWORD)\n",
    "network = pylast.LastFMNetwork(api_key=LAST_FM_API_KEY, api_secret=LAST_FM_API_SECRET, username=username, password_hash=password_hash)"
   ]
  },
  {
   "cell_type": "raw",
   "metadata": {},
   "source": [
    "Теги по исполнителям:"
   ]
  },
  {
   "cell_type": "code",
   "execution_count": 13,
   "metadata": {
    "collapsed": false
   },
   "outputs": [
    {
     "name": "stdout",
     "output_type": "stream",
     "text": [
      "Papa Roach ['rock', 'Nu Metal', 'alternative rock', 'alternative', 'metal', 'seen live', 'hard rock', 'rapcore', 'Nu-metal', 'alternative metal', 'punk', 'Papa Roach', 'american', 'punk rock', 'emo', 'hardcore', 'post-grunge', 'heavy metal', 'USA', '90s', 'male vocalists', 'crossover', 'new metal', 'indie', 'Grunge', 'California', 'rap rock', 'screamo'] \n",
      "\n",
      "Linkin Park ['rock', 'Nu Metal', 'alternative rock', 'alternative', 'metal', 'seen live', 'rapcore', 'Linkin Park', 'Nu-metal', 'alternative metal', 'american', 'hard rock', 'crossover', 'punk', 'electronic', 'pop', 'rap', 'rap rock', 'emo', 'male vocalists', 'rap metal', 'Hip-Hop', 'pop rock', 'USA', 'punk rock', 'lp', '00s', 'new metal', 'favorites', 'NOT METAL', 'indie', 'linkin', 'shit', 'Rap-Rock', 'California'] \n",
      "\n",
      "Glamorous Bones ['Gothic', 'finnish', 'Gothic Rock', 'Love Metal', 'love rock', '80s', 'romantic', 'amazing', 'Gothic Metal', 'glam', 'goth rock', 'Ville Valo', 'Gothic Glam', 'all the cold', 'delorian domain'] \n",
      "\n",
      "HIM ['Love Metal', 'Gothic Rock', 'rock', 'finnish', 'metal', 'seen live', 'Gothic', 'Gothic Metal', 'alternative', 'alternative rock', 'HIM', 'hard rock', 'emo', 'finland', 'finnish metal', 'goth', 'alternative metal', 'heavy metal', 'male vocalists', 'pop', 'Love', 'goth rock', 'Ville Valo', 'dark rock', 'finnish rock', 'punk', 'Suomi', 'indie', '90s', 'gay', 'favorites', 'glam rock', 'scandinavian', 'classic rock'] \n",
      "\n",
      "Placebo ['alternative rock', 'alternative', 'rock', 'seen live', 'indie', 'britpop', 'british', 'indie rock', 'Placebo', 'glam rock', '90s', 'electronic', 'UK', 'melancholic', 'glam', 'male vocalists', 'pop', 'Progressive rock', 'emo', 'post-punk', 'punk', 'Love', 'favorites', 'new wave', 'Britrock', '00s', 'neo-glam', 'english', 'metal', 'psychedelic', 'brit rock', 'electronica', 'Grunge'] \n",
      "\n",
      "Crazy Town ['rapcore', 'Nu Metal', 'alternative', 'rock', 'alternative rock', 'rap', 'Hip-Hop', 'Nu-metal', 'american', 'crossover', 'metal', 'rap metal', 'alternative metal', 'rap rock', 'hip hop', 'Crazy Town', 'pop', 'seen live', 'punk', 'USA', 'punk rock', 'Rap-Rock', 'hardcore', 'hard rock', '00s', '90s', 'los angeles', 'California'] \n",
      "\n",
      "Lacrimas Profundere ['Gothic Metal', 'doom metal', 'Gothic Rock', 'Gothic Doom Metal', 'metal', 'german', 'seen live', 'Gothic', 'Doom', 'melancholic', 'symphonic metal', 'rock', 'germany', 'Love Metal', 'Death Doom Metal', 'gothic-doom metal', 'dark rock', 'goth', 'gothic doom', 'Lacrimas Profundere'] \n",
      "\n",
      "P.O.D. ['Nu Metal', 'rapcore', 'rock', 'alternative', 'metal', 'alternative rock', 'christian', 'hard rock', 'christian rock', 'Nu-metal', 'alternative metal', 'seen live', 'american', 'christian metal', 'POD', 'crossover', 'reggae', 'rap metal', 'hardcore', 'punk', 'USA', 'rap', '90s', 'new metal', 'heavy metal', 'Christian Rapcore', 'Reggae Rock', 'christian nu metal', 'punk rock', 'rap rock'] \n",
      "\n",
      "30 Seconds To Mars ['alternative rock', 'rock', 'alternative', 'emo', 'indie', 'seen live', '30 seconds to mars', 'Progressive rock', 'american', 'metal', 'post-grunge', 'hard rock', 'industrial', 'space rock', 'male vocalists', 'indie rock', 'screamo', 'punk', 'alternative metal', 'not emo', 'Jared Leto', 'emocore', 'Progressive', 'USA', 'post-hardcore', '30stm', 'electronic', 'Nu Metal', 'punk rock', 'pop rock', 'Awesome', '00s', 'pop', 'favorites'] \n",
      "\n",
      "Limp Bizkit ['Nu Metal', 'rapcore', 'rock', 'alternative', 'metal', 'seen live', 'Nu-metal', 'alternative rock', 'hard rock', 'limp bizkit', 'alternative metal', 'crossover', 'american', 'comedy', 'rap metal', 'rap', 'Hip-Hop', '90s', 'hardcore', 'NOT METAL', 'rap rock', 'USA', 'mallcore', 'Officially Shit', 'rap-metal', 'shit', 'punk', '00s', 'punk rock', 'heavy metal', 'Crap', 'hip hop', 'pop', 'new metal', 'Rap-Rock', 'male vocalists'] \n",
      "\n"
     ]
    }
   ],
   "source": [
    "l = len(tracks)\n",
    "\n",
    "tags = []\n",
    "\n",
    "for i in range(l):\n",
    "    artist_data = network.get_artist(tracks[i][0])\n",
    "    tag = [t[0].get_name() for t in artist_data.get_top_tags()]\n",
    "    print(tracks[i][0], tag, \"\\n\")\n",
    "    tags.append(tag)\n",
    "    time.sleep(0.1)"
   ]
  },
  {
   "cell_type": "raw",
   "metadata": {},
   "source": [
    "Пересечения:"
   ]
  },
  {
   "cell_type": "code",
   "execution_count": 10,
   "metadata": {
    "collapsed": false
   },
   "outputs": [
    {
     "name": "stdout",
     "output_type": "stream",
     "text": [
      "Papa Roach intersect Linkin Park : {'metal', 'hard rock', 'rock', 'punk', 'american', 'male vocalists', 'punk rock', 'indie', 'alternative', 'alternative metal', 'seen live', 'USA', 'new metal', 'California', 'crossover', 'rapcore', 'rap rock', 'Nu-metal', 'emo', 'Nu Metal', 'alternative rock'} \n",
      "\n",
      "Papa Roach intersect Glamorous Bones : set() \n",
      "\n",
      "Papa Roach intersect HIM : {'metal', 'hard rock', 'rock', 'male vocalists', 'punk', 'indie', 'alternative', 'alternative metal', 'seen live', 'emo', 'heavy metal', '90s', 'alternative rock'} \n",
      "\n",
      "Papa Roach intersect Placebo : {'metal', 'rock', 'male vocalists', 'punk', 'indie', 'alternative', 'seen live', 'Grunge', '90s', 'emo', 'alternative rock'} \n",
      "\n",
      "Papa Roach intersect Crazy Town : {'metal', 'hard rock', 'rock', 'punk', 'american', 'punk rock', 'alternative', 'alternative metal', 'hardcore', 'seen live', 'USA', 'California', 'crossover', 'rapcore', 'rap rock', 'Nu-metal', '90s', 'Nu Metal', 'alternative rock'} \n",
      "\n",
      "Papa Roach intersect Lacrimas Profundere : {'metal', 'rock', 'seen live'} \n",
      "\n",
      "Papa Roach intersect P.O.D. : {'metal', 'hard rock', 'rock', 'punk', 'american', 'punk rock', 'alternative', 'alternative metal', 'hardcore', 'seen live', 'USA', 'new metal', 'crossover', 'rapcore', 'rap rock', 'Nu-metal', '90s', 'heavy metal', 'Nu Metal', 'alternative rock'} \n",
      "\n",
      "Papa Roach intersect 30 Seconds To Mars : {'metal', 'hard rock', 'rock', 'male vocalists', 'american', 'punk', 'punk rock', 'indie', 'alternative', 'alternative metal', 'screamo', 'seen live', 'USA', 'emo', 'Nu Metal', 'post-grunge', 'alternative rock'} \n",
      "\n",
      "Papa Roach intersect Limp Bizkit : {'metal', 'hard rock', 'rock', 'punk', 'american', 'punk rock', 'male vocalists', 'alternative', 'alternative metal', 'hardcore', 'seen live', 'USA', 'new metal', 'crossover', 'rapcore', 'rap rock', 'Nu-metal', '90s', 'heavy metal', 'Nu Metal', 'alternative rock'} \n",
      "\n",
      "Linkin Park intersect Glamorous Bones : set() \n",
      "\n",
      "Linkin Park intersect HIM : {'metal', 'hard rock', 'rock', 'male vocalists', 'punk', 'indie', 'alternative', 'alternative metal', 'seen live', 'pop', 'favorites', 'emo', 'alternative rock'} \n",
      "\n",
      "Linkin Park intersect Placebo : {'metal', 'rock', 'electronic', 'male vocalists', 'punk', 'indie', 'alternative', 'seen live', 'pop', 'favorites', '00s', 'emo', 'alternative rock'} \n",
      "\n",
      "Linkin Park intersect Crazy Town : {'rock', 'alternative', 'alternative metal', 'USA', 'pop', 'crossover', 'rapcore', 'rap rock', '00s', 'american', 'seen live', 'metal', 'rap metal', 'Hip-Hop', 'Nu Metal', 'Rap-Rock', 'alternative rock', 'hard rock', 'punk', 'punk rock', 'California', 'Nu-metal', 'rap'} \n",
      "\n",
      "Linkin Park intersect Lacrimas Profundere : {'metal', 'rock', 'seen live'} \n",
      "\n",
      "Linkin Park intersect P.O.D. : {'metal', 'hard rock', 'rock', 'punk', 'american', 'punk rock', 'alternative', 'alternative metal', 'rap metal', 'seen live', 'USA', 'new metal', 'crossover', 'rapcore', 'rap rock', 'Nu-metal', 'Nu Metal', 'rap', 'alternative rock'} \n",
      "\n",
      "Linkin Park intersect 30 Seconds To Mars : {'metal', 'hard rock', 'rock', 'male vocalists', 'american', 'punk', 'electronic', 'indie', 'punk rock', 'alternative', 'alternative metal', 'seen live', 'USA', 'pop', 'pop rock', '00s', 'favorites', 'emo', 'Nu Metal', 'alternative rock'} \n",
      "\n",
      "Linkin Park intersect Limp Bizkit : {'rock', 'alternative', 'alternative metal', 'USA', 'pop', 'crossover', 'rapcore', 'rap rock', '00s', 'shit', 'american', 'seen live', 'metal', 'rap metal', 'Hip-Hop', 'NOT METAL', 'new metal', 'Nu Metal', 'alternative rock', 'Rap-Rock', 'hard rock', 'punk', 'male vocalists', 'punk rock', 'Nu-metal', 'rap'} \n",
      "\n",
      "Glamorous Bones intersect HIM : {'Gothic Metal', 'Love Metal', 'Gothic', 'goth rock', 'Ville Valo', 'finnish', 'Gothic Rock'} \n",
      "\n",
      "Glamorous Bones intersect Placebo : {'glam'} \n",
      "\n",
      "Glamorous Bones intersect Crazy Town : set() \n",
      "\n",
      "Glamorous Bones intersect Lacrimas Profundere : {'Love Metal', 'Gothic', 'Gothic Metal', 'Gothic Rock'} \n",
      "\n",
      "Glamorous Bones intersect P.O.D. : set() \n",
      "\n",
      "Glamorous Bones intersect 30 Seconds To Mars : set() \n",
      "\n",
      "Glamorous Bones intersect Limp Bizkit : set() \n",
      "\n",
      "HIM intersect Placebo : {'metal', 'rock', 'male vocalists', 'punk', 'indie', 'Love', 'alternative', 'glam rock', 'seen live', 'pop', 'favorites', '90s', 'emo', 'alternative rock'} \n",
      "\n",
      "HIM intersect Crazy Town : {'metal', 'hard rock', 'rock', 'punk', 'alternative', 'alternative metal', 'seen live', 'pop', '90s', 'alternative rock'} \n",
      "\n",
      "HIM intersect Lacrimas Profundere : {'metal', 'rock', 'Gothic Metal', 'Love Metal', 'Gothic', 'goth', 'seen live', 'dark rock', 'Gothic Rock'} \n",
      "\n",
      "HIM intersect P.O.D. : {'metal', 'hard rock', 'rock', 'punk', 'alternative', 'alternative metal', 'seen live', '90s', 'heavy metal', 'alternative rock'} \n",
      "\n",
      "HIM intersect 30 Seconds To Mars : {'metal', 'hard rock', 'rock', 'male vocalists', 'punk', 'indie', 'alternative', 'alternative metal', 'seen live', 'pop', 'favorites', 'emo', 'alternative rock'} \n",
      "\n",
      "HIM intersect Limp Bizkit : {'metal', 'hard rock', 'rock', 'punk', 'male vocalists', 'alternative', 'alternative metal', 'seen live', 'pop', '90s', 'heavy metal', 'alternative rock'} \n",
      "\n",
      "Placebo intersect Crazy Town : {'metal', 'rock', 'punk', 'alternative', 'seen live', 'pop', '00s', '90s', 'alternative rock'} \n",
      "\n",
      "Placebo intersect Lacrimas Profundere : {'metal', 'rock', 'melancholic', 'seen live'} \n",
      "\n",
      "Placebo intersect P.O.D. : {'metal', 'rock', 'punk', 'alternative', 'seen live', '90s', 'alternative rock'} \n",
      "\n",
      "Placebo intersect 30 Seconds To Mars : {'metal', 'rock', 'male vocalists', 'punk', 'electronic', 'indie', 'Progressive rock', 'alternative', 'indie rock', 'seen live', 'pop', 'favorites', '00s', 'emo', 'alternative rock'} \n",
      "\n",
      "Placebo intersect Limp Bizkit : {'metal', 'rock', 'punk', 'male vocalists', 'alternative', 'seen live', 'pop', '00s', '90s', 'alternative rock'} \n",
      "\n",
      "Crazy Town intersect Lacrimas Profundere : {'metal', 'rock', 'seen live'} \n",
      "\n",
      "Crazy Town intersect P.O.D. : {'metal', 'hard rock', 'rock', 'punk', 'american', 'punk rock', 'alternative', 'alternative metal', 'hardcore', 'rap metal', 'seen live', 'USA', 'crossover', 'rapcore', 'rap rock', 'Nu-metal', '90s', 'Nu Metal', 'rap', 'alternative rock'} \n",
      "\n",
      "Crazy Town intersect 30 Seconds To Mars : {'metal', 'hard rock', 'rock', 'punk', 'american', 'punk rock', 'alternative', 'alternative metal', 'seen live', 'USA', 'pop', '00s', 'Nu Metal', 'alternative rock'} \n",
      "\n",
      "Crazy Town intersect Limp Bizkit : {'rock', 'alternative', 'alternative metal', 'hardcore', 'USA', 'pop', 'crossover', 'rapcore', 'rap rock', '00s', 'american', 'seen live', 'hip hop', 'metal', 'rap metal', 'Hip-Hop', '90s', 'Nu Metal', 'alternative rock', 'Rap-Rock', 'hard rock', 'punk', 'punk rock', 'Nu-metal', 'rap'} \n",
      "\n",
      "Lacrimas Profundere intersect P.O.D. : {'metal', 'rock', 'seen live'} \n",
      "\n",
      "Lacrimas Profundere intersect 30 Seconds To Mars : {'metal', 'rock', 'seen live'} \n",
      "\n",
      "Lacrimas Profundere intersect Limp Bizkit : {'metal', 'rock', 'seen live'} \n",
      "\n",
      "P.O.D. intersect 30 Seconds To Mars : {'metal', 'hard rock', 'rock', 'punk', 'american', 'punk rock', 'alternative', 'alternative metal', 'seen live', 'USA', 'Nu Metal', 'alternative rock'} \n",
      "\n",
      "P.O.D. intersect Limp Bizkit : {'rock', 'alternative', 'alternative metal', 'hardcore', 'USA', 'crossover', 'rapcore', 'rap rock', 'american', 'seen live', 'metal', 'rap metal', 'new metal', '90s', 'heavy metal', 'Nu Metal', 'alternative rock', 'hard rock', 'punk', 'punk rock', 'Nu-metal', 'rap'} \n",
      "\n",
      "30 Seconds To Mars intersect Limp Bizkit : {'metal', 'hard rock', 'rock', 'punk', 'american', 'punk rock', 'male vocalists', 'alternative', 'alternative metal', 'seen live', 'USA', 'pop', '00s', 'Nu Metal', 'alternative rock'} \n",
      "\n"
     ]
    }
   ],
   "source": [
    "for i in range((l-1)):\n",
    "    for j in range((i+1),l):\n",
    "        print(tracks[i][0], \"intersect\", tracks[j][0], \":\",set(tags[i]).intersection(tags[j]), \"\\n\")   "
   ]
  },
  {
   "cell_type": "raw",
   "metadata": {},
   "source": [
    "Glamourous Bones пересекаются совсем мало, однако в плейлисте нормально. Скорее всего, причина в небольшом количестве тегов для этой группы.  Lacrimas Profundere тоже мало пересекается, хотя не очень выбивается. Crazy Town немало пересекается, Placebo тоже неплохо, лучше всего с 30 Seconds to Mars. Похожие исполнители:"
   ]
  },
  {
   "cell_type": "code",
   "execution_count": 15,
   "metadata": {
    "collapsed": false
   },
   "outputs": [
    {
     "name": "stdout",
     "output_type": "stream",
     "text": [
      "Papa Roach intersect Linkin Park : {'Nickelback', 'Earshot', 'Three Days Grace', 'Disturbed', 'Lumen', 'Breaking Benjamin', 'Stone Sour', 'Ünloco', 'Adelitas Way', 'Halestorm', 'Alter Bridge', 'P.O.D.', 'Shinedown', 'Sick Puppies', 'Pillar', 'Billy Talent', 'Slipknot', 'Adema', 'Dry Cell', 'Saliva', 'Dead By Sunrise', 'Egypt Central', 'Nonpoint', '30 Seconds to Mars', '3 Doors Down', 'Crossfade', 'Thousand Foot Krutch', 'Chevelle', 'Alien Ant Farm', 'Finger Eleven', 'Element Eighty', 'Good Charlotte', '10 Years', 'Digital Summer', 'Creed', 'Theory of a Deadman', 'Crazy Town', 'Red', 'Trapt', 'TRUSTcompany', 'Puddle of Mudd', 'Limp Bizkit', 'Staind', 'Flaw', 'Exilia', 'Green Day', '12 Stones', 'Taproot', 'Mudvayne', 'Cold', 'Chester Bennington', 'Foo Fighters', 'Hoobastank', 'Godsmack', 'Story of the Year', 'Daughtry', 'The Rasmus', 'Evans Blue', 'Seether', 'The Pretty Reckless', 'Skillet', 'Drowning Pool', 'Deftones', 'Yellowcard', 'Static-X', 'System of a Down', 'Flyleaf', 'Ill Niño', 'Guano Apes', 'Lostprophets', 'Poets of the Fall', 'Korn'} \n",
      "\n",
      "Papa Roach intersect Glamorous Bones : set() \n",
      "\n",
      "Papa Roach intersect HIM : {'The Rasmus', 'Poets of the Fall'} \n",
      "\n",
      "Papa Roach intersect Placebo : {'Deftones', 'Three Days Grace', 'Staind', 'Lumen', 'Linkin Park', 'Foo Fighters', 'Guano Apes', 'Lostprophets', 'The Exies', 'Poets of the Fall', 'The Rasmus', 'The Pretty Reckless', '30 Seconds to Mars'} \n",
      "\n",
      "Papa Roach intersect Crazy Town : {'Art of Dying', 'Earshot', 'Dope', 'Ünloco', 'P.O.D.', 'Pillar', 'Dry Cell', 'Adema', 'Saliva', 'Nonpoint', 'Crossfade', 'Alien Ant Farm', 'Finger Eleven', 'Element Eighty', '10 Years', 'Digital Summer', 'The Veer Union', 'Trapt', 'Puddle of Mudd', 'TRUSTcompany', 'Cold', 'Limp Bizkit', 'Staind', 'Exilia', 'Flaw', '12 Stones', 'Taproot', 'Mudvayne', 'Hinder', 'Spineshank', 'Sevendust', 'Drowning Pool', 'Linkin Park', 'Ill Niño', 'Guano Apes', 'Lostprophets', 'Korn', 'Emil Bulls'} \n",
      "\n",
      "Papa Roach intersect Lacrimas Profundere : set() \n",
      "\n",
      "Papa Roach intersect P.O.D. : {'Earshot', 'Dope', 'Disturbed', 'Smile Empty Soul', 'Breaking Benjamin', 'Ünloco', 'Stone Sour', 'Three Days Grace', 'Shinedown', 'Sick Puppies', 'Pillar', 'Slipknot', 'Adema', 'Dry Cell', 'Saliva', 'Dead By Sunrise', 'Nonpoint', 'Disciple', 'Crossfade', 'Chevelle', 'Thousand Foot Krutch', 'Alien Ant Farm', 'Finger Eleven', 'Element Eighty', '10 Years', 'Digital Summer', 'Creed', 'Crazy Town', 'Trapt', 'Puddle of Mudd', 'Red', 'Cold', 'Limp Bizkit', 'Staind', 'Flaw', 'Exilia', 'TRUSTcompany', '12 Stones', 'Mudvayne', 'Taproot', 'Godsmack', 'Hoobastank', 'Spineshank', 'Sevendust', 'Evans Blue', 'Seether', 'Deftones', 'Drowning Pool', 'Skillet', 'Static-X', 'Linkin Park', 'System of a Down', 'Flyleaf', 'Ill Niño', 'Guano Apes', 'Soil', 'Lostprophets', 'Korn', 'Emil Bulls', 'Rev Theory'} \n",
      "\n",
      "Papa Roach intersect 30 Seconds To Mars : {'Nickelback', 'Art of Dying', 'Smile Empty Soul', 'Three Days Grace', 'Earshot', 'Lumen', 'Breaking Benjamin', 'Stone Sour', 'Adelitas Way', 'Shinedown', 'Sick Puppies', 'Billy Talent', 'Dead By Sunrise', '3 Doors Down', 'Crossfade', 'Thousand Foot Krutch', 'Chevelle', 'Saving Abel', 'Alien Ant Farm', 'Finger Eleven', 'Good Charlotte', '10 Years', 'Creed', 'Theory of a Deadman', 'Red', 'Trapt', 'Cold', 'Staind', 'Foo Fighters', 'Hoobastank', 'Daughtry', 'Hinder', 'The Exies', 'Default', 'Nine Lashes', 'The Rasmus', 'Evans Blue', 'Seether', 'The Pretty Reckless', 'Skillet', 'The Used', 'Linkin Park', 'Flyleaf', 'Sum 41', 'Guano Apes', 'Icon for Hire', 'Lostprophets', 'Young Guns', 'My Darkest Days', 'Poets of the Fall'} \n",
      "\n",
      "Papa Roach intersect Limp Bizkit : {'Nickelback', 'Dope', 'Disturbed', 'Three Days Grace', 'Breaking Benjamin', 'Stone Sour', 'Ünloco', 'P.O.D.', 'Slipknot', 'Adema', 'Dry Cell', 'Saliva', 'Dead By Sunrise', 'Nonpoint', '3 Doors Down', 'Chevelle', 'Thousand Foot Krutch', 'Alien Ant Farm', 'Element Eighty', 'Digital Summer', 'Crazy Town', 'TRUSTcompany', 'Cold', 'Staind', 'Flaw', 'Exilia', 'Mudvayne', 'Taproot', 'Chester Bennington', 'Godsmack', 'Spineshank', 'Sevendust', 'Seether', 'Deftones', 'Drowning Pool', 'СЛОТ', 'Static-X', 'Linkin Park', 'System of a Down', 'Ill Niño', 'Guano Apes', 'Soil', 'Lostprophets', 'Korn', 'Emil Bulls'} \n",
      "\n",
      "Linkin Park intersect Glamorous Bones : set() \n",
      "\n",
      "Linkin Park intersect HIM : {'Marilyn Manson', 'Evanescence', 'The Rasmus', 'Placebo', 'Poets of the Fall'} \n",
      "\n",
      "Linkin Park intersect Placebo : {'Deftones', 'The Pretty Reckless', 'Scars on Broadway', 'Three Days Grace', 'Incubus', 'Red Hot Chili Peppers', 'The Fray', 'Coldplay', 'Lumen', 'Staind', 'Bloodhound Gang', 'Foo Fighters', 'Guano Apes', 'Rage Against the Machine', 'Muse', 'My Chemical Romance', 'Lostprophets', 'Poets of the Fall', 'The Rasmus', 'Nirvana', '30 Seconds to Mars'} \n",
      "\n",
      "Linkin Park intersect Crazy Town : {'4Lyn', 'Earshot', 'Ünloco', 'P.O.D.', 'Pillar', 'Dry Cell', 'Adema', 'Saliva', 'Nonpoint', 'Crossfade', 'Alien Ant Farm', 'Bloodhound Gang', 'Pleymo', 'Finger Eleven', 'Element Eighty', '10 Years', 'Digital Summer', 'Coal Chamber', 'Puddle of Mudd', 'TRUSTcompany', 'Cold', 'Limp Bizkit', 'Staind', 'Exilia', 'Papa Roach', 'Flaw', 'Trapt', 'Taproot', 'Mudvayne', '12 Stones', 'Tribal Ink', 'Drowning Pool', 'Ill Niño', 'Guano Apes', 'Lostprophets', 'Korn'} \n",
      "\n",
      "Linkin Park intersect Lacrimas Profundere : set() \n",
      "\n",
      "Linkin Park intersect P.O.D. : {'4Lyn', 'Earshot', 'Three Days Grace', 'Disturbed', 'Breaking Benjamin', 'Ünloco', 'Stone Sour', 'TRUSTcompany', 'Shinedown', 'Sick Puppies', 'Pillar', 'Slipknot', 'Adema', 'Dry Cell', 'Saliva', 'Dead By Sunrise', 'Red', 'Nonpoint', 'Crossfade', 'Incubus', 'Chevelle', 'Thousand Foot Krutch', 'Alien Ant Farm', 'Bloodhound Gang', 'Rage Against the Machine', 'Pleymo', 'Finger Eleven', 'Element Eighty', '10 Years', 'Digital Summer', 'Creed', 'Crazy Town', 'Coal Chamber', 'Trapt', 'Puddle of Mudd', 'Cold', 'Limp Bizkit', 'Staind', 'Papa Roach', 'Flaw', 'Exilia', 'Jonathan Davis', 'Mudvayne', 'Taproot', '12 Stones', 'Godsmack', 'Hoobastank', 'Tribal Ink', 'Evans Blue', 'Seether', 'Deftones', 'Drowning Pool', 'Skillet', 'Static-X', 'System of a Down', 'Flyleaf', 'Ill Niño', 'Guano Apes', 'Lostprophets', 'Korn'} \n",
      "\n",
      "Linkin Park intersect 30 Seconds To Mars : {'Nickelback', 'Earshot', 'Three Days Grace', 'Lumen', 'Breaking Benjamin', 'Coldplay', 'Stone Sour', 'Adelitas Way', 'Shinedown', 'Sick Puppies', 'My Chemical Romance', 'Muse', 'Evanescence', 'Billy Talent', 'Dead By Sunrise', 'Paramore', '3 Doors Down', 'Incubus', 'Thousand Foot Krutch', 'Chevelle', 'Crossfade', 'The Fray', 'Alien Ant Farm', 'Finger Eleven', 'Serj Tankian', 'Good Charlotte', '10 Years', 'Imagine Dragons', 'OneRepublic', 'Theory of a Deadman', 'Creed', 'Red', 'Trapt', 'Cold', 'Staind', 'Papa Roach', 'Placebo', 'Foo Fighters', 'Hoobastank', 'Daughtry', 'The Rasmus', 'Evans Blue', 'Seether', 'The Pretty Reckless', 'Skillet', 'Flyleaf', 'Fall Out Boy', 'Guano Apes', 'Lostprophets', 'Poets of the Fall'} \n",
      "\n",
      "Linkin Park intersect Limp Bizkit : {'Nickelback', '4Lyn', 'Three Days Grace', 'Disturbed', 'Breaking Benjamin', 'Stone Sour', 'Ünloco', 'P.O.D.', 'Slipknot', 'Adema', 'Dry Cell', 'Saliva', 'Dead By Sunrise', 'Nonpoint', 'Scars on Broadway', 'Xero', '3 Doors Down', 'Red Hot Chili Peppers', 'Chevelle', 'Thousand Foot Krutch', 'Incubus', 'Jay-Z and Linkin Park', 'Alien Ant Farm', 'Bloodhound Gang', 'Rage Against the Machine', 'Pleymo', 'Element Eighty', 'Digital Summer', 'Crazy Town', 'Coal Chamber', 'TRUSTcompany', 'Cold', 'Jonathan Davis', 'Staind', 'Papa Roach', 'Flaw', 'Exilia', 'Mudvayne', 'Taproot', 'Chester Bennington', 'Godsmack', 'Tribal Ink', 'Seether', 'Deftones', 'Drowning Pool', 'Static-X', 'System of a Down', 'Ill Niño', 'Guano Apes', 'Lostprophets', 'Korn'} \n",
      "\n",
      "Glamorous Bones intersect HIM : {'Lacrimas Profundere', 'The 69 Eyes', 'Mono Inc.', 'Lord of the Lost'} \n",
      "\n",
      "Glamorous Bones intersect Placebo : set() \n",
      "\n",
      "Glamorous Bones intersect Crazy Town : set() \n",
      "\n",
      "Glamorous Bones intersect Lacrimas Profundere : {'The 69 Eyes', 'Beseech', 'Him', 'Mono Inc.', 'Lord of the Lost'} \n",
      "\n",
      "Glamorous Bones intersect P.O.D. : set() \n",
      "\n",
      "Glamorous Bones intersect 30 Seconds To Mars : set() \n",
      "\n",
      "Glamorous Bones intersect Limp Bizkit : set() \n",
      "\n",
      "HIM intersect Placebo : {'The Rasmus', 'AFI', 'Poets of the Fall'} \n",
      "\n",
      "HIM intersect Crazy Town : set() \n",
      "\n",
      "HIM intersect Lacrimas Profundere : {'Shamrain', 'Soulrelic', 'Umbra Et Imago', 'Embraze', 'Sinamore', 'Down Below', 'End of You', 'SaraLee', 'End of Green', 'ASP', 'Lacrimosa', 'Scream Silence', 'Charon', 'After Forever', 'Entwine', 'Lord of the Lost', 'Michelle Darkness', 'Type O Negative', 'Zeraphine', 'Dreadful Shadows', 'A Life Divided', 'Sentenced', 'For My Pain...', 'Lullacry', 'The 69 Eyes', 'Icon & the Black Roses', 'Poisonblack', 'Bloodflowerz', 'Deathstars', 'London After Midnight', 'Reflexion', 'To/Die/For', 'Mono Inc.', 'Lacuna Coil'} \n",
      "\n",
      "HIM intersect P.O.D. : set() \n",
      "\n",
      "HIM intersect 30 Seconds To Mars : {'Placebo', 'AFI', 'We Are the Fallen', 'Evanescence', 'Poets of the Fall', 'The Rasmus'} \n",
      "\n",
      "HIM intersect Limp Bizkit : set() \n",
      "\n",
      "Placebo intersect Crazy Town : {'Guano Apes', 'Linkin Park', 'Staind', 'Lostprophets', 'Bloodhound Gang'} \n",
      "\n",
      "Placebo intersect Lacrimas Profundere : set() \n",
      "\n",
      "Placebo intersect P.O.D. : {'Deftones', 'Staind', 'Three Days Grace', 'Incubus', 'Linkin Park', 'Bloodhound Gang', 'Guano Apes', 'Rage Against the Machine', 'Lostprophets'} \n",
      "\n",
      "Placebo intersect 30 Seconds To Mars : {'Three Days Grace', 'Gerard Way', 'Lumen', 'Coldplay', 'Panic! at the Disco', 'My Chemical Romance', 'Muse', 'Anberlin', 'Radiohead', 'Snow Patrol', 'Incubus', 'The Fray', 'New Politics', 'Animal Джаz', 'Biffy Clyro', 'Staind', 'Kings of Leon', 'The White Stripes', 'Foo Fighters', 'The Killers', 'A Perfect Circle', 'AFI', 'The Exies', 'The Rasmus', 'Ours', 'The Pretty Reckless', 'Linkin Park', 'Garbage', 'Jimmy Eat World', 'Guano Apes', 'Lostprophets', 'Blue October', 'Poets of the Fall', 'Kill Hannah', 'Black Lab'} \n",
      "\n",
      "Placebo intersect Limp Bizkit : {'Deftones', 'Scars on Broadway', 'Staind', 'Three Days Grace', 'Red Hot Chili Peppers', 'Incubus', 'Linkin Park', 'Bloodhound Gang', 'Guano Apes', 'Rage Against the Machine', 'Lostprophets'} \n",
      "\n",
      "Crazy Town intersect Lacrimas Profundere : set() \n",
      "\n",
      "Crazy Town intersect P.O.D. : {'4Lyn', 'The Blank Theory', '40 Below Summer', 'Earshot', 'Dope', 'Ünloco', 'TRUSTcompany', 'Pillar', 'Dry Cell', 'Adema', '(həd) p.e.', 'Saliva', 'Blindspott', 'Nonpoint', 'Crossfade', 'Endo', '(hed) Planet Earth', 'Alien Ant Farm', 'Bloodhound Gang', 'Pleymo', 'Methods Of Mayhem', 'Finger Eleven', 'Element Eighty', '3rd Strike', '10 Years', 'Powerman 5000', 'Digital Summer', 'Clawfinger', 'Coal Chamber', 'Trapt', 'Puddle of Mudd', 'Cold', 'Limp Bizkit', 'Staind', 'Papa Roach', 'Flaw', 'Exilia', 'Head', 'Mudvayne', 'Taproot', 'Amatory', 'Primer 55', 'Snot', '12 Stones', 'Tribal Ink', 'Spineshank', 'Hollywood Undead', 'Skindred', 'Love and Death', 'Sevendust', 'One Minute Silence', 'Drowning Pool', 'Reveille', 'Mushroomhead', 'Linkin Park', 'Ill Niño', 'Guano Apes', 'Manafest', 'Lostprophets', 'Insolence', 'Korn', 'Emil Bulls'} \n",
      "\n",
      "Crazy Town intersect 30 Seconds To Mars : {'Cold', 'Art of Dying', 'Staind', 'Papa Roach', 'Crossfade', 'Earshot', 'Alien Ant Farm', 'Linkin Park', 'Guano Apes', 'Hinder', 'Finger Eleven', 'Lostprophets', '10 Years', 'Trapt'} \n",
      "\n",
      "Crazy Town intersect Limp Bizkit : {'4Lyn', '40 Below Summer', 'Dope', 'Ünloco', 'P.O.D.', 'Dry Cell', 'Adema', '(həd) p.e.', 'Saliva', 'Blindspott', 'Nonpoint', 'Endo', 'Deuce', '(hed) Planet Earth', 'Alien Ant Farm', 'Bloodhound Gang', 'Pleymo', 'Methods Of Mayhem', 'Element Eighty', '3rd Strike', 'Noize MC', 'Powerman 5000', 'Digital Summer', 'Clawfinger', 'Coal Chamber', 'TRUSTcompany', 'Cold', 'Head', 'Staind', 'Papa Roach', 'Flaw', 'Exilia', 'Snot', 'Mudvayne', 'Taproot', 'Amatory', 'Primer 55', 'Genuflect', 'Tribal Ink', 'Spineshank', 'Hollywood Undead', 'Skindred', 'Love and Death', 'Sevendust', 'One Minute Silence', 'Drowning Pool', 'Reveille', 'Mushroomhead', '7000$', 'Linkin Park', 'Кирпичи', 'Ill Niño', 'Guano Apes', 'Lostprophets', 'Hot Action Cop', 'Nevada Tan', 'Insolence', 'Korn', 'Emil Bulls'} \n",
      "\n",
      "Lacrimas Profundere intersect P.O.D. : set() \n",
      "\n",
      "Lacrimas Profundere intersect 30 Seconds To Mars : set() \n",
      "\n",
      "Lacrimas Profundere intersect Limp Bizkit : set() \n",
      "\n",
      "P.O.D. intersect 30 Seconds To Mars : {'Smile Empty Soul', 'Three Days Grace', 'Earshot', 'Breaking Benjamin', 'Stone Sour', 'Shinedown', 'Sick Puppies', 'Dead By Sunrise', 'Crossfade', 'Incubus', 'Thousand Foot Krutch', 'Chevelle', 'Alien Ant Farm', 'Finger Eleven', '10 Years', 'Creed', 'Trapt', 'Red', 'Cold', 'Staind', 'Papa Roach', 'Hoobastank', 'Evans Blue', 'Seether', 'Skillet', 'Linkin Park', 'Flyleaf', 'Guano Apes', 'Lostprophets'} \n",
      "\n",
      "P.O.D. intersect Limp Bizkit : {'4Lyn', '40 Below Summer', 'Dope', 'Disturbed', 'Three Days Grace', 'Breaking Benjamin', 'Stone Sour', 'Ünloco', 'American Head Charge', 'Dry Kill Logic', 'Slipknot', 'Adema', '(həd) p.e.', 'Saliva', 'Dead By Sunrise', 'Dry Cell', 'Blindspott', 'Nonpoint', 'Endo', 'Chevelle', '(hed) Planet Earth', 'Thousand Foot Krutch', 'Incubus', 'Alien Ant Farm', 'Bloodhound Gang', 'Rage Against the Machine', 'Pleymo', 'Methods Of Mayhem', 'Element Eighty', '3rd Strike', 'Powerman 5000', 'Digital Summer', 'Clawfinger', 'Scars of Life', 'Crazy Town', 'Coal Chamber', 'TRUSTcompany', 'Cold', 'Head', 'Staind', 'Papa Roach', 'Flaw', 'Jonathan Davis', 'Snot', 'Mudvayne', 'Taproot', 'Exilia', 'Primer 55', 'Amatory', 'Godsmack', 'Tribal Ink', 'Spineshank', 'Hollywood Undead', 'Skindred', 'Love and Death', 'Sevendust', 'Soulfly', 'One Minute Silence', 'Seether', 'Deftones', 'Drowning Pool', '36 Crazyfists', 'Reveille', 'Mushroomhead', 'Nothingface', 'Static-X', 'Linkin Park', 'System of a Down', 'Ill Niño', 'Guano Apes', 'Soil', 'Lostprophets', 'Insolence', 'Korn', 'Emil Bulls'} \n",
      "\n",
      "30 Seconds To Mars intersect Limp Bizkit : {'Nickelback', 'Cold', '3 Doors Down', 'Staind', 'Papa Roach', 'Three Days Grace', 'Chevelle', 'Stone Sour', 'Breaking Benjamin', 'Linkin Park', 'Thousand Foot Krutch', 'Alien Ant Farm', 'Incubus', 'Guano Apes', 'Lostprophets', 'Dead By Sunrise', 'Seether'} \n",
      "\n"
     ]
    }
   ],
   "source": [
    "similar_artist = []\n",
    "\n",
    "for i in range(l):\n",
    "    artist_data = network.get_artist(tracks[i][0])\n",
    "    sim_art = [a[0].get_name() for a in artist_data.get_similar()]\n",
    "    similar_artist.append(sim_art)\n",
    "    time.sleep(0.1)\n",
    "\n",
    "for i in range((l-1)):\n",
    "    for j in range((i+1),l):\n",
    "        print(tracks[i][0], \"intersect\", tracks[j][0], \":\",set(similar_artist[i]).intersection(similar_artist[j]), \"\\n\")  "
   ]
  },
  {
   "cell_type": "raw",
   "metadata": {},
   "source": [
    "Пока те же выводы -- Lacrimas Profundere и Glamorous Bones имеют мало тегов."
   ]
  },
  {
   "cell_type": "raw",
   "metadata": {},
   "source": [
    "Пересечения тегов по песням, на Манану совсем нет тегов, надо убрать из списка, иначе ошибка."
   ]
  },
  {
   "cell_type": "code",
   "execution_count": 29,
   "metadata": {
    "collapsed": false
   },
   "outputs": [
    {
     "name": "stdout",
     "output_type": "stream",
     "text": [
      "Papa Roach ['rock', 'Nu Metal', 'alternative rock', 'Papa Roach', 'alternative', 'metal', 'hard rock', 'Nu-metal', 'rapcore', 'alternative metal', 'angry', 'Between Angels and Insects', 'heavy metal', 'heavy', 'seen live', 'favorites', 'punk rock', 'new metal', 'Fuckin AWESOME', 'punk', 'emo', 'Energetic', 'american', '00s', '5 Stars', 'Orgasmic', 'great songs for me', 'good', 'male vocalist', 'male vocalists', 'rap metal', 'Favourite Songs', 'songs that you wanna listen to over and over again', 'radioultra', 'pop', 'heard on Pandora', 'fav', '2000', 'beautiful melodies', 'the best', 'My Favourites', 'good riff', 'dance dammit', 'paparoach', 'kaltduscher', 'between angels'] \n",
      "\n",
      "Linkin Park ['Nu Metal', 'rock', 'Linkin Park', 'alternative', 'alternative rock', 'metal', 'Nu-metal', 'hard rock', 'rapcore', 'crawling', 'alternative metal', 'emo', 'crossover', '00s', 'favorites', 'lp', 'rap metal', 'american', 'seen live', 'punk rock', '2000', 'punk', 'FUCKING AWESOME', 'pop', 'screamo', 'rap', 'Awesome', 'electronic', 'favorite songs', 'dark', 'angry', 'Favorite', 'Favourites', 'hybrid theory', 'loved', 'favorite tracks', 'mike shinoda', 'life sucks', 'Hip-Hop', 'chillout', 'Love', 'favourite', 'good', 'male vocalist', 'male vocalists', 'ytmnd', 'Songs for sad moods', 'Linkin Park - Crawling', 'LP - Crawling', 'classic rock', 'Hard', 'memories', 'heard on Pandora', 'live', 'best', '5 Stars', 'lyrics', 'angst', '2001', 'chester bennington', 'songs I absolutely love', 'linkin', 'radioultra', 'heavy metal', 'Favorite Bands', 'indie rock', 'dance', 'pop rock', 'epic', 'Alternative  Punk', 'new', 'California', 'cool', 'great lyrics', 'Ballad', 'fav', 'popular', 'alt rock', 'scratch', '2000s', 'wrif-fm', '10 of 10 stars', '6 of 10 stars', 'Rap-Rock', 'favs', 'Legendary', 'my music', 'new metal', 'rap-metal', 'Good memories', 'leapsandloved', '2000s rock', 'songs I identify with', 'screamy and scary'] \n",
      "\n",
      "HIM ['Love Metal', 'finnish', 'rock', 'HIM', 'Gothic', 'Gothic Rock', 'metal', 'pretending', 'alternative', 'alternative rock', 'sexy', 'Gothic Metal', 'male vocals', 'Love', 'male vocalist', 'heavy metal', 'hard rock', 'favorites', 'Suomi', '8 of 10 stars', 'nostalgia', '2001', '<3', 'goth rock', 'suomirock', 'gothic realm', 'vampire', 'folk', 'Progressive metal', 'strange', 'industrial', 'acoustic', 'scandinavian', 'beautiful', 'Driving', 'Energetic', 'male vocal', 'Mellow', 'great', 'alternative metal', 'Like', 'nostalgic', 'favourite', 'glam', 'glam rock', 'loved', 'cool', 'heard on Pandora', 'guilty pleasure', '00s', 'finnish metal', 'Favorite', '5 Stars', 'jumping green', 'Black', 'sensual', '2000s', '4 Stars', '7 of 10 stars', 'power ballads', 'finland', 'thoughts', 'the end', 'All time favorite songs', 'Glam Metal', 'Downer', 'favourite tracks', 'suomi rock', 'loved tracks', '9 lbs hammer', 'gitarre', 'Ultra Style', 'a', 'dark romance', 'suomi metal', 'Melancholisch', 'Moderate', 'fave songs ever', 'lacrimaindarkness', 'songs to sleep to', 'spinning', 'weeeeee', 'Ville Valo', 'Fuckin Good Music', 'nachdenken', 'radioultra', 'my fave songs', 'dark-rock', 'heulie', 'HIM the greatest band ever', 'check lyrics', 'entspannend', 'Swallow', 'finnish - love metal - ville valo', 'him pretending', 'sunflower983', 'him - pretending', 'zum nachdenken', 'choccie', 'sad-- realy- I dont think so'] \n",
      "\n",
      "Placebo ['alternative rock', 'alternative', 'indie', 'rock', 'british', 'piano', 'melancholic', 'Love', 'beautiful', 'glam rock', '2013', 'seen live twice', 'Titorsbrother', 'One of the best', 'confession', 'fade out', 'songs to sing along with', 'You make me cry when I want to', 'breathtaking for the first time', 'tears in the eyes while listening for the first time', 'moja nostalgia', 'moj 2013', 'a thousand hearts on this one', 'aeDrumms', 'aeMusic', 'aeRock', 'bateu a bad'] \n",
      "\n",
      "Crazy Town ['rock', 'alternative', 'rapcore', 'Nu Metal', 'alternative rock', 'Crazy Town', 'rap', '90s', 'butterfly', 'Hip-Hop', 'hip hop', 'crossover', 'pop', 'sexy', 'rap rock', 'american', 'cool', 'dance', 'Love', 'summer', 'rap metal', 'Nu-metal', 'one hit wonder', 'Crazytown', 'favorites', 'Awesome', '00s', 'nostalgia', 'Soundtrack', 'memories', 'party', 'hard rock', 'crazy', 'catchy', 'metal', 'good shit', 'guilty pleasure', 'Favourites', 'RHCPs pretty little ditty', 'Crazy Town - Butterfly', 'favorite songs', 'old times', 'sex', 'I love this song', '2001', 'pop rock', 'pop punk', 'alternative metal', 'hot', 'top 40', 'best', 'Guilty Pleasures', '8 of 10 stars', 'childhood', '1999', 'Rap-Rock', 'One Hit Wonders', 'billboard number ones', 'Makes Me Smile', 'layered electric guitar riffs', 'lyrics with heavy erotic content', 'east coast rap influences', 'a tight kick sound', 'radioultra', 'riff stolen from rhcps pretty little ditty', 'crazy town-butterfly', 'crazy town butterfly', 'classic', 'punk', 'hardcore', 'indie rock', 'energy', 'Retro', 'upbeat', 'hiphop', 'Mellow', 'amazing', 'nostalgic', 'male vocalist', 'male vocalists', 'alt rock', 'love at first listen', 'english', 'annoying', 'gute laune', '4 Stars', 'sample', 'tune', 'Red Hot Chili Peppers', 'easy', 'my music', 'good times', 'like it', 'loved tracks', 'rhcp', 'good songs', 'Summer playlisT', 'a slow moving bass line', 'i adore this regardless of how embarrassing it is', 'GUTE Musik'] \n",
      "\n",
      "Lacrimas Profundere ['metal', 'doom metal', 'winter', 'Gothic Metal', 'german'] \n",
      "\n",
      "P.O.D. ['rock', 'Nu Metal', 'rapcore', 'alternative', 'metal', 'POD', 'alternative rock', 'christian', 'alternative metal', 'christian rock', 'youth of the nation', 'hard rock', 'Nu-metal', 'Awesome', 'rap', 'rap metal', 'american', 'christian metal', 'favorites', 'rap rock', 'Grunge', 'favorite songs', 'FUCKING AWESOME', 'over5min', 'hardcore', 'sad', '90s', 'powerful', 'Columbine', '00s', 'Favorite', 'Favourite Songs', 'epic', 'party', 'new metal', 'Morose Deep dilate Crimson', 'industrial', 'great', 'cool', 'male vocalists', '2001', 'alive', 'sufu5a', 'pod - youth of the nation', 'heavy metal', 'heavy', 'memories', 'dark', 'beautiful', 'favourite', 'nice', 'loved', 'fav', 'best', 'suicide', 'youth', 'wrif-fm', 'awesomeness', 'legend', 'radioultra', 'p o d', 'truth in lyrics', 'mojolukasmojo', 'POD - youth of a nation', 'audioxxs'] \n",
      "\n",
      "30 Seconds To Mars ['alternative rock', 'rock', 'alternative', '30 seconds to mars', 'modern rock', 'this is war', 'absolutely wonderful', 'american', 'FUCKING AWESOME', 'Awesome', 'perfect', 'indie', 'emo', 'epic', 'Jared Leto', 'catchy as fuck', 'acoustic', 'male vocalists', 'beautiful', 'Energetic', 'post-grunge', 'addicting', 'totally awesome', 'play it loud', 'rock alternative', 'love love love love', 'Progressive rock', 'amazing', '00s', 'Masterpiece', '30stm', 'everyday listening', 'Dragon Age: Origins', 'seen live', 'indie rock', 'hard rock', 'favorites', 'favourite', 'love at first listen', 'My Favorites', 'Best Band EVER', 'cimx-fm', 'songs that are important to me', 'i know it by heart', 'favorite songs', 'singer-songwriter', 'dramatic', 'inspirational', 'i fucking love this song', 'addictive', '2010', 'love the lyrics', 'Alternate Rock', 'american rock', 'obsessive repeated listening', 'guitar in my heart', 'special tag: inspiration', 'albums I own', 'pop rock', 'Love', 'atmospheric', 'Like', 'great song', 'male vocalist', 'war', 'rock band', 'Favourites', 'lovely', 'heard live', '10 of 10 stars', 'feelgood', 'Favourite Songs', '<3', 'sing-a-long', 'rock band dlc', 'over 5 minutes long', 'songs that you wanna listen to over and over again', 'great text', 'echelon', 'beautiful memories', 'for good beginning of a day', 'confidence booster', 'sachen die ich gerne hoeren mag', 'The gratest song not only in the World but also on Mars', 'a song I want to love multiple times', 'this msc is just oh fuck'] \n",
      "\n",
      "Limp Bizkit ['rock', 'Nu Metal', 'alternative', 'rapcore', 'metal', 'limp bizkit', 'Soundtrack', 'alternative rock', 'crossover', 'hard rock', 'Nu-metal', 'rap metal', 'Mission impossible 2', 'rap', 'favorites', 'alternative metal', 'take a look around', 'mission impossible', 'american', '00s', 'rap-metal', '2000', 'rap rock', 'skate rock', 'heavy', 'punk', 'Hard', 'hardcore', 'cover', 'Soundtracks', 'male vocalists', '90s', 'Favourites', 'Favourite Songs', 'radioultra', 'grandes temas', 'pop', 'funk', 'Awesome', 'groovy', 'english', 'FUCKING AWESOME', '2000s', 'jecks', '6 of 10 stars', 'My Favorites', 'songs to hear before you die', 'metal top', 'christian alexander tietgen'] \n",
      "\n"
     ]
    }
   ],
   "source": [
    "tracks2 = [[\"Papa Roach\", \"Between Angels and Insects\"], [\"Linkin Park\", \"Crawling\"], \n",
    "                   [\"HIM\", \"Pretending\"], [\"Placebo\", \"Begin The End\"],\n",
    "           [\"Crazy Town\", \"Butter Fly\"], [\"Lacrimas Profundere\", \"Lullaby For A Weeping Girl\"], \n",
    "           [\"P.O.D.\", \"Youth of The Nation\"], [\"30 Seconds To Mars\", \"This Is War\"], [\"Limp Bizkit\", \"Take a look around\"]]\n",
    "\n",
    "l2 = len(tracks2)\n",
    "track_tags = []\n",
    "\n",
    "for i in range(l2):\n",
    "    track_info = network.get_track(tracks2[i][0], tracks2[i][1])\n",
    "    tag = [t[0].get_name() for t in track_info.get_top_tags()]\n",
    "    print(tracks2[i][0], tag, \"\\n\")\n",
    "    track_tags.append(tag)\n",
    "    time.sleep(0.1)\n",
    " "
   ]
  },
  {
   "cell_type": "code",
   "execution_count": null,
   "metadata": {
    "collapsed": true
   },
   "outputs": [],
   "source": [
    "Пересечение:"
   ]
  },
  {
   "cell_type": "code",
   "execution_count": 30,
   "metadata": {
    "collapsed": false
   },
   "outputs": [
    {
     "name": "stdout",
     "output_type": "stream",
     "text": [
      "['Papa Roach', 'Between Angels and Insects'] intersect ['Linkin Park', 'Crawling'] : {'rock', 'alternative', 'alternative metal', 'radioultra', '5 Stars', 'pop', 'favorites', 'rapcore', '00s', 'fav', 'american', 'angry', '2000', 'seen live', 'metal', 'good', 'male vocalist', 'rap metal', 'new metal', 'emo', 'heavy metal', 'Nu Metal', 'alternative rock', 'hard rock', 'punk', 'male vocalists', 'punk rock', 'heard on Pandora', 'Nu-metal'} \n",
      "\n",
      "['Papa Roach', 'Between Angels and Insects'] intersect ['HIM', 'Pretending'] : {'metal', 'hard rock', 'rock', 'male vocalist', 'alternative', 'alternative metal', 'heard on Pandora', 'radioultra', '5 Stars', 'favorites', '00s', 'heavy metal', 'Energetic', 'alternative rock'} \n",
      "\n",
      "['Papa Roach', 'Between Angels and Insects'] intersect ['Placebo', 'Begin The End'] : {'alternative', 'rock', 'alternative rock'} \n",
      "\n",
      "['Papa Roach', 'Between Angels and Insects'] intersect ['Crazy Town', 'Butter Fly'] : {'metal', 'hard rock', 'rock', 'punk', 'american', 'male vocalists', 'male vocalist', 'alternative', 'alternative metal', 'rap metal', 'radioultra', 'pop', 'favorites', 'rapcore', '00s', 'Nu-metal', 'Nu Metal', 'alternative rock'} \n",
      "\n",
      "['Papa Roach', 'Between Angels and Insects'] intersect ['Lacrimas Profundere', 'Lullaby For A Weeping Girl'] : {'metal'} \n",
      "\n",
      "['Papa Roach', 'Between Angels and Insects'] intersect ['P.O.D.', 'Youth of The Nation'] : {'metal', 'hard rock', 'fav', 'rock', 'male vocalists', 'american', 'Favourite Songs', 'alternative', 'alternative metal', 'rap metal', 'radioultra', 'new metal', 'favorites', 'rapcore', '00s', 'Nu-metal', 'heavy metal', 'heavy', 'Nu Metal', 'alternative rock'} \n",
      "\n",
      "['Papa Roach', 'Between Angels and Insects'] intersect ['30 Seconds To Mars', 'This Is War'] : {'hard rock', 'rock', 'male vocalists', 'american', 'male vocalist', 'Favourite Songs', 'alternative', 'seen live', 'favorites', '00s', 'songs that you wanna listen to over and over again', 'emo', 'Energetic', 'alternative rock'} \n",
      "\n",
      "['Papa Roach', 'Between Angels and Insects'] intersect ['Limp Bizkit', 'Take a look around'] : {'metal', 'hard rock', 'rock', 'punk', 'american', 'male vocalists', '2000', 'Favourite Songs', 'alternative', 'alternative metal', 'rap metal', 'radioultra', 'pop', 'favorites', 'rapcore', '00s', 'Nu-metal', 'heavy', 'Nu Metal', 'alternative rock'} \n",
      "\n",
      "['Linkin Park', 'Crawling'] intersect ['HIM', 'Pretending'] : {'2001', 'metal', 'hard rock', 'rock', 'male vocalist', 'Love', 'cool', 'alternative', 'alternative metal', 'heard on Pandora', 'radioultra', '5 Stars', 'favourite', '2000s', 'favorites', '00s', 'Favorite', 'heavy metal', 'loved', 'alternative rock'} \n",
      "\n",
      "['Linkin Park', 'Crawling'] intersect ['Placebo', 'Begin The End'] : {'Love', 'alternative', 'rock', 'alternative rock'} \n",
      "\n",
      "['Linkin Park', 'Crawling'] intersect ['Crazy Town', 'Butter Fly'] : {'rock', 'cool', 'alternative', 'alternative metal', 'radioultra', 'pop', 'crossover', 'rapcore', 'favorites', '00s', 'pop rock', 'american', 'Love', 'indie rock', 'Favourites', 'Awesome', 'my music', 'metal', 'male vocalist', 'memories', 'rap metal', 'Hip-Hop', 'dance', 'favorite songs', 'Nu Metal', 'alternative rock', 'Rap-Rock', 'hard rock', 'punk', 'male vocalists', 'best', 'Nu-metal', 'alt rock', 'rap', '2001'} \n",
      "\n",
      "['Linkin Park', 'Crawling'] intersect ['Lacrimas Profundere', 'Lullaby For A Weeping Girl'] : {'metal'} \n",
      "\n",
      "['Linkin Park', 'Crawling'] intersect ['P.O.D.', 'Youth of The Nation'] : {'dark', 'rock', 'cool', 'alternative', 'alternative metal', 'radioultra', 'favorites', 'rapcore', '00s', 'epic', 'FUCKING AWESOME', 'fav', 'american', 'Awesome', 'metal', 'memories', 'rap metal', 'new metal', 'Favorite', 'favorite songs', 'heavy metal', 'Nu Metal', 'wrif-fm', 'alternative rock', 'hard rock', 'male vocalists', 'best', 'favourite', 'Nu-metal', 'loved', 'rap', '2001'} \n",
      "\n",
      "['Linkin Park', 'Crawling'] intersect ['30 Seconds To Mars', 'This Is War'] : {'hard rock', 'rock', 'male vocalists', 'american', 'male vocalist', 'Love', 'indie rock', 'alternative', 'seen live', 'favourite', '10 of 10 stars', 'favorites', '00s', 'epic', 'favorite songs', 'FUCKING AWESOME', 'emo', 'pop rock', 'Awesome', 'Favourites', 'alternative rock'} \n",
      "\n",
      "['Linkin Park', 'Crawling'] intersect ['Limp Bizkit', 'Take a look around'] : {'rock', 'alternative', 'alternative metal', 'radioultra', 'pop', 'crossover', 'rapcore', 'favorites', '00s', 'FUCKING AWESOME', 'american', '2000', 'Hard', 'rap-metal', 'Favourites', 'Awesome', 'metal', 'rap metal', 'Nu Metal', 'alternative rock', 'hard rock', 'punk', 'male vocalists', '6 of 10 stars', '2000s', 'Nu-metal', 'rap'} \n",
      "\n",
      "['HIM', 'Pretending'] intersect ['Placebo', 'Begin The End'] : {'rock', 'Love', 'alternative', 'glam rock', 'beautiful', 'alternative rock'} \n",
      "\n",
      "['HIM', 'Pretending'] intersect ['Crazy Town', 'Butter Fly'] : {'guilty pleasure', 'sexy', 'hard rock', 'metal', 'rock', '2001', 'cool', 'Love', 'male vocalist', 'alternative', 'alternative metal', 'Mellow', 'radioultra', 'nostalgic', 'nostalgia', '4 Stars', 'favorites', '00s', '8 of 10 stars', 'loved tracks', 'alternative rock'} \n",
      "\n",
      "['HIM', 'Pretending'] intersect ['Lacrimas Profundere', 'Lullaby For A Weeping Girl'] : {'metal', 'Gothic Metal'} \n",
      "\n",
      "['HIM', 'Pretending'] intersect ['P.O.D.', 'Youth of The Nation'] : {'2001', 'metal', 'hard rock', 'rock', 'industrial', 'cool', 'alternative', 'alternative metal', 'beautiful', 'radioultra', 'favourite', 'favorites', '00s', 'Favorite', 'heavy metal', 'great', 'loved', 'alternative rock'} \n",
      "\n",
      "['HIM', 'Pretending'] intersect ['30 Seconds To Mars', 'This Is War'] : {'hard rock', 'rock', 'male vocalist', 'Love', 'alternative', 'acoustic', 'beautiful', '<3', 'favourite', 'favorites', '00s', 'Energetic', 'Like', 'alternative rock'} \n",
      "\n",
      "['HIM', 'Pretending'] intersect ['Limp Bizkit', 'Take a look around'] : {'metal', 'hard rock', 'rock', 'alternative', 'alternative metal', 'radioultra', '2000s', 'favorites', '00s', 'alternative rock'} \n",
      "\n",
      "['Placebo', 'Begin The End'] intersect ['Crazy Town', 'Butter Fly'] : {'Love', 'alternative', 'rock', 'alternative rock'} \n",
      "\n",
      "['Placebo', 'Begin The End'] intersect ['Lacrimas Profundere', 'Lullaby For A Weeping Girl'] : set() \n",
      "\n",
      "['Placebo', 'Begin The End'] intersect ['P.O.D.', 'Youth of The Nation'] : {'alternative', 'rock', 'beautiful', 'alternative rock'} \n",
      "\n",
      "['Placebo', 'Begin The End'] intersect ['30 Seconds To Mars', 'This Is War'] : {'rock', 'indie', 'Love', 'alternative', 'beautiful', 'alternative rock'} \n",
      "\n",
      "['Placebo', 'Begin The End'] intersect ['Limp Bizkit', 'Take a look around'] : {'alternative', 'rock', 'alternative rock'} \n",
      "\n",
      "['Crazy Town', 'Butter Fly'] intersect ['Lacrimas Profundere', 'Lullaby For A Weeping Girl'] : {'metal'} \n",
      "\n",
      "['Crazy Town', 'Butter Fly'] intersect ['P.O.D.', 'Youth of The Nation'] : {'rock', 'cool', 'alternative', 'alternative metal', 'hardcore', 'radioultra', 'favorites', 'rapcore', 'rap rock', '00s', 'american', 'Awesome', 'metal', 'memories', 'rap metal', 'favorite songs', '90s', 'Nu Metal', 'alternative rock', 'hard rock', 'male vocalists', 'best', 'party', 'Nu-metal', 'rap', '2001'} \n",
      "\n",
      "['Crazy Town', 'Butter Fly'] intersect ['30 Seconds To Mars', 'This Is War'] : {'hard rock', 'rock', 'male vocalists', 'american', 'amazing', 'male vocalist', 'Love', 'indie rock', 'alternative', 'love at first listen', 'favorites', '00s', 'favorite songs', 'pop rock', 'Favourites', 'Awesome', 'alternative rock'} \n",
      "\n",
      "['Crazy Town', 'Butter Fly'] intersect ['Limp Bizkit', 'Take a look around'] : {'rock', 'alternative', 'alternative metal', 'hardcore', 'radioultra', 'pop', 'crossover', 'rapcore', 'favorites', '00s', 'rap rock', 'american', 'Soundtrack', 'english', 'Favourites', 'Awesome', 'metal', 'rap metal', '90s', 'Nu Metal', 'alternative rock', 'hard rock', 'punk', 'male vocalists', 'Nu-metal', 'rap'} \n",
      "\n",
      "['Lacrimas Profundere', 'Lullaby For A Weeping Girl'] intersect ['P.O.D.', 'Youth of The Nation'] : {'metal'} \n",
      "\n",
      "['Lacrimas Profundere', 'Lullaby For A Weeping Girl'] intersect ['30 Seconds To Mars', 'This Is War'] : set() \n",
      "\n",
      "['Lacrimas Profundere', 'Lullaby For A Weeping Girl'] intersect ['Limp Bizkit', 'Take a look around'] : {'metal'} \n",
      "\n",
      "['P.O.D.', 'Youth of The Nation'] intersect ['30 Seconds To Mars', 'This Is War'] : {'hard rock', 'rock', 'male vocalists', 'american', 'Favourite Songs', 'alternative', 'beautiful', 'favourite', 'favorites', '00s', 'epic', 'favorite songs', 'FUCKING AWESOME', 'Awesome', 'alternative rock'} \n",
      "\n",
      "['P.O.D.', 'Youth of The Nation'] intersect ['Limp Bizkit', 'Take a look around'] : {'rock', 'Favourite Songs', 'alternative', 'alternative metal', 'hardcore', 'radioultra', 'favorites', 'rapcore', '00s', 'rap rock', 'FUCKING AWESOME', 'american', 'Awesome', 'metal', 'rap metal', '90s', 'heavy', 'Nu Metal', 'alternative rock', 'hard rock', 'male vocalists', 'Nu-metal', 'rap'} \n",
      "\n",
      "['30 Seconds To Mars', 'This Is War'] intersect ['Limp Bizkit', 'Take a look around'] : {'hard rock', 'rock', 'male vocalists', 'american', 'Favourite Songs', 'alternative', 'My Favorites', 'favorites', '00s', 'FUCKING AWESOME', 'Favourites', 'Awesome', 'alternative rock'} \n",
      "\n"
     ]
    }
   ],
   "source": [
    "for i in range((l2-1)):\n",
    "    for j in range((i+1),l2):\n",
    "        print(tracks2[i], \"intersect\", tracks2[j], \":\",set(track_tags[i]).intersection(track_tags[j]), \"\\n\")  "
   ]
  },
  {
   "cell_type": "raw",
   "metadata": {},
   "source": [
    "В общем, тоже проблема того, что разное количество тегов, где-то меньше, где-то больше. Только last.fm явно не хватает."
   ]
  }
 ],
 "metadata": {
  "kernelspec": {
   "display_name": "Python 3",
   "language": "python",
   "name": "python3"
  },
  "language_info": {
   "codemirror_mode": {
    "name": "ipython",
    "version": 3
   },
   "file_extension": ".py",
   "mimetype": "text/x-python",
   "name": "python",
   "nbconvert_exporter": "python",
   "pygments_lexer": "ipython3",
   "version": "3.4.3"
  }
 },
 "nbformat": 4,
 "nbformat_minor": 0
}
