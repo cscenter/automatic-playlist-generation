{
 "cells": [
  {
   "cell_type": "markdown",
   "metadata": {},
   "source": [
    "## Теги last.fm небольшого количества треков"
   ]
  },
  {
   "cell_type": "code",
   "execution_count": 1,
   "metadata": {
    "collapsed": false
   },
   "outputs": [
    {
     "name": "stdout",
     "output_type": "stream",
     "text": [
      "Pretty printing has been turned OFF\n"
     ]
    }
   ],
   "source": [
    "import json\n",
    "\n",
    "path = '/mnt/hdd3/tmp_tags.json'\n",
    "\n",
    "\n",
    "with open(path) as data_file:\n",
    "    data_d = json.load(data_file)\n",
    "    \n",
    "%pprint    "
   ]
  },
  {
   "cell_type": "raw",
   "metadata": {},
   "source": [
    "Сколько раз встречаются теги без учёта количества:"
   ]
  },
  {
   "cell_type": "code",
   "execution_count": 2,
   "metadata": {
    "collapsed": true
   },
   "outputs": [],
   "source": [
    "tags = []\n",
    "\n",
    "for artist in data_d:\n",
    "    tmp_dict = artist['artist_tags']\n",
    "\n",
    "    for t_key in tmp_dict:\n",
    "        tags.append(t_key)\n",
    "        \n",
    "    tracks = artist['tracks']\n",
    "    \n",
    "    for track in tracks:\n",
    "        tmp_dict = track['track_tags']\n",
    "\n",
    "        for t_key in tmp_dict:\n",
    "            tags.append(t_key)        \n",
    "        "
   ]
  },
  {
   "cell_type": "code",
   "execution_count": 3,
   "metadata": {
    "collapsed": false
   },
   "outputs": [],
   "source": [
    "tags.sort()\n",
    "\n",
    "from collections import Counter\n",
    "\n",
    "tag_count = Counter(tags)"
   ]
  },
  {
   "cell_type": "raw",
   "metadata": {},
   "source": [
    "Теги с более 20 вхождениями:"
   ]
  },
  {
   "cell_type": "code",
   "execution_count": 4,
   "metadata": {
    "collapsed": true
   },
   "outputs": [],
   "source": [
    "tag_popular = {}\n",
    "\n",
    "for key in tag_count:\n",
    "    if (tag_count[key] > 19):\n",
    "        tag_popular[key] = tag_count[key]"
   ]
  },
  {
   "cell_type": "code",
   "execution_count": 5,
   "metadata": {
    "collapsed": false
   },
   "outputs": [
    {
     "data": {
      "image/png": "[encoded data removed]",
      "text/plain": [
       "<matplotlib.figure.Figure object at 0x7f8b1e6efd30>"
      ]
     },
     "metadata": {},
     "output_type": "display_data"
    }
   ],
   "source": [
    "%matplotlib inline\n",
    "import matplotlib.pyplot as plt\n",
    "\n",
    "\n",
    "plt.bar(range(len(tag_popular)), tag_popular.values(), align='center')\n",
    "plt.xticks(range(len(tag_popular)), list(tag_popular.keys()))\n",
    "\n",
    "plt.show()"
   ]
  },
  {
   "cell_type": "raw",
   "metadata": {},
   "source": [
    "Сортировка..."
   ]
  },
  {
   "cell_type": "code",
   "execution_count": 8,
   "metadata": {
    "collapsed": false
   },
   "outputs": [],
   "source": [
    "Теги, которые встречаются более 40 раз:"
   ]
  },
  {
   "cell_type": "code",
   "execution_count": 12,
   "metadata": {
    "collapsed": false
   },
   "outputs": [
    {
     "data": {
      "image/png": "[encoded data removed]",
      "text/plain": [
       "<matplotlib.figure.Figure object at 0x7f8b041dbc88>"
      ]
     },
     "metadata": {},
     "output_type": "display_data"
    }
   ],
   "source": [
    "tag_popular = {}\n",
    "\n",
    "for key in tag_count:\n",
    "    if (tag_count[key] > 39):\n",
    "        tag_popular[key] = tag_count[key]\n",
    "        \n",
    "plt.bar(range(len(tag_popular)), tag_popular.values(), align='center')\n",
    "plt.xticks(range(len(tag_popular)), list(tag_popular.keys()))\n",
    "\n",
    "plt.show()\n"
   ]
  },
  {
   "cell_type": "code",
   "execution_count": 14,
   "metadata": {
    "collapsed": false
   },
   "outputs": [
    {
     "name": "stdout",
     "output_type": "stream",
     "text": [
      "{'vocal': 49, '90s': 145, 'pop rock': 130, 'male vocalists': 203, 'cool': 107, 'punk': 80, 'good': 48, '80s': 111, 'emo': 76, 'english': 83, 'Awesome': 132, 'Mellow': 111, 'slow': 43, 'sad': 60, 'melancholy': 53, 'female vocalists': 120, 'punk rock': 50, 'rap': 50, 'female vocalist': 89, 'instrumental': 49, 'indie': 169, 'acoustic': 89, 'amazing': 76, 'sexy': 86, 'blues': 65, 'party': 68, 'UK': 61, 'guitar': 71, 'male vocalist': 85, 'seen live': 222, 'hard rock': 85, 'pop': 304, 'happy': 52, 'soft rock': 70, 'chillout': 121, '60s': 48, 'dance': 144, 'favorite songs': 70, 'folk': 67, 'new wave': 40, 'britpop': 56, 'easy listening': 91, 'Hip-Hop': 75, 'female': 85, 'catchy': 74, 'Soundtrack': 65, 'favourite': 89, 'memories': 50, 'Love': 164, 'rnb': 72, 'piano': 68, 'Ballad': 63, 'francais': 40, 'epic': 44, 'electronic': 140, 'alternative rock': 149, 'funk': 73, 'soul': 97, '70s': 60, 'emotional': 40, 'funky': 49, 'Progressive rock': 53, 'french': 70, 'ambient': 48, 'chill': 105, 'classic rock': 126, 'fun': 70, '2000s': 45, 'alternative': 236, 'relax': 67, 'rock': 310, 'Pop-Rock': 53, 'Favourites': 105, 'jazz': 92, 'Favorite': 105, 'lounge': 41, 'psychedelic': 40, 'female vocals': 50, 'world': 47, 'american': 173, 'british': 79, 'electro': 40, 'rhythm and blues': 40, 'r&b': 48, 'metal': 63, 'romantic': 59, 'favorites': 213, 'relaxing': 41, 'loved': 57, '00s': 185, 'hip hop': 57, 'singer-songwriter': 148, 'indie rock': 87, 'electronica': 66, 'Love it': 48, 'france': 51, 'experimental': 55, 'USA': 114, 'beautiful': 133, 'oldies': 78, 'classic': 84, 'indie pop': 52, 'melancholic': 45}\n"
     ]
    }
   ],
   "source": [
    "print(tag_popular)"
   ]
  },
  {
   "cell_type": "raw",
   "metadata": {
    "collapsed": true
   },
   "source": [
    "С подсчётом количества:"
   ]
  },
  {
   "cell_type": "code",
   "execution_count": 19,
   "metadata": {
    "collapsed": false
   },
   "outputs": [
    {
     "ename": "TypeError",
     "evalue": "unorderable types: str() > int()",
     "output_type": "error",
     "traceback": [
      "\u001b[1;31m---------------------------------------------------------------------------\u001b[0m",
      "\u001b[1;31mTypeError\u001b[0m                                 Traceback (most recent call last)",
      "\u001b[1;32m<ipython-input-19-3f139e8a7f3e>\u001b[0m in \u001b[0;36m<module>\u001b[1;34m()\u001b[0m\n\u001b[0;32m      4\u001b[0m     \u001b[0mtmp_dict\u001b[0m \u001b[1;33m=\u001b[0m \u001b[0martist\u001b[0m\u001b[1;33m[\u001b[0m\u001b[1;34m'artist_tags'\u001b[0m\u001b[1;33m]\u001b[0m\u001b[1;33m\u001b[0m\u001b[0m\n\u001b[0;32m      5\u001b[0m \u001b[1;33m\u001b[0m\u001b[0m\n\u001b[1;32m----> 6\u001b[1;33m     \u001b[0mtags_count\u001b[0m \u001b[1;33m=\u001b[0m \u001b[0mtags_count\u001b[0m \u001b[1;33m+\u001b[0m \u001b[0mCounter\u001b[0m\u001b[1;33m(\u001b[0m\u001b[0mtmp_dict\u001b[0m\u001b[1;33m)\u001b[0m\u001b[1;33m\u001b[0m\u001b[0m\n\u001b[0m\u001b[0;32m      7\u001b[0m \u001b[1;33m\u001b[0m\u001b[0m\n\u001b[0;32m      8\u001b[0m     \u001b[0mtracks\u001b[0m \u001b[1;33m=\u001b[0m \u001b[0martist\u001b[0m\u001b[1;33m[\u001b[0m\u001b[1;34m'tracks'\u001b[0m\u001b[1;33m]\u001b[0m\u001b[1;33m\u001b[0m\u001b[0m\n",
      "\u001b[1;32m/usr/lib64/python3.4/collections/__init__.py\u001b[0m in \u001b[0;36m__add__\u001b[1;34m(self, other)\u001b[0m\n\u001b[0;32m    644\u001b[0m                 \u001b[0mresult\u001b[0m\u001b[1;33m[\u001b[0m\u001b[0melem\u001b[0m\u001b[1;33m]\u001b[0m \u001b[1;33m=\u001b[0m \u001b[0mnewcount\u001b[0m\u001b[1;33m\u001b[0m\u001b[0m\n\u001b[0;32m    645\u001b[0m         \u001b[1;32mfor\u001b[0m \u001b[0melem\u001b[0m\u001b[1;33m,\u001b[0m \u001b[0mcount\u001b[0m \u001b[1;32min\u001b[0m \u001b[0mother\u001b[0m\u001b[1;33m.\u001b[0m\u001b[0mitems\u001b[0m\u001b[1;33m(\u001b[0m\u001b[1;33m)\u001b[0m\u001b[1;33m:\u001b[0m\u001b[1;33m\u001b[0m\u001b[0m\n\u001b[1;32m--> 646\u001b[1;33m             \u001b[1;32mif\u001b[0m \u001b[0melem\u001b[0m \u001b[1;32mnot\u001b[0m \u001b[1;32min\u001b[0m \u001b[0mself\u001b[0m \u001b[1;32mand\u001b[0m \u001b[0mcount\u001b[0m \u001b[1;33m>\u001b[0m \u001b[1;36m0\u001b[0m\u001b[1;33m:\u001b[0m\u001b[1;33m\u001b[0m\u001b[0m\n\u001b[0m\u001b[0;32m    647\u001b[0m                 \u001b[0mresult\u001b[0m\u001b[1;33m[\u001b[0m\u001b[0melem\u001b[0m\u001b[1;33m]\u001b[0m \u001b[1;33m=\u001b[0m \u001b[0mcount\u001b[0m\u001b[1;33m\u001b[0m\u001b[0m\n\u001b[0;32m    648\u001b[0m         \u001b[1;32mreturn\u001b[0m \u001b[0mresult\u001b[0m\u001b[1;33m\u001b[0m\u001b[0m\n",
      "\u001b[1;31mTypeError\u001b[0m: unorderable types: str() > int()"
     ]
    }
   ],
   "source": [
    "tags_count = Counter({})\n",
    "\n",
    "for artist in data_d:\n",
    "    tmp_dict = artist['artist_tags']\n",
    "\n",
    "    tags_count = tags_count + Counter(tmp_dict)\n",
    "        \n",
    "    tracks = artist['tracks']\n",
    "    \n",
    "    for track in tracks:\n",
    "        tmp_dict = track['track_tags']\n",
    "        tags_count = tags_count + Counter(tmp_dict)\n",
    "    "
   ]
  },
  {
   "cell_type": "code",
   "execution_count": null,
   "metadata": {
    "collapsed": true
   },
   "outputs": [],
   "source": []
  }
 ],
 "metadata": {
  "kernelspec": {
   "display_name": "Python 3",
   "language": "python",
   "name": "python3"
  },
  "language_info": {
   "codemirror_mode": {
    "name": "ipython",
    "version": 3
   },
   "file_extension": ".py",
   "mimetype": "text/x-python",
   "name": "python",
   "nbconvert_exporter": "python",
   "pygments_lexer": "ipython3",
   "version": "3.4.3"
  }
 },
 "nbformat": 4,
 "nbformat_minor": 0
}
