{
 "cells": [
  {
   "cell_type": "markdown",
   "metadata": {},
   "source": [
    "## Анализ Lastfm-ArtistTags2007"
   ]
  },
  {
   "cell_type": "markdown",
   "metadata": {
    "collapsed": true
   },
   "source": [
    "https://musicmachinery.com/2010/11/10/lastfm-artisttags2007/"
   ]
  },
  {
   "cell_type": "code",
   "execution_count": 1,
   "metadata": {
    "collapsed": true
   },
   "outputs": [],
   "source": [
    "import pandas\n",
    "import re"
   ]
  },
  {
   "cell_type": "code",
   "execution_count": 2,
   "metadata": {
    "collapsed": false
   },
   "outputs": [],
   "source": [
    "tags = pandas.read_csv(filepath_or_buffer = 'tags.csv', header = None, sep = ',', names = ['cnt', 'tag'])"
   ]
  },
  {
   "cell_type": "code",
   "execution_count": 3,
   "metadata": {
    "collapsed": false
   },
   "outputs": [],
   "source": [
    "tag_count = tags['cnt']\n",
    "tag_names = tags['tag']"
   ]
  },
  {
   "cell_type": "raw",
   "metadata": {},
   "source": [
    "Всего уникальных тегов:"
   ]
  },
  {
   "cell_type": "code",
   "execution_count": 4,
   "metadata": {
    "collapsed": false
   },
   "outputs": [
    {
     "data": {
      "text/plain": [
       "100784"
      ]
     },
     "execution_count": 4,
     "metadata": {},
     "output_type": "execute_result"
    }
   ],
   "source": [
    "len(tag_count)"
   ]
  },
  {
   "cell_type": "raw",
   "metadata": {},
   "source": [
    "Количество использований для 10 самых популярных тегов:"
   ]
  },
  {
   "cell_type": "code",
   "execution_count": 6,
   "metadata": {
    "collapsed": false
   },
   "outputs": [
    {
     "data": {
      "text/plain": [
       "0    440854\n",
       "1    343901\n",
       "2    277747\n",
       "3    245259\n",
       "4    184491\n",
       "5    158252\n",
       "6    136691\n",
       "7    124599\n",
       "8    119930\n",
       "9    102937\n",
       "Name: cnt, dtype: int64"
      ]
     },
     "execution_count": 6,
     "metadata": {},
     "output_type": "execute_result"
    }
   ],
   "source": [
    "tag_count[:10]"
   ]
  },
  {
   "cell_type": "raw",
   "metadata": {},
   "source": [
    "10 самых популярных тегов"
   ]
  },
  {
   "cell_type": "code",
   "execution_count": 7,
   "metadata": {
    "collapsed": false
   },
   "outputs": [
    {
     "data": {
      "text/plain": [
       "0            rock\n",
       "1       seen live\n",
       "2           indie\n",
       "3     alternative\n",
       "4           metal\n",
       "5      electronic\n",
       "6            punk\n",
       "7             pop\n",
       "8      indie rock\n",
       "9    classic rock\n",
       "Name: tag, dtype: object"
      ]
     },
     "execution_count": 7,
     "metadata": {},
     "output_type": "execute_result"
    }
   ],
   "source": [
    "tag_names[:10]"
   ]
  },
  {
   "cell_type": "raw",
   "metadata": {
    "collapsed": true
   },
   "source": [
    "Количество тегов, встречающихся более 100 раз в этом файле:"
   ]
  },
  {
   "cell_type": "code",
   "execution_count": 9,
   "metadata": {
    "collapsed": false
   },
   "outputs": [
    {
     "data": {
      "text/plain": [
       "2426"
      ]
     },
     "execution_count": 9,
     "metadata": {},
     "output_type": "execute_result"
    }
   ],
   "source": [
    "sum(el > 100 for el in tag_count)"
   ]
  },
  {
   "cell_type": "raw",
   "metadata": {
    "collapsed": true
   },
   "source": [
    "Из общего количества 100784 это меньше, чем 0.025%. Эти теги будут использоваться для поиска попарной встречаемости."
   ]
  },
  {
   "cell_type": "raw",
   "metadata": {},
   "source": [
    "tag_names_100 = tag_names[:2426]"
   ]
  },
  {
   "cell_type": "markdown",
   "metadata": {
    "collapsed": false
   },
   "source": [
    "## Попарная встречаемость "
   ]
  },
  {
   "cell_type": "raw",
   "metadata": {},
   "source": [
    "Файл lastfm_cooccurrence.py:"
   ]
  },
  {
   "cell_type": "code",
   "execution_count": 15,
   "metadata": {
    "collapsed": false
   },
   "outputs": [
    {
     "name": "stdout",
     "output_type": "stream",
     "text": [
      "number of artists: 20907\n"
     ]
    }
   ],
   "source": [
    "import json\n",
    "import operator\n",
    "from collections import Counter\n",
    "\n",
    "path = \"ArtistTags.dat\"\n",
    "\n",
    "def cooccurrence(tag):                         # без учёта числа вхождений тега для одного исполнителя\n",
    "\n",
    "    cooc_tags = []\n",
    "\n",
    "    for d in all_tags:\n",
    "        if tag in d:\n",
    "            cooc_tags.extend(list(d.keys()))\n",
    "\n",
    "    cnt = Counter(cooc_tags)\n",
    "    print(\"usage of tag:\", tag, \":\", cnt[tag])\n",
    "\n",
    "    del cnt[tag]\n",
    "    print(tag, \"occurs with:\", cnt.most_common(10))\n",
    "\n",
    "\n",
    "\n",
    "def cooccurrence_count(tag):                     # с учётом числа вхождений тега для одного исполнителя\n",
    "\n",
    "    cooc_tags = {}\n",
    "\n",
    "    for d in all_tags:\n",
    "        if tag in d:\n",
    "            for key in d:\n",
    "                if (key in cooc_tags):\n",
    "                    cooc_tags[key] = cooc_tags[key] + d[key]\n",
    "                else:\n",
    "                    cooc_tags[key] = d[key]\n",
    "\n",
    "    print(\"usage of tag:\", tag, \":\", cooc_tags[tag])\n",
    "\n",
    "    del cooc_tags[tag]\n",
    "    cooc_sorted = sorted(cooc_tags.items(), key=lambda x:(-x[1], x[0]))\n",
    "    print(tag, \"occurs with:\", cooc_sorted[:10])\n",
    "\n",
    "\n",
    "\n",
    "\n",
    "f = open(path, 'r')\n",
    "\n",
    "all_tags = []\n",
    "line_split = []\n",
    "tmp_dict = {}\n",
    "artist = \"\"\n",
    "artist_cnt = 0\n",
    "\n",
    "for line in f:\n",
    "    line_split = line.split(\"<sep>\")\n",
    "\n",
    "    if (line_split[1] != artist):\n",
    "        artist_cnt += 1\n",
    "        artist = line_split[1]\n",
    "        all_tags.append(tmp_dict)\n",
    "        tmp_dict = {}\n",
    "\n",
    "    tag = line_split[2]\n",
    "    tag_cnt = int(line_split[3].split(\"\\n\")[0])\n",
    "\n",
    "\n",
    "    tmp_dict[tag] = tag_cnt\n",
    "\n",
    "print(\"number of artists:\", artist_cnt)\n",
    "\n",
    "del all_tags[0]           # empty dict\n",
    "\n",
    "\n",
    "\n",
    "path_out = \"tags_count.json\"\n",
    "\n",
    "with open (path_out, 'w') as data_write:\n",
    "    data_write.write(json.dumps(all_tags))\n"
   ]
  },
  {
   "cell_type": "raw",
   "metadata": {
    "collapsed": true
   },
   "source": [
    "Как часто встречается rock и с какими тегами без учёта количества использований тега у исполнителя:"
   ]
  },
  {
   "cell_type": "code",
   "execution_count": 16,
   "metadata": {
    "collapsed": false
   },
   "outputs": [
    {
     "name": "stdout",
     "output_type": "stream",
     "text": [
      "usage of tag: rock : 11315\n",
      "rock occurs with: [('seen live', 8637), ('alternative', 7328), ('indie', 6658), ('pop', 5624), ('punk', 5168), ('metal', 4618), ('electronic', 4617), ('indie rock', 4569), ('alternative rock', 4473), ('classic rock', 3704)]\n"
     ]
    }
   ],
   "source": [
    "cooccurrence(\"rock\")"
   ]
  },
  {
   "cell_type": "raw",
   "metadata": {},
   "source": [
    "С учётом количества использований:"
   ]
  },
  {
   "cell_type": "code",
   "execution_count": 17,
   "metadata": {
    "collapsed": false
   },
   "outputs": [
    {
     "name": "stdout",
     "output_type": "stream",
     "text": [
      "usage of tag: rock : 440830\n",
      "rock occurs with: [('seen live', 321812), ('indie', 272188), ('alternative', 242960), ('metal', 173903), ('electronic', 133659), ('punk', 132661), ('pop', 118850), ('indie rock', 118812), ('classic rock', 102717), ('alternative rock', 96966)]\n"
     ]
    }
   ],
   "source": [
    "cooccurrence_count(\"rock\")"
   ]
  },
  {
   "cell_type": "raw",
   "metadata": {},
   "source": [
    "То же для других тегов из 10 самых популярных:"
   ]
  },
  {
   "cell_type": "code",
   "execution_count": 20,
   "metadata": {
    "collapsed": false
   },
   "outputs": [
    {
     "name": "stdout",
     "output_type": "stream",
     "text": [
      "usage of tag: seen live : 12618\n",
      "seen live occurs with: [('rock', 8637), ('alternative', 6757), ('indie', 6513), ('pop', 5178), ('punk', 4883), ('electronic', 4752), ('metal', 4574), ('indie rock', 4348), ('alternative rock', 4049), ('electronica', 3685)]\n",
      "usage of tag: seen live : 343896\n",
      "seen live occurs with: [('rock', 422423), ('indie', 270289), ('alternative', 238545), ('metal', 176404), ('electronic', 137318), ('punk', 130988), ('indie rock', 117565), ('pop', 108950), ('alternative rock', 95652), ('classic rock', 92693)]\n",
      "\n",
      "\n",
      "usage of tag: indie : 8037\n",
      "indie occurs with: [('rock', 6658), ('seen live', 6513), ('alternative', 6078), ('indie rock', 4697), ('pop', 4461), ('electronic', 4097), ('punk', 4019), ('alternative rock', 3778), ('electronica', 3205), ('emo', 3027)]\n",
      "usage of tag: indie : 277739\n",
      "indie occurs with: [('rock', 412433), ('seen live', 292509), ('alternative', 238372), ('metal', 131761), ('electronic', 131077), ('punk', 123000), ('indie rock', 119358), ('pop', 106426), ('classic rock', 97372), ('alternative rock', 95118)]\n",
      "\n",
      "\n",
      "usage of tag: alternative : 8438\n",
      "alternative occurs with: [('rock', 7328), ('seen live', 6757), ('indie', 6078), ('pop', 4623), ('punk', 4299), ('electronic', 4292), ('indie rock', 4265), ('alternative rock', 4242), ('metal', 3633), ('electronica', 3337)]\n",
      "usage of tag: alternative : 245238\n",
      "alternative occurs with: [('rock', 424217), ('seen live', 304872), ('indie', 271174), ('metal', 157744), ('electronic', 136033), ('punk', 125915), ('indie rock', 117908), ('pop', 111782), ('classic rock', 98619), ('alternative rock', 96634)]\n",
      "\n",
      "\n",
      "usage of tag: metal : 5925\n",
      "metal occurs with: [('rock', 4618), ('seen live', 4574), ('alternative', 3633), ('punk', 3274), ('indie', 3013), ('alternative rock', 2626), ('hard rock', 2606), ('electronic', 2594), ('hardcore', 2432), ('heavy metal', 2415)]\n",
      "usage of tag: metal : 184488\n",
      "metal occurs with: [('rock', 381917), ('seen live', 247012), ('alternative', 207616), ('indie', 193797), ('punk', 115226), ('electronic', 93347), ('classic rock', 92923), ('alternative rock', 89003), ('indie rock', 87420), ('pop', 78982)]\n",
      "\n",
      "\n",
      "usage of tag: electronic : 7023\n",
      "electronic occurs with: [('seen live', 4752), ('electronica', 4656), ('rock', 4617), ('alternative', 4292), ('indie', 4097), ('pop', 3502), ('dance', 3077), ('punk', 2750), ('indie rock', 2739), ('alternative rock', 2607)]\n",
      "usage of tag: electronic : 158244\n",
      "electronic occurs with: [('rock', 372051), ('seen live', 242902), ('indie', 241921), ('alternative', 219201), ('metal', 131411), ('indie rock', 105995), ('punk', 98590), ('pop', 98378), ('classic rock', 90465), ('alternative rock', 88592)]\n",
      "\n",
      "\n",
      "usage of tag: punk : 6023\n",
      "punk occurs with: [('rock', 5168), ('seen live', 4883), ('alternative', 4299), ('indie', 4019), ('punk rock', 3431), ('metal', 3274), ('alternative rock', 3029), ('pop', 2967), ('indie rock', 2937), ('hardcore', 2821)]\n",
      "usage of tag: punk : 136679\n",
      "punk occurs with: [('rock', 395491), ('seen live', 266219), ('indie', 235586), ('alternative', 222284), ('metal', 154567), ('indie rock', 106674), ('electronic', 95345), ('classic rock', 93624), ('alternative rock', 91699), ('pop', 90099)]\n",
      "\n",
      "\n",
      "usage of tag: pop : 7141\n",
      "pop occurs with: [('rock', 5624), ('seen live', 5178), ('alternative', 4623), ('indie', 4461), ('electronic', 3502), ('female vocalists', 3122), ('indie rock', 3105), ('alternative rock', 2991), ('punk', 2967), ('singer-songwriter', 2813)]\n",
      "usage of tag: pop : 124530\n",
      "pop occurs with: [('rock', 395422), ('seen live', 254651), ('indie', 253609), ('alternative', 225739), ('electronic', 117010), ('indie rock', 109369), ('metal', 104607), ('punk', 97934), ('classic rock', 97602), ('alternative rock', 90361)]\n",
      "\n",
      "\n",
      "usage of tag: indie rock : 5107\n",
      "indie rock occurs with: [('indie', 4697), ('rock', 4569), ('seen live', 4348), ('alternative', 4265), ('pop', 3105), ('alternative rock', 3006), ('punk', 2937), ('electronic', 2739), ('emo', 2409), ('indie pop', 2375)]\n",
      "usage of tag: indie rock : 119925\n",
      "indie rock occurs with: [('rock', 380361), ('indie', 267545), ('seen live', 251311), ('alternative', 227679), ('punk', 112003), ('electronic', 105520), ('metal', 93848), ('alternative rock', 92104), ('classic rock', 86119), ('pop', 84018)]\n",
      "\n",
      "\n",
      "usage of tag: classic rock : 3875\n",
      "classic rock occurs with: [('rock', 3704), ('seen live', 3111), ('alternative', 2977), ('indie', 2771), ('pop', 2693), ('punk', 2415), ('metal', 2317), ('alternative rock', 2271), ('electronic', 2262), ('indie rock', 2070)]\n",
      "usage of tag: classic rock : 102935\n",
      "classic rock occurs with: [('rock', 379616), ('seen live', 216414), ('indie', 209938), ('alternative', 208593), ('metal', 129154), ('punk', 102296), ('pop', 94220), ('indie rock', 94065), ('alternative rock', 87526), ('electronic', 86904)]\n",
      "\n",
      "\n"
     ]
    }
   ],
   "source": [
    "for i in range(1,10):\n",
    "    cooccurrence(tag_names[i])\n",
    "    cooccurrence_count(tag_names[i])\n",
    "    print(\"\\n\")"
   ]
  },
  {
   "cell_type": "raw",
   "metadata": {},
   "source": [
    "С какими тегами встречаются теги из конца tag_names_100, т.е. имеющие около 100 использований:"
   ]
  },
  {
   "cell_type": "code",
   "execution_count": 21,
   "metadata": {
    "collapsed": false
   },
   "outputs": [
    {
     "name": "stdout",
     "output_type": "stream",
     "text": [
      "usage of tag: workjams : 63\n",
      "workjams occurs with: [('seen live', 57), ('rock', 50), ('indie', 49), ('electronic', 48), ('alternative', 46), ('indie rock', 44), ('chill', 42), ('electronica', 41), ('chillout', 37), ('indie pop', 36)]\n",
      "usage of tag: workjams : 101\n",
      "workjams occurs with: [('indie', 3061), ('seen live', 2283), ('electronic', 1782), ('post-rock', 1370), ('indie rock', 1346), ('rock', 1154), ('electronica', 1003), ('jazz', 958), ('idm', 899), ('Classical', 891)]\n",
      "\n",
      "\n",
      "usage of tag: work : 78\n",
      "work occurs with: [('seen live', 57), ('rock', 54), ('electronic', 48), ('indie', 45), ('alternative', 42), ('electronica', 38), ('pop', 37), ('indie rock', 31), ('ambient', 31), ('folk', 30)]\n",
      "usage of tag: work : 101\n",
      "work occurs with: [('seen live', 1741), ('electronic', 1733), ('indie', 1424), ('rock', 1409), ('alternative', 1312), ('folk', 1261), ('Hip-Hop', 1217), ('electronica', 1110), ('ambient', 1082), ('chillout', 1036)]\n",
      "\n",
      "\n",
      "usage of tag: whore untalented : 14\n",
      "whore untalented occurs with: [('pop', 13), ('Officially Shit', 13), ('rock', 11), ('female', 11), ('female vocalists', 11), ('alternative', 10), ('dance', 10), ('Crap', 10), ('rnb', 9), ('Hip-Hop', 9)]\n",
      "usage of tag: whore untalented : 101\n",
      "whore untalented occurs with: [('pop', 1895), ('female vocalists', 657), ('Brutal Death Metal', 577), ('all things annoying in the world put together into one stupid bitch', 561), ('Officially Shit', 534), ('rnb', 498), ('Crap', 376), ('rock', 363), ('female', 295), ('Hip-Hop', 202)]\n",
      "\n",
      "\n",
      "usage of tag: symphonic gothic metal : 22\n",
      "symphonic gothic metal occurs with: [('Gothic', 22), ('Gothic Metal', 22), ('metal', 22), ('symphonic metal', 21), ('Female fronted metal', 20), ('doom metal', 19), ('melodic metal', 18), ('Power metal', 18), ('Gothic Rock', 18), ('rock', 17)]\n",
      "usage of tag: symphonic gothic metal : 101\n",
      "symphonic gothic metal occurs with: [('Gothic Metal', 6909), ('symphonic metal', 4935), ('metal', 3227), ('Female fronted metal', 2667), ('Gothic', 2073), ('seen live', 1157), ('black metal', 709), ('death metal', 662), ('female vocalists', 625), ('Power metal', 622)]\n",
      "\n",
      "\n",
      "usage of tag: scrubs : 18\n",
      "scrubs occurs with: [('rock', 17), ('indie', 14), ('alternative', 13), ('singer-songwriter', 13), ('seen live', 13), ('pop', 12), ('alternative rock', 10), ('classic rock', 9), ('male vocalists', 9), ('indie rock', 9)]\n",
      "usage of tag: scrubs : 101\n",
      "scrubs occurs with: [('rock', 469), ('indie', 336), ('alternative', 326), ('singer-songwriter', 325), ('acoustic', 194), ('seen live', 156), ('80s', 135), ('punk', 126), ('folk', 118), ('alternative rock', 116)]\n",
      "\n",
      "\n",
      "usage of tag: scoogee : 66\n",
      "scoogee occurs with: [('electronic', 64), ('electronica', 63), ('electro', 52), ('seen live', 49), ('techno', 42), ('idm', 39), ('House', 38), ('minimal', 37), ('dance', 35), ('ambient', 33)]\n",
      "usage of tag: scoogee : 101\n",
      "scoogee occurs with: [('electronic', 1866), ('electronica', 911), ('minimal', 689), ('electro', 573), ('techno', 441), ('seen live', 389), ('chillout', 388), ('idm', 373), ('House', 365), ('downtempo', 316)]\n",
      "\n",
      "\n",
      "usage of tag: rex ferric faves : 101\n",
      "rex ferric faves occurs with: [('seen live', 70), ('rock', 66), ('pop', 55), ('indie', 46), ('folk', 46), ('female vocalists', 42), ('alternative', 42), ('singer-songwriter', 41), ('american', 37), ('favorites', 37)]\n",
      "usage of tag: rex ferric faves : 101\n",
      "rex ferric faves occurs with: [('jazz', 2346), ('country', 1352), ('female vocalists', 795), ('rock', 769), ('comedy', 689), ('folk', 636), ('seen live', 559), ('singer-songwriter', 530), ('pop', 504), ('piano', 464)]\n",
      "\n",
      "\n",
      "usage of tag: post metal : 19\n",
      "post metal occurs with: [('seen live', 18), ('hardcore', 16), ('metal', 16), ('rock', 15), ('Sludge', 15), ('post-rock', 14), ('Progressive metal', 14), ('experimental', 14), ('post-hardcore', 14), ('post rock', 14)]\n",
      "usage of tag: post metal : 101\n",
      "post metal occurs with: [('post-rock', 2693), ('Sludge', 1955), ('metal', 1443), ('doom metal', 1364), ('Progressive metal', 925), ('instrumental', 900), ('seen live', 729), ('experimental', 580), ('Post-Metal', 498), ('hardcore', 423)]\n",
      "\n",
      "\n",
      "usage of tag: new order : 9\n",
      "new order occurs with: [('rock', 8), ('alternative', 7), ('seen live', 7), ('synthpop', 6), ('electronic', 6), ('pop', 6), ('synth pop', 6), ('indie', 6), ('new wave', 6), ('factory', 6)]\n",
      "usage of tag: new order : 101\n",
      "new order occurs with: [('post-punk', 2338), ('new wave', 2174), ('80s', 1363), ('electronic', 1053), ('indie', 885), ('alternative', 884), ('rock', 855), ('electronica', 370), ('punk', 357), ('Gothic', 347)]\n",
      "\n",
      "\n",
      "usage of tag: mute : 29\n",
      "mute occurs with: [('rock', 25), ('alternative', 25), ('electronica', 25), ('electronic', 24), ('seen live', 24), ('industrial', 23), ('post-punk', 21), ('indie', 21), ('experimental', 21), ('new wave', 21)]\n",
      "usage of tag: mute : 101\n",
      "mute occurs with: [('electronic', 3846), ('industrial', 2752), ('new wave', 2263), ('80s', 1766), ('synth pop', 1576), ('experimental', 1574), ('synthpop', 1393), ('seen live', 1320), ('post-punk', 1252), ('alternative', 1216)]\n",
      "\n",
      "\n",
      "usage of tag: mestizo : 22\n",
      "mestizo occurs with: [('seen live', 19), ('reggae', 18), ('ska', 16), ('rock', 15), ('spanish', 15), ('alternative', 14), ('patchanka', 12), ('latin', 12), ('punk', 11), ('world', 10)]\n",
      "usage of tag: mestizo : 101\n",
      "mestizo occurs with: [('reggae', 845), ('latin', 726), ('ska', 568), ('seen live', 536), ('french', 481), ('alternative', 398), ('spanish', 379), ('world', 319), ('rock', 267), ('patchanka', 149)]\n",
      "\n",
      "\n",
      "usage of tag: jae : 101\n",
      "jae occurs with: [('rock', 96), ('seen live', 95), ('indie', 94), ('alternative', 89), ('indie rock', 85), ('punk', 68), ('alternative rock', 67), ('pop', 55), ('emo', 53), ('punk rock', 50)]\n",
      "usage of tag: jae : 101\n",
      "jae occurs with: [('seen live', 3217), ('indie', 3064), ('rock', 2860), ('punk', 2669), ('indie rock', 1781), ('alternative', 1566), ('ska', 1109), ('emo', 1035), ('punk rock', 973), ('hardcore', 698)]\n",
      "\n",
      "\n",
      "usage of tag: ive sound : 5\n",
      "ive sound occurs with: [('j-pop', 5), ('pop', 5), (\"i've sound\", 5), (\"I've\", 5), ('JPop', 5), ('eroge', 5), ('game', 5), ('japanese', 5), ('anime', 5), ('ive', 5)]\n",
      "usage of tag: ive sound : 101\n",
      "ive sound occurs with: [('japanese', 268), ('anime', 231), ('j-pop', 224), ('JPop', 180), (\"I've\", 55), ('kotoko', 47), ('game', 36), ('ive', 33), ('eroge', 31), ('Japanese music', 26)]\n",
      "\n",
      "\n",
      "usage of tag: german thrash metal : 18\n",
      "german thrash metal occurs with: [('metal', 18), ('thrash metal', 18), ('thrash', 16), ('seen live', 16), ('heavy metal', 14), ('german', 13), ('death metal', 12), ('speed metal', 12), ('black metal', 11), ('german thrash', 10)]\n",
      "usage of tag: german thrash metal : 101\n",
      "german thrash metal occurs with: [('thrash metal', 4220), ('metal', 899), ('seen live', 664), ('thrash', 467), ('heavy metal', 276), ('death metal', 261), ('speed metal', 241), ('german', 222), ('doom metal', 182), ('black metal', 160)]\n",
      "\n",
      "\n",
      "usage of tag: bowie : 9\n",
      "bowie occurs with: [('rock', 9), ('alternative', 8), ('punk', 8), ('alternative rock', 8), ('classic rock', 7), ('electronic', 7), ('pop', 7), ('indie', 7), ('seen live', 7), ('Progressive rock', 7)]\n",
      "usage of tag: bowie : 101\n",
      "bowie occurs with: [('rock', 2434), ('classic rock', 2124), ('glam rock', 1595), ('pop', 673), ('alternative', 654), ('80s', 623), ('blues', 492), ('seen live', 476), ('glam', 471), ('indie', 334)]\n",
      "\n",
      "\n",
      "usage of tag: american metal : 49\n",
      "american metal occurs with: [('metal', 49), ('heavy metal', 43), ('seen live', 38), ('thrash metal', 38), ('death metal', 38), ('rock', 37), ('american', 36), ('Progressive metal', 35), ('Power metal', 34), ('USA', 33)]\n",
      "usage of tag: american metal : 101\n",
      "american metal occurs with: [('metal', 10343), ('thrash metal', 8592), ('death metal', 7182), ('heavy metal', 4912), ('Power metal', 3924), ('seen live', 2956), ('Progressive metal', 2520), ('metalcore', 2442), ('thrash', 1250), ('black metal', 1189)]\n",
      "\n",
      "\n",
      "usage of tag: alt-folk : 48\n",
      "alt-folk occurs with: [('seen live', 47), ('folk', 45), ('indie', 44), ('alternative', 42), ('rock', 41), ('singer-songwriter', 39), ('acoustic', 38), ('indie rock', 36), ('pop', 33), ('indie pop', 31)]\n",
      "usage of tag: alt-folk : 101\n",
      "alt-folk occurs with: [('indie', 5605), ('folk', 4910), ('singer-songwriter', 3599), ('seen live', 2751), ('indie rock', 1665), ('Alt-country', 1539), ('alternative', 1165), ('acoustic', 1122), ('rock', 986), ('female vocalists', 752)]\n",
      "\n",
      "\n",
      "usage of tag: aggro : 58\n",
      "aggro occurs with: [('seen live', 52), ('rock', 51), ('metal', 48), ('electronic', 41), ('alternative', 39), ('Gothic', 33), ('hardcore', 33), ('Gothic Metal', 31), ('punk', 28), ('ambient', 28)]\n",
      "usage of tag: aggro : 101\n",
      "aggro occurs with: [('thrash metal', 4586), ('industrial', 4566), ('metal', 4160), ('seen live', 2290), ('rock', 1811), ('punk', 1752), ('industrial metal', 1725), ('heavy metal', 947), ('industrial rock', 910), ('hardcore', 882)]\n",
      "\n",
      "\n",
      "usage of tag: Roskilde 2007 : 24\n",
      "Roskilde 2007 occurs with: [('seen live', 24), ('roskilde 07', 23), ('alternative', 21), ('indie', 20), ('rock', 19), ('indie rock', 18), ('electronic', 16), ('pop', 15), ('electronica', 14), ('favorites', 14)]\n",
      "usage of tag: Roskilde 2007 : 101\n",
      "Roskilde 2007 occurs with: [('seen live', 2372), ('indie', 1526), ('metal', 1350), ('electronic', 1270), ('Progressive metal', 1026), ('rock', 926), ('Sludge', 898), ('dance', 766), ('post-rock', 756), ('alternative', 683)]\n",
      "\n",
      "\n",
      "usage of tag: Nas : 3\n",
      "Nas occurs with: [('Hip-Hop', 3), ('new york', 3), ('hip hop', 3), ('east coast rap', 3), ('rap', 3), ('New York City', 3), ('underground rap', 3), ('queens', 3), ('hiphop', 3), ('NYC', 3)]\n",
      "usage of tag: Nas : 101\n",
      "Nas occurs with: [('Hip-Hop', 752), ('rap', 536), ('hip hop', 370), ('new york', 117), ('hiphop', 93), ('east coast rap', 92), ('Gangsta Rap', 69), ('East Coast', 61), ('queens', 27), ('NYC', 22)]\n",
      "\n",
      "\n",
      "usage of tag: Megadeth : 18\n",
      "Megadeth occurs with: [('metal', 17), ('rock', 16), ('alternative', 13), ('punk', 13), ('seen live', 13), ('hard rock', 12), ('heavy metal', 12), ('classic rock', 11), ('indie', 10), ('thrash metal', 10)]\n",
      "usage of tag: Megadeth : 101\n",
      "Megadeth occurs with: [('heavy metal', 2733), ('metal', 2601), ('thrash metal', 2264), ('rock', 881), ('seen live', 772), ('hard rock', 645), ('Power metal', 568), ('speed metal', 534), ('metalcore', 504), ('true metal', 291)]\n",
      "\n",
      "\n",
      "usage of tag: JE : 11\n",
      "JE occurs with: [('j-pop', 11), ('Johnnys entertainment', 11), ('Jyannis', 11), ('Japanese music', 11), ('JPop', 11), ('pop', 11), ('japanese', 11), ('johnnys', 11), ('J-rock', 9), (\"johnny's\", 9)]\n",
      "usage of tag: JE : 101\n",
      "JE occurs with: [('j-pop', 497), ('Johnnys entertainment', 465), ('JPop', 453), ('japanese', 411), ('johnnys', 162), ('Japanese music', 96), ('News', 64), ('Arashi', 53), ('pop', 52), ('Jyannis', 50)]\n",
      "\n",
      "\n",
      "usage of tag: Great Band : 65\n",
      "Great Band occurs with: [('seen live', 59), ('rock', 50), ('indie', 49), ('punk', 47), ('hardcore', 41), ('alternative', 40), ('metal', 36), ('metalcore', 33), ('emo', 33), ('indie rock', 33)]\n",
      "usage of tag: Great Band : 101\n",
      "Great Band occurs with: [('hardcore', 5274), ('seen live', 3346), ('metalcore', 2591), ('rock', 2545), ('screamo', 2245), ('emo', 1887), ('metal', 1845), ('indie', 1712), ('alternative', 1253), ('post-hardcore', 863)]\n",
      "\n",
      "\n",
      "usage of tag: City Centre Offices : 25\n",
      "City Centre Offices occurs with: [('electronica', 25), ('idm', 24), ('electronic', 23), ('ambient', 21), ('minimal', 18), ('experimental', 18), ('glitch', 15), ('downtempo', 13), ('chill', 13), ('indie', 12)]\n",
      "usage of tag: City Centre Offices : 101\n",
      "City Centre Offices occurs with: [('ambient', 696), ('electronic', 683), ('idm', 587), ('electronica', 532), ('chillout', 172), ('downtempo', 160), ('minimal', 93), ('experimental', 77), ('german', 54), ('indietronica', 54)]\n",
      "\n",
      "\n",
      "usage of tag: 8bitpeoples : 17\n",
      "8bitpeoples occurs with: [('electronic', 17), ('8-bit', 16), ('8bit', 15), ('chiptune', 15), ('bitpop', 14), ('electro', 14), ('Chipmusic', 14), ('electronica', 13), ('chiptunes', 13), ('8 bit peoples', 11)]\n",
      "usage of tag: 8bitpeoples : 101\n",
      "8bitpeoples occurs with: [('electronic', 327), ('8bit', 258), ('chiptune', 249), ('8-bit', 149), ('chiptunes', 108), ('pop', 106), ('Chipmusic', 103), ('bitpop', 100), ('dance', 90), ('electronica', 74)]\n",
      "\n",
      "\n",
      "usage of tag: 2007 Coachella : 52\n",
      "2007 Coachella occurs with: [('seen live', 52), ('indie', 48), ('coachella 2007', 48), ('rock', 47), ('alternative', 40), ('electronic', 34), ('pop', 31), ('electronica', 29), ('confirmed coachella 2007', 29), ('indie rock', 28)]\n",
      "usage of tag: 2007 Coachella : 101\n",
      "2007 Coachella occurs with: [('seen live', 2643), ('indie', 2397), ('electronic', 2360), ('rock', 1379), ('Hip-Hop', 1361), ('alternative', 1209), ('electronica', 1065), ('indie rock', 919), ('ebm', 787), ('pop', 752)]\n",
      "\n",
      "\n"
     ]
    }
   ],
   "source": [
    "for i in range(2400, 2426):\n",
    "    cooccurrence(tag_names[i])\n",
    "    cooccurrence_count(tag_names[i])\n",
    "    print(\"\\n\")"
   ]
  }
 ],
 "metadata": {
  "kernelspec": {
   "display_name": "Python 3",
   "language": "python",
   "name": "python3"
  },
  "language_info": {
   "codemirror_mode": {
    "name": "ipython",
    "version": 3
   },
   "file_extension": ".py",
   "mimetype": "text/x-python",
   "name": "python",
   "nbconvert_exporter": "python",
   "pygments_lexer": "ipython3",
   "version": "3.4.3"
  }
 },
 "nbformat": 4,
 "nbformat_minor": 0
}
