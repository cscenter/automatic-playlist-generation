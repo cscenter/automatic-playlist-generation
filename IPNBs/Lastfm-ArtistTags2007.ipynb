{
 "cells": [
  {
   "cell_type": "markdown",
   "metadata": {},
   "source": [
    "## Анализ Lastfm-ArtistTags2007"
   ]
  },
  {
   "cell_type": "markdown",
   "metadata": {
    "collapsed": true
   },
   "source": [
    "https://musicmachinery.com/2010/11/10/lastfm-artisttags2007/"
   ]
  },
  {
   "cell_type": "code",
   "execution_count": 19,
   "metadata": {
    "collapsed": true
   },
   "outputs": [],
   "source": [
    "import pandas\n",
    "import re"
   ]
  },
  {
   "cell_type": "code",
   "execution_count": 20,
   "metadata": {
    "collapsed": false
   },
   "outputs": [],
   "source": [
    "tags = pandas.read_csv(filepath_or_buffer = 'tags.csv', header = None, sep = ',', names = ['cnt', 'tag'])"
   ]
  },
  {
   "cell_type": "code",
   "execution_count": 21,
   "metadata": {
    "collapsed": false
   },
   "outputs": [],
   "source": [
    "tag_count = tags['cnt']\n",
    "tag_names = tags['tag']"
   ]
  },
  {
   "cell_type": "raw",
   "metadata": {},
   "source": [
    "Всего уникальных тегов:"
   ]
  },
  {
   "cell_type": "code",
   "execution_count": 22,
   "metadata": {
    "collapsed": false
   },
   "outputs": [
    {
     "data": {
      "text/plain": [
       "100784"
      ]
     },
     "execution_count": 22,
     "metadata": {},
     "output_type": "execute_result"
    }
   ],
   "source": [
    "len(tag_count)"
   ]
  },
  {
   "cell_type": "raw",
   "metadata": {},
   "source": [
    "Суммарное количество использований тегов:"
   ]
  },
  {
   "cell_type": "code",
   "execution_count": 23,
   "metadata": {
    "collapsed": false
   },
   "outputs": [
    {
     "data": {
      "text/plain": [
       "7178442"
      ]
     },
     "execution_count": 23,
     "metadata": {},
     "output_type": "execute_result"
    }
   ],
   "source": [
    "sum(tag_count)"
   ]
  },
  {
   "cell_type": "raw",
   "metadata": {},
   "source": [
    "Количество тегов, попадающих в 95% использования:"
   ]
  },
  {
   "cell_type": "code",
   "execution_count": 24,
   "metadata": {
    "collapsed": false
   },
   "outputs": [
    {
     "data": {
      "text/plain": [
       "6819520"
      ]
     },
     "execution_count": 24,
     "metadata": {},
     "output_type": "execute_result"
    }
   ],
   "source": [
    "qnt = int(round(0.95*sum(tag_count)))\n",
    "qnt"
   ]
  },
  {
   "cell_type": "code",
   "execution_count": 25,
   "metadata": {
    "collapsed": false
   },
   "outputs": [
    {
     "name": "stdout",
     "output_type": "stream",
     "text": [
      "6819525 6305\n"
     ]
    }
   ],
   "source": [
    "l = len(tag_count)\n",
    "s = 0\n",
    "i = 0\n",
    "\n",
    "while (s < qnt):\n",
    "    s += tag_count[i]\n",
    "    i += 1\n",
    "    \n",
    "print(s, i)"
   ]
  },
  {
   "cell_type": "raw",
   "metadata": {
    "collapsed": true
   },
   "source": [
    "Остаётся 6305 тегов из 100784 начальных, примерно 6%. Самый непопулярный тег из этого списка встречается следующее число раз:"
   ]
  },
  {
   "cell_type": "code",
   "execution_count": 26,
   "metadata": {
    "collapsed": false
   },
   "outputs": [
    {
     "data": {
      "text/plain": [
       "31"
      ]
     },
     "execution_count": 26,
     "metadata": {},
     "output_type": "execute_result"
    }
   ],
   "source": [
    "tag_count[6304]"
   ]
  },
  {
   "cell_type": "raw",
   "metadata": {
    "collapsed": true
   },
   "source": [
    "Для датасета из ~21К исполнителей это очень мало -- надо изучить попарную встречаемость непопулярных тегов -- скорее всего, они почти всегда встречаются с каким-то популярными. Уменьшенные массивы:"
   ]
  },
  {
   "cell_type": "code",
   "execution_count": 27,
   "metadata": {
    "collapsed": true
   },
   "outputs": [],
   "source": [
    "names = tag_names[:6305]\n",
    "counts = tag_count[:6305]"
   ]
  },
  {
   "cell_type": "markdown",
   "metadata": {},
   "source": [
    "## Попарная встречаемость "
   ]
  },
  {
   "cell_type": "raw",
   "metadata": {},
   "source": [
    "С какими тегами часто встречаются последние по популярности 15 тегов из отобранных (с учётом подсчётов вхождения тегов):"
   ]
  },
  {
   "cell_type": "code",
   "execution_count": 33,
   "metadata": {
    "collapsed": false
   },
   "outputs": [
    {
     "name": "stdout",
     "output_type": "stream",
     "text": [
      "usage of tag: leccaciuffi : 31\n",
      "leccaciuffi occurs with: [('female vocalists', 231), ('seen live', 163), ('singer-songwriter', 129), ('rock', 125), ('alternative', 91), ('folk', 91), ('pop', 88), ('italian', 53), ('Alt-country', 48), ('alternative rock', 39)]\n",
      "\n",
      "\n",
      "usage of tag: laswellian : 31\n",
      "laswellian occurs with: [('experimental', 389), ('jazz', 298), ('funk', 296), ('electronic', 270), ('dub', 235), ('ambient', 232), ('rock', 170), ('electronica', 160), ('Avant-Garde', 150), ('guitar virtuoso', 114)]\n",
      "\n",
      "\n",
      "usage of tag: komplike : 31\n",
      "komplike occurs with: [('heavy metal', 820), ('rock', 627), ('classic rock', 539), ('hard rock', 521), ('folk', 406), ('seen live', 358), ('metal', 332), ('80s', 321), ('Progressive rock', 289), ('female vocalists', 200)]\n",
      "\n",
      "\n",
      "usage of tag: knorpelfunky : 31\n",
      "knorpelfunky occurs with: [('punk', 816), ('post-punk', 358), ('rock', 275), ('indie', 212), ('alternative', 200), ('noise rock', 199), ('punk rock', 198), ('seen live', 174), ('indie rock', 149), ('hardcore', 141)]\n",
      "\n",
      "\n",
      "usage of tag: k-music : 28\n",
      "k-music occurs with: [('Korean', 793), ('k-pop', 550), ('j-pop', 403), ('Kpop', 386), ('japanese', 312), ('JPop', 260), ('rock', 161), ('pop', 149), ('BoA', 120), ('alternative', 104)]\n",
      "\n",
      "\n",
      "usage of tag: jo : 31\n",
      "jo occurs with: [('metalcore', 1069), ('seen live', 958), ('death metal', 765), ('folk metal', 678), ('german', 588), ('metal', 587), ('Mittelalter', 452), ('hardcore', 426), ('industrial', 415), ('rock', 368)]\n",
      "\n",
      "\n",
      "usage of tag: jazzstep : 31\n",
      "jazzstep occurs with: [('Drum and bass', 1364), ('electronic', 645), ('Drum n Bass', 577), ('dnb', 450), ('electronica', 351), ('jungle', 263), ('ninja tune', 199), ('seen live', 184), ('downtempo', 168), ('chillout', 159)]\n",
      "\n",
      "\n",
      "usage of tag: jazzstar : 31\n",
      "jazzstar occurs with: [('jazz', 3219), ('Fusion', 493), ('electronic', 294), ('piano', 261), ('chillout', 252), ('nu jazz', 252), ('jazz fusion', 243), ('contemporary jazz', 242), ('saxophone', 232), ('seen live', 218)]\n",
      "\n",
      "\n",
      "usage of tag: japanese noise : 31\n",
      "japanese noise occurs with: [('noise', 874), ('japanese', 703), ('experimental', 577), ('noise rock', 362), ('Avant-Garde', 208), ('J-rock', 171), ('rock', 157), ('seen live', 153), ('psychedelic', 117), ('japan', 111)]\n",
      "\n",
      "\n",
      "usage of tag: iris : 31\n",
      "iris occurs with: [('ebm', 1542), ('industrial', 1247), ('synthpop', 1124), ('electronic', 1048), ('darkwave', 834), ('futurepop', 830), ('Gothic', 613), ('seen live', 594), ('rock', 571), ('alternative', 404)]\n",
      "\n",
      "\n",
      "usage of tag: industrial electronic : 31\n",
      "industrial electronic occurs with: [('ebm', 3342), ('industrial', 3322), ('electronic', 1355), ('dark electro', 624), ('futurepop', 585), ('darkwave', 539), ('synthpop', 451), ('seen live', 400), ('electro', 370), ('electronica', 343)]\n",
      "\n",
      "\n",
      "usage of tag: indigo girls : 31\n",
      "indigo girls occurs with: [('folk', 165), ('female vocalists', 122), ('singer-songwriter', 103), ('seen live', 87), ('acoustic', 56), ('rock', 51), ('female', 48), ('folk rock', 38), ('queer', 35), ('indie', 27)]\n",
      "\n",
      "\n",
      "usage of tag: i could listen to this band forever : 31\n",
      "i could listen to this band forever occurs with: [('indie', 1531), ('emo', 1092), ('seen live', 965), ('indie rock', 769), ('rock', 708), ('alternative', 476), ('Alt-country', 340), ('singer-songwriter', 337), ('folk', 195), ('indie pop', 164)]\n",
      "\n",
      "\n",
      "usage of tag: hungary : 31\n",
      "hungary occurs with: [('Hip-Hop', 322), ('rap', 273), ('thrash metal', 216), ('seen live', 206), ('electronic', 160), ('metal', 153), ('hip hop', 149), ('black metal', 129), ('downtempo', 122), ('hungarian', 108)]\n",
      "\n",
      "\n",
      "usage of tag: hungarian rock : 31\n",
      "hungarian rock occurs with: [('Hip-Hop', 1463), ('rap', 1302), ('hip hop', 671), ('metal', 548), ('seen live', 516), ('industrial metal', 414), ('hardcore', 361), ('thrash metal', 271), ('industrial', 243), ('punk', 234)]\n",
      "\n",
      "\n"
     ]
    }
   ],
   "source": [
    "for i in range(6290, 6305):\n",
    "    cooccurrence_count(names[i])\n",
    "    print(\"\\n\")"
   ]
  },
  {
   "cell_type": "raw",
   "metadata": {},
   "source": [
    "Без учёта подсчёта вхождения тегов:"
   ]
  },
  {
   "cell_type": "code",
   "execution_count": 34,
   "metadata": {
    "collapsed": false
   },
   "outputs": [
    {
     "name": "stdout",
     "output_type": "stream",
     "text": [
      "usage of tag: leccaciuffi : 5\n",
      "leccaciuffi occurs with: [('female vocalists', 5), ('rock', 4), ('singer-songwriter', 4), ('female', 4), ('folk', 4), ('seen live', 4), ('female vocalist', 4), ('chillout', 3), ('adult rock', 3), ('female artists', 3)]\n",
      "\n",
      "\n",
      "usage of tag: laswellian : 20\n",
      "laswellian occurs with: [('electronic', 16), ('dub', 15), ('ambient', 14), ('seen live', 14), ('alternative', 13), ('electronica', 13), ('jazz', 12), ('trip-hop', 12), ('chillout', 11), ('instrumental', 11)]\n",
      "\n",
      "\n",
      "usage of tag: komplike : 30\n",
      "komplike occurs with: [('rock', 28), ('seen live', 26), ('classic rock', 20), ('metal', 18), ('alternative', 17), ('female vocalists', 16), ('80s', 15), ('singer-songwriter', 15), ('pop', 14), ('folk', 14)]\n",
      "\n",
      "\n",
      "usage of tag: knorpelfunky : 24\n",
      "knorpelfunky occurs with: [('seen live', 19), ('punk', 16), ('alternative', 16), ('jazz', 15), ('indie', 15), ('rock', 14), ('post-punk', 13), ('indie rock', 12), ('punk rock', 12), ('experimental', 10)]\n",
      "\n",
      "\n",
      "usage of tag: k-music : 20\n",
      "k-music occurs with: [('Korean', 20), ('k-pop', 18), ('Kpop', 16), ('japanese', 15), ('alternative', 14), ('rock', 13), ('Asian', 13), ('alternative rock', 12), ('JPop', 12), ('pop', 12)]\n",
      "\n",
      "\n",
      "usage of tag: jo : 31\n",
      "jo occurs with: [('seen live', 27), ('rock', 22), ('alternative', 20), ('indie', 19), ('metal', 17), ('electronic', 15), ('punk', 14), ('emo', 12), ('folk', 12), ('Gothic Metal', 11)]\n",
      "\n",
      "\n",
      "usage of tag: jazzstep : 16\n",
      "jazzstep occurs with: [('electronica', 16), ('electronic', 16), ('dnb', 15), ('jazz', 14), ('Drum n Bass', 14), ('downtempo', 14), ('Drum and bass', 14), ('liquid funk', 12), ('chillout', 12), ('jungle', 12)]\n",
      "\n",
      "\n",
      "usage of tag: jazzstar : 26\n",
      "jazzstar occurs with: [('jazz', 25), ('seen live', 21), ('Fusion', 19), ('contemporary jazz', 19), ('instrumental', 17), ('funk', 17), ('jazz fusion', 15), ('jazz piano', 15), ('trumpet', 14), ('blues', 14)]\n",
      "\n",
      "\n",
      "usage of tag: japanese noise : 9\n",
      "japanese noise occurs with: [('japanese', 9), ('japan', 9), ('rock', 8), ('seen live', 8), ('experimental', 7), ('jrock', 7), ('alternative', 7), ('indie', 7), ('J-rock', 7), ('post-rock', 6)]\n",
      "\n",
      "\n",
      "usage of tag: iris : 28\n",
      "iris occurs with: [('electronic', 28), ('electronica', 28), ('industrial', 27), ('synthpop', 27), ('futurepop', 26), ('indie', 26), ('darkwave', 26), ('Apoptygma Berzerk', 25), ('ebm', 25), ('seen live', 25)]\n",
      "\n",
      "\n",
      "usage of tag: industrial electronic : 26\n",
      "industrial electronic occurs with: [('industrial', 26), ('dark electro', 25), ('electronic', 25), ('ebm', 25), ('electro-industrial', 23), ('seen live', 23), ('electronica', 22), ('electro', 21), ('darkwave', 20), ('synthpop', 20)]\n",
      "\n",
      "\n",
      "usage of tag: indigo girls : 2\n",
      "indigo girls occurs with: [('female artists', 2), ('female vocalists', 2), ('USA', 2), ('Talented Ladies', 2), ('pop', 2), ('feminist', 2), ('girl music', 2), ('hebo', 2), ('folk-rock', 2), ('lesbian', 2)]\n",
      "\n",
      "\n",
      "usage of tag: i could listen to this band forever : 25\n",
      "i could listen to this band forever occurs with: [('rock', 25), ('indie', 25), ('indie rock', 25), ('seen live', 25), ('alternative', 23), ('indie pop', 22), ('pop', 19), ('emo', 19), ('punk', 18), ('favorites', 18)]\n",
      "\n",
      "\n",
      "usage of tag: hungary : 15\n",
      "hungary occurs with: [('hungarian', 12), ('seen live', 12), ('rock', 9), ('electronic', 7), ('alternative', 7), ('metal', 7), ('hard rock', 5), ('Progressive rock', 5), ('rap', 5), ('electronica', 5)]\n",
      "\n",
      "\n",
      "usage of tag: hungarian rock : 27\n",
      "hungarian rock occurs with: [('rock', 25), ('metal', 22), ('seen live', 22), ('rap', 20), ('Hip-Hop', 20), ('hard rock', 19), ('hardcore', 18), ('hip hop', 18), ('punk rock', 18), ('metalcore', 18)]\n",
      "\n",
      "\n"
     ]
    }
   ],
   "source": [
    "for i in range(6290, 6305):\n",
    "    cooccurrence(names[i])\n",
    "    print(\"\\n\")"
   ]
  },
  {
   "cell_type": "raw",
   "metadata": {},
   "source": [
    "Многие теги встречаются очень редко. Если брать только те, которые встречаются хотя бы 100 раз (с учётом числа вхождений):"
   ]
  },
  {
   "cell_type": "code",
   "execution_count": 35,
   "metadata": {
    "collapsed": false
   },
   "outputs": [
    {
     "name": "stdout",
     "output_type": "stream",
     "text": [
      "usage of tag: mestizo : 22\n",
      "mestizo occurs with: [('seen live', 19), ('reggae', 18), ('ska', 16), ('rock', 15), ('spanish', 15), ('alternative', 14), ('patchanka', 12), ('latin', 12), ('punk', 11), ('world', 10)]\n",
      "\n",
      "\n",
      "usage of tag: jae : 101\n",
      "jae occurs with: [('rock', 96), ('seen live', 95), ('indie', 94), ('alternative', 89), ('indie rock', 85), ('punk', 68), ('alternative rock', 67), ('pop', 55), ('emo', 53), ('punk rock', 50)]\n",
      "\n",
      "\n",
      "usage of tag: ive sound : 5\n",
      "ive sound occurs with: [('japanese', 5), ('ive', 5), ('pop', 5), ('j-pop', 5), (\"I've\", 5), ('eroge', 5), ('anime', 5), ('JPop', 5), (\"i've sound\", 5), ('game', 5)]\n",
      "\n",
      "\n",
      "usage of tag: german thrash metal : 18\n",
      "german thrash metal occurs with: [('metal', 18), ('thrash metal', 18), ('thrash', 16), ('seen live', 16), ('heavy metal', 14), ('german', 13), ('death metal', 12), ('speed metal', 12), ('black metal', 11), ('german thrash', 10)]\n",
      "\n",
      "\n",
      "usage of tag: bowie : 9\n",
      "bowie occurs with: [('rock', 9), ('alternative rock', 8), ('alternative', 8), ('punk', 8), ('Progressive rock', 7), ('pop', 7), ('classic rock', 7), ('indie', 7), ('electronic', 7), ('seen live', 7)]\n",
      "\n",
      "\n",
      "usage of tag: american metal : 49\n",
      "american metal occurs with: [('metal', 49), ('heavy metal', 43), ('seen live', 38), ('thrash metal', 38), ('death metal', 38), ('rock', 37), ('american', 36), ('Progressive metal', 35), ('Power metal', 34), ('USA', 33)]\n",
      "\n",
      "\n",
      "usage of tag: alt-folk : 48\n",
      "alt-folk occurs with: [('seen live', 47), ('folk', 45), ('indie', 44), ('alternative', 42), ('rock', 41), ('singer-songwriter', 39), ('acoustic', 38), ('indie rock', 36), ('pop', 33), ('indie pop', 31)]\n",
      "\n",
      "\n",
      "usage of tag: aggro : 58\n",
      "aggro occurs with: [('seen live', 52), ('rock', 51), ('metal', 48), ('electronic', 41), ('alternative', 39), ('hardcore', 33), ('Gothic', 33), ('Gothic Metal', 31), ('ambient', 28), ('punk', 28)]\n",
      "\n",
      "\n",
      "usage of tag: Roskilde 2007 : 24\n",
      "Roskilde 2007 occurs with: [('seen live', 24), ('roskilde 07', 23), ('alternative', 21), ('indie', 20), ('rock', 19), ('indie rock', 18), ('electronic', 16), ('pop', 15), ('favorites', 14), ('electronica', 14)]\n",
      "\n",
      "\n",
      "usage of tag: Nas : 3\n",
      "Nas occurs with: [('underground rap', 3), ('queens', 3), ('east coast rap', 3), ('New York City', 3), ('hiphop', 3), ('Hip-Hop', 3), ('new york', 3), ('rap', 3), ('hip hop', 3), ('NYC', 3)]\n",
      "\n",
      "\n",
      "usage of tag: Megadeth : 18\n",
      "Megadeth occurs with: [('metal', 17), ('rock', 16), ('seen live', 13), ('alternative', 13), ('punk', 13), ('heavy metal', 12), ('hard rock', 12), ('classic rock', 11), ('indie', 10), ('thrash metal', 10)]\n",
      "\n",
      "\n",
      "usage of tag: JE : 11\n",
      "JE occurs with: [('pop', 11), ('Japanese music', 11), ('Jyannis', 11), ('johnnys', 11), ('JPop', 11), ('Johnnys entertainment', 11), ('japanese', 11), ('j-pop', 11), ('male', 9), (\"johnny's\", 9)]\n",
      "\n",
      "\n",
      "usage of tag: Great Band : 65\n",
      "Great Band occurs with: [('seen live', 59), ('rock', 50), ('indie', 49), ('punk', 47), ('hardcore', 41), ('alternative', 40), ('metal', 36), ('emo', 33), ('metalcore', 33), ('indie rock', 33)]\n",
      "\n",
      "\n",
      "usage of tag: City Centre Offices : 25\n",
      "City Centre Offices occurs with: [('electronica', 25), ('idm', 24), ('electronic', 23), ('ambient', 21), ('experimental', 18), ('minimal', 18), ('glitch', 15), ('downtempo', 13), ('chill', 13), ('indie', 12)]\n",
      "\n",
      "\n",
      "usage of tag: 8bitpeoples : 17\n",
      "8bitpeoples occurs with: [('electronic', 17), ('8-bit', 16), ('8bit', 15), ('chiptune', 15), ('bitpop', 14), ('Chipmusic', 14), ('electro', 14), ('electronica', 13), ('chiptunes', 13), ('8 bit peoples', 11)]\n",
      "\n",
      "\n",
      "usage of tag: 2007 Coachella : 52\n",
      "2007 Coachella occurs with: [('seen live', 52), ('indie', 48), ('coachella 2007', 48), ('rock', 47), ('alternative', 40), ('electronic', 34), ('pop', 31), ('electronica', 29), ('confirmed coachella 2007', 29), ('favorites', 28)]\n",
      "\n",
      "\n"
     ]
    }
   ],
   "source": [
    "for i in range(2410, 2426):\n",
    "    cooccurrence(names[i])\n",
    "    print(\"\\n\")"
   ]
  }
 ],
 "metadata": {
  "kernelspec": {
   "display_name": "Python 3",
   "language": "python",
   "name": "python3"
  },
  "language_info": {
   "codemirror_mode": {
    "name": "ipython",
    "version": 3
   },
   "file_extension": ".py",
   "mimetype": "text/x-python",
   "name": "python",
   "nbconvert_exporter": "python",
   "pygments_lexer": "ipython3",
   "version": "3.4.3"
  }
 },
 "nbformat": 4,
 "nbformat_minor": 0
}
